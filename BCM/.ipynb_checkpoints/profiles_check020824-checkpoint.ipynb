{
 "cells": [
  {
   "cell_type": "code",
   "execution_count": null,
   "id": "4bf77c27-b104-43f1-9d76-e6c35e8c7085",
   "metadata": {},
   "outputs": [],
   "source": [
    "import numpy as np\n",
    "import pyccl as ccl\n",
    "import matplotlib.pyplot as plt\n",
    "import scipy.integrate as integrate\n",
    "import scipy.interpolate as interpol\n",
    "from pyccl._core import UnlockInstance\n",
    "from scipy import signal"
   ]
  },
  {
   "cell_type": "code",
   "execution_count": null,
   "id": "4c4d7e09-76d0-439b-b072-44e829041bc4",
   "metadata": {},
   "outputs": [],
   "source": [
    "#import BCMprofiles_functional as BCMprofiles\n",
    "import BCMprofiles_multiChoice_test0 as BCMprofiles\n",
    "BCMprofiles.__all__"
   ]
  },
  {
   "cell_type": "code",
   "execution_count": null,
   "id": "47c0884f-a844-435e-aa2f-d35137f8ae91",
   "metadata": {},
   "outputs": [],
   "source": [
    "help(ccl.halos.profiles.profile_base.HaloProfile.__init__)"
   ]
  },
  {
   "cell_type": "markdown",
   "id": "f84ee585-1863-45cc-9787-44ef22056c42",
   "metadata": {},
   "source": [
    "# Setting up pars & profiles"
   ]
  },
  {
   "cell_type": "code",
   "execution_count": null,
   "id": "2eeb41ed-0560-4d27-9feb-c9766a5a3f06",
   "metadata": {},
   "outputs": [],
   "source": [
    "hmd_200c = ccl.halos.MassDef200c # use a mass definition with Delta = 200\n",
    "cM = ccl.halos.ConcentrationDuffy08(mass_def=hmd_200c)\n",
    "cosmo = ccl.Cosmology(Omega_c = 0.25, Omega_b=0.05, h=0.07, A_s=2.1e-9, n_s=0.96, Neff=0, Omega_g=0)\n",
    "\n",
    "trial_r = np.geomspace(1E-2,1E8,100000) # geomspace is like linspace, but evenly spaces on a logscale\n",
    "trial_k = np.geomspace(1E-3,9E1,100000) # np.geomspace(1E-3,1E2,100000)\n",
    "trial_M = np.array([3E12,6E13, 1E14])\n",
    "trial_gamma = 1.1  # working with z = 0 (today) ; therefore a = 1 [default]\n",
    "trial_f_bd = 0.6"
   ]
  },
  {
   "cell_type": "markdown",
   "id": "82a87a93-5f70-4300-8511-62c0dbf51a9f",
   "metadata": {},
   "source": [
    "## Loading profiles, with fourier_analytic = True"
   ]
  },
  {
   "cell_type": "code",
   "execution_count": null,
   "id": "89f0c99c-0182-4ed7-8098-f2b37cee702a",
   "metadata": {},
   "outputs": [],
   "source": [
    "cdm_profile = BCMprofiles.CDMProfile(cosmo, hmd_200c, cM, trial_gamma)\n",
    "stel_profile = BCMprofiles.StellarProfile(cosmo, hmd_200c, cM, trial_gamma)\n",
    "ej_profile = BCMprofiles.EjectedGasProfile(cosmo, hmd_200c, cM, trial_gamma)\n",
    "bd_profile = BCMprofiles.BoundGasProfile(cosmo, hmd_200c, cM, trial_gamma)\n",
    "bcm_profile = BCMprofiles.BCMProfile(cosmo, hmd_200c, cM, trial_gamma)"
   ]
  },
  {
   "cell_type": "code",
   "execution_count": null,
   "id": "48960ee2-a48d-4843-8a45-8febbff48b58",
   "metadata": {},
   "outputs": [],
   "source": [
    "#cdm_profile.update_parameters(A_star=2)\n",
    "stel_profile.A_star # see that update_parameters (inherited) works"
   ]
  },
  {
   "cell_type": "code",
   "execution_count": null,
   "id": "96bbe3ae-738f-489f-aea0-638becfbf339",
   "metadata": {},
   "outputs": [],
   "source": [
    "cdm_real = cdm_profile._real(cosmo, trial_r, trial_M)\n",
    "stel_real = stel_profile._real(cosmo, trial_r, trial_M)\n",
    "ej_real = ej_profile._real(cosmo, trial_r, trial_M)\n",
    "bd_real = bd_profile._real(cosmo, trial_r, trial_M)\n",
    "bcm_real = bcm_profile._real(cosmo, trial_r, trial_M, no_fraction=True, \n",
    "                             choose_fracs={'ejected': 0.1, 'bound': 0.4, 'stellar': 0.3, 'cdm': 0.2})"
   ]
  },
  {
   "cell_type": "code",
   "execution_count": null,
   "id": "173414aa-f1b6-4db6-b454-89324b037bfa",
   "metadata": {
    "scrolled": true
   },
   "outputs": [],
   "source": [
    "cdm_fourier = cdm_profile._fourier(trial_k, trial_M)\n",
    "stel_fourier = stel_profile._fourier(trial_k, trial_M)\n",
    "ej_fourier = ej_profile._fourier(trial_k, trial_M)\n",
    "bd_fourier = bd_profile._fourier(trial_k, trial_M)\n",
    "bcm_fourier = bcm_profile._fourier(trial_k, trial_M, no_fraction=True, \n",
    "                                   choose_fracs={'ejected': 0.6, 'bound': 0.4})#, 'stellar': 1.3, 'cdm': 3.2})"
   ]
  },
  {
   "cell_type": "code",
   "execution_count": null,
   "id": "4b795e63-29eb-460a-877d-f02dcfb61cec",
   "metadata": {},
   "outputs": [],
   "source": [
    "prof_dict = {'e': ej_fourier, 'b': bd_fourier[0], 's': stel_fourier, 'c': cdm_fourier}\n",
    "choose_fracs={'e': 1, 'b': 1, 's': 1, 'c': 1}"
   ]
  },
  {
   "cell_type": "code",
   "execution_count": null,
   "id": "d7387d1a-05d9-40d9-b91f-bfd69c7b0f86",
   "metadata": {},
   "outputs": [],
   "source": [
    "bd_profile.update_parameters(Gamma=1.2)"
   ]
  },
  {
   "cell_type": "code",
   "execution_count": null,
   "id": "be9e3e65-6ab2-41cf-abcd-3383f6751bec",
   "metadata": {},
   "outputs": [],
   "source": [
    "np.sum(np.array([cdm_fourier, stel_fourier, ej_fourier, bd_fourier[0]]), axis=0)"
   ]
  },
  {
   "cell_type": "code",
   "execution_count": null,
   "id": "2daf5ddb-0c07-4d22-9176-81ec56725843",
   "metadata": {},
   "outputs": [],
   "source": [
    "four_plot, four_plot2, four_plot3, four_plot4 = ej_real, bd_real, stel_real, cdm_real\n",
    "for prof, prof2, mass in zip(four_plot, four_plot2, trial_M):\n",
    "    plt.plot(trial_r, prof)\n",
    "    plt.plot(trial_r, prof2, ':')\n",
    "   # plt.axhline(mass, linestyle='--', zorder=1)\n",
    "#plt.yscale('log')\n",
    "plt.ylim(0,0.2E10)\n",
    "plt.xscale('log');"
   ]
  },
  {
   "cell_type": "code",
   "execution_count": null,
   "id": "d47a0df3-b627-42ef-bbf8-7331992cf7d0",
   "metadata": {},
   "outputs": [],
   "source": []
  },
  {
   "cell_type": "code",
   "execution_count": null,
   "id": "5c435d10-4a01-40ce-89c8-88faba010951",
   "metadata": {},
   "outputs": [],
   "source": [
    "i = 1\n",
    "title_combined = f'\\nProfiles of Baryonic Correction Model (BCM): Mass = {trial_M[i]:.1g} $M \\\\odot$ & $\\\\Gamma = ${trial_gamma}\\n' \n",
    "fig, (ax1, ax2, ax3) = plt.subplots(3, figsize=(10,20))\n",
    "fig.suptitle(title_combined, fontsize=18)\n",
    "\n",
    "ax1.plot(trial_k, bcm_fourier[i], 'b-', \n",
    "         lw=3, zorder = 5, label='BCM')\n",
    "ax1.plot(trial_k, cdm_fourier[i], linestyle=(0, (3,1,1,1)), color='y', lw=3, \n",
    "         zorder=6, label='CDM')\n",
    "ax1.plot(trial_k, stel_fourier[i], 'k--', lw=3, zorder = 3, label='Stellar')\n",
    "ax1.plot(trial_k, ej_fourier[i], 'r:', \n",
    "         lw=3, zorder = 2, label='Ejected Gas')\n",
    "ax1.plot(trial_k, bd_fourier[0,i], 'c-.', \n",
    "         lw=3, zorder = 4, label='Bound Gas')\n",
    "ax1.plot(trial_k, 1*trial_k + trial_M[i], 'tab:orange', zorder=1, lw=2, label=f'{trial_M[i]:.1g} $M \\\\odot /a^3$')\n",
    "    \n",
    "ax1.set_ylabel(r'$\\rho(k)\\, \\,[M_\\odot\\,{\\rm Mpc}^{-3}]$', fontsize=15)\n",
    "ax1.set_xlabel(r'$k\\, \\,[{\\rm Mpc^{-1}}]$', fontsize=15);\n",
    "ax1.set_title('Fourier: Linear-log', fontsize=15)\n",
    "ax1.grid(True)\n",
    "ax1.legend(loc='best', ncol=2)\n",
    "ax1.set_xscale('log'); \n",
    "##########################\n",
    "ax2.plot(trial_k, bcm_fourier[i], 'b-', lw=3, zorder = 5, label='BCM')\n",
    "ax2.plot(trial_k, cdm_fourier[i], linestyle=(0, (3,1,1,1)), color='y', lw=3, \n",
    "         zorder=6, label='CDM')\n",
    "ax2.plot(trial_k, stel_fourier[i], 'k--', lw=3, zorder = 5, label='Stellar')\n",
    "ax2.plot(trial_k, ej_fourier[i], 'r:', lw=3, zorder = 4, label='Ejected Gas')\n",
    "ax2.plot(trial_k, bd_fourier[0,i], 'c-.', lw=3, zorder = 3, label='Bound Gas')\n",
    "ax2.plot(trial_k, 1*trial_k + trial_M[i], 'tab:orange', zorder=1, lw=2, label=f'{trial_M[i]:.1g} $M \\\\odot /a^3$')\n",
    "    \n",
    "ax2.set_ylabel(r'$\\rho(k)\\, \\,[M_\\odot\\,{\\rm Mpc}^{-3}]$', fontsize=15)\n",
    "ax2.set_xlabel(r'$k\\, \\,[{\\rm Mpc^{-1}}]$', fontsize=15);\n",
    "ax2.set_title('Fourier: Log-log', fontsize=15)\n",
    "ax2.grid(True)\n",
    "ax2.legend(loc='best', ncol=2)\n",
    "ax2.set_xscale('log'); \n",
    "ax2.set_ylim(1E10, 5E14)\n",
    "#ax2.set_ylim(5E10)\n",
    "ax2.set_yscale('log');\n",
    "#########################\n",
    "ax3.plot(trial_r, bcm_real[i], 'b-', lw=3, zorder = 3, label='BCM')\n",
    "ax3.plot(trial_r, cdm_real[i], linestyle=(0, (3,1,1,1)), color='y', lw=3, \n",
    "         zorder=7, label='CDM')\n",
    "ax3.plot(trial_r, stel_real[i], 'k--', lw=3, zorder = 5, label='Stellar')\n",
    "ax3.plot(trial_r, ej_real[i], 'r:', lw=3, zorder = 4, label='Ejected Gas')\n",
    "ax3.plot(trial_r, bd_real[i], 'c-.', lw=5, zorder = 3, label='Bound Gas')\n",
    "    \n",
    "ax3.set_ylabel(r'$\\rho(r)\\, \\,[M_\\odot\\,{\\rm Mpc}^{-3}]$', fontsize=15)\n",
    "ax3.set_xlabel(r'$r\\, \\,[{\\rm Mpc}]$', fontsize=15);\n",
    "ax3.set_title('Real: Log-log', fontsize=15)\n",
    "ax3.grid(True)\n",
    "ax3.legend(loc='best')\n",
    "ax3.set_xscale('log'); \n",
    "ax3.set_ylim(1E-1, 5E15)\n",
    "ax3.set_xlim(9E-3, 1E2)\n",
    "ax3.set_yscale('log');\n",
    "\n",
    "fig.tight_layout();\n",
    "#fig.savefig('./BCM_real&Fourier_plot_0108.pdf', dpi=500);"
   ]
  },
  {
   "cell_type": "code",
   "execution_count": null,
   "id": "4da72361-8ab4-410b-8158-eef6043cf043",
   "metadata": {},
   "outputs": [],
   "source": [
    "help(stel_profile)"
   ]
  },
  {
   "cell_type": "code",
   "execution_count": null,
   "id": "bc847cb5-27f3-48ea-9cb9-23350069871f",
   "metadata": {},
   "outputs": [],
   "source": []
  }
 ],
 "metadata": {
  "kernelspec": {
   "display_name": "Python 3 (ipykernel)",
   "language": "python",
   "name": "python3"
  },
  "language_info": {
   "codemirror_mode": {
    "name": "ipython",
    "version": 3
   },
   "file_extension": ".py",
   "mimetype": "text/x-python",
   "name": "python",
   "nbconvert_exporter": "python",
   "pygments_lexer": "ipython3",
   "version": "3.12.2"
  }
 },
 "nbformat": 4,
 "nbformat_minor": 5
}
