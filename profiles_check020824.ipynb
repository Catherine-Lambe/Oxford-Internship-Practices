{
 "cells": [
  {
   "cell_type": "code",
   "execution_count": 1,
   "id": "4bf77c27-b104-43f1-9d76-e6c35e8c7085",
   "metadata": {},
   "outputs": [],
   "source": [
    "import numpy as np\n",
    "import pyccl as ccl\n",
    "import matplotlib.pyplot as plt\n",
    "import scipy.integrate as integrate\n",
    "import scipy.interpolate as interpol\n",
    "from pyccl._core import UnlockInstance\n",
    "from scipy import signal"
   ]
  },
  {
   "cell_type": "code",
   "execution_count": 2,
   "id": "4c4d7e09-76d0-439b-b072-44e829041bc4",
   "metadata": {},
   "outputs": [
    {
     "name": "stderr",
     "output_type": "stream",
     "text": [
      "/Users/lambe/Documents/GitHub/Oxford-Intern-2024/Oxford-Internship-Practices/BCMprofiles_cleanUp2.py:170: SyntaxWarning: invalid escape sequence '\\ '\n",
      "  \"\"\"Creating a class for the stellar density profile\n",
      "/Users/lambe/Documents/GitHub/Oxford-Intern-2024/Oxford-Internship-Practices/BCMprofiles_cleanUp2.py:255: SyntaxWarning: invalid escape sequence '\\ '\n",
      "  \"\"\"Creating a class for the bound gas density profile where:\n",
      "/Users/lambe/Documents/GitHub/Oxford-Intern-2024/Oxford-Internship-Practices/BCMprofiles_cleanUp2.py:370: SyntaxWarning: invalid escape sequence '\\e'\n",
      "  \"\"\"Combined profile for the stellar & ejected & bound gas & cdm components (ie- The BCM Model), with the truncated Navarro-Frenk-White (NFW) profile used to calculate the density profiles of the cold dark matter (cdm) component.\n"
     ]
    },
    {
     "data": {
      "text/plain": [
       "('Initialiser',\n",
       " 'StellarProfile',\n",
       " 'EjectedGasProfile',\n",
       " 'BoundGasProfile',\n",
       " 'CDMProfile',\n",
       " 'BCMProfile')"
      ]
     },
     "execution_count": 2,
     "metadata": {},
     "output_type": "execute_result"
    }
   ],
   "source": [
    "import BCMprofiles_cleanUp2 as BCMprofiles\n",
    "BCMprofiles.__all__"
   ]
  },
  {
   "cell_type": "code",
   "execution_count": 3,
   "id": "47c0884f-a844-435e-aa2f-d35137f8ae91",
   "metadata": {},
   "outputs": [
    {
     "name": "stdout",
     "output_type": "stream",
     "text": [
      "Help on function __init__ in module pyccl.halos.profiles.profile_base:\n",
      "\n",
      "__init__(self, *, mass_def, concentration=None, is_number_counts=False)\n",
      "    Initialize self.  See help(type(self)) for accurate signature.\n",
      "\n"
     ]
    }
   ],
   "source": [
    "help(ccl.halos.profiles.profile_base.HaloProfile.__init__)"
   ]
  },
  {
   "cell_type": "markdown",
   "id": "f84ee585-1863-45cc-9787-44ef22056c42",
   "metadata": {},
   "source": [
    "# Setting up pars & profiles"
   ]
  },
  {
   "cell_type": "code",
   "execution_count": 5,
   "id": "2eeb41ed-0560-4d27-9feb-c9766a5a3f06",
   "metadata": {},
   "outputs": [],
   "source": [
    "hmd_200c = ccl.halos.MassDef200c # use a mass definition with Delta = 200\n",
    "cM = ccl.halos.ConcentrationDuffy08(mass_def=hmd_200c)\n",
    "cosmo = ccl.Cosmology(Omega_c = 0.25, Omega_b=0.05, h=0.07, A_s=2.1e-9, n_s=0.96, Neff=0, Omega_g=0)\n",
    "\n",
    "trial_r = np.geomspace(1E-2,1E8,100000) # geomspace is like linspace, but evenly spaces on a logscale\n",
    "trial_k = np.geomspace(1E-3,9E1,100000) # np.geomspace(1E-3,1E2,100000)\n",
    "trial_M = np.array([3E12,6E13, 1E14])\n",
    "trial_gamma = 1.1  # working with z = 0 (today) ; therefore a = 1 [default]\n",
    "trial_f_bd = 0.6"
   ]
  },
  {
   "cell_type": "markdown",
   "id": "82a87a93-5f70-4300-8511-62c0dbf51a9f",
   "metadata": {},
   "source": [
    "## Loading profiles, with fourier_analytic = True"
   ]
  },
  {
   "cell_type": "code",
   "execution_count": 7,
   "id": "89f0c99c-0182-4ed7-8098-f2b37cee702a",
   "metadata": {},
   "outputs": [],
   "source": [
    "cdm_profile = BCMprofiles.CDMProfile(cosmo, hmd_200c, cM, trial_gamma)\n",
    "stel_profile = BCMprofiles.StellarProfile(cosmo, hmd_200c, cM, trial_gamma)\n",
    "ej_profile = BCMprofiles.EjectedGasProfile(cosmo, hmd_200c, cM, trial_gamma)\n",
    "bd_profile = BCMprofiles.BoundGasProfile(cosmo, hmd_200c, cM, trial_gamma)\n",
    "bcm_profile = BCMprofiles.BCMProfile(cosmo, hmd_200c, cM, trial_gamma)"
   ]
  },
  {
   "cell_type": "code",
   "execution_count": 22,
   "id": "48960ee2-a48d-4843-8a45-8febbff48b58",
   "metadata": {},
   "outputs": [
    {
     "data": {
      "text/plain": [
       "0.03"
      ]
     },
     "execution_count": 22,
     "metadata": {},
     "output_type": "execute_result"
    }
   ],
   "source": [
    "#cdm_profile.update_parameters(A_star=2)\n",
    "stel_profile.A_star"
   ]
  },
  {
   "cell_type": "code",
   "execution_count": 12,
   "id": "96bbe3ae-738f-489f-aea0-638becfbf339",
   "metadata": {},
   "outputs": [],
   "source": [
    "cdm_real = cdm_profile._real(cosmo, trial_r, trial_M)\n",
    "stel_real = stel_profile._real(cosmo, trial_r, trial_M)\n",
    "ej_real = ej_profile._real(cosmo, trial_r, trial_M)\n",
    "bd_real = bd_profile._real(cosmo, trial_r, trial_M)\n",
    "bcm_real = bcm_profile._real(cosmo, trial_r, trial_M)"
   ]
  },
  {
   "cell_type": "code",
   "execution_count": 13,
   "id": "173414aa-f1b6-4db6-b454-89324b037bfa",
   "metadata": {
    "scrolled": true
   },
   "outputs": [
    {
     "name": "stdout",
     "output_type": "stream",
     "text": [
      "Qany = 1.56% through\n",
      "Qany = 3.12% through\n",
      "Qany = 4.69% through\n",
      "Qany = 6.25% through\n",
      "Qany = 7.81% through\n",
      "Qany = 9.38% through\n",
      "Qany = 10.9% through\n",
      "Qany = 12.5% through\n",
      "Qany = 14.1% through\n",
      "Qany = 15.6% through\n",
      "Qany = 17.2% through\n",
      "Qany = 18.8% through\n",
      "Qany = 20.3% through\n",
      "Qany = 21.9% through\n",
      "Qany = 23.4% through\n",
      "Qany = 25% through\n",
      "Qany = 26.6% through\n",
      "Qany = 28.1% through\n",
      "Qany = 29.7% through\n",
      "Qany = 31.2% through\n",
      "Qany = 32.8% through\n",
      "Qany = 34.4% through\n",
      "Qany = 35.9% through\n",
      "Qany = 37.5% through\n",
      "Qany = 39.1% through\n",
      "Qany = 40.6% through\n",
      "Qany = 42.2% through\n",
      "Qany = 43.8% through\n",
      "Qany = 45.3% through\n",
      "Qany = 46.9% through\n",
      "Qany = 48.4% through\n",
      "Qany = 50% through\n",
      "Qany = 51.6% through\n",
      "Qany = 53.1% through\n",
      "Qany = 54.7% through\n",
      "Qany = 56.2% through\n",
      "Qany = 57.8% through\n",
      "Qany = 59.4% through\n",
      "Qany = 60.9% through\n",
      "Qany = 62.5% through\n",
      "Qany = 64.1% through\n",
      "Qany = 65.6% through\n",
      "Qany = 67.2% through\n",
      "Qany = 68.8% through\n",
      "Qany = 70.3% through\n",
      "Qany = 71.9% through\n",
      "Qany = 73.4% through\n",
      "Qany = 75% through\n",
      "Qany = 76.6% through\n",
      "Qany = 78.1% through\n",
      "Qany = 79.7% through\n",
      "Qany = 81.2% through\n",
      "Qany = 82.8% through\n",
      "Qany = 84.4% through\n",
      "Qany = 85.9% through\n",
      "Qany = 87.5% through\n",
      "Qany = 89.1% through\n",
      "Qany = 90.6% through\n",
      "Qany = 92.2% through\n",
      "Qany = 93.8% through\n",
      "Qany = 95.3% through\n",
      "Qany = 96.9% through\n",
      "Qany = 98.4% through\n",
      "Qany = 100% through\n",
      "Qany = 1.56% through\n",
      "Qany = 3.12% through\n",
      "Qany = 4.69% through\n",
      "Qany = 6.25% through\n",
      "Qany = 7.81% through\n",
      "Qany = 9.38% through\n",
      "Qany = 10.9% through\n",
      "Qany = 12.5% through\n",
      "Qany = 14.1% through\n",
      "Qany = 15.6% through\n",
      "Qany = 17.2% through\n",
      "Qany = 18.8% through\n",
      "Qany = 20.3% through\n",
      "Qany = 21.9% through\n",
      "Qany = 23.4% through\n",
      "Qany = 25% through\n",
      "Qany = 26.6% through\n",
      "Qany = 28.1% through\n",
      "Qany = 29.7% through\n",
      "Qany = 31.2% through\n",
      "Qany = 32.8% through\n",
      "Qany = 34.4% through\n",
      "Qany = 35.9% through\n",
      "Qany = 37.5% through\n",
      "Qany = 39.1% through\n",
      "Qany = 40.6% through\n",
      "Qany = 42.2% through\n",
      "Qany = 43.8% through\n",
      "Qany = 45.3% through\n",
      "Qany = 46.9% through\n",
      "Qany = 48.4% through\n",
      "Qany = 50% through\n",
      "Qany = 51.6% through\n",
      "Qany = 53.1% through\n",
      "Qany = 54.7% through\n",
      "Qany = 56.2% through\n",
      "Qany = 57.8% through\n",
      "Qany = 59.4% through\n",
      "Qany = 60.9% through\n",
      "Qany = 62.5% through\n",
      "Qany = 64.1% through\n",
      "Qany = 65.6% through\n",
      "Qany = 67.2% through\n",
      "Qany = 68.8% through\n",
      "Qany = 70.3% through\n",
      "Qany = 71.9% through\n",
      "Qany = 73.4% through\n",
      "Qany = 75% through\n",
      "Qany = 76.6% through\n",
      "Qany = 78.1% through\n",
      "Qany = 79.7% through\n",
      "Qany = 81.2% through\n",
      "Qany = 82.8% through\n",
      "Qany = 84.4% through\n",
      "Qany = 85.9% through\n",
      "Qany = 87.5% through\n",
      "Qany = 89.1% through\n",
      "Qany = 90.6% through\n",
      "Qany = 92.2% through\n",
      "Qany = 93.8% through\n",
      "Qany = 95.3% through\n",
      "Qany = 96.9% through\n",
      "Qany = 98.4% through\n",
      "Qany = 100% through\n"
     ]
    }
   ],
   "source": [
    "cdm_fourier = cdm_profile._fourier(trial_k, trial_M)\n",
    "stel_fourier = stel_profile._fourier(trial_k, trial_M)\n",
    "ej_fourier = ej_profile._fourier(trial_k, trial_M)\n",
    "bd_fourier = bd_profile._fourier(trial_k, trial_M)\n",
    "bcm_fourier = bcm_profile._fourier(trial_k, trial_M)"
   ]
  },
  {
   "cell_type": "code",
   "execution_count": 14,
   "id": "4b795e63-29eb-460a-877d-f02dcfb61cec",
   "metadata": {},
   "outputs": [
    {
     "data": {
      "text/plain": [
       "0.8333333333333333"
      ]
     },
     "execution_count": 14,
     "metadata": {},
     "output_type": "execute_result"
    }
   ],
   "source": [
    "bd_profile.f_c"
   ]
  },
  {
   "cell_type": "code",
   "execution_count": 18,
   "id": "f3c2b92f-272b-4945-a2c2-8f8e8d386651",
   "metadata": {},
   "outputs": [
    {
     "data": {
      "text/plain": [
       "<bound method BoundGasProfile._fourier_analytic of <BCMprofiles_cleanUp2.BoundGasProfile object at 0x149a46f00>>"
      ]
     },
     "execution_count": 18,
     "metadata": {},
     "output_type": "execute_result"
    }
   ],
   "source": [
    "bd_profile._fourier"
   ]
  },
  {
   "cell_type": "code",
   "execution_count": null,
   "id": "2daf5ddb-0c07-4d22-9176-81ec56725843",
   "metadata": {},
   "outputs": [],
   "source": []
  },
  {
   "cell_type": "code",
   "execution_count": null,
   "id": "5c435d10-4a01-40ce-89c8-88faba010951",
   "metadata": {},
   "outputs": [],
   "source": [
    "i = 2\n",
    "title_combined = f'\\nProfiles of Baryonic Correction Model (BCM): Mass = {trial_M[i]:.1g} $M \\\\odot$ & $\\\\Gamma = ${trial_gamma}\\n' \n",
    "fig, (ax1, ax2, ax3) = plt.subplots(3, figsize=(10,20))\n",
    "fig.suptitle(title_combined, fontsize=18)\n",
    "\n",
    "ax1.plot(trial_k, bcm_fourier[i], 'b-', \n",
    "         lw=3, zorder = 5, label='BCM')\n",
    "ax1.plot(trial_k, cdm_fourier[i], linestyle=(0, (3,1,1,1)), color='y', lw=3, \n",
    "         zorder=6, label='CDM')\n",
    "ax1.plot(trial_k, stel_fourier[i], 'k--', lw=3, zorder = 3, label='Stellar')\n",
    "ax1.plot(trial_k, ej_fourier[i], 'r:', \n",
    "         lw=3, zorder = 2, label='Ejected Gas')\n",
    "ax1.plot(trial_k, bd_fourier[0,i], 'c-.', \n",
    "         lw=3, zorder = 4, label='Bound Gas')\n",
    "ax1.plot(trial_k, 1*trial_k + trial_M[i], 'tab:orange', zorder=1, lw=2, label=f'{trial_M[i]:.1g} $M \\\\odot /a^3$')\n",
    "    \n",
    "ax1.set_ylabel(r'$\\rho(k)\\, \\,[M_\\odot\\,{\\rm Mpc}^{-3}]$', fontsize=15)\n",
    "ax1.set_xlabel(r'$k\\, \\,[{\\rm Mpc^{-1}}]$', fontsize=15);\n",
    "ax1.set_title('Fourier: Linear-log', fontsize=15)\n",
    "ax1.grid(True)\n",
    "ax1.legend(loc='best', ncol=2)\n",
    "ax1.set_xscale('log'); \n",
    "##########################\n",
    "ax2.plot(trial_k, bcm_fourier[i], 'b-', lw=3, zorder = 5, label='BCM')\n",
    "ax2.plot(trial_k, cdm_fourier[i], linestyle=(0, (3,1,1,1)), color='y', lw=3, \n",
    "         zorder=6, label='CDM')\n",
    "ax2.plot(trial_k, stel_fourier[i], 'k--', lw=3, zorder = 5, label='Stellar')\n",
    "ax2.plot(trial_k, ej_fourier[i], 'r:', lw=3, zorder = 4, label='Ejected Gas')\n",
    "ax2.plot(trial_k, bd_fourier[0,i], 'c-.', lw=3, zorder = 3, label='Bound Gas')\n",
    "ax2.plot(trial_k, 1*trial_k + trial_M[i], 'tab:orange', zorder=1, lw=2, label=f'{trial_M[i]:.1g} $M \\\\odot /a^3$')\n",
    "    \n",
    "ax2.set_ylabel(r'$\\rho(k)\\, \\,[M_\\odot\\,{\\rm Mpc}^{-3}]$', fontsize=15)\n",
    "ax2.set_xlabel(r'$k\\, \\,[{\\rm Mpc^{-1}}]$', fontsize=15);\n",
    "ax2.set_title('Fourier: Log-log', fontsize=15)\n",
    "ax2.grid(True)\n",
    "ax2.legend(loc='best', ncol=2)\n",
    "ax2.set_xscale('log'); \n",
    "ax2.set_ylim(1E10, 5E14)\n",
    "#ax2.set_ylim(5E10)\n",
    "ax2.set_yscale('log');\n",
    "#########################\n",
    "ax3.plot(trial_r, bcm_real[i], 'b-', lw=3, zorder = 3, label='BCM')\n",
    "ax3.plot(trial_r, cdm_real[i], linestyle=(0, (3,1,1,1)), color='y', lw=3, \n",
    "         zorder=7, label='CDM')\n",
    "ax3.plot(trial_r, stel_real[i], 'k--', lw=3, zorder = 5, label='Stellar')\n",
    "ax3.plot(trial_r, ej_real[i], 'r:', lw=3, zorder = 4, label='Ejected Gas')\n",
    "ax3.plot(trial_r, bd_real[i], 'c-.', lw=5, zorder = 3, label='Bound Gas')\n",
    "    \n",
    "ax3.set_ylabel(r'$\\rho(r)\\, \\,[M_\\odot\\,{\\rm Mpc}^{-3}]$', fontsize=15)\n",
    "ax3.set_xlabel(r'$r\\, \\,[{\\rm Mpc}]$', fontsize=15);\n",
    "ax3.set_title('Real: Log-log', fontsize=15)\n",
    "ax3.grid(True)\n",
    "ax3.legend(loc='best')\n",
    "ax3.set_xscale('log'); \n",
    "ax3.set_ylim(1E-1, 5E15)\n",
    "ax3.set_xlim(9E-3, 1E2)\n",
    "ax3.set_yscale('log');\n",
    "\n",
    "fig.tight_layout();\n",
    "#fig.savefig('./BCM_real&Fourier_plot_0108.pdf', dpi=500);"
   ]
  },
  {
   "cell_type": "code",
   "execution_count": null,
   "id": "f0e7ec05-3876-40cf-8a04-fbb4b8f86a46",
   "metadata": {},
   "outputs": [],
   "source": []
  }
 ],
 "metadata": {
  "kernelspec": {
   "display_name": "Python 3 (ipykernel)",
   "language": "python",
   "name": "python3"
  },
  "language_info": {
   "codemirror_mode": {
    "name": "ipython",
    "version": 3
   },
   "file_extension": ".py",
   "mimetype": "text/x-python",
   "name": "python",
   "nbconvert_exporter": "python",
   "pygments_lexer": "ipython3",
   "version": "3.12.2"
  }
 },
 "nbformat": 4,
 "nbformat_minor": 5
}
