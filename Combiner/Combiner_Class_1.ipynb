{
 "cells": [
  {
   "cell_type": "code",
   "execution_count": 54,
   "id": "dcc46015-021e-4c03-8fd2-e9fd48c9c34f",
   "metadata": {},
   "outputs": [],
   "source": [
    "import numpy as np\n",
    "import pyccl as ccl\n",
    "import matplotlib.pyplot as plt\n",
    "import scipy.integrate as integrate\n",
    "#import scipy.interpolate as interpol\n",
    "#from pyccl._core import UnlockInstance\n",
    "#from scipy import signal\n",
    "from scipy.special import erf, gamma, expn, hyp2f1, exp1\n",
    "\n",
    "#import inspect"
   ]
  },
  {
   "cell_type": "markdown",
   "id": "418ee374-4b00-4259-a15e-3c2cf91ec6cc",
   "metadata": {},
   "source": [
    "# Import classes"
   ]
  },
  {
   "cell_type": "code",
   "execution_count": 3,
   "id": "542ad5c7-2fe6-4976-9699-dba5ef8ec7f3",
   "metadata": {},
   "outputs": [
    {
     "data": {
      "text/plain": [
       "('StellarProfileSAM', 'GasProfileSAM', 'CDMProfile')"
      ]
     },
     "execution_count": 3,
     "metadata": {},
     "output_type": "execute_result"
    }
   ],
   "source": [
    "import Fedeli_1_separateComponents as Fedeli\n",
    "Fedeli.__all__"
   ]
  },
  {
   "cell_type": "code",
   "execution_count": 4,
   "id": "a5fd4221-3e7d-4b94-ba47-f11f5ec75b2f",
   "metadata": {},
   "outputs": [
    {
     "name": "stderr",
     "output_type": "stream",
     "text": [
      "/Users/lambe/Documents/GitHub/Oxford-Intern-2024/Oxford-Internship-Practices/Combiner/BCMprofiles_separateComponents.py:101: SyntaxWarning: invalid escape sequence '\\ '\n",
      "  \"\"\"Creating a class for the stellar density profile \\\n",
      "/Users/lambe/Documents/GitHub/Oxford-Intern-2024/Oxford-Internship-Practices/Combiner/BCMprofiles_separateComponents.py:271: SyntaxWarning: invalid escape sequence '\\ '\n",
      "  \"\"\"Creating a class for the bound gas density profile where:\n"
     ]
    },
    {
     "data": {
      "text/plain": [
       "('StellarProfileBCM',\n",
       " 'EjectedGasProfileBCM',\n",
       " 'BoundGasProfileBCM',\n",
       " 'CDMProfile')"
      ]
     },
     "execution_count": 4,
     "metadata": {},
     "output_type": "execute_result"
    }
   ],
   "source": [
    "import BCMprofiles_separateComponents as BCMprofiles\n",
    "BCMprofiles.__all__"
   ]
  },
  {
   "cell_type": "code",
   "execution_count": 5,
   "id": "7404e7c6-a857-4b16-89fe-5623169be0d8",
   "metadata": {},
   "outputs": [
    {
     "data": {
      "text/plain": [
       "'CombinerClass'"
      ]
     },
     "execution_count": 5,
     "metadata": {},
     "output_type": "execute_result"
    }
   ],
   "source": [
    "import Combiner_Class as Combiner\n",
    "Combiner.__all__"
   ]
  },
  {
   "cell_type": "code",
   "execution_count": 6,
   "id": "81e8b58c-e06e-462d-bf29-d8fc1c6424ba",
   "metadata": {},
   "outputs": [],
   "source": [
    "### Set up eg- cosmo\n",
    "trial_mass_def = ccl.halos.MassDef200c #hmd_200c # use a mass definition with Delta = 200\n",
    "trial_concentration = ccl.halos.ConcentrationDuffy08(mass_def=trial_mass_def) # mass_def=hmd_200c) # cM\n",
    "trial_cosmo = ccl.Cosmology(Omega_c = 0.25, Omega_b=0.05, h=0.7, A_s=2.1e-9, n_s=0.96, Neff=0, Omega_g=0)\n",
    "\n",
    "trial_gamma = 1.2 \n",
    "# The Tinker 2008 mass function\n",
    "# hmf_200m = ccl.halos.MassFuncTinker08(mass_def=hmd_200m, mass_def_strict=False)\n",
    "trial_mass_function = ccl.halos.MassFuncTinker08(mass_def=trial_mass_def, mass_def_strict=False)\n",
    "\n",
    "trial_r = np.geomspace(1E-2,1E8,100000) # geomspace is like linspace, but evenly spaces on a logscale\n",
    "trial_k = np.geomspace(1E-2,9E1,100000) # np.geomspace(1E-3,1E2,100000)\n",
    "trial_M = np.array([3E12,6E13, 1E14])#/cosmo['h'] # trying with factor of h^{-1}"
   ]
  },
  {
   "cell_type": "code",
   "execution_count": 7,
   "id": "61f1c7b4-8104-4e05-a1e9-db73bbffaae9",
   "metadata": {},
   "outputs": [],
   "source": [
    "bcm_cdm_profile = BCMprofiles.CDMProfile(trial_mass_def, trial_concentration)\n",
    "bcm_stel_profile = BCMprofiles.StellarProfileBCM(trial_mass_def)\n",
    "bcm_ej_profile = BCMprofiles.EjectedGasProfileBCM(trial_mass_def)\n",
    "bcm_bd_profile = BCMprofiles.BoundGasProfileBCM(trial_mass_def, trial_concentration, Gamma=trial_gamma)"
   ]
  },
  {
   "cell_type": "code",
   "execution_count": 8,
   "id": "e021c5f1-f427-4aed-ad9f-336d3a4f4e6c",
   "metadata": {},
   "outputs": [],
   "source": [
    "fed_cdm_profile = Fedeli.CDMProfile(trial_mass_def, trial_concentration)\n",
    "fed_stel_profile = Fedeli.StellarProfileSAM(trial_mass_def, trial_mass_function)\n",
    "fed_gas_profile = Fedeli.GasProfileSAM(trial_mass_def)"
   ]
  },
  {
   "cell_type": "code",
   "execution_count": 9,
   "id": "dc40eb40-1da3-4a4c-9297-f4bfea878f09",
   "metadata": {
    "scrolled": true
   },
   "outputs": [
    {
     "name": "stdout",
     "output_type": "stream",
     "text": [
      "Help on module Combiner_Class:\n",
      "\n",
      "NAME\n",
      "    Combiner_Class\n",
      "\n",
      "CLASSES\n",
      "    pyccl.halos.profiles.profile_base.HaloProfile(pyccl._core.schema.CCLAutoRepr)\n",
      "        CombinerClass\n",
      "\n",
      "    class CombinerClass(pyccl.halos.profiles.profile_base.HaloProfile)\n",
      "     |  CombinerClass(self, prof_list)\n",
      "     |\n",
      "     |  Method resolution order:\n",
      "     |      CombinerClass\n",
      "     |      pyccl.halos.profiles.profile_base.HaloProfile\n",
      "     |      pyccl._core.schema.CCLAutoRepr\n",
      "     |      pyccl._core.schema.CCLObject\n",
      "     |      abc.ABC\n",
      "     |      builtins.object\n",
      "     |\n",
      "     |  Methods defined here:\n",
      "     |\n",
      "     |  __init__(self, prof_list)\n",
      "     |      Initialize self.  See help(type(self)) for accurate signature.\n",
      "     |\n",
      "     |  update_parameters(self, **kwargs)\n",
      "     |\n",
      "     |  ----------------------------------------------------------------------\n",
      "     |  Data and other attributes defined here:\n",
      "     |\n",
      "     |  __abstractmethods__ = frozenset()\n",
      "     |\n",
      "     |  __annotations__ = {}\n",
      "     |\n",
      "     |  __signature__ = <Signature (self, prof_list)>\n",
      "     |\n",
      "     |  ----------------------------------------------------------------------\n",
      "     |  Methods inherited from pyccl.halos.profiles.profile_base.HaloProfile:\n",
      "     |\n",
      "     |  convergence(self, cosmo, r, M, *, a_lens, a_source)\n",
      "     |      convergence(cosmo, r, M, *, a_lens, a_source)\n",
      "     |      Returns the convergence as a function of cosmology,\n",
      "     |      radius, halo mass and the scale factors of the source\n",
      "     |      and the lens.\n",
      "     |\n",
      "     |      .. math::\n",
      "     |         \\kappa(R) = \\frac{\\Sigma(R)}{\\Sigma_{\\rm crit}},\n",
      "     |\n",
      "     |      where :math:`\\Sigma(R)` is the 2D projected surface mass density\n",
      "     |      (see :meth:`projected`), and :math:`\\Sigma_{\\rm crit}` is\n",
      "     |      the critical surface density (see\n",
      "     |      :meth:`~pyccl.background.sigma_critical`).\n",
      "     |\n",
      "     |      Args:\n",
      "     |          cosmo (:class:`~pyccl.cosmology.Cosmology`): A Cosmology object.\n",
      "     |          r (:obj:`float` or `array`): comoving radius.\n",
      "     |          M (:obj:`float` or `array`): halo mass.\n",
      "     |          a_lens (:obj:`float`): scale factor of lens.\n",
      "     |          a_source (:obj:`float` or `array`): scale factor of source.\n",
      "     |              If an array, it must have the same shape as ``r``.\n",
      "     |\n",
      "     |      Returns:\n",
      "     |          (:obj:`float` or `array`): convergence :math:`\\kappa`. The\n",
      "     |          shape of the output will be ``(N_M, N_r)`` where ``N_r`` and\n",
      "     |          ``N_m`` are the sizes of ``r`` and ``M`` respectively. If\n",
      "     |          ``r`` or ``M`` are scalars, the corresponding dimension will\n",
      "     |          be squeezed out on output.\n",
      "     |\n",
      "     |  cumul2d(self, cosmo, r_t, M, a)\n",
      "     |      cumul2d(cosmo, r_t, M, a)\n",
      "     |      Returns the 2D cumulative surface density as a\n",
      "     |      function of cosmology, radius, halo mass and scale\n",
      "     |      factor.\n",
      "     |\n",
      "     |      .. math::\n",
      "     |         \\Sigma(<R)= \\frac{2}{R^2} \\int dR'\\, R'\\,\n",
      "     |         \\Sigma(R')\n",
      "     |\n",
      "     |      Args:\n",
      "     |          cosmo (:class:`~pyccl.cosmology.Cosmology`): a Cosmology object.\n",
      "     |          r_t (:obj:`float` or `array`): transverse comoving radius in Mpc.\n",
      "     |          M (:obj:`float` or `array`): halo mass in units of M_sun.\n",
      "     |          a (:obj:`float`): scale factor.\n",
      "     |\n",
      "     |      Returns:\n",
      "     |          (:obj:`float` or `array`): cumulative surface density. The shape of the\n",
      "     |          output will be ``(N_M, N_r)`` where ``N_r`` and ``N_m`` are\n",
      "     |          the sizes of ``r`` and ``M`` respectively. If ``r`` or ``M``\n",
      "     |          are scalars, the corresponding dimension will be\n",
      "     |          squeezed out on output.\n",
      "     |\n",
      "     |  fourier(self, cosmo, k, M, a)\n",
      "     |      fourier(cosmo, k, M, a)\n",
      "     |      Returns the Fourier-space value of the profile as a\n",
      "     |      function of cosmology, wavenumber, halo mass and\n",
      "     |      scale factor.\n",
      "     |\n",
      "     |      .. math::\n",
      "     |         \\rho(k)=\\frac{1}{2\\pi^2} \\int dr\\, r^2\\,\n",
      "     |         \\rho(r)\\, j_0(k r)\n",
      "     |\n",
      "     |      Args:\n",
      "     |          cosmo (:class:`~pyccl.cosmology.Cosmology`): a Cosmology object.\n",
      "     |          k (:obj:`float` or `array`): comoving wavenumber (in :math:`Mpc^{-1}`).\n",
      "     |          M (:obj:`float` or `array`): halo mass.\n",
      "     |          a (:obj:`float`): scale factor.\n",
      "     |\n",
      "     |      Returns:\n",
      "     |          (:obj:`float` or `array`): Fourier-space profile. The shape of the\n",
      "     |          output will be ``(N_M, N_k)`` where ``N_k`` and ``N_m`` are\n",
      "     |          the sizes of ``k`` and ``M`` respectively. If ``k`` or ``M``\n",
      "     |          are scalars, the corresponding dimension will be\n",
      "     |          squeezed out on output.\n",
      "     |\n",
      "     |  get_normalization(self, cosmo=None, a=None, *, hmc=None)\n",
      "     |      Profiles may be normalized by an overall function of redshift\n",
      "     |      (or scale factor). This function may be cosmology-dependent and\n",
      "     |      often comes from integrating certain halo properties over mass.\n",
      "     |      This method returns this normalizing factor. For example,\n",
      "     |      to get the normalized profile in real space, one would call\n",
      "     |      the :meth:`real` method, and then **divide** the result by the value\n",
      "     |      returned by this method.\n",
      "     |\n",
      "     |      Args:\n",
      "     |          cosmo (:class:`~pyccl.cosmology.Cosmology`): a Cosmology object.\n",
      "     |          a (:obj:`float`): scale factor.\n",
      "     |          hmc (:class:`~pyccl.halos.halo_model.HMCalculator`): a halo\n",
      "     |              model calculator object.\n",
      "     |\n",
      "     |      Returns:\n",
      "     |          float: normalization factor of this profile.\n",
      "     |\n",
      "     |  magnification(self, cosmo, r, M, *, a_lens, a_source)\n",
      "     |      magnification(cosmo, r, M, a_lens, a_source)\n",
      "     |      Returns the magnification for input parameters.\n",
      "     |\n",
      "     |      .. math::\n",
      "     |         \\mu(R) = \\frac{1}{\\left[(1 - \\kappa(R))^2 -\n",
      "     |         \\vert \\gamma(R) \\vert^2 \\right]]},\n",
      "     |\n",
      "     |      where :math:`\\gamma(R)` is the shear and :math:`\\kappa(R)` is the\n",
      "     |      convergence (see :meth:`shear` and :meth:`convergence`).\n",
      "     |\n",
      "     |      Args:\n",
      "     |          cosmo (:class:`~pyccl.cosmology.Cosmology`): A Cosmology object.\n",
      "     |          r (:obj:`float` or `array`): comoving radius in Mpc.\n",
      "     |          M (:obj:`float` or `array`): halo mass in units of M_sun.\n",
      "     |          a_lens (:obj:`float`): scale factor of lens.\n",
      "     |          a_source (:obj:`float` or `array`): source's scale factor.\n",
      "     |              If array, it must have the same shape as `r`.\n",
      "     |\n",
      "     |      Returns:\n",
      "     |          (:obj:`float` or `array`): magnification :math:`\\mu`. The shape\n",
      "     |          of the output will be ``(N_M, N_r)`` where ``N_r`` and ``N_m``\n",
      "     |          are the sizes of ``r`` and ``M`` respectively. If ``r`` or ``M``\n",
      "     |          are scalars, the corresponding dimension will be\n",
      "     |          squeezed out on output.\n",
      "     |\n",
      "     |  projected(self, cosmo, r_t, M, a)\n",
      "     |      projected(cosmo, r_t, M, a)\n",
      "     |      Returns the 2D projected profile as a function of\n",
      "     |      cosmology, radius, halo mass and scale factor.\n",
      "     |\n",
      "     |      .. math::\n",
      "     |         \\Sigma(R)= \\int dr_\\parallel\\,\n",
      "     |         \\rho(\\sqrt{r_\\parallel^2 + R^2})\n",
      "     |\n",
      "     |      Args:\n",
      "     |          cosmo (:class:`~pyccl.cosmology.Cosmology`): a Cosmology object.\n",
      "     |          r_t (:obj:`float` or `array`): transverse comoving radius in Mpc.\n",
      "     |          M (:obj:`float` or `array`): halo mass in units of M_sun.\n",
      "     |          a (:obj:`float`): scale factor.\n",
      "     |\n",
      "     |      Returns:\n",
      "     |          (:obj:`float` or `array`): projected profile. The shape of the\n",
      "     |          output will be `(N_M, N_r)` where `N_r` and `N_m` are\n",
      "     |          the sizes of `r` and `M` respectively. If `r` or `M`\n",
      "     |          are scalars, the corresponding dimension will be\n",
      "     |          squeezed out on output.\n",
      "     |\n",
      "     |  real(self, cosmo, r, M, a)\n",
      "     |      real(cosmo, r, M, a)\n",
      "     |      Returns the 3D real-space value of the profile as a\n",
      "     |      function of cosmology, radius, halo mass and scale factor.\n",
      "     |\n",
      "     |      Args:\n",
      "     |          cosmo (:class:`~pyccl.cosmology.Cosmology`): a Cosmology object.\n",
      "     |          r (:obj:`float` or `array`): comoving radius in Mpc.\n",
      "     |          M (:obj:`float` or `array`): halo mass in units of M_sun.\n",
      "     |          a (:obj:`float`): scale factor.\n",
      "     |\n",
      "     |      Returns:\n",
      "     |          (:obj:`float` or `array`): halo profile. The shape of the\n",
      "     |          output will be `(N_M, N_r)` where `N_r` and `N_m` are\n",
      "     |          the sizes of `r` and `M` respectively. If `r` or `M`\n",
      "     |          are scalars, the corresponding dimension will be\n",
      "     |          squeezed out on output.\n",
      "     |\n",
      "     |  reduced_shear(self, cosmo, r, M, *, a_lens, a_source)\n",
      "     |      reduced_shear(cosmo, r, M, *, a_lens, a_source)\n",
      "     |      Returns the reduced shear as a function of cosmology,\n",
      "     |      radius, halo mass and the scale factors of the\n",
      "     |      source and the lens.\n",
      "     |\n",
      "     |      .. math::\n",
      "     |         g_t (R) = \\frac{\\gamma(R)}{(1 - \\kappa(R))},\n",
      "     |\n",
      "     |      where :math:`\\gamma(R)` is the shear and :math:`\\kappa(R)` is the\n",
      "     |      convergence.\n",
      "     |\n",
      "     |      Args:\n",
      "     |          cosmo (:class:`~pyccl.cosmology.Cosmology`): A Cosmology object.\n",
      "     |          r (:obj:`float` or `array`): comoving radius in Mpc.\n",
      "     |          M (:obj:`float` or `array`): halo mass in units of M_sun.\n",
      "     |          a_lens (:obj:`float`): scale factor of lens.\n",
      "     |          a_source (:obj:`float` or `array`): source's scale factor.\n",
      "     |              If array, it must have the same shape as `r`.\n",
      "     |\n",
      "     |      Returns:\n",
      "     |          (:obj:`float` or `array`): reduced shear :math:`g_t`. The shape\n",
      "     |          of the output will be ``(N_M, N_r)`` where ``N_r`` and ``N_m``\n",
      "     |          are the sizes of ``r`` and ``M`` respectively. If ``r`` or\n",
      "     |          ``M`` are scalars, the corresponding dimension will be\n",
      "     |          squeezed out on output.\n",
      "     |\n",
      "     |  shear(self, cosmo, r, M, *, a_lens, a_source)\n",
      "     |      shear(cosmo, r, M, *, a_lens, a_source)\n",
      "     |      Returns the shear (tangential) as a function of cosmology,\n",
      "     |      radius, halo mass and the scale factors of the\n",
      "     |      source and the lens.\n",
      "     |\n",
      "     |      .. math::\n",
      "     |         \\gamma(R) = \\frac{\\Delta\\Sigma(R)}{\\Sigma_{\\mathrm{crit}}} =\n",
      "     |         \\frac{\\overline{\\Sigma}(< R) -\n",
      "     |         \\Sigma(R)}{\\Sigma_{\\mathrm{crit}}},\n",
      "     |\n",
      "     |      where :math:`\\overline{\\Sigma}(< R)` is cumulative surface density\n",
      "     |      (see :meth:`cumul2d`), :math:`\\Sigma(R)` is the projected 2D density\n",
      "     |      (see :meth:`projected`), and :math:`\\Sigma_{\\rm crit}` is the\n",
      "     |      critical surface density (see\n",
      "     |      :meth:`~pyccl.background.sigma_critical`).\n",
      "     |\n",
      "     |      Args:\n",
      "     |          cosmo (:class:`~pyccl.cosmology.Cosmology`): A Cosmology object.\n",
      "     |          r (:obj:`float` or `array`): comoving radius in Mpc.\n",
      "     |          M (:obj:`float` or `array`): halo mass in units of M_sun.\n",
      "     |          a_lens (:obj:`float`): scale factor of lens.\n",
      "     |          a_source (:obj:`float` or `array`): source's scale factor.\n",
      "     |              If array, it must have the same shape as `r`.\n",
      "     |\n",
      "     |      Returns:\n",
      "     |          (:obj:`float` or `array`): shear :math:`\\gamma`. The shape of the\n",
      "     |          output will be ``(N_M, N_r)`` where ``N_r`` and ``N_m`` are\n",
      "     |          the sizes of ``r`` and ``M`` respectively. If ``r`` or ``M``\n",
      "     |          are scalars, the corresponding dimension will be\n",
      "     |          squeezed out on output.\n",
      "     |\n",
      "     |  update_precision_fftlog = update_parameters(self, **kwargs)\n",
      "     |      Update the precision of FFTLog for the Hankel transforms.\n",
      "     |\n",
      "     |      Arguments\n",
      "     |      ---------\n",
      "     |      padding_lo_fftlog: :obj:`float`\n",
      "     |          Factor by which the minimum scale is multiplied to avoid\n",
      "     |          aliasing. Default: 0.1.\n",
      "     |      padding_hi_fftlog: :obj:`float`\n",
      "     |          Factor by which the maximum scale is multiplied to avoid\n",
      "     |          aliasing. Default: 10.\n",
      "     |      n_per_decade : :obj:`float`\n",
      "     |          Samples per decade for the Hankel transforms. Default: 100.\n",
      "     |      extrapol : {'linx_liny', 'linx_logy'}\n",
      "     |          Extrapolation type when FFTLog has narrower output support.\n",
      "     |          Default ``'linx_liny'``.\n",
      "     |      padding_lo_extra: :obj:`float`\n",
      "     |          Additional minimum scale padding for double Hankel transforms,\n",
      "     |          used when computing 2D projected and cumulative profiles. In\n",
      "     |          these, the first transform goes from 3D real space to\n",
      "     |          Fourier, and the second transform goes from Fourier to 2D\n",
      "     |          real space.\n",
      "     |          Default: 0.1.\n",
      "     |      padding_hi_extra: :obj:`float`\n",
      "     |          As ``padding_lo_extra`` for the maximum scale.\n",
      "     |          Default: 10.\n",
      "     |      large_padding_2D : :obj:`bool`\n",
      "     |          Override ``padding_xx_extra`` in the intermediate transform,\n",
      "     |          and use ``padding_xx_fftlog``. The default is False.\n",
      "     |      plaw_fourier: :obj:`float`\n",
      "     |          FFTLog pre-whitens its arguments (makes them flatter) to avoid\n",
      "     |          aliasing. The ``plaw_fourier`` parameter describes the tilt of\n",
      "     |          the profile, :math:`P(r) \\propto r^{\\mathrm{tilt}}`, for\n",
      "     |          standard 3D transforms. Default: -1.5\n",
      "     |      plaw_fourier_projected: :obj:`float`\n",
      "     |          As ``plaw_fourier`` for 2D transforms (when computing 2D\n",
      "     |          projected or cumulative profiles. Default: -1.0.\n",
      "     |\n",
      "     |  ----------------------------------------------------------------------\n",
      "     |  Data descriptors inherited from pyccl.halos.profiles.profile_base.HaloProfile:\n",
      "     |\n",
      "     |  is_number_counts\n",
      "     |      If ``True``, this profile represents source-count overdensities,\n",
      "     |      normalised by the mean number density within their survey window\n",
      "     |      function. This must be propagated when estimated super-sample\n",
      "     |      effects in the covariance matrix.\n",
      "     |\n",
      "     |  ----------------------------------------------------------------------\n",
      "     |  Methods inherited from pyccl._core.schema.CCLAutoRepr:\n",
      "     |\n",
      "     |  __repr__(self)\n",
      "     |      Return repr(self).\n",
      "     |\n",
      "     |  ----------------------------------------------------------------------\n",
      "     |  Methods inherited from pyccl._core.schema.CCLObject:\n",
      "     |\n",
      "     |  __eq__(self, other)\n",
      "     |      Return self==value.\n",
      "     |\n",
      "     |  __hash__(self)\n",
      "     |      Return hash(self).\n",
      "     |\n",
      "     |  __setattr__(self, name, value)\n",
      "     |      Implement setattr(self, name, value).\n",
      "     |\n",
      "     |  ----------------------------------------------------------------------\n",
      "     |  Class methods inherited from pyccl._core.schema.CCLObject:\n",
      "     |\n",
      "     |  __init_subclass__(**kwargs) from abc.ABCMeta\n",
      "     |      This method is called when a class is subclassed.\n",
      "     |\n",
      "     |      The default implementation does nothing. It may be\n",
      "     |      overridden to extend subclasses.\n",
      "     |\n",
      "     |  ----------------------------------------------------------------------\n",
      "     |  Static methods inherited from pyccl._core.schema.CCLObject:\n",
      "     |\n",
      "     |  __new__(cls, *args, **kwargs)\n",
      "     |      Create and return a new object.  See help(type) for accurate signature.\n",
      "     |\n",
      "     |  ----------------------------------------------------------------------\n",
      "     |  Data descriptors inherited from pyccl._core.schema.CCLObject:\n",
      "     |\n",
      "     |  __dict__\n",
      "     |      dictionary for instance variables\n",
      "     |\n",
      "     |  __weakref__\n",
      "     |      list of weak references to the object\n",
      "\n",
      "DATA\n",
      "    __all__ = 'CombinerClass'\n",
      "\n",
      "FILE\n",
      "    /Users/lambe/Documents/GitHub/Oxford-Intern-2024/Oxford-Internship-Practices/Combiner/Combiner_Class.py\n",
      "\n",
      "\n"
     ]
    }
   ],
   "source": [
    "help(Combiner)"
   ]
  },
  {
   "cell_type": "markdown",
   "id": "23060ec1-2659-460e-874d-3828b31e07ab",
   "metadata": {},
   "source": [
    "## Try Combinations"
   ]
  },
  {
   "cell_type": "code",
   "execution_count": 21,
   "id": "22cc1e6b-980a-4996-ac5f-de644ed99dcb",
   "metadata": {},
   "outputs": [],
   "source": [
    "# update_parameters\n",
    "Combiner.CombinerClass([bcm_bd_profile, bcm_ej_profile, bcm_cdm_profile, bcm_stel_profile]).update_parameters(Gamma=1.5)\n"
   ]
  },
  {
   "cell_type": "markdown",
   "id": "74d5696d-15a4-4b95-925b-d0d65680b51b",
   "metadata": {},
   "source": [
    "### Real"
   ]
  },
  {
   "cell_type": "code",
   "execution_count": 23,
   "id": "9a0ed88e-d402-46e1-ac76-617fda4b434a",
   "metadata": {},
   "outputs": [
    {
     "data": {
      "text/plain": [
       "array([[4.89094328e+15, 4.88936803e+15, 4.88788315e+15, ...,\n",
       "        2.78767772e-27, 2.78462011e-27, 2.78156586e-27],\n",
       "       [1.22784260e+16, 1.22742900e+16, 1.22711755e+16, ...,\n",
       "        1.67294592e-24, 1.67111658e-24, 1.66928924e-24],\n",
       "       [1.40843894e+16, 1.40795038e+16, 1.40759926e+16, ...,\n",
       "        4.63336187e-24, 4.62829820e-24, 4.62324005e-24]])"
      ]
     },
     "execution_count": 23,
     "metadata": {},
     "output_type": "execute_result"
    }
   ],
   "source": [
    "Combiner.CombinerClass([bcm_bd_profile, bcm_ej_profile, bcm_cdm_profile, bcm_stel_profile])._real(trial_cosmo, trial_r, trial_M, 1)"
   ]
  },
  {
   "cell_type": "code",
   "execution_count": 14,
   "id": "add9ca26-0bcf-4c42-b5ac-de835018b61e",
   "metadata": {},
   "outputs": [
    {
     "data": {
      "text/plain": [
       "array([[4.88075630e+15, 4.87927193e+15, 4.87778794e+15, ...,\n",
       "        0.00000000e+00, 0.00000000e+00, 0.00000000e+00],\n",
       "       [1.27025104e+16, 1.26993837e+16, 1.26962577e+16, ...,\n",
       "        0.00000000e+00, 0.00000000e+00, 0.00000000e+00],\n",
       "       [1.45772665e+16, 1.45737449e+16, 1.45702240e+16, ...,\n",
       "        0.00000000e+00, 0.00000000e+00, 0.00000000e+00]])"
      ]
     },
     "execution_count": 14,
     "metadata": {},
     "output_type": "execute_result"
    }
   ],
   "source": [
    "Combiner.CombinerClass([fed_gas_profile, fed_cdm_profile, fed_stel_profile])._real(trial_cosmo, trial_r, trial_M, 1)"
   ]
  },
  {
   "cell_type": "markdown",
   "id": "b26936ea-76fe-4d5f-bfe5-73e301aec30f",
   "metadata": {},
   "source": [
    "### Fourier"
   ]
  },
  {
   "cell_type": "code",
   "execution_count": 17,
   "id": "213a6ef1-6b89-4955-a4da-a30a78be61a1",
   "metadata": {
    "scrolled": true
   },
   "outputs": [
    {
     "name": "stdout",
     "output_type": "stream",
     "text": [
      "Qany = 1.56% through\n",
      "Qany = 3.12% through\n",
      "Qany = 4.69% through\n",
      "Qany = 6.25% through\n",
      "Qany = 7.81% through\n",
      "Qany = 9.38% through\n",
      "Qany = 10.9% through\n",
      "Qany = 12.5% through\n",
      "Qany = 14.1% through\n",
      "Qany = 15.6% through\n",
      "Qany = 17.2% through\n",
      "Qany = 18.8% through\n",
      "Qany = 20.3% through\n",
      "Qany = 21.9% through\n",
      "Qany = 23.4% through\n",
      "Qany = 25% through\n",
      "Qany = 26.6% through\n",
      "Qany = 28.1% through\n",
      "Qany = 29.7% through\n",
      "Qany = 31.2% through\n",
      "Qany = 32.8% through\n",
      "Qany = 34.4% through\n",
      "Qany = 35.9% through\n",
      "Qany = 37.5% through\n",
      "Qany = 39.1% through\n",
      "Qany = 40.6% through\n",
      "Qany = 42.2% through\n",
      "Qany = 43.8% through\n",
      "Qany = 45.3% through\n",
      "Qany = 46.9% through\n",
      "Qany = 48.4% through\n",
      "Qany = 50% through\n",
      "Qany = 51.6% through\n",
      "Qany = 53.1% through\n",
      "Qany = 54.7% through\n",
      "Qany = 56.2% through\n",
      "Qany = 57.8% through\n",
      "Qany = 59.4% through\n",
      "Qany = 60.9% through\n",
      "Qany = 62.5% through\n",
      "Qany = 64.1% through\n",
      "Qany = 65.6% through\n",
      "Qany = 67.2% through\n",
      "Qany = 68.8% through\n",
      "Qany = 70.3% through\n",
      "Qany = 71.9% through\n",
      "Qany = 73.4% through\n",
      "Qany = 75% through\n",
      "Qany = 76.6% through\n",
      "Qany = 78.1% through\n",
      "Qany = 79.7% through\n",
      "Qany = 81.2% through\n",
      "Qany = 82.8% through\n",
      "Qany = 84.4% through\n",
      "Qany = 85.9% through\n",
      "Qany = 87.5% through\n",
      "Qany = 89.1% through\n",
      "Qany = 90.6% through\n",
      "Qany = 92.2% through\n",
      "Qany = 93.8% through\n",
      "Qany = 95.3% through\n",
      "Qany = 96.9% through\n",
      "Qany = 98.4% through\n",
      "Qany = 100% through\n"
     ]
    },
    {
     "data": {
      "text/plain": [
       "80158691178.9411"
      ]
     },
     "execution_count": 17,
     "metadata": {},
     "output_type": "execute_result"
    }
   ],
   "source": [
    "bcm_bd_profile._fourier(trial_cosmo, trial_k, trial_M, 1)[0][2]"
   ]
  },
  {
   "cell_type": "code",
   "execution_count": 25,
   "id": "68c27af7-f885-4d68-ad92-874f155d2cf4",
   "metadata": {
    "scrolled": true
   },
   "outputs": [
    {
     "data": {
      "text/plain": [
       "array([[2.99989235e+12, 2.99989233e+12, 2.99989232e+12, ...,\n",
       "        1.79793707e+11, 1.79785399e+11, 1.79777092e+11],\n",
       "       [5.99559940e+13, 5.99559885e+13, 5.99559830e+13, ...,\n",
       "        1.23474664e+12, 1.23469025e+12, 1.23463358e+12],\n",
       "       [9.98905767e+13, 9.98905633e+13, 9.98905499e+13, ...,\n",
       "        1.61046121e+12, 1.61035270e+12, 1.61024409e+12]])"
      ]
     },
     "execution_count": 25,
     "metadata": {},
     "output_type": "execute_result"
    }
   ],
   "source": [
    "Combiner.CombinerClass([bcm_bd_profile, bcm_ej_profile, bcm_cdm_profile, bcm_stel_profile])._fourier(trial_cosmo, trial_k, trial_M, 1)"
   ]
  },
  {
   "cell_type": "code",
   "execution_count": 30,
   "id": "aa553d65-8619-4127-9325-938d25a70508",
   "metadata": {},
   "outputs": [
    {
     "ename": "AttributeError",
     "evalue": "'StellarProfileSAM' object has no attribute '_fourier'",
     "output_type": "error",
     "traceback": [
      "\u001b[0;31m---------------------------------------------------------------------------\u001b[0m",
      "\u001b[0;31mAttributeError\u001b[0m                            Traceback (most recent call last)",
      "Cell \u001b[0;32mIn[30], line 1\u001b[0m\n\u001b[0;32m----> 1\u001b[0m Combiner\u001b[38;5;241m.\u001b[39mCombinerClass([fed_gas_profile, fed_cdm_profile, fed_stel_profile])\u001b[38;5;241m.\u001b[39m_fourier(trial_cosmo, trial_k, trial_M, \u001b[38;5;241m1\u001b[39m)\n",
      "File \u001b[0;32m~/Documents/GitHub/Oxford-Intern-2024/Oxford-Internship-Practices/Combiner/Combiner_Class.py:38\u001b[0m, in \u001b[0;36mCombinerClass._fourier\u001b[0;34m(self, cosmo, k, M, a)\u001b[0m\n\u001b[1;32m     35\u001b[0m \u001b[38;5;28;01mdef\u001b[39;00m \u001b[38;5;21m_fourier\u001b[39m(\u001b[38;5;28mself\u001b[39m, cosmo, k, M, a): \u001b[38;5;66;03m# scale_a = 1\u001b[39;00m\n\u001b[1;32m     36\u001b[0m     \u001b[38;5;66;03m# use ._fourier OR .fourier (not all have options other than inbuilt)\u001b[39;00m\n\u001b[1;32m     37\u001b[0m     \u001b[38;5;66;03m# could add in to the component profiles that, if fourier_analytic (etc) is called, but there is none, Then: self._fourier = self.fourier (so call CCL)\u001b[39;00m\n\u001b[0;32m---> 38\u001b[0m     fourier_list \u001b[38;5;241m=\u001b[39m [prof\u001b[38;5;241m.\u001b[39m_fourier(cosmo, k, M, a) \u001b[38;5;28;01mfor\u001b[39;00m prof \u001b[38;5;129;01min\u001b[39;00m \u001b[38;5;28mself\u001b[39m\u001b[38;5;241m.\u001b[39mprof_list]\n\u001b[1;32m     39\u001b[0m     \u001b[38;5;66;03m# apply np.array or np.atleast_1d for this\u001b[39;00m\n\u001b[1;32m     40\u001b[0m     profile \u001b[38;5;241m=\u001b[39m np\u001b[38;5;241m.\u001b[39msum(np\u001b[38;5;241m.\u001b[39matleast_1d(fourier_list), axis\u001b[38;5;241m=\u001b[39m\u001b[38;5;241m0\u001b[39m)\n",
      "\u001b[0;31mAttributeError\u001b[0m: 'StellarProfileSAM' object has no attribute '_fourier'"
     ]
    }
   ],
   "source": [
    "Combiner.CombinerClass([fed_gas_profile, fed_cdm_profile, fed_stel_profile])._fourier(trial_cosmo, trial_k, trial_M, 1)"
   ]
  },
  {
   "cell_type": "code",
   "execution_count": null,
   "id": "7f7d3448-1605-436a-a176-fb0d6f871ece",
   "metadata": {},
   "outputs": [],
   "source": []
  },
  {
   "cell_type": "markdown",
   "id": "3011e13f-c17d-49ac-bead-5fb0a5506f45",
   "metadata": {},
   "source": [
    "# TO DO:\n",
    " - implement analytical Fourier for Fedeli stellar (alpha=1,Lorentzian) (& maybe truncated numerical Fourier like with gas)\n",
    " - then tidy up (if call ._fourier in combiner, all functions must have AN ._fourier attached) (eg - if fourier_analytic=False, ._fourier = .fourier & ALSO put in a print statement saying that?)\n",
    " - option for no_fraction/individual fractions"
   ]
  },
  {
   "cell_type": "code",
   "execution_count": 175,
   "id": "3012d674-fc96-43f8-869c-35c5bebe9cac",
   "metadata": {},
   "outputs": [],
   "source": [
    "class StellarProfile(ccl.halos.profiles.profile_base.HaloProfile):\n",
    "    \"\"\" Stellar halo density profile. Fedeli (2014) arXiv:1401.2997\n",
    "    \"\"\"\n",
    "\n",
    "    def __init__(self, mass_def, mass_func, alpha=1, r_t=1, xDelta_stel = 1/0.03, m_0s_prefix=5E12, sigma_s=1.2, \n",
    "                 rho_avg_star_prefix=7E8, limInt_mStell=(1E10, 1E15), m_0s=None, rho_avg_star=None, fourier_analytic=True): \n",
    "        # fourier_numerical=True, truncate_param=1):\n",
    "        super().__init__(mass_def=mass_def)\n",
    "        self.mass_func = mass_func\n",
    "        \n",
    "        self.alpha = alpha\n",
    "        self.r_t = r_t\n",
    "        self.xDelta_stel = xDelta_stel\n",
    "        self.sigma_s = sigma_s\n",
    "        self.limInt_mStell = limInt_mStell\n",
    "\n",
    "        self.fourier_analytic = fourier_analytic\n",
    "        if fourier_analytic is True and self.alpha==1:\n",
    "            self._fourier = self._fourier_analytic\n",
    "        else:\n",
    "            print('Analytic Fourier not an option. CCL\\'S .fourier now assigned to ._fourier')\n",
    "            self._fourier = self.fourier\n",
    "\n",
    "        self.m_0s = m_0s\n",
    "        self.m_0s_prefix = m_0s_prefix\n",
    "        self.rho_avg_star = rho_avg_star\n",
    "        self.rho_avg_star_prefix = rho_avg_star_prefix\n",
    "        \n",
    "    #    self.truncate_param = truncate_param # if truncate=True in real, truncate at r > (r_vir * truncate_param)\n",
    "\n",
    "    #    self.limInt = limInt\n",
    "     #   self.krange = krange\n",
    "      #  self.nk = nk\n",
    "       # self._func_fourier = None   # [Normalised] profile from the Fourier interpolator (for Fedeli's Fourier integral)\n",
    "\n",
    "    def _f_stell_noA(self, cosmo, M):\n",
    "        if self.m_0s is None:\n",
    "            m_0s = self.m_0s_prefix/cosmo['h']\n",
    "        else:\n",
    "            m_0s = self.m_0s\n",
    "        return np.exp( (-1/2) * ( np.log10(M/m_0s) /self.sigma_s )**2 )\n",
    "    \n",
    "    def _f_stell_integrand(self, M, cosmo):\n",
    "        # integrand = m * f_star(m) * n(m), where n(m,z) is the standard DM-only halo mass function\n",
    "        #  DM_mass_func = hmf_200m(self.cosmo, np.atleast_1d(M), 1) / (np.atleast_1d(M)*np.log(10))\n",
    "        DM_mass_func = self.mass_func(cosmo, np.atleast_1d(M), 1) / (np.atleast_1d(M)*np.log(10))\n",
    "        return M * self._f_stell_noA(cosmo, M) * DM_mass_func \n",
    "     \n",
    "    def _f_stell(self, cosmo, M):\n",
    "        if self.rho_avg_star is None:\n",
    "            rho_avg_star = self.rho_avg_star_prefix**cosmo['h']**2 \n",
    "        else:\n",
    "            rho_avg_star = self.rho_avg_star\n",
    "        # f_star(m) = A*np.exp( (-1/2) * ( np.log10(m/m_0s) /omega_s )**2 )\n",
    "        integrad = integrate.quad(self._f_stell_integrand, self.limInt_mStell[0], self.limInt_mStell[1], args=cosmo)  # integrating over m (dm)\n",
    "        A = rho_avg_star / integrad[0] \n",
    "        return A * self._f_stell_noA(cosmo, M)\n",
    "\n",
    "    def update_parameters(self, mass_def=None, mass_func=None, alpha=None, r_t=None, xDelta_stel=None, sigma_s=None, limInt_mStell=None, m_0s_prefix=None, rho_avg_star_prefix=None, m_0s=None, rho_avg_star=None, ):\n",
    "        \"\"\"Update any of the parameters associated with this profile.\n",
    "        Any parameter set to ``None`` won't be updated.\n",
    "        \"\"\"\n",
    "        if mass_def is not None and mass_def != self.mass_def:\n",
    "            self.mass_def = mass_def\n",
    "        if mass_func is not None and mass_func != self.mass_func:\n",
    "            self.mass_func = mass_func\n",
    "\n",
    "        if alpha is not None and alpha != self.alpha:\n",
    "            self.alpha = alpha\n",
    "        if r_t is not None and r_t != self.r_t:\n",
    "            self.r_t = r_t\n",
    "        if xDelta_stel is not None and xDelta_stel != self.xDelta_stel:\n",
    "            self.xDelta_stel = xDelta_stel\n",
    "        if sigma_s is not None and sigma_s != self.sigma_s:\n",
    "            self.sigma_s = sigma_s\n",
    "        if limInt_mStell is not None and limInt_mStell != self.limInt_mStell:\n",
    "            self.limInt_mStell = limInt_mStell\n",
    "\n",
    "        if m_0s is not None and m_0s != self.m_0s:\n",
    "            self.m_0s = m_0s\n",
    "        if m_0s_prefix is not None and m_0s_prefix != self.m_0s_prefix:\n",
    "            self.m_0s_prefix = m_0s_prefix\n",
    "        if rho_avg_star is not None and rho_avg_star != self.rho_avg_star:\n",
    "            self.rho_avg_star = rho_avg_star\n",
    "        if rho_avg_star_prefix is not None and rho_avg_star_prefix != self.rho_avg_star_prefix:\n",
    "            self.rho_avg_star_prefix = rho_avg_star_prefix\n",
    "            \n",
    "        #######\n",
    "        \n",
    "    def _real(self, cosmo, r, M, scale_a=1, no_fraction=False):\n",
    "        \"\"\" X\n",
    "        \"\"\"\n",
    "        r_use = np.atleast_1d(r)\n",
    "        M_use = np.atleast_1d(M)\n",
    "\n",
    "        r_vir = self.mass_def.get_radius(cosmo, M_use, scale_a) / scale_a    # R_delta = the halo virial radius r_vir\n",
    "        if no_fraction is True:\n",
    "            f = 1\n",
    "        else:\n",
    "            f = self._f_stell(cosmo, M_use)\n",
    "        \n",
    "        if self.xDelta_stel is None:\n",
    "            r_t = self.r_t\n",
    "            x_delta = r_vir / self.r_t # use the inputted value of r_t\n",
    "        else:\n",
    "            # default: x_delta = 1/0.03, as in Fedeli 2014 paper \n",
    "            x_delta = self.xDelta_stel  # reassign r_c in order to give the specific r_c/r_Del ratio desired \n",
    "            r_t = r_vir / x_delta\n",
    "            \n",
    "        nu_alpha = 1 - (2 / self.alpha)\n",
    "        # Using E_1 = int^infty_1 e^{-xt} * t dt = (e^{-x}*(x+1))/(x^2), assuming x = alpha here\n",
    "        rho_t_bracket = gamma(1 - nu_alpha) - (x_delta**2)*(x_delta**self.alpha)*(np.exp(-nu_alpha)*(nu_alpha+1))/(nu_alpha**2)\n",
    "        rho_t = M_use*f*self.alpha / (4*np.pi*(r_t**3) * rho_t_bracket)\n",
    "\n",
    "        x = r_use[None, :] / r_t[:, None]\n",
    "       # prefix = rho_t\n",
    "        prof = rho_t[:, None] * np.exp(-x**self.alpha)/x # prefix[:, None] * np.exp(-x**self.alpha)/x \n",
    "\n",
    "        if np.ndim(r) == 0:\n",
    "            prof = np.squeeze(prof, axis=-1)\n",
    "        if np.ndim(M) == 0:\n",
    "            prof = np.squeeze(prof, axis=0)\n",
    "        return prof\n",
    "\n",
    "    def _fourier_analytic(self, cosmo, k, M, scale_a=1, no_fraction=False): \n",
    "        \"\"\" X\n",
    "        \"\"\"\n",
    "       #  if self.alpha==1:\n",
    "        k_use = np.atleast_1d(k)\n",
    "        M_use = np.atleast_1d(M)\n",
    "\n",
    "         r_vir = self.mass_def.get_radius(cosmo, M_use, scale_a) / scale_a    # R_delta = the halo virial radius r_vir\n",
    "         if no_fraction is True:\n",
    "             f = 1\n",
    "         else:\n",
    "             f = self._f_stell(cosmo, M_use)\n",
    "\n",
    "         if self.xDelta_stel is None:\n",
    "             r_t = self.r_t\n",
    "             x_delta = r_vir / self.r_t # use the inputted value of r_t\n",
    "         else:\n",
    "        # default: x_delta = 1/0.03, as in Fedeli 2014 paper \n",
    "             x_delta = self.xDelta_stel  # reassign r_c in order to give the specific r_c/r_Del ratio desired \n",
    "             r_t = r_vir / x_delta\n",
    "         \n",
    "         nu_alpha = 1 - (2 / self.alpha)\n",
    "        # Using E_1 = int^infty_1 e^{-xt} * t dt = (e^{-x}*(x+1))/(x^2), assuming x = alpha here\n",
    "         rho_t_bracket = gamma(1 - nu_alpha) - (x_delta**2)*(x_delta**self.alpha)*(np.exp(-nu_alpha)*(nu_alpha+1))/(nu_alpha**2)\n",
    "         rho_t = M_use*f*self.alpha / (4*np.pi*(r_t**3) * rho_t_bracket)\n",
    "\n",
    "  #       x = r_use[None, :] / r_t[:, None]\n",
    "       # prefix = rho_t\n",
    "   #     prof = rho_t[:, None] * np.exp(-x**self.alpha)/x # prefix[:, None] * np.exp(-x**self.alpha)/x \n",
    "         q = k_use[None,:] * r_vir[:,None]\n",
    "        \n",
    "         prefix = 4*np.pi*rho_t \n",
    "     #    prefix =  4 * np.pi * (r_vir**3) * rho_t\n",
    "                # np.e == np.exp(1), np.e = e\n",
    "         prof_eqn = (r_t[:,None]**3)/(1+q**2)\n",
    "     #    prof_eqn =  (np.e - np.cos(q) - (np.sin(q)/q)) / (np.e*(1 + q**2))\n",
    "         prof = prefix[:,None] * prof_eqn[None,:]\n",
    "            \n",
    "    \n",
    "    \n",
    "        # else:\n",
    "       #      print('Alpha is not 1. Analytic not available. Using CCL\\'s FFT') # implement numerical interpolation ?\n",
    "            # update the fft params to increase precision/accuracy\n",
    "      #       self.update_precision_fftlog(padding_hi_fftlog=1E3,padding_lo_fftlog=1E-3,\n",
    "     #                      n_per_decade=1000,plaw_fourier=-2.)\n",
    "    #         prof = self.fourier(cosmo, trial_k, trial_M, scale_a)\n",
    "   #          print('Call .fourier instead')\n",
    "    \n",
    "                \n",
    "         if np.ndim(k) == 0:\n",
    "             prof = np.squeeze(prof, axis=-1)\n",
    "         if np.ndim(M) == 0:\n",
    "             prof = np.squeeze(prof, axis=0)\n",
    "            \n",
    "         return prof[0]\n",
    "    \n"
   ]
  },
  {
   "cell_type": "code",
   "execution_count": 173,
   "id": "8a5cd8ba-981c-45e3-a14c-ded2473de97f",
   "metadata": {
    "scrolled": true
   },
   "outputs": [],
   "source": [
    "try_stel_fourier = StellarProfile(trial_mass_def, trial_mass_function, alpha=1)._fourier(trial_cosmo, trial_k, trial_M, 1)"
   ]
  },
  {
   "cell_type": "code",
   "execution_count": 177,
   "id": "bc5cd1ae-9168-4a64-8505-f25b66f02a99",
   "metadata": {},
   "outputs": [
    {
     "data": {
      "image/png": "[encoded data removed]",
      "text/plain": [
       "<Figure size 640x480 with 1 Axes>"
      ]
     },
     "metadata": {},
     "output_type": "display_data"
    },
    {
     "data": {
      "image/png": "[encoded data removed]",
      "text/plain": [
       "<Figure size 640x480 with 1 Axes>"
      ]
     },
     "metadata": {},
     "output_type": "display_data"
    }
   ],
   "source": [
    "fed_stel_profile.update_precision_fftlog(padding_hi_fftlog=1E3,padding_lo_fftlog=1E-3,\n",
    "                          n_per_decade=1000,plaw_fourier=-2.)\n",
    "for i, mass in enumerate(trial_M):\n",
    "    plt.plot(trial_k, StellarProfile(trial_mass_def, trial_mass_function, alpha=1)._fourier(trial_cosmo, trial_k, mass, 1), label='eqn lorent');\n",
    "    plt.axhline(mass*fed_stel_profile._f_stell(trial_cosmo, mass), linestyle=':', color='k')\n",
    "    plt.plot(trial_k, fed_stel_profile.fourier(trial_cosmo, trial_k, mass, 1), '--', zorder=2, label='CCL')\n",
    "    plt.plot(trial_k, try_stel_fourier[i], linestyle='-.', label='Wolfram Alpha')\n",
    "plt.title('David')\n",
    "plt.legend(loc='best', bbox_to_anchor=(1,1))\n",
    "plt.xscale('log');\n",
    "plt.figure()\n",
    "for i, mass in enumerate(trial_M):\n",
    "   # plt.plot(trial_k, StellarProfile(trial_mass_def, trial_mass_function, alpha=1)._fourier(trial_cosmo, trial_k, mass, 1));\n",
    "    plt.plot(trial_k, fed_stel_profile.fourier(trial_cosmo, trial_k, mass, 1), '--', zorder=2)\n",
    "    plt.axhline(mass*fed_stel_profile._f_stell(trial_cosmo, mass), linestyle=':', color='k')\n",
    "plt.xscale('log');"
   ]
  },
  {
   "cell_type": "code",
   "execution_count": 181,
   "id": "3b5375ed-1aa0-4e71-b9cf-17e157db0609",
   "metadata": {},
   "outputs": [
    {
     "data": {
      "image/png": "[encoded data removed]",
      "text/plain": [
       "<Figure size 640x480 with 1 Axes>"
      ]
     },
     "metadata": {},
     "output_type": "display_data"
    },
    {
     "data": {
      "image/png": "[encoded data removed]",
      "text/plain": [
       "<Figure size 640x480 with 1 Axes>"
      ]
     },
     "metadata": {},
     "output_type": "display_data"
    }
   ],
   "source": [
    "fed_stel_profile.update_precision_fftlog(padding_hi_fftlog=1E3,padding_lo_fftlog=1E-3,\n",
    "                          n_per_decade=1000,plaw_fourier=-2.)\n",
    "for i, mass in enumerate(trial_M):\n",
    "    plt.plot(trial_k, StellarProfile(trial_mass_def, trial_mass_function, alpha=1)._fourier(trial_cosmo, trial_k, mass, 1), label='eqn lorent');\n",
    "    plt.axhline(mass*fed_stel_profile._f_stell(trial_cosmo, mass), linestyle=':', color='k')\n",
    "    plt.plot(trial_k, fed_stel_profile.fourier(trial_cosmo, trial_k, mass, 1), '--', zorder=2, label='CCL')\n",
    "  #  plt.plot(trial_k, try_stel_fourier[i], linestyle='-.', label='Wolfram Alpha')\n",
    "plt.legend(loc='best', bbox_to_anchor=(1,1))\n",
    "plt.xscale('log');\n",
    "plt.figure()\n",
    "for i, mass in enumerate(trial_M):\n",
    "   # plt.plot(trial_k, StellarProfile(trial_mass_def, trial_mass_function, alpha=1)._fourier(trial_cosmo, trial_k, mass, 1));\n",
    "    plt.plot(trial_k, fed_stel_profile.fourier(trial_cosmo, trial_k, mass, 1), '--', zorder=2)\n",
    "    plt.axhline(mass*fed_stel_profile._f_stell(trial_cosmo, mass), linestyle=':', color='k')\n",
    "plt.xscale('log');"
   ]
  },
  {
   "cell_type": "markdown",
   "id": "9930e68d-819f-4ec6-a1dd-0777c8ef2546",
   "metadata": {},
   "source": [
    "# Delete Below"
   ]
  },
  {
   "cell_type": "code",
   "execution_count": 33,
   "id": "d0c151e6-0c9f-48e2-a073-96d1703835b7",
   "metadata": {},
   "outputs": [
    {
     "data": {
      "text/plain": [
       "['g', 0.0, 0.0]"
      ]
     },
     "execution_count": 33,
     "metadata": {},
     "output_type": "execute_result"
    }
   ],
   "source": [
    "listt = ['g','b','b']\n",
    "array = np.zeros(np.shape(listt)).tolist()\n",
    "np.shape(listt) == np.shape(array)\n",
    "#array\n",
    "array[0] = 'g'\n",
    "array"
   ]
  },
  {
   "cell_type": "code",
   "execution_count": 15,
   "id": "75ae8ad1-fa76-4204-bd0a-5c2aff959056",
   "metadata": {},
   "outputs": [
    {
     "ename": "TypeError",
     "evalue": "'list' object is not callable",
     "output_type": "error",
     "traceback": [
      "\u001b[0;31m---------------------------------------------------------------------------\u001b[0m",
      "\u001b[0;31mTypeError\u001b[0m                                 Traceback (most recent call last)",
      "Cell \u001b[0;32mIn[15], line 2\u001b[0m\n\u001b[1;32m      1\u001b[0m x \u001b[38;5;241m=\u001b[39m (\u001b[38;5;124m'\u001b[39m\u001b[38;5;124mg\u001b[39m\u001b[38;5;124m'\u001b[39m,\u001b[38;5;124m'\u001b[39m\u001b[38;5;124mb\u001b[39m\u001b[38;5;124m'\u001b[39m,\u001b[38;5;124m'\u001b[39m\u001b[38;5;124mv\u001b[39m\u001b[38;5;124m'\u001b[39m)\n\u001b[0;32m----> 2\u001b[0m \u001b[38;5;28mlist\u001b[39m(x)\n",
      "\u001b[0;31mTypeError\u001b[0m: 'list' object is not callable"
     ]
    }
   ],
   "source": [
    "x = ('g','b','v')\n",
    "list(x)"
   ]
  },
  {
   "cell_type": "code",
   "execution_count": 51,
   "id": "9ebb36b7-8d32-44c9-9897-2393e84c4f6c",
   "metadata": {},
   "outputs": [
    {
     "name": "stdout",
     "output_type": "stream",
     "text": [
      "Help on function getmembers in module inspect:\n",
      "\n",
      "getmembers(object, predicate=None)\n",
      "    Return all members of an object as (name, value) pairs sorted by name.\n",
      "    Optionally, only return members that satisfy a given predicate.\n",
      "\n"
     ]
    }
   ],
   "source": [
    "help(inspect.getmembers)"
   ]
  },
  {
   "cell_type": "code",
   "execution_count": null,
   "id": "830b7b39-6c8a-43ac-acc5-5d57fcdb5c36",
   "metadata": {},
   "outputs": [],
   "source": []
  },
  {
   "cell_type": "code",
   "execution_count": null,
   "id": "4c339cdc-79e7-4213-a5c3-bd94dec14a07",
   "metadata": {},
   "outputs": [],
   "source": [
    "# python -> inspect\n",
    "# self.divide_p"
   ]
  },
  {
   "cell_type": "code",
   "execution_count": 37,
   "id": "dc23b50f-cf24-48a3-9c3d-e6592a317838",
   "metadata": {},
   "outputs": [],
   "source": [
    "x = [np.array([2,4,2]), np.array([3,6,1])]"
   ]
  },
  {
   "cell_type": "code",
   "execution_count": null,
   "id": "fba71315-5586-49d9-91dc-c96cec563a0a",
   "metadata": {},
   "outputs": [],
   "source": []
  }
 ],
 "metadata": {
  "kernelspec": {
   "display_name": "Python 3 (ipykernel)",
   "language": "python",
   "name": "python3"
  },
  "language_info": {
   "codemirror_mode": {
    "name": "ipython",
    "version": 3
   },
   "file_extension": ".py",
   "mimetype": "text/x-python",
   "name": "python",
   "nbconvert_exporter": "python",
   "pygments_lexer": "ipython3",
   "version": "3.9.18"
  }
 },
 "nbformat": 4,
 "nbformat_minor": 5
}
