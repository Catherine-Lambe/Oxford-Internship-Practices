{
 "cells": [
  {
   "cell_type": "code",
   "execution_count": 5,
   "id": "dcc46015-021e-4c03-8fd2-e9fd48c9c34f",
   "metadata": {},
   "outputs": [],
   "source": [
    "import numpy as np\n",
    "#import pyccl as ccl\n",
    "import matplotlib.pyplot as plt\n",
    "import scipy.integrate as integrate\n",
    "import scipy.interpolate as interpol\n",
    "#from pyccl._core import UnlockInstance\n",
    "from scipy import signal\n",
    "from scipy.special import erf, gamma, expn, hyp2f1, exp1"
   ]
  },
  {
   "cell_type": "code",
   "execution_count": null,
   "id": "4c339cdc-79e7-4213-a5c3-bd94dec14a07",
   "metadata": {},
   "outputs": [],
   "source": [
    "# python -> inspect\n",
    "# self.divide_p"
   ]
  },
  {
   "cell_type": "code",
   "execution_count": 37,
   "id": "dc23b50f-cf24-48a3-9c3d-e6592a317838",
   "metadata": {},
   "outputs": [],
   "source": [
    "x = [np.array([2,4,2]), np.array([3,6,1])]"
   ]
  },
  {
   "cell_type": "code",
   "execution_count": 39,
   "id": "379c8384-7971-498c-9fdb-63d616dd1781",
   "metadata": {},
   "outputs": [
    {
     "data": {
      "text/plain": [
       "18"
      ]
     },
     "execution_count": 39,
     "metadata": {},
     "output_type": "execute_result"
    }
   ],
   "source": [
    "np.sum(np.array(x))"
   ]
  },
  {
   "cell_type": "code",
   "execution_count": 43,
   "id": "aa43c3be-091d-4a85-ba2a-cda8666c9dec",
   "metadata": {},
   "outputs": [
    {
     "data": {
      "text/plain": [
       "True"
      ]
     },
     "execution_count": 43,
     "metadata": {},
     "output_type": "execute_result"
    }
   ],
   "source": [
    "np.all(np.atleast_1d(x) == np.array(x))"
   ]
  },
  {
   "cell_type": "code",
   "execution_count": null,
   "id": "fba71315-5586-49d9-91dc-c96cec563a0a",
   "metadata": {},
   "outputs": [],
   "source": []
  }
 ],
 "metadata": {
  "kernelspec": {
   "display_name": "Python 3 (ipykernel)",
   "language": "python",
   "name": "python3"
  },
  "language_info": {
   "codemirror_mode": {
    "name": "ipython",
    "version": 3
   },
   "file_extension": ".py",
   "mimetype": "text/x-python",
   "name": "python",
   "nbconvert_exporter": "python",
   "pygments_lexer": "ipython3",
   "version": "3.9.18"
  }
 },
 "nbformat": 4,
 "nbformat_minor": 5
}
