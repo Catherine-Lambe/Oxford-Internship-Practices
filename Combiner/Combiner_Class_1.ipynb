{
 "cells": [
  {
   "cell_type": "code",
   "execution_count": 45,
   "id": "dcc46015-021e-4c03-8fd2-e9fd48c9c34f",
   "metadata": {},
   "outputs": [],
   "source": [
    "import numpy as np\n",
    "#import pyccl as ccl\n",
    "import matplotlib.pyplot as plt\n",
    "import scipy.integrate as integrate\n",
    "import scipy.interpolate as interpol\n",
    "#from pyccl._core import UnlockInstance\n",
    "from scipy import signal\n",
    "from scipy.special import erf, gamma, expn, hyp2f1, exp1\n",
    "\n",
    "import inspect"
   ]
  },
  {
   "cell_type": "code",
   "execution_count": null,
   "id": "75ae8ad1-fa76-4204-bd0a-5c2aff959056",
   "metadata": {},
   "outputs": [],
   "source": []
  },
  {
   "cell_type": "code",
   "execution_count": 51,
   "id": "9ebb36b7-8d32-44c9-9897-2393e84c4f6c",
   "metadata": {},
   "outputs": [
    {
     "name": "stdout",
     "output_type": "stream",
     "text": [
      "Help on function getmembers in module inspect:\n",
      "\n",
      "getmembers(object, predicate=None)\n",
      "    Return all members of an object as (name, value) pairs sorted by name.\n",
      "    Optionally, only return members that satisfy a given predicate.\n",
      "\n"
     ]
    }
   ],
   "source": [
    "help(inspect.getmembers)"
   ]
  },
  {
   "cell_type": "code",
   "execution_count": null,
   "id": "830b7b39-6c8a-43ac-acc5-5d57fcdb5c36",
   "metadata": {},
   "outputs": [],
   "source": []
  },
  {
   "cell_type": "code",
   "execution_count": null,
   "id": "4c339cdc-79e7-4213-a5c3-bd94dec14a07",
   "metadata": {},
   "outputs": [],
   "source": [
    "# python -> inspect\n",
    "# self.divide_p"
   ]
  },
  {
   "cell_type": "code",
   "execution_count": 37,
   "id": "dc23b50f-cf24-48a3-9c3d-e6592a317838",
   "metadata": {},
   "outputs": [],
   "source": [
    "x = [np.array([2,4,2]), np.array([3,6,1])]"
   ]
  },
  {
   "cell_type": "code",
   "execution_count": null,
   "id": "fba71315-5586-49d9-91dc-c96cec563a0a",
   "metadata": {},
   "outputs": [],
   "source": []
  }
 ],
 "metadata": {
  "kernelspec": {
   "display_name": "Python 3 (ipykernel)",
   "language": "python",
   "name": "python3"
  },
  "language_info": {
   "codemirror_mode": {
    "name": "ipython",
    "version": 3
   },
   "file_extension": ".py",
   "mimetype": "text/x-python",
   "name": "python",
   "nbconvert_exporter": "python",
   "pygments_lexer": "ipython3",
   "version": "3.9.18"
  }
 },
 "nbformat": 4,
 "nbformat_minor": 5
}
