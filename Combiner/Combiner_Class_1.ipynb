{
 "cells": [
  {
   "cell_type": "code",
   "execution_count": 1,
   "id": "dcc46015-021e-4c03-8fd2-e9fd48c9c34f",
   "metadata": {},
   "outputs": [],
   "source": [
    "import numpy as np\n",
    "import pyccl as ccl\n",
    "import matplotlib.pyplot as plt\n",
    "import scipy.integrate as integrate\n",
    "#import scipy.interpolate as interpol\n",
    "#from pyccl._core import UnlockInstance\n",
    "#from scipy import signal\n",
    "#from scipy.special import erf, gamma, expn, hyp2f1, exp1\n",
    "\n",
    "#import inspect"
   ]
  },
  {
   "cell_type": "markdown",
   "id": "418ee374-4b00-4259-a15e-3c2cf91ec6cc",
   "metadata": {},
   "source": [
    "# Import classes"
   ]
  },
  {
   "cell_type": "code",
   "execution_count": 3,
   "id": "542ad5c7-2fe6-4976-9699-dba5ef8ec7f3",
   "metadata": {},
   "outputs": [
    {
     "data": {
      "text/plain": [
       "('StellarProfileSAM', 'GasProfileSAM', 'CDMProfile')"
      ]
     },
     "execution_count": 3,
     "metadata": {},
     "output_type": "execute_result"
    }
   ],
   "source": [
    "import Fedeli_1_separateComponents as Fedeli\n",
    "Fedeli.__all__"
   ]
  },
  {
   "cell_type": "code",
   "execution_count": 4,
   "id": "a5fd4221-3e7d-4b94-ba47-f11f5ec75b2f",
   "metadata": {},
   "outputs": [
    {
     "data": {
      "text/plain": [
       "('StellarProfileBCM',\n",
       " 'EjectedGasProfileBCM',\n",
       " 'BoundGasProfileBCM',\n",
       " 'CDMProfile')"
      ]
     },
     "execution_count": 4,
     "metadata": {},
     "output_type": "execute_result"
    }
   ],
   "source": [
    "import BCMprofiles_separateComponents as BCMprofiles\n",
    "BCMprofiles.__all__"
   ]
  },
  {
   "cell_type": "code",
   "execution_count": 5,
   "id": "7404e7c6-a857-4b16-89fe-5623169be0d8",
   "metadata": {},
   "outputs": [
    {
     "data": {
      "text/plain": [
       "'CombinerClass'"
      ]
     },
     "execution_count": 5,
     "metadata": {},
     "output_type": "execute_result"
    }
   ],
   "source": [
    "import Combiner_Class as Combiner\n",
    "Combiner.__all__"
   ]
  },
  {
   "cell_type": "code",
   "execution_count": 6,
   "id": "81e8b58c-e06e-462d-bf29-d8fc1c6424ba",
   "metadata": {},
   "outputs": [],
   "source": [
    "### Set up eg- cosmo\n",
    "trial_mass_def = ccl.halos.MassDef200c #hmd_200c # use a mass definition with Delta = 200\n",
    "trial_concentration = ccl.halos.ConcentrationDuffy08(mass_def=trial_mass_def) # mass_def=hmd_200c) # cM\n",
    "trial_cosmo = ccl.Cosmology(Omega_c = 0.25, Omega_b=0.05, h=0.7, A_s=2.1e-9, n_s=0.96, Neff=0, Omega_g=0)\n",
    "\n",
    "trial_gamma = 1.2 \n",
    "# The Tinker 2008 mass function\n",
    "# hmf_200m = ccl.halos.MassFuncTinker08(mass_def=hmd_200m, mass_def_strict=False)\n",
    "trial_mass_function = ccl.halos.MassFuncTinker08(mass_def=trial_mass_def, mass_def_strict=False)\n",
    "\n",
    "trial_r = np.geomspace(1E-2,1E8,100000) # geomspace is like linspace, but evenly spaces on a logscale\n",
    "trial_k = np.geomspace(1E-2,9E1,100000) # np.geomspace(1E-3,1E2,100000)\n",
    "trial_M = np.array([3E12,6E13, 1E14])#/cosmo['h'] # trying with factor of h^{-1}"
   ]
  },
  {
   "cell_type": "code",
   "execution_count": 7,
   "id": "61f1c7b4-8104-4e05-a1e9-db73bbffaae9",
   "metadata": {},
   "outputs": [],
   "source": [
    "bcm_cdm_profile = BCMprofiles.CDMProfile(trial_mass_def, trial_concentration)\n",
    "bcm_stel_profile = BCMprofiles.StellarProfileBCM(trial_mass_def)\n",
    "bcm_ej_profile = BCMprofiles.EjectedGasProfileBCM(trial_mass_def)\n",
    "bcm_bd_profile = BCMprofiles.BoundGasProfileBCM(trial_mass_def, trial_concentration, Gamma=trial_gamma)"
   ]
  },
  {
   "cell_type": "code",
   "execution_count": 8,
   "id": "e021c5f1-f427-4aed-ad9f-336d3a4f4e6c",
   "metadata": {},
   "outputs": [],
   "source": [
    "fed_cdm_profile = Fedeli.CDMProfile(trial_mass_def, trial_concentration)\n",
    "fed_stel_profile = Fedeli.StellarProfileSAM(trial_mass_def, trial_mass_function)\n",
    "fed_gas_profile = Fedeli.GasProfileSAM(trial_mass_def)"
   ]
  },
  {
   "cell_type": "code",
   "execution_count": 9,
   "id": "dc40eb40-1da3-4a4c-9297-f4bfea878f09",
   "metadata": {},
   "outputs": [
    {
     "name": "stdout",
     "output_type": "stream",
     "text": [
      "Help on module Combiner_Class:\n",
      "\n",
      "NAME\n",
      "    Combiner_Class\n",
      "\n",
      "CLASSES\n",
      "    pyccl.halos.profiles.profile_base.HaloProfile(pyccl._core.schema.CCLAutoRepr)\n",
      "        CombinerClass\n",
      "\n",
      "    class CombinerClass(pyccl.halos.profiles.profile_base.HaloProfile)\n",
      "     |  CombinerClass(self, prof_list)\n",
      "     |\n",
      "     |  Method resolution order:\n",
      "     |      CombinerClass\n",
      "     |      pyccl.halos.profiles.profile_base.HaloProfile\n",
      "     |      pyccl._core.schema.CCLAutoRepr\n",
      "     |      pyccl._core.schema.CCLObject\n",
      "     |      abc.ABC\n",
      "     |      builtins.object\n",
      "     |\n",
      "     |  Methods defined here:\n",
      "     |\n",
      "     |  __init__(self, prof_list)\n",
      "     |      Initialize self.  See help(type(self)) for accurate signature.\n",
      "     |\n",
      "     |  update_parameters(self, **kwargs)\n",
      "     |\n",
      "     |  ----------------------------------------------------------------------\n",
      "     |  Data and other attributes defined here:\n",
      "     |\n",
      "     |  __abstractmethods__ = frozenset()\n",
      "     |\n",
      "     |  __annotations__ = {}\n",
      "     |\n",
      "     |  __signature__ = <Signature (self, prof_list)>\n",
      "     |\n",
      "     |  ----------------------------------------------------------------------\n",
      "     |  Methods inherited from pyccl.halos.profiles.profile_base.HaloProfile:\n",
      "     |\n",
      "     |  convergence(self, cosmo, r, M, *, a_lens, a_source)\n",
      "     |      convergence(cosmo, r, M, *, a_lens, a_source)\n",
      "     |      Returns the convergence as a function of cosmology,\n",
      "     |      radius, halo mass and the scale factors of the source\n",
      "     |      and the lens.\n",
      "     |\n",
      "     |      .. math::\n",
      "     |         \\kappa(R) = \\frac{\\Sigma(R)}{\\Sigma_{\\rm crit}},\n",
      "     |\n",
      "     |      where :math:`\\Sigma(R)` is the 2D projected surface mass density\n",
      "     |      (see :meth:`projected`), and :math:`\\Sigma_{\\rm crit}` is\n",
      "     |      the critical surface density (see\n",
      "     |      :meth:`~pyccl.background.sigma_critical`).\n",
      "     |\n",
      "     |      Args:\n",
      "     |          cosmo (:class:`~pyccl.cosmology.Cosmology`): A Cosmology object.\n",
      "     |          r (:obj:`float` or `array`): comoving radius.\n",
      "     |          M (:obj:`float` or `array`): halo mass.\n",
      "     |          a_lens (:obj:`float`): scale factor of lens.\n",
      "     |          a_source (:obj:`float` or `array`): scale factor of source.\n",
      "     |              If an array, it must have the same shape as ``r``.\n",
      "     |\n",
      "     |      Returns:\n",
      "     |          (:obj:`float` or `array`): convergence :math:`\\kappa`. The\n",
      "     |          shape of the output will be ``(N_M, N_r)`` where ``N_r`` and\n",
      "     |          ``N_m`` are the sizes of ``r`` and ``M`` respectively. If\n",
      "     |          ``r`` or ``M`` are scalars, the corresponding dimension will\n",
      "     |          be squeezed out on output.\n",
      "     |\n",
      "     |  cumul2d(self, cosmo, r_t, M, a)\n",
      "     |      cumul2d(cosmo, r_t, M, a)\n",
      "     |      Returns the 2D cumulative surface density as a\n",
      "     |      function of cosmology, radius, halo mass and scale\n",
      "     |      factor.\n",
      "     |\n",
      "     |      .. math::\n",
      "     |         \\Sigma(<R)= \\frac{2}{R^2} \\int dR'\\, R'\\,\n",
      "     |         \\Sigma(R')\n",
      "     |\n",
      "     |      Args:\n",
      "     |          cosmo (:class:`~pyccl.cosmology.Cosmology`): a Cosmology object.\n",
      "     |          r_t (:obj:`float` or `array`): transverse comoving radius in Mpc.\n",
      "     |          M (:obj:`float` or `array`): halo mass in units of M_sun.\n",
      "     |          a (:obj:`float`): scale factor.\n",
      "     |\n",
      "     |      Returns:\n",
      "     |          (:obj:`float` or `array`): cumulative surface density. The shape of the\n",
      "     |          output will be ``(N_M, N_r)`` where ``N_r`` and ``N_m`` are\n",
      "     |          the sizes of ``r`` and ``M`` respectively. If ``r`` or ``M``\n",
      "     |          are scalars, the corresponding dimension will be\n",
      "     |          squeezed out on output.\n",
      "     |\n",
      "     |  fourier(self, cosmo, k, M, a)\n",
      "     |      fourier(cosmo, k, M, a)\n",
      "     |      Returns the Fourier-space value of the profile as a\n",
      "     |      function of cosmology, wavenumber, halo mass and\n",
      "     |      scale factor.\n",
      "     |\n",
      "     |      .. math::\n",
      "     |         \\rho(k)=\\frac{1}{2\\pi^2} \\int dr\\, r^2\\,\n",
      "     |         \\rho(r)\\, j_0(k r)\n",
      "     |\n",
      "     |      Args:\n",
      "     |          cosmo (:class:`~pyccl.cosmology.Cosmology`): a Cosmology object.\n",
      "     |          k (:obj:`float` or `array`): comoving wavenumber (in :math:`Mpc^{-1}`).\n",
      "     |          M (:obj:`float` or `array`): halo mass.\n",
      "     |          a (:obj:`float`): scale factor.\n",
      "     |\n",
      "     |      Returns:\n",
      "     |          (:obj:`float` or `array`): Fourier-space profile. The shape of the\n",
      "     |          output will be ``(N_M, N_k)`` where ``N_k`` and ``N_m`` are\n",
      "     |          the sizes of ``k`` and ``M`` respectively. If ``k`` or ``M``\n",
      "     |          are scalars, the corresponding dimension will be\n",
      "     |          squeezed out on output.\n",
      "     |\n",
      "     |  get_normalization(self, cosmo=None, a=None, *, hmc=None)\n",
      "     |      Profiles may be normalized by an overall function of redshift\n",
      "     |      (or scale factor). This function may be cosmology-dependent and\n",
      "     |      often comes from integrating certain halo properties over mass.\n",
      "     |      This method returns this normalizing factor. For example,\n",
      "     |      to get the normalized profile in real space, one would call\n",
      "     |      the :meth:`real` method, and then **divide** the result by the value\n",
      "     |      returned by this method.\n",
      "     |\n",
      "     |      Args:\n",
      "     |          cosmo (:class:`~pyccl.cosmology.Cosmology`): a Cosmology object.\n",
      "     |          a (:obj:`float`): scale factor.\n",
      "     |          hmc (:class:`~pyccl.halos.halo_model.HMCalculator`): a halo\n",
      "     |              model calculator object.\n",
      "     |\n",
      "     |      Returns:\n",
      "     |          float: normalization factor of this profile.\n",
      "     |\n",
      "     |  magnification(self, cosmo, r, M, *, a_lens, a_source)\n",
      "     |      magnification(cosmo, r, M, a_lens, a_source)\n",
      "     |      Returns the magnification for input parameters.\n",
      "     |\n",
      "     |      .. math::\n",
      "     |         \\mu(R) = \\frac{1}{\\left[(1 - \\kappa(R))^2 -\n",
      "     |         \\vert \\gamma(R) \\vert^2 \\right]]},\n",
      "     |\n",
      "     |      where :math:`\\gamma(R)` is the shear and :math:`\\kappa(R)` is the\n",
      "     |      convergence (see :meth:`shear` and :meth:`convergence`).\n",
      "     |\n",
      "     |      Args:\n",
      "     |          cosmo (:class:`~pyccl.cosmology.Cosmology`): A Cosmology object.\n",
      "     |          r (:obj:`float` or `array`): comoving radius in Mpc.\n",
      "     |          M (:obj:`float` or `array`): halo mass in units of M_sun.\n",
      "     |          a_lens (:obj:`float`): scale factor of lens.\n",
      "     |          a_source (:obj:`float` or `array`): source's scale factor.\n",
      "     |              If array, it must have the same shape as `r`.\n",
      "     |\n",
      "     |      Returns:\n",
      "     |          (:obj:`float` or `array`): magnification :math:`\\mu`. The shape\n",
      "     |          of the output will be ``(N_M, N_r)`` where ``N_r`` and ``N_m``\n",
      "     |          are the sizes of ``r`` and ``M`` respectively. If ``r`` or ``M``\n",
      "     |          are scalars, the corresponding dimension will be\n",
      "     |          squeezed out on output.\n",
      "     |\n",
      "     |  projected(self, cosmo, r_t, M, a)\n",
      "     |      projected(cosmo, r_t, M, a)\n",
      "     |      Returns the 2D projected profile as a function of\n",
      "     |      cosmology, radius, halo mass and scale factor.\n",
      "     |\n",
      "     |      .. math::\n",
      "     |         \\Sigma(R)= \\int dr_\\parallel\\,\n",
      "     |         \\rho(\\sqrt{r_\\parallel^2 + R^2})\n",
      "     |\n",
      "     |      Args:\n",
      "     |          cosmo (:class:`~pyccl.cosmology.Cosmology`): a Cosmology object.\n",
      "     |          r_t (:obj:`float` or `array`): transverse comoving radius in Mpc.\n",
      "     |          M (:obj:`float` or `array`): halo mass in units of M_sun.\n",
      "     |          a (:obj:`float`): scale factor.\n",
      "     |\n",
      "     |      Returns:\n",
      "     |          (:obj:`float` or `array`): projected profile. The shape of the\n",
      "     |          output will be `(N_M, N_r)` where `N_r` and `N_m` are\n",
      "     |          the sizes of `r` and `M` respectively. If `r` or `M`\n",
      "     |          are scalars, the corresponding dimension will be\n",
      "     |          squeezed out on output.\n",
      "     |\n",
      "     |  real(self, cosmo, r, M, a)\n",
      "     |      real(cosmo, r, M, a)\n",
      "     |      Returns the 3D real-space value of the profile as a\n",
      "     |      function of cosmology, radius, halo mass and scale factor.\n",
      "     |\n",
      "     |      Args:\n",
      "     |          cosmo (:class:`~pyccl.cosmology.Cosmology`): a Cosmology object.\n",
      "     |          r (:obj:`float` or `array`): comoving radius in Mpc.\n",
      "     |          M (:obj:`float` or `array`): halo mass in units of M_sun.\n",
      "     |          a (:obj:`float`): scale factor.\n",
      "     |\n",
      "     |      Returns:\n",
      "     |          (:obj:`float` or `array`): halo profile. The shape of the\n",
      "     |          output will be `(N_M, N_r)` where `N_r` and `N_m` are\n",
      "     |          the sizes of `r` and `M` respectively. If `r` or `M`\n",
      "     |          are scalars, the corresponding dimension will be\n",
      "     |          squeezed out on output.\n",
      "     |\n",
      "     |  reduced_shear(self, cosmo, r, M, *, a_lens, a_source)\n",
      "     |      reduced_shear(cosmo, r, M, *, a_lens, a_source)\n",
      "     |      Returns the reduced shear as a function of cosmology,\n",
      "     |      radius, halo mass and the scale factors of the\n",
      "     |      source and the lens.\n",
      "     |\n",
      "     |      .. math::\n",
      "     |         g_t (R) = \\frac{\\gamma(R)}{(1 - \\kappa(R))},\n",
      "     |\n",
      "     |      where :math:`\\gamma(R)` is the shear and :math:`\\kappa(R)` is the\n",
      "     |      convergence.\n",
      "     |\n",
      "     |      Args:\n",
      "     |          cosmo (:class:`~pyccl.cosmology.Cosmology`): A Cosmology object.\n",
      "     |          r (:obj:`float` or `array`): comoving radius in Mpc.\n",
      "     |          M (:obj:`float` or `array`): halo mass in units of M_sun.\n",
      "     |          a_lens (:obj:`float`): scale factor of lens.\n",
      "     |          a_source (:obj:`float` or `array`): source's scale factor.\n",
      "     |              If array, it must have the same shape as `r`.\n",
      "     |\n",
      "     |      Returns:\n",
      "     |          (:obj:`float` or `array`): reduced shear :math:`g_t`. The shape\n",
      "     |          of the output will be ``(N_M, N_r)`` where ``N_r`` and ``N_m``\n",
      "     |          are the sizes of ``r`` and ``M`` respectively. If ``r`` or\n",
      "     |          ``M`` are scalars, the corresponding dimension will be\n",
      "     |          squeezed out on output.\n",
      "     |\n",
      "     |  shear(self, cosmo, r, M, *, a_lens, a_source)\n",
      "     |      shear(cosmo, r, M, *, a_lens, a_source)\n",
      "     |      Returns the shear (tangential) as a function of cosmology,\n",
      "     |      radius, halo mass and the scale factors of the\n",
      "     |      source and the lens.\n",
      "     |\n",
      "     |      .. math::\n",
      "     |         \\gamma(R) = \\frac{\\Delta\\Sigma(R)}{\\Sigma_{\\mathrm{crit}}} =\n",
      "     |         \\frac{\\overline{\\Sigma}(< R) -\n",
      "     |         \\Sigma(R)}{\\Sigma_{\\mathrm{crit}}},\n",
      "     |\n",
      "     |      where :math:`\\overline{\\Sigma}(< R)` is cumulative surface density\n",
      "     |      (see :meth:`cumul2d`), :math:`\\Sigma(R)` is the projected 2D density\n",
      "     |      (see :meth:`projected`), and :math:`\\Sigma_{\\rm crit}` is the\n",
      "     |      critical surface density (see\n",
      "     |      :meth:`~pyccl.background.sigma_critical`).\n",
      "     |\n",
      "     |      Args:\n",
      "     |          cosmo (:class:`~pyccl.cosmology.Cosmology`): A Cosmology object.\n",
      "     |          r (:obj:`float` or `array`): comoving radius in Mpc.\n",
      "     |          M (:obj:`float` or `array`): halo mass in units of M_sun.\n",
      "     |          a_lens (:obj:`float`): scale factor of lens.\n",
      "     |          a_source (:obj:`float` or `array`): source's scale factor.\n",
      "     |              If array, it must have the same shape as `r`.\n",
      "     |\n",
      "     |      Returns:\n",
      "     |          (:obj:`float` or `array`): shear :math:`\\gamma`. The shape of the\n",
      "     |          output will be ``(N_M, N_r)`` where ``N_r`` and ``N_m`` are\n",
      "     |          the sizes of ``r`` and ``M`` respectively. If ``r`` or ``M``\n",
      "     |          are scalars, the corresponding dimension will be\n",
      "     |          squeezed out on output.\n",
      "     |\n",
      "     |  update_precision_fftlog = update_parameters(self, **kwargs)\n",
      "     |      Update the precision of FFTLog for the Hankel transforms.\n",
      "     |\n",
      "     |      Arguments\n",
      "     |      ---------\n",
      "     |      padding_lo_fftlog: :obj:`float`\n",
      "     |          Factor by which the minimum scale is multiplied to avoid\n",
      "     |          aliasing. Default: 0.1.\n",
      "     |      padding_hi_fftlog: :obj:`float`\n",
      "     |          Factor by which the maximum scale is multiplied to avoid\n",
      "     |          aliasing. Default: 10.\n",
      "     |      n_per_decade : :obj:`float`\n",
      "     |          Samples per decade for the Hankel transforms. Default: 100.\n",
      "     |      extrapol : {'linx_liny', 'linx_logy'}\n",
      "     |          Extrapolation type when FFTLog has narrower output support.\n",
      "     |          Default ``'linx_liny'``.\n",
      "     |      padding_lo_extra: :obj:`float`\n",
      "     |          Additional minimum scale padding for double Hankel transforms,\n",
      "     |          used when computing 2D projected and cumulative profiles. In\n",
      "     |          these, the first transform goes from 3D real space to\n",
      "     |          Fourier, and the second transform goes from Fourier to 2D\n",
      "     |          real space.\n",
      "     |          Default: 0.1.\n",
      "     |      padding_hi_extra: :obj:`float`\n",
      "     |          As ``padding_lo_extra`` for the maximum scale.\n",
      "     |          Default: 10.\n",
      "     |      large_padding_2D : :obj:`bool`\n",
      "     |          Override ``padding_xx_extra`` in the intermediate transform,\n",
      "     |          and use ``padding_xx_fftlog``. The default is False.\n",
      "     |      plaw_fourier: :obj:`float`\n",
      "     |          FFTLog pre-whitens its arguments (makes them flatter) to avoid\n",
      "     |          aliasing. The ``plaw_fourier`` parameter describes the tilt of\n",
      "     |          the profile, :math:`P(r) \\propto r^{\\mathrm{tilt}}`, for\n",
      "     |          standard 3D transforms. Default: -1.5\n",
      "     |      plaw_fourier_projected: :obj:`float`\n",
      "     |          As ``plaw_fourier`` for 2D transforms (when computing 2D\n",
      "     |          projected or cumulative profiles. Default: -1.0.\n",
      "     |\n",
      "     |  ----------------------------------------------------------------------\n",
      "     |  Data descriptors inherited from pyccl.halos.profiles.profile_base.HaloProfile:\n",
      "     |\n",
      "     |  is_number_counts\n",
      "     |      If ``True``, this profile represents source-count overdensities,\n",
      "     |      normalised by the mean number density within their survey window\n",
      "     |      function. This must be propagated when estimated super-sample\n",
      "     |      effects in the covariance matrix.\n",
      "     |\n",
      "     |  ----------------------------------------------------------------------\n",
      "     |  Methods inherited from pyccl._core.schema.CCLAutoRepr:\n",
      "     |\n",
      "     |  __repr__(self)\n",
      "     |      Return repr(self).\n",
      "     |\n",
      "     |  ----------------------------------------------------------------------\n",
      "     |  Methods inherited from pyccl._core.schema.CCLObject:\n",
      "     |\n",
      "     |  __eq__(self, other)\n",
      "     |      Return self==value.\n",
      "     |\n",
      "     |  __hash__(self)\n",
      "     |      Return hash(self).\n",
      "     |\n",
      "     |  __setattr__(self, name, value)\n",
      "     |      Implement setattr(self, name, value).\n",
      "     |\n",
      "     |  ----------------------------------------------------------------------\n",
      "     |  Class methods inherited from pyccl._core.schema.CCLObject:\n",
      "     |\n",
      "     |  __init_subclass__(**kwargs) from abc.ABCMeta\n",
      "     |      This method is called when a class is subclassed.\n",
      "     |\n",
      "     |      The default implementation does nothing. It may be\n",
      "     |      overridden to extend subclasses.\n",
      "     |\n",
      "     |  ----------------------------------------------------------------------\n",
      "     |  Static methods inherited from pyccl._core.schema.CCLObject:\n",
      "     |\n",
      "     |  __new__(cls, *args, **kwargs)\n",
      "     |      Create and return a new object.  See help(type) for accurate signature.\n",
      "     |\n",
      "     |  ----------------------------------------------------------------------\n",
      "     |  Data descriptors inherited from pyccl._core.schema.CCLObject:\n",
      "     |\n",
      "     |  __dict__\n",
      "     |      dictionary for instance variables\n",
      "     |\n",
      "     |  __weakref__\n",
      "     |      list of weak references to the object\n",
      "\n",
      "DATA\n",
      "    __all__ = 'CombinerClass'\n",
      "\n",
      "FILE\n",
      "    /Users/lambe/Documents/GitHub/Oxford-Intern-2024/Oxford-Internship-Practices/Combiner/Combiner_Class.py\n",
      "\n",
      "\n"
     ]
    }
   ],
   "source": [
    "help(Combiner)"
   ]
  },
  {
   "cell_type": "code",
   "execution_count": 20,
   "id": "add9ca26-0bcf-4c42-b5ac-de835018b61e",
   "metadata": {},
   "outputs": [
    {
     "ename": "UnboundLocalError",
     "evalue": "cannot access local variable 'm_0g' where it is not associated with a value",
     "output_type": "error",
     "traceback": [
      "\u001b[0;31m---------------------------------------------------------------------------\u001b[0m",
      "\u001b[0;31mUnboundLocalError\u001b[0m                         Traceback (most recent call last)",
      "Cell \u001b[0;32mIn[20], line 1\u001b[0m\n\u001b[0;32m----> 1\u001b[0m Combiner\u001b[38;5;241m.\u001b[39mCombinerClass([fed_gas_profile, fed_cdm_profile, bcm_stel_profile])\u001b[38;5;241m.\u001b[39m_real(trial_cosmo, trial_r, trial_M, \u001b[38;5;241m1\u001b[39m)\n",
      "File \u001b[0;32m~/Documents/GitHub/Oxford-Intern-2024/Oxford-Internship-Practices/Combiner/Combiner_Class.py:29\u001b[0m, in \u001b[0;36mCombinerClass._real\u001b[0;34m(self, cosmo, r, M, a)\u001b[0m\n\u001b[1;32m     28\u001b[0m \u001b[38;5;28;01mdef\u001b[39;00m \u001b[38;5;21m_real\u001b[39m(\u001b[38;5;28mself\u001b[39m, cosmo, r, M, a): \u001b[38;5;66;03m# scale_a = 1\u001b[39;00m\n\u001b[0;32m---> 29\u001b[0m     real_list \u001b[38;5;241m=\u001b[39m [prof\u001b[38;5;241m.\u001b[39m_real(cosmo, r, M, a) \u001b[38;5;28;01mfor\u001b[39;00m prof \u001b[38;5;129;01min\u001b[39;00m \u001b[38;5;28mself\u001b[39m\u001b[38;5;241m.\u001b[39mprof_list]\n\u001b[1;32m     30\u001b[0m     \u001b[38;5;66;03m# apply np.array or np.atleast_1d for this\u001b[39;00m\n\u001b[1;32m     31\u001b[0m     profile \u001b[38;5;241m=\u001b[39m np\u001b[38;5;241m.\u001b[39msum(np\u001b[38;5;241m.\u001b[39matleast_1d(real_list))\n",
      "File \u001b[0;32m~/Documents/GitHub/Oxford-Intern-2024/Oxford-Internship-Practices/Combiner/Fedeli_1_separateComponents.py:279\u001b[0m, in \u001b[0;36mGasProfileSAM._real\u001b[0;34m(self, cosmo, r, M, scale_a, truncate, no_prefix, no_fraction)\u001b[0m\n\u001b[1;32m    277\u001b[0m     f \u001b[38;5;241m=\u001b[39m \u001b[38;5;241m1\u001b[39m\n\u001b[1;32m    278\u001b[0m \u001b[38;5;28;01melse\u001b[39;00m:\n\u001b[0;32m--> 279\u001b[0m     f \u001b[38;5;241m=\u001b[39m \u001b[38;5;28mself\u001b[39m\u001b[38;5;241m.\u001b[39m_f_gas(cosmo, M_use)\n\u001b[1;32m    281\u001b[0m \u001b[38;5;28;01mif\u001b[39;00m \u001b[38;5;28mself\u001b[39m\u001b[38;5;241m.\u001b[39mxDelta_gas \u001b[38;5;129;01mis\u001b[39;00m \u001b[38;5;28;01mNone\u001b[39;00m:\n\u001b[1;32m    282\u001b[0m     x_delta \u001b[38;5;241m=\u001b[39m r_vir \u001b[38;5;241m/\u001b[39m \u001b[38;5;28mself\u001b[39m\u001b[38;5;241m.\u001b[39mr_c \u001b[38;5;66;03m# use the inputted value of r_c\u001b[39;00m\n",
      "File \u001b[0;32m~/Documents/GitHub/Oxford-Intern-2024/Oxford-Internship-Practices/Combiner/Fedeli_1_separateComponents.py:210\u001b[0m, in \u001b[0;36mGasProfileSAM._f_gas\u001b[0;34m(self, cosmo, M)\u001b[0m\n\u001b[1;32m    208\u001b[0m M_use \u001b[38;5;241m=\u001b[39m np\u001b[38;5;241m.\u001b[39matleast_1d(M)\n\u001b[1;32m    209\u001b[0m f_array \u001b[38;5;241m=\u001b[39m np\u001b[38;5;241m.\u001b[39mzeros(np\u001b[38;5;241m.\u001b[39mshape(M_use))\n\u001b[0;32m--> 210\u001b[0m \u001b[38;5;28;01mif\u001b[39;00m m_0g \u001b[38;5;129;01mis\u001b[39;00m \u001b[38;5;28;01mNone\u001b[39;00m:\n\u001b[1;32m    211\u001b[0m     m_0g \u001b[38;5;241m=\u001b[39m \u001b[38;5;28mself\u001b[39m\u001b[38;5;241m.\u001b[39mm_0g_prefix\u001b[38;5;241m/\u001b[39mcosmo[\u001b[38;5;124m'\u001b[39m\u001b[38;5;124mh\u001b[39m\u001b[38;5;124m'\u001b[39m]\n\u001b[1;32m    212\u001b[0m \u001b[38;5;28;01melse\u001b[39;00m:\n",
      "\u001b[0;31mUnboundLocalError\u001b[0m: cannot access local variable 'm_0g' where it is not associated with a value"
     ]
    }
   ],
   "source": [
    "Combiner.CombinerClass([fed_gas_profile, fed_cdm_profile, bcm_stel_profile])._real(trial_cosmo, trial_r, trial_M, 1)"
   ]
  },
  {
   "cell_type": "code",
   "execution_count": null,
   "id": "7f7d3448-1605-436a-a176-fb0d6f871ece",
   "metadata": {},
   "outputs": [],
   "source": []
  },
  {
   "cell_type": "markdown",
   "id": "3011e13f-c17d-49ac-bead-5fb0a5506f45",
   "metadata": {},
   "source": [
    "# TO DO:\n",
    " - implement analytical Fourier for Fedeli stellar (alpha=1,Lorentzian) (& maybe truncated numerical Fourier like with gas)\n",
    " - then tidy up (if call ._fourier in combiner, all functions must have AN ._fourier attached) (eg - if fourier_analytic=False, ._fourier = .fourier & ALSO put in a print statement saying that?)\n",
    " - option for no_fraction/individual fractions"
   ]
  },
  {
   "cell_type": "code",
   "execution_count": null,
   "id": "8a5cd8ba-981c-45e3-a14c-ded2473de97f",
   "metadata": {},
   "outputs": [],
   "source": []
  },
  {
   "cell_type": "markdown",
   "id": "9930e68d-819f-4ec6-a1dd-0777c8ef2546",
   "metadata": {
    "jp-MarkdownHeadingCollapsed": true
   },
   "source": [
    "# Delete Below"
   ]
  },
  {
   "cell_type": "code",
   "execution_count": 33,
   "id": "d0c151e6-0c9f-48e2-a073-96d1703835b7",
   "metadata": {},
   "outputs": [
    {
     "data": {
      "text/plain": [
       "['g', 0.0, 0.0]"
      ]
     },
     "execution_count": 33,
     "metadata": {},
     "output_type": "execute_result"
    }
   ],
   "source": [
    "listt = ['g','b','b']\n",
    "array = np.zeros(np.shape(listt)).tolist()\n",
    "np.shape(listt) == np.shape(array)\n",
    "#array\n",
    "array[0] = 'g'\n",
    "array"
   ]
  },
  {
   "cell_type": "code",
   "execution_count": 15,
   "id": "75ae8ad1-fa76-4204-bd0a-5c2aff959056",
   "metadata": {},
   "outputs": [
    {
     "ename": "TypeError",
     "evalue": "'list' object is not callable",
     "output_type": "error",
     "traceback": [
      "\u001b[0;31m---------------------------------------------------------------------------\u001b[0m",
      "\u001b[0;31mTypeError\u001b[0m                                 Traceback (most recent call last)",
      "Cell \u001b[0;32mIn[15], line 2\u001b[0m\n\u001b[1;32m      1\u001b[0m x \u001b[38;5;241m=\u001b[39m (\u001b[38;5;124m'\u001b[39m\u001b[38;5;124mg\u001b[39m\u001b[38;5;124m'\u001b[39m,\u001b[38;5;124m'\u001b[39m\u001b[38;5;124mb\u001b[39m\u001b[38;5;124m'\u001b[39m,\u001b[38;5;124m'\u001b[39m\u001b[38;5;124mv\u001b[39m\u001b[38;5;124m'\u001b[39m)\n\u001b[0;32m----> 2\u001b[0m \u001b[38;5;28mlist\u001b[39m(x)\n",
      "\u001b[0;31mTypeError\u001b[0m: 'list' object is not callable"
     ]
    }
   ],
   "source": [
    "x = ('g','b','v')\n",
    "list(x)"
   ]
  },
  {
   "cell_type": "code",
   "execution_count": 51,
   "id": "9ebb36b7-8d32-44c9-9897-2393e84c4f6c",
   "metadata": {},
   "outputs": [
    {
     "name": "stdout",
     "output_type": "stream",
     "text": [
      "Help on function getmembers in module inspect:\n",
      "\n",
      "getmembers(object, predicate=None)\n",
      "    Return all members of an object as (name, value) pairs sorted by name.\n",
      "    Optionally, only return members that satisfy a given predicate.\n",
      "\n"
     ]
    }
   ],
   "source": [
    "help(inspect.getmembers)"
   ]
  },
  {
   "cell_type": "code",
   "execution_count": null,
   "id": "830b7b39-6c8a-43ac-acc5-5d57fcdb5c36",
   "metadata": {},
   "outputs": [],
   "source": []
  },
  {
   "cell_type": "code",
   "execution_count": null,
   "id": "4c339cdc-79e7-4213-a5c3-bd94dec14a07",
   "metadata": {},
   "outputs": [],
   "source": [
    "# python -> inspect\n",
    "# self.divide_p"
   ]
  },
  {
   "cell_type": "code",
   "execution_count": 37,
   "id": "dc23b50f-cf24-48a3-9c3d-e6592a317838",
   "metadata": {},
   "outputs": [],
   "source": [
    "x = [np.array([2,4,2]), np.array([3,6,1])]"
   ]
  },
  {
   "cell_type": "code",
   "execution_count": null,
   "id": "fba71315-5586-49d9-91dc-c96cec563a0a",
   "metadata": {},
   "outputs": [],
   "source": []
  }
 ],
 "metadata": {
  "kernelspec": {
   "display_name": "Python 3 (ipykernel)",
   "language": "python",
   "name": "python3"
  },
  "language_info": {
   "codemirror_mode": {
    "name": "ipython",
    "version": 3
   },
   "file_extension": ".py",
   "mimetype": "text/x-python",
   "name": "python",
   "nbconvert_exporter": "python",
   "pygments_lexer": "ipython3",
   "version": "3.12.2"
  }
 },
 "nbformat": 4,
 "nbformat_minor": 5
}
