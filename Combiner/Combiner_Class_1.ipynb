{
 "cells": [
  {
   "cell_type": "code",
   "execution_count": 1,
   "id": "dcc46015-021e-4c03-8fd2-e9fd48c9c34f",
   "metadata": {},
   "outputs": [],
   "source": [
    "import numpy as np\n",
    "import pyccl as ccl\n",
    "import matplotlib.pyplot as plt\n",
    "import scipy.integrate as integrate\n",
    "#import scipy.interpolate as interpol\n",
    "#from pyccl._core import UnlockInstance\n",
    "#from scipy import signal\n",
    "#from scipy.special import erf, gamma, expn, hyp2f1, exp1\n",
    "\n",
    "#import inspect"
   ]
  },
  {
   "cell_type": "markdown",
   "id": "418ee374-4b00-4259-a15e-3c2cf91ec6cc",
   "metadata": {},
   "source": [
    "# Import classes"
   ]
  },
  {
   "cell_type": "code",
   "execution_count": 3,
   "id": "542ad5c7-2fe6-4976-9699-dba5ef8ec7f3",
   "metadata": {},
   "outputs": [
    {
     "data": {
      "text/plain": [
       "('StellarProfileSAM', 'SAMGasProfile', 'CDMProfile')"
      ]
     },
     "execution_count": 3,
     "metadata": {},
     "output_type": "execute_result"
    }
   ],
   "source": [
    "import Fedeli_1_separateComponents as Fedeli\n",
    "Fedeli.__all__"
   ]
  },
  {
   "cell_type": "code",
   "execution_count": 4,
   "id": "a5fd4221-3e7d-4b94-ba47-f11f5ec75b2f",
   "metadata": {},
   "outputs": [
    {
     "data": {
      "text/plain": [
       "('StellarProfileBCM',\n",
       " 'EjectedGasProfileBCM',\n",
       " 'BoundGasProfileBCM',\n",
       " 'CDMProfile')"
      ]
     },
     "execution_count": 4,
     "metadata": {},
     "output_type": "execute_result"
    }
   ],
   "source": [
    "import BCMprofiles_separateComponents as BCMprofiles\n",
    "BCMprofiles.__all__"
   ]
  },
  {
   "cell_type": "code",
   "execution_count": 10,
   "id": "7404e7c6-a857-4b16-89fe-5623169be0d8",
   "metadata": {},
   "outputs": [
    {
     "data": {
      "text/plain": [
       "'CombinerClass'"
      ]
     },
     "execution_count": 10,
     "metadata": {},
     "output_type": "execute_result"
    }
   ],
   "source": [
    "import Combiner_Class as Combiner\n",
    "Combiner.__all__"
   ]
  },
  {
   "cell_type": "code",
   "execution_count": null,
   "id": "81e8b58c-e06e-462d-bf29-d8fc1c6424ba",
   "metadata": {},
   "outputs": [],
   "source": []
  },
  {
   "cell_type": "code",
   "execution_count": null,
   "id": "61f1c7b4-8104-4e05-a1e9-db73bbffaae9",
   "metadata": {},
   "outputs": [],
   "source": []
  },
  {
   "cell_type": "code",
   "execution_count": null,
   "id": "e021c5f1-f427-4aed-ad9f-336d3a4f4e6c",
   "metadata": {},
   "outputs": [],
   "source": []
  },
  {
   "cell_type": "code",
   "execution_count": null,
   "id": "dc40eb40-1da3-4a4c-9297-f4bfea878f09",
   "metadata": {},
   "outputs": [],
   "source": []
  },
  {
   "cell_type": "code",
   "execution_count": null,
   "id": "add9ca26-0bcf-4c42-b5ac-de835018b61e",
   "metadata": {},
   "outputs": [],
   "source": []
  },
  {
   "cell_type": "code",
   "execution_count": null,
   "id": "7f7d3448-1605-436a-a176-fb0d6f871ece",
   "metadata": {},
   "outputs": [],
   "source": []
  },
  {
   "cell_type": "code",
   "execution_count": null,
   "id": "56e03c3a-87f6-4a3c-abc4-a6f7b41aa0bb",
   "metadata": {},
   "outputs": [],
   "source": []
  },
  {
   "cell_type": "code",
   "execution_count": null,
   "id": "8a5cd8ba-981c-45e3-a14c-ded2473de97f",
   "metadata": {},
   "outputs": [],
   "source": []
  },
  {
   "cell_type": "markdown",
   "id": "9930e68d-819f-4ec6-a1dd-0777c8ef2546",
   "metadata": {},
   "source": [
    "# Delete Below"
   ]
  },
  {
   "cell_type": "code",
   "execution_count": 33,
   "id": "d0c151e6-0c9f-48e2-a073-96d1703835b7",
   "metadata": {},
   "outputs": [
    {
     "data": {
      "text/plain": [
       "['g', 0.0, 0.0]"
      ]
     },
     "execution_count": 33,
     "metadata": {},
     "output_type": "execute_result"
    }
   ],
   "source": [
    "listt = ['g','b','b']\n",
    "array = np.zeros(np.shape(listt)).tolist()\n",
    "np.shape(listt) == np.shape(array)\n",
    "#array\n",
    "array[0] = 'g'\n",
    "array"
   ]
  },
  {
   "cell_type": "code",
   "execution_count": 15,
   "id": "75ae8ad1-fa76-4204-bd0a-5c2aff959056",
   "metadata": {},
   "outputs": [
    {
     "ename": "TypeError",
     "evalue": "'list' object is not callable",
     "output_type": "error",
     "traceback": [
      "\u001b[0;31m---------------------------------------------------------------------------\u001b[0m",
      "\u001b[0;31mTypeError\u001b[0m                                 Traceback (most recent call last)",
      "Cell \u001b[0;32mIn[15], line 2\u001b[0m\n\u001b[1;32m      1\u001b[0m x \u001b[38;5;241m=\u001b[39m (\u001b[38;5;124m'\u001b[39m\u001b[38;5;124mg\u001b[39m\u001b[38;5;124m'\u001b[39m,\u001b[38;5;124m'\u001b[39m\u001b[38;5;124mb\u001b[39m\u001b[38;5;124m'\u001b[39m,\u001b[38;5;124m'\u001b[39m\u001b[38;5;124mv\u001b[39m\u001b[38;5;124m'\u001b[39m)\n\u001b[0;32m----> 2\u001b[0m \u001b[38;5;28mlist\u001b[39m(x)\n",
      "\u001b[0;31mTypeError\u001b[0m: 'list' object is not callable"
     ]
    }
   ],
   "source": [
    "x = ('g','b','v')\n",
    "list(x)"
   ]
  },
  {
   "cell_type": "code",
   "execution_count": 51,
   "id": "9ebb36b7-8d32-44c9-9897-2393e84c4f6c",
   "metadata": {},
   "outputs": [
    {
     "name": "stdout",
     "output_type": "stream",
     "text": [
      "Help on function getmembers in module inspect:\n",
      "\n",
      "getmembers(object, predicate=None)\n",
      "    Return all members of an object as (name, value) pairs sorted by name.\n",
      "    Optionally, only return members that satisfy a given predicate.\n",
      "\n"
     ]
    }
   ],
   "source": [
    "help(inspect.getmembers)"
   ]
  },
  {
   "cell_type": "code",
   "execution_count": null,
   "id": "830b7b39-6c8a-43ac-acc5-5d57fcdb5c36",
   "metadata": {},
   "outputs": [],
   "source": []
  },
  {
   "cell_type": "code",
   "execution_count": null,
   "id": "4c339cdc-79e7-4213-a5c3-bd94dec14a07",
   "metadata": {},
   "outputs": [],
   "source": [
    "# python -> inspect\n",
    "# self.divide_p"
   ]
  },
  {
   "cell_type": "code",
   "execution_count": 37,
   "id": "dc23b50f-cf24-48a3-9c3d-e6592a317838",
   "metadata": {},
   "outputs": [],
   "source": [
    "x = [np.array([2,4,2]), np.array([3,6,1])]"
   ]
  },
  {
   "cell_type": "code",
   "execution_count": null,
   "id": "fba71315-5586-49d9-91dc-c96cec563a0a",
   "metadata": {},
   "outputs": [],
   "source": []
  }
 ],
 "metadata": {
  "kernelspec": {
   "display_name": "Python 3 (ipykernel)",
   "language": "python",
   "name": "python3"
  },
  "language_info": {
   "codemirror_mode": {
    "name": "ipython",
    "version": 3
   },
   "file_extension": ".py",
   "mimetype": "text/x-python",
   "name": "python",
   "nbconvert_exporter": "python",
   "pygments_lexer": "ipython3",
   "version": "3.12.2"
  }
 },
 "nbformat": 4,
 "nbformat_minor": 5
}
