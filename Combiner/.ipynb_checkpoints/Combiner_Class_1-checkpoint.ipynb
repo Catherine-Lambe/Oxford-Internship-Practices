{
 "cells": [
  {
   "cell_type": "code",
   "execution_count": null,
   "id": "dcc46015-021e-4c03-8fd2-e9fd48c9c34f",
   "metadata": {},
   "outputs": [],
   "source": [
    "import numpy as np\n",
    "#import pyccl as ccl\n",
    "import matplotlib.pyplot as plt\n",
    "import scipy.integrate as integrate\n",
    "import scipy.interpolate as interpol\n",
    "#from pyccl._core import UnlockInstance\n",
    "from scipy import signal\n",
    "from scipy.special import erf, gamma, expn, hyp2f1, exp1"
   ]
  },
  {
   "cell_type": "code",
   "execution_count": null,
   "id": "4c339cdc-79e7-4213-a5c3-bd94dec14a07",
   "metadata": {},
   "outputs": [],
   "source": []
  }
 ],
 "metadata": {
  "kernelspec": {
   "display_name": "Python 3 (ipykernel)",
   "language": "python",
   "name": "python3"
  },
  "language_info": {
   "codemirror_mode": {
    "name": "ipython",
    "version": 3
   },
   "file_extension": ".py",
   "mimetype": "text/x-python",
   "name": "python",
   "nbconvert_exporter": "python",
   "pygments_lexer": "ipython3",
   "version": "3.9.18"
  }
 },
 "nbformat": 4,
 "nbformat_minor": 5
}
