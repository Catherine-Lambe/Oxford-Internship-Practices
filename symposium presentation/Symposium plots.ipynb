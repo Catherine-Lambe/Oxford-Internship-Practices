{
 "cells": [
  {
   "cell_type": "markdown",
   "id": "8f74997d-f65c-4170-8fb0-89cd18e9cc93",
   "metadata": {
    "jp-MarkdownHeadingCollapsed": true
   },
   "source": [
    "# Import"
   ]
  },
  {
   "cell_type": "code",
   "execution_count": 1,
   "id": "91eaf60c-545e-4afb-a52d-08581c64dc1f",
   "metadata": {},
   "outputs": [],
   "source": [
    "import numpy as np\n",
    "import pyccl as ccl\n",
    "import matplotlib.pyplot as plt\n",
    "from scipy import integrate"
   ]
  },
  {
   "cell_type": "code",
   "execution_count": 29,
   "id": "3ce4f395-a95c-42af-9510-8c457f60400c",
   "metadata": {},
   "outputs": [
    {
     "data": {
      "text/plain": [
       "('Initialiser_SAM',\n",
       " 'StellarProfile',\n",
       " 'GasProfile',\n",
       " 'CDMProfile',\n",
       " 'SAM_Profile')"
      ]
     },
     "execution_count": 29,
     "metadata": {},
     "output_type": "execute_result"
    }
   ],
   "source": [
    "import Fedeli_1_Copy1 as FedeliProfiles\n",
    "Fedeli.__all__"
   ]
  },
  {
   "cell_type": "code",
   "execution_count": 31,
   "id": "af7883b8-483e-4d62-900d-ce8d9bdfb8ca",
   "metadata": {},
   "outputs": [
    {
     "data": {
      "text/plain": [
       "('Initialiser',\n",
       " 'StellarProfile',\n",
       " 'EjectedGasProfile',\n",
       " 'BoundGasProfile',\n",
       " 'CDMProfile',\n",
       " 'BCMProfile')"
      ]
     },
     "execution_count": 31,
     "metadata": {},
     "output_type": "execute_result"
    }
   ],
   "source": [
    "import BCMprofiles_hopefulFinal_Copy1 as BCMprofiles\n",
    "BCM.__all__"
   ]
  },
  {
   "cell_type": "markdown",
   "id": "bfbdd238-48dc-4582-a37b-33eb62d001f1",
   "metadata": {},
   "source": [
    "# Set up parameters"
   ]
  },
  {
   "cell_type": "code",
   "execution_count": 25,
   "id": "b207cad2-eefa-4c03-b171-582d3e9c176b",
   "metadata": {},
   "outputs": [],
   "source": [
    "### Set up eg- cosmo\n",
    "trial_mass_def = ccl.halos.MassDef200c #hmd_200c # use a mass definition with Delta = 200\n",
    "trial_concentration = ccl.halos.ConcentrationDuffy08(mass_def=trial_mass_def) # mass_def=hmd_200c) # cM\n",
    "trial_cosmo = ccl.Cosmology(Omega_c = 0.25, Omega_b=0.05, h=0.7, A_s=2.1e-9, n_s=0.96, Neff=0, Omega_g=0)\n",
    "\n",
    "trial_gamma = 1.2 \n",
    "# The Tinker 2008 mass function\n",
    "# hmf_200m = ccl.halos.MassFuncTinker08(mass_def=hmd_200m, mass_def_strict=False)\n",
    "trial_mass_function = ccl.halos.MassFuncTinker08(mass_def=trial_mass_def, mass_def_strict=False)\n",
    "\n",
    "trial_r = np.geomspace(1E-2,1E8,100000) # geomspace is like linspace, but evenly spaces on a logscale\n",
    "trial_k = np.geomspace(1E-2,9E1,100000) # np.geomspace(1E-3,1E2,100000)\n",
    "trial_M = np.array([3E12,6E13, 1E14])#/cosmo['h'] # trying with factor of h^{-1}"
   ]
  },
  {
   "cell_type": "code",
   "execution_count": null,
   "id": "47819cc8-f078-405c-a2be-707a44092bbf",
   "metadata": {},
   "outputs": [],
   "source": []
  },
  {
   "cell_type": "markdown",
   "id": "9b037c3b-736c-46bf-b932-0b07e5bdb3be",
   "metadata": {},
   "source": [
    "## Set up profiles"
   ]
  },
  {
   "cell_type": "markdown",
   "id": "2d0e1e97-8375-4c86-89db-ecd663dc391c",
   "metadata": {},
   "source": [
    "### BCM"
   ]
  },
  {
   "cell_type": "code",
   "execution_count": 33,
   "id": "0b41358f-876b-4fa2-bd83-a7e238c42088",
   "metadata": {},
   "outputs": [],
   "source": [
    "bcm_cdm_profile = BCMprofiles.CDMProfile(trial_cosmo, trial_mass_def, trial_concentration, trial_gamma)\n",
    "bcm_stel_profile = BCMprofiles.StellarProfile(trial_cosmo, trial_mass_def, trial_concentration, trial_gamma)\n",
    "bcm_ej_profile = BCMprofiles.EjectedGasProfile(trial_cosmo, trial_mass_def, trial_concentration, trial_gamma)\n",
    "bcm_bd_profile = BCMprofiles.BoundGasProfile(trial_cosmo, trial_mass_def, trial_concentration, trial_gamma)\n",
    "bcm_profile = BCMprofiles.BCMProfile(trial_cosmo, trial_mass_def, trial_concentration, trial_gamma)"
   ]
  },
  {
   "cell_type": "code",
   "execution_count": 35,
   "id": "ef447a1e-3855-4f14-8d22-228b174afc7e",
   "metadata": {},
   "outputs": [],
   "source": [
    "bcm_cdm_real = bcm_cdm_profile._real(trial_cosmo, trial_r, trial_M)\n",
    "bcm_stel_real = bcm_stel_profile._real(trial_cosmo, trial_r, trial_M)\n",
    "bcm_ej_real = bcm_ej_profile._real(trial_cosmo, trial_r, trial_M)\n",
    "bcm_bd_real = bcm_bd_profile._real(trial_cosmo, trial_r, trial_M)\n",
    "bcm_real = bcm_profile._real(trial_cosmo, trial_r, trial_M)"
   ]
  },
  {
   "cell_type": "code",
   "execution_count": null,
   "id": "b9ea3afc-0868-48cd-9ad5-b695953ed56c",
   "metadata": {
    "scrolled": true
   },
   "outputs": [
    {
     "name": "stdout",
     "output_type": "stream",
     "text": [
      "Qany = 1.56% through\n",
      "Qany = 3.12% through\n",
      "Qany = 4.69% through\n",
      "Qany = 6.25% through\n",
      "Qany = 7.81% through\n",
      "Qany = 9.38% through\n",
      "Qany = 10.9% through\n",
      "Qany = 12.5% through\n",
      "Qany = 14.1% through\n",
      "Qany = 15.6% through\n",
      "Qany = 17.2% through\n",
      "Qany = 18.8% through\n",
      "Qany = 20.3% through\n"
     ]
    }
   ],
   "source": [
    "bcm_cdm_fourier = bcm_cdm_profile._fourier(trial_k, trial_M)\n",
    "bcm_stel_fourier = bcm_stel_profile._fourier(trial_k, trial_M)\n",
    "bcm_ej_fourier = bcm_ej_profile._fourier(trial_k, trial_M)\n",
    "bcm_bd_fourier = bcm_bd_profile._fourier(trial_k, trial_M)\n",
    "bcm_fourier = bcm_profile._fourier(trial_k, trial_M)"
   ]
  },
  {
   "cell_type": "markdown",
   "id": "64cd6109-b371-476e-800b-066fff09e880",
   "metadata": {},
   "source": [
    "### Fedeli"
   ]
  },
  {
   "cell_type": "code",
   "execution_count": null,
   "id": "e8aa857b-9675-4ace-bb51-179063ab04a1",
   "metadata": {},
   "outputs": [],
   "source": []
  }
 ],
 "metadata": {
  "kernelspec": {
   "display_name": "Python 3 (ipykernel)",
   "language": "python",
   "name": "python3"
  },
  "language_info": {
   "codemirror_mode": {
    "name": "ipython",
    "version": 3
   },
   "file_extension": ".py",
   "mimetype": "text/x-python",
   "name": "python",
   "nbconvert_exporter": "python",
   "pygments_lexer": "ipython3",
   "version": "3.12.2"
  }
 },
 "nbformat": 4,
 "nbformat_minor": 5
}
