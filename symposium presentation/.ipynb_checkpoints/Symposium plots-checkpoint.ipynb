{
 "cells": [
  {
   "cell_type": "code",
   "execution_count": 1,
   "id": "91eaf60c-545e-4afb-a52d-08581c64dc1f",
   "metadata": {},
   "outputs": [],
   "source": [
    "import numpy as np\n",
    "import pyccl as ccl\n",
    "import matplotlib.pyplot as plt\n",
    "from scipy import integrate"
   ]
  },
  {
   "cell_type": "code",
   "execution_count": 7,
   "id": "3ce4f395-a95c-42af-9510-8c457f60400c",
   "metadata": {},
   "outputs": [
    {
     "data": {
      "text/plain": [
       "('Initialiser_SAM',\n",
       " 'StellarProfile',\n",
       " 'GasProfile',\n",
       " 'CDMProfile',\n",
       " 'SAM_Profile')"
      ]
     },
     "execution_count": 7,
     "metadata": {},
     "output_type": "execute_result"
    }
   ],
   "source": [
    "import Fedeli_1_Copy1 as Fedeli\n",
    "Fedeli.__all__"
   ]
  },
  {
   "cell_type": "code",
   "execution_count": 11,
   "id": "af7883b8-483e-4d62-900d-ce8d9bdfb8ca",
   "metadata": {},
   "outputs": [
    {
     "data": {
      "text/plain": [
       "('Initialiser',\n",
       " 'StellarProfile',\n",
       " 'EjectedGasProfile',\n",
       " 'BoundGasProfile',\n",
       " 'CDMProfile',\n",
       " 'BCMProfile')"
      ]
     },
     "execution_count": 11,
     "metadata": {},
     "output_type": "execute_result"
    }
   ],
   "source": [
    "import BCMprofiles_hopefulFinal_Copy1 as BCM\n",
    "BCM.__all__"
   ]
  },
  {
   "cell_type": "code",
   "execution_count": null,
   "id": "49e5fab8-cfa0-4489-8b0c-bed058f60a0e",
   "metadata": {},
   "outputs": [],
   "source": []
  }
 ],
 "metadata": {
  "kernelspec": {
   "display_name": "Python 3 (ipykernel)",
   "language": "python",
   "name": "python3"
  },
  "language_info": {
   "codemirror_mode": {
    "name": "ipython",
    "version": 3
   },
   "file_extension": ".py",
   "mimetype": "text/x-python",
   "name": "python",
   "nbconvert_exporter": "python",
   "pygments_lexer": "ipython3",
   "version": "3.12.2"
  }
 },
 "nbformat": 4,
 "nbformat_minor": 5
}
