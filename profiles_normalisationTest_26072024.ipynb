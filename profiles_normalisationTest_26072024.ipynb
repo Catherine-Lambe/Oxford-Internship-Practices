{
 "cells": [
  {
   "cell_type": "code",
   "execution_count": 1,
   "id": "4bf77c27-b104-43f1-9d76-e6c35e8c7085",
   "metadata": {},
   "outputs": [],
   "source": [
    "import numpy as np\n",
    "import pyccl as ccl\n",
    "import matplotlib.pyplot as plt\n",
    "import scipy.integrate as integrate\n",
    "import scipy.interpolate as interpol\n",
    "from pyccl._core import UnlockInstance\n",
    "from scipy import signal"
   ]
  },
  {
   "cell_type": "markdown",
   "id": "4a9183e4-bef9-4bc0-aab7-f2c8ec7ce5ad",
   "metadata": {},
   "source": [
    "# BCM"
   ]
  },
  {
   "cell_type": "code",
   "execution_count": 3,
   "id": "4c4d7e09-76d0-439b-b072-44e829041bc4",
   "metadata": {},
   "outputs": [
    {
     "name": "stderr",
     "output_type": "stream",
     "text": [
      "/Users/lambe/Documents/GitHub/Oxford-Intern-2024/Oxford-Internship-Practices/BCMprofiles_Copy3.py:12: SyntaxWarning: invalid escape sequence '\\ '\n",
      "  \"\"\"Creating a class for the stellar density profile\n",
      "/Users/lambe/Documents/GitHub/Oxford-Intern-2024/Oxford-Internship-Practices/BCMprofiles_Copy3.py:101: SyntaxWarning: invalid escape sequence '\\ '\n",
      "  \"\"\"Creating a class for the bound gas density profile where:\n",
      "/Users/lambe/Documents/GitHub/Oxford-Intern-2024/Oxford-Internship-Practices/BCMprofiles_Copy3.py:348: SyntaxWarning: invalid escape sequence '\\e'\n",
      "  \"\"\"Combined profile for the stellar & ejected & bound gas & cdm components (ie- The BCM Model), with the truncated Navarro-Frenk-White (NFW) profile used to calculate the density profiles of the cold dark matter (cdm) component.\n"
     ]
    },
    {
     "data": {
      "text/plain": [
       "('StellarProfile',\n",
       " 'EjectedGasProfile',\n",
       " 'BoundGasProfile',\n",
       " 'CombinedGasProfile',\n",
       " 'CombinedStellarGasProfile',\n",
       " 'CombinedAllBCMProfile')"
      ]
     },
     "execution_count": 3,
     "metadata": {},
     "output_type": "execute_result"
    }
   ],
   "source": [
    "import BCMprofiles_Copy3 as BCMprofiles\n",
    "BCMprofiles.__all__"
   ]
  },
  {
   "cell_type": "markdown",
   "id": "f84ee585-1863-45cc-9787-44ef22056c42",
   "metadata": {},
   "source": [
    "## Setting up pars & profiles"
   ]
  },
  {
   "cell_type": "code",
   "execution_count": 6,
   "id": "2eeb41ed-0560-4d27-9feb-c9766a5a3f06",
   "metadata": {},
   "outputs": [],
   "source": [
    "hmd_200c = ccl.halos.MassDef200c # use a mass definition with Delta = 200\n",
    "cM = ccl.halos.ConcentrationDuffy08(mass_def=hmd_200c)\n",
    "cosmo = ccl.Cosmology(Omega_c = 0.25, Omega_b=0.05, h=0.7, A_s=2.1e-9, n_s=0.96, Neff=0, Omega_g=0)\n",
    "# change h=0.07 to h=0.7\n",
    "\n",
    "trial_r = np.geomspace(1E-2,1E8,100_000) # geomspace is like linspace, but evenly spaces on a logscale\n",
    "trial_k = np.geomspace(5E-3,1E2,100_000) # np.geomspace(1E-3,1E2,100000)\n",
    "trial_M = np.array([3E12,6E13, 1E14])\n",
    "trial_gamma = 1.1  # working with z = 0 (today) ; therefore a = 1 [default]\n",
    "trial_f_bd = 0.6"
   ]
  },
  {
   "cell_type": "markdown",
   "id": "82a87a93-5f70-4300-8511-62c0dbf51a9f",
   "metadata": {},
   "source": [
    "## Loading profiles, with fourier_analytic = True"
   ]
  },
  {
   "cell_type": "code",
   "execution_count": 9,
   "id": "89f0c99c-0182-4ed7-8098-f2b37cee702a",
   "metadata": {},
   "outputs": [],
   "source": [
    "stel_profile = BCMprofiles.StellarProfile(cosmo, hmd_200c)\n",
    "ej_profile = BCMprofiles.EjectedGasProfile(cosmo, hmd_200c)\n",
    "bd_profile = BCMprofiles.BoundGasProfile(cosmo, hmd_200c, cM, fourier_analytic = True)#, trial_gamma)\n",
    "gas_profile = BCMprofiles.CombinedGasProfile(cosmo, hmd_200c, cM)#, trial_gamma)\n",
    "stelGas_profile = BCMprofiles.CombinedStellarGasProfile(cosmo, hmd_200c, cM)#, trial_gamma) \n",
    "bcm_profile = BCMprofiles.CombinedAllBCMProfile(cosmo, hmd_200c, cM)#, trial_gamma)"
   ]
  },
  {
   "cell_type": "code",
   "execution_count": 13,
   "id": "96bbe3ae-738f-489f-aea0-638becfbf339",
   "metadata": {},
   "outputs": [],
   "source": [
    "stel_real = stel_profile._real(cosmo, trial_r, trial_M)\n",
    "ej_real = ej_profile._real(cosmo, trial_r, trial_M)\n",
    "bd_real = bd_profile._real(cosmo, trial_r, trial_M, scale_a=1, Gamma=trial_gamma)\n",
    "gas_real = gas_profile._real(cosmo, trial_r, trial_M, scale_a=1, Gamma=trial_gamma, f_bd=trial_f_bd)\n",
    "stelGas_real = stelGas_profile._real(cosmo, trial_r, trial_M, scale_a=1, Gamma=trial_gamma)\n",
    "bcm_real = bcm_profile._real(cosmo, trial_r, trial_M, scale_a=1, Gamma=trial_gamma)"
   ]
  },
  {
   "cell_type": "code",
   "execution_count": 15,
   "id": "cf8bde4a-ddda-4e60-b004-405c1b09d090",
   "metadata": {},
   "outputs": [],
   "source": [
    "stel_fourier = stel_profile._fourier(trial_k, trial_M)\n",
    "ej_fourier = ej_profile._fourier(trial_k, trial_M)"
   ]
  },
  {
   "cell_type": "code",
   "execution_count": 17,
   "id": "548c87b9-d79b-4dee-bfb8-88ec8a5ccc2e",
   "metadata": {
    "scrolled": true
   },
   "outputs": [
    {
     "name": "stdout",
     "output_type": "stream",
     "text": [
      "Qany = 1.56% through\n",
      "Qany = 3.12% through\n",
      "Qany = 4.69% through\n",
      "Qany = 6.25% through\n",
      "Qany = 7.81% through\n",
      "Qany = 9.38% through\n",
      "Qany = 10.9% through\n",
      "Qany = 12.5% through\n",
      "Qany = 14.1% through\n",
      "Qany = 15.6% through\n",
      "Qany = 17.2% through\n",
      "Qany = 18.8% through\n",
      "Qany = 20.3% through\n",
      "Qany = 21.9% through\n",
      "Qany = 23.4% through\n",
      "Qany = 25% through\n",
      "Qany = 26.6% through\n",
      "Qany = 28.1% through\n",
      "Qany = 29.7% through\n",
      "Qany = 31.2% through\n",
      "Qany = 32.8% through\n",
      "Qany = 34.4% through\n",
      "Qany = 35.9% through\n",
      "Qany = 37.5% through\n",
      "Qany = 39.1% through\n",
      "Qany = 40.6% through\n",
      "Qany = 42.2% through\n",
      "Qany = 43.8% through\n",
      "Qany = 45.3% through\n",
      "Qany = 46.9% through\n",
      "Qany = 48.4% through\n",
      "Qany = 50% through\n",
      "Qany = 51.6% through\n",
      "Qany = 53.1% through\n",
      "Qany = 54.7% through\n",
      "Qany = 56.2% through\n",
      "Qany = 57.8% through\n",
      "Qany = 59.4% through\n",
      "Qany = 60.9% through\n",
      "Qany = 62.5% through\n",
      "Qany = 64.1% through\n",
      "Qany = 65.6% through\n",
      "Qany = 67.2% through\n",
      "Qany = 68.8% through\n",
      "Qany = 70.3% through\n",
      "Qany = 71.9% through\n",
      "Qany = 73.4% through\n",
      "Qany = 75% through\n",
      "Qany = 76.6% through\n",
      "Qany = 78.1% through\n",
      "Qany = 79.7% through\n",
      "Qany = 81.2% through\n",
      "Qany = 82.8% through\n",
      "Qany = 84.4% through\n",
      "Qany = 85.9% through\n",
      "Qany = 87.5% through\n",
      "Qany = 89.1% through\n",
      "Qany = 90.6% through\n",
      "Qany = 92.2% through\n",
      "Qany = 93.8% through\n",
      "Qany = 95.3% through\n",
      "Qany = 96.9% through\n",
      "Qany = 98.4% through\n",
      "Qany = 100% through\n"
     ]
    }
   ],
   "source": [
    "#trial_k = np.geomspace(1E-1,1E0,100_000)\n",
    "bd_fourier = bd_profile._fourier(k=trial_k, M=trial_M, scale_a=1, Gamma=trial_gamma)"
   ]
  },
  {
   "cell_type": "code",
   "execution_count": 18,
   "id": "173414aa-f1b6-4db6-b454-89324b037bfa",
   "metadata": {
    "scrolled": true
   },
   "outputs": [
    {
     "name": "stdout",
     "output_type": "stream",
     "text": [
      "Qany = 1.56% through\n",
      "Qany = 3.12% through\n",
      "Qany = 4.69% through\n",
      "Qany = 6.25% through\n",
      "Qany = 7.81% through\n",
      "Qany = 9.38% through\n",
      "Qany = 10.9% through\n",
      "Qany = 12.5% through\n",
      "Qany = 14.1% through\n",
      "Qany = 15.6% through\n",
      "Qany = 17.2% through\n",
      "Qany = 18.8% through\n",
      "Qany = 20.3% through\n",
      "Qany = 21.9% through\n",
      "Qany = 23.4% through\n",
      "Qany = 25% through\n",
      "Qany = 26.6% through\n",
      "Qany = 28.1% through\n",
      "Qany = 29.7% through\n",
      "Qany = 31.2% through\n",
      "Qany = 32.8% through\n",
      "Qany = 34.4% through\n",
      "Qany = 35.9% through\n",
      "Qany = 37.5% through\n",
      "Qany = 39.1% through\n",
      "Qany = 40.6% through\n",
      "Qany = 42.2% through\n",
      "Qany = 43.8% through\n",
      "Qany = 45.3% through\n",
      "Qany = 46.9% through\n",
      "Qany = 48.4% through\n",
      "Qany = 50% through\n",
      "Qany = 51.6% through\n",
      "Qany = 53.1% through\n",
      "Qany = 54.7% through\n",
      "Qany = 56.2% through\n",
      "Qany = 57.8% through\n",
      "Qany = 59.4% through\n",
      "Qany = 60.9% through\n",
      "Qany = 62.5% through\n",
      "Qany = 64.1% through\n",
      "Qany = 65.6% through\n",
      "Qany = 67.2% through\n",
      "Qany = 68.8% through\n",
      "Qany = 70.3% through\n",
      "Qany = 71.9% through\n",
      "Qany = 73.4% through\n",
      "Qany = 75% through\n",
      "Qany = 76.6% through\n",
      "Qany = 78.1% through\n",
      "Qany = 79.7% through\n",
      "Qany = 81.2% through\n",
      "Qany = 82.8% through\n",
      "Qany = 84.4% through\n",
      "Qany = 85.9% through\n",
      "Qany = 87.5% through\n",
      "Qany = 89.1% through\n",
      "Qany = 90.6% through\n",
      "Qany = 92.2% through\n",
      "Qany = 93.8% through\n",
      "Qany = 95.3% through\n",
      "Qany = 96.9% through\n",
      "Qany = 98.4% through\n",
      "Qany = 100% through\n",
      "Qany = 1.56% through\n",
      "Qany = 3.12% through\n",
      "Qany = 4.69% through\n",
      "Qany = 6.25% through\n",
      "Qany = 7.81% through\n",
      "Qany = 9.38% through\n",
      "Qany = 10.9% through\n",
      "Qany = 12.5% through\n",
      "Qany = 14.1% through\n",
      "Qany = 15.6% through\n",
      "Qany = 17.2% through\n",
      "Qany = 18.8% through\n",
      "Qany = 20.3% through\n",
      "Qany = 21.9% through\n",
      "Qany = 23.4% through\n",
      "Qany = 25% through\n",
      "Qany = 26.6% through\n",
      "Qany = 28.1% through\n",
      "Qany = 29.7% through\n",
      "Qany = 31.2% through\n",
      "Qany = 32.8% through\n",
      "Qany = 34.4% through\n",
      "Qany = 35.9% through\n",
      "Qany = 37.5% through\n",
      "Qany = 39.1% through\n",
      "Qany = 40.6% through\n",
      "Qany = 42.2% through\n",
      "Qany = 43.8% through\n",
      "Qany = 45.3% through\n",
      "Qany = 46.9% through\n",
      "Qany = 48.4% through\n",
      "Qany = 50% through\n",
      "Qany = 51.6% through\n",
      "Qany = 53.1% through\n",
      "Qany = 54.7% through\n",
      "Qany = 56.2% through\n",
      "Qany = 57.8% through\n",
      "Qany = 59.4% through\n",
      "Qany = 60.9% through\n",
      "Qany = 62.5% through\n",
      "Qany = 64.1% through\n",
      "Qany = 65.6% through\n",
      "Qany = 67.2% through\n",
      "Qany = 68.8% through\n",
      "Qany = 70.3% through\n",
      "Qany = 71.9% through\n",
      "Qany = 73.4% through\n",
      "Qany = 75% through\n",
      "Qany = 76.6% through\n",
      "Qany = 78.1% through\n",
      "Qany = 79.7% through\n",
      "Qany = 81.2% through\n",
      "Qany = 82.8% through\n",
      "Qany = 84.4% through\n",
      "Qany = 85.9% through\n",
      "Qany = 87.5% through\n",
      "Qany = 89.1% through\n",
      "Qany = 90.6% through\n",
      "Qany = 92.2% through\n",
      "Qany = 93.8% through\n",
      "Qany = 95.3% through\n",
      "Qany = 96.9% through\n",
      "Qany = 98.4% through\n",
      "Qany = 100% through\n",
      "Qany = 1.56% through\n",
      "Qany = 3.12% through\n",
      "Qany = 4.69% through\n",
      "Qany = 6.25% through\n",
      "Qany = 7.81% through\n",
      "Qany = 9.38% through\n",
      "Qany = 10.9% through\n",
      "Qany = 12.5% through\n",
      "Qany = 14.1% through\n",
      "Qany = 15.6% through\n",
      "Qany = 17.2% through\n",
      "Qany = 18.8% through\n",
      "Qany = 20.3% through\n",
      "Qany = 21.9% through\n",
      "Qany = 23.4% through\n",
      "Qany = 25% through\n",
      "Qany = 26.6% through\n",
      "Qany = 28.1% through\n",
      "Qany = 29.7% through\n",
      "Qany = 31.2% through\n",
      "Qany = 32.8% through\n",
      "Qany = 34.4% through\n",
      "Qany = 35.9% through\n",
      "Qany = 37.5% through\n",
      "Qany = 39.1% through\n",
      "Qany = 40.6% through\n",
      "Qany = 42.2% through\n",
      "Qany = 43.8% through\n",
      "Qany = 45.3% through\n",
      "Qany = 46.9% through\n",
      "Qany = 48.4% through\n",
      "Qany = 50% through\n",
      "Qany = 51.6% through\n",
      "Qany = 53.1% through\n",
      "Qany = 54.7% through\n",
      "Qany = 56.2% through\n",
      "Qany = 57.8% through\n",
      "Qany = 59.4% through\n",
      "Qany = 60.9% through\n",
      "Qany = 62.5% through\n",
      "Qany = 64.1% through\n",
      "Qany = 65.6% through\n",
      "Qany = 67.2% through\n",
      "Qany = 68.8% through\n",
      "Qany = 70.3% through\n",
      "Qany = 71.9% through\n",
      "Qany = 73.4% through\n",
      "Qany = 75% through\n",
      "Qany = 76.6% through\n",
      "Qany = 78.1% through\n",
      "Qany = 79.7% through\n",
      "Qany = 81.2% through\n",
      "Qany = 82.8% through\n",
      "Qany = 84.4% through\n",
      "Qany = 85.9% through\n",
      "Qany = 87.5% through\n",
      "Qany = 89.1% through\n",
      "Qany = 90.6% through\n",
      "Qany = 92.2% through\n",
      "Qany = 93.8% through\n",
      "Qany = 95.3% through\n",
      "Qany = 96.9% through\n",
      "Qany = 98.4% through\n",
      "Qany = 100% through\n"
     ]
    }
   ],
   "source": [
    "gas_fourier = gas_profile._fourier(trial_k, trial_M, scale_a=1, f_bd=trial_f_bd)\n",
    "stelGas_fourier = stelGas_profile._fourier(trial_k, trial_M)\n",
    "bcm_fourier = bcm_profile._fourier(trial_k, trial_M)"
   ]
  },
  {
   "cell_type": "code",
   "execution_count": null,
   "id": "76972a54-6e9a-4d61-a8cb-e5202d560cc0",
   "metadata": {},
   "outputs": [],
   "source": []
  },
  {
   "cell_type": "markdown",
   "id": "e5662731-6a9c-4416-9726-9eb658c1557e",
   "metadata": {},
   "source": [
    "## Loading profiles, with fourier_analytic = False"
   ]
  },
  {
   "cell_type": "code",
   "execution_count": 21,
   "id": "6d7c7a80-7052-479a-9fa9-cc2529b3b86f",
   "metadata": {},
   "outputs": [],
   "source": [
    "stel_profile_false = BCMprofiles.StellarProfile(cosmo, hmd_200c, fourier_analytic=False)\n",
    "ej_profile_false = BCMprofiles.EjectedGasProfile(cosmo, hmd_200c, fourier_analytic=False)\n",
    "bd_profile_false = BCMprofiles.BoundGasProfile(cosmo, hmd_200c, cM, fourier_analytic=False)\n",
    "gas_profile_false = BCMprofiles.CombinedGasProfile(cosmo, hmd_200c, cM, fourier_analytic=False)\n",
    "stelGas_profile_false = BCMprofiles.CombinedStellarGasProfile(cosmo, hmd_200c, cM, fourier_analytic=False) \n",
    "bcm_profile_false = BCMprofiles.CombinedAllBCMProfile(cosmo, hmd_200c, cM, fourier_analytic=False)"
   ]
  },
  {
   "cell_type": "code",
   "execution_count": 27,
   "id": "8f2a31de-e1af-4283-a34a-732a80803eb8",
   "metadata": {},
   "outputs": [],
   "source": [
    "stel_real_false = stel_profile_false._real(cosmo, trial_r, trial_M)\n",
    "ej_real_false = ej_profile_false._real(cosmo, trial_r, trial_M)\n",
    "bd_real_false = bd_profile_false._real(cosmo, trial_r, trial_M, scale_a=1, Gamma=trial_gamma)\n",
    "gas_real_false = gas_profile_false._real(cosmo, trial_r, trial_M, scale_a=1, Gamma=trial_gamma, f_bd=trial_f_bd)\n",
    "stelGas_real_false = stelGas_profile_false._real(cosmo, trial_r, trial_M, scale_a=1, Gamma=trial_gamma)\n",
    "bcm_real_false = bcm_profile_false._real(cosmo, trial_r, trial_M, scale_a=1, Gamma=trial_gamma)"
   ]
  },
  {
   "cell_type": "code",
   "execution_count": 29,
   "id": "c401ebac-3c2a-42e0-b38e-66ed64f52f96",
   "metadata": {},
   "outputs": [
    {
     "data": {
      "text/plain": [
       "<function pyccl.halos.profiles.profile_base.HaloProfile.fourier(self, cosmo, k, M, a)>"
      ]
     },
     "execution_count": 29,
     "metadata": {},
     "output_type": "execute_result"
    }
   ],
   "source": [
    "ccl.halos.profiles.HaloProfile.fourier"
   ]
  },
  {
   "cell_type": "code",
   "execution_count": 35,
   "id": "adfd5873-7fb6-494b-b2cd-67b66e19752d",
   "metadata": {
    "scrolled": true
   },
   "outputs": [],
   "source": [
    "stel_fourier_false = stel_profile_false.fourier(cosmo=cosmo, k=trial_k, M=trial_M, a=1)\n",
    "ej_fourier_false = ej_profile_false.fourier(cosmo=cosmo, k=trial_k, M=trial_M, a=1)\n",
    "bd_fourier_false = bd_profile_false.fourier(cosmo=cosmo, k=trial_k, M=trial_M, a=1)#, Gamma=trial_gamma)\n",
    "gas_fourier_false = gas_profile_false.fourier(cosmo=cosmo, k=trial_k, M=trial_M, a=1)#, Gamma=trial_gamma)\n",
    "# stelGas_fourier_false = stelGas_profile_false.fourier(cosmo=cosmo, k=trial_k, M=trial_M, a=1)\n",
    "# bcm_fourier_false = bcm_profile_false.fourier(cosmo=cosmo, k=trial_k, M=trial_M, a=1)"
   ]
  },
  {
   "cell_type": "code",
   "execution_count": 37,
   "id": "6b78915b-9534-4897-abf9-a363ee8cc35a",
   "metadata": {
    "scrolled": true
   },
   "outputs": [
    {
     "ename": "ValueError",
     "evalue": "rs should have 3 elements",
     "output_type": "error",
     "traceback": [
      "\u001b[0;31m---------------------------------------------------------------------------\u001b[0m",
      "\u001b[0;31mValueError\u001b[0m                                Traceback (most recent call last)",
      "Cell \u001b[0;32mIn[37], line 1\u001b[0m\n\u001b[0;32m----> 1\u001b[0m stelGas_fourier_false \u001b[38;5;241m=\u001b[39m stelGas_profile_false\u001b[38;5;241m.\u001b[39mfourier(cosmo\u001b[38;5;241m=\u001b[39mcosmo, k\u001b[38;5;241m=\u001b[39mtrial_k, M\u001b[38;5;241m=\u001b[39mtrial_M, a\u001b[38;5;241m=\u001b[39m\u001b[38;5;241m1\u001b[39m)\n\u001b[1;32m      2\u001b[0m bcm_fourier_false \u001b[38;5;241m=\u001b[39m bcm_profile_false\u001b[38;5;241m.\u001b[39mfourier(cosmo\u001b[38;5;241m=\u001b[39mcosmo, k\u001b[38;5;241m=\u001b[39mtrial_k, M\u001b[38;5;241m=\u001b[39mtrial_M, a\u001b[38;5;241m=\u001b[39m\u001b[38;5;241m1\u001b[39m)\n",
      "File \u001b[0;32m/opt/anaconda3/lib/python3.12/site-packages/pyccl/halos/profiles/profile_base.py:182\u001b[0m, in \u001b[0;36mHaloProfile.fourier\u001b[0;34m(self, cosmo, k, M, a)\u001b[0m\n\u001b[1;32m    180\u001b[0m \u001b[38;5;28;01mif\u001b[39;00m \u001b[38;5;28mgetattr\u001b[39m(\u001b[38;5;28mself\u001b[39m, \u001b[38;5;124m\"\u001b[39m\u001b[38;5;124m_fourier\u001b[39m\u001b[38;5;124m\"\u001b[39m, \u001b[38;5;28;01mNone\u001b[39;00m):\n\u001b[1;32m    181\u001b[0m     \u001b[38;5;28;01mreturn\u001b[39;00m \u001b[38;5;28mself\u001b[39m\u001b[38;5;241m.\u001b[39m_fourier(cosmo, k, M, a)\n\u001b[0;32m--> 182\u001b[0m \u001b[38;5;28;01mreturn\u001b[39;00m \u001b[38;5;28mself\u001b[39m\u001b[38;5;241m.\u001b[39m_fftlog_wrap(cosmo, k, M, a, fourier_out\u001b[38;5;241m=\u001b[39m\u001b[38;5;28;01mTrue\u001b[39;00m)\n",
      "File \u001b[0;32m/opt/anaconda3/lib/python3.12/site-packages/pyccl/halos/profiles/profile_base.py:415\u001b[0m, in \u001b[0;36mHaloProfile._fftlog_wrap\u001b[0;34m(self, cosmo, k, M, a, fourier_out, large_padding, ell)\u001b[0m\n\u001b[1;32m    412\u001b[0m plaw_index \u001b[38;5;241m=\u001b[39m \u001b[38;5;28mself\u001b[39m\u001b[38;5;241m.\u001b[39m_get_plaw_fourier(cosmo, a)\n\u001b[1;32m    414\u001b[0m \u001b[38;5;66;03m# Compute Fourier profile through fftlog\u001b[39;00m\n\u001b[0;32m--> 415\u001b[0m k_arr, p_fourier_M \u001b[38;5;241m=\u001b[39m _fftlog_transform(r_arr, p_real_M,\n\u001b[1;32m    416\u001b[0m                                        \u001b[38;5;241m3\u001b[39m, ell, plaw_index)\n\u001b[1;32m    417\u001b[0m lk_arr \u001b[38;5;241m=\u001b[39m np\u001b[38;5;241m.\u001b[39mlog(k_arr)\n\u001b[1;32m    419\u001b[0m \u001b[38;5;28;01mfor\u001b[39;00m im, p_k_arr \u001b[38;5;129;01min\u001b[39;00m \u001b[38;5;28menumerate\u001b[39m(p_fourier_M):\n\u001b[1;32m    420\u001b[0m     \u001b[38;5;66;03m# Resample into input k values\u001b[39;00m\n",
      "File \u001b[0;32m/opt/anaconda3/lib/python3.12/site-packages/pyccl/pyutils.py:539\u001b[0m, in \u001b[0;36m_fftlog_transform\u001b[0;34m(rs, frs, dim, mu, power_law_index)\u001b[0m\n\u001b[1;32m    536\u001b[0m     n_transforms, n_r \u001b[38;5;241m=\u001b[39m frs\u001b[38;5;241m.\u001b[39mshape\n\u001b[1;32m    538\u001b[0m \u001b[38;5;28;01mif\u001b[39;00m \u001b[38;5;28mlen\u001b[39m(rs) \u001b[38;5;241m!=\u001b[39m n_r:\n\u001b[0;32m--> 539\u001b[0m     \u001b[38;5;28;01mraise\u001b[39;00m \u001b[38;5;167;01mValueError\u001b[39;00m(\u001b[38;5;124mf\u001b[39m\u001b[38;5;124m\"\u001b[39m\u001b[38;5;124mrs should have \u001b[39m\u001b[38;5;132;01m{\u001b[39;00mn_r\u001b[38;5;132;01m}\u001b[39;00m\u001b[38;5;124m elements\u001b[39m\u001b[38;5;124m\"\u001b[39m)\n\u001b[1;32m    541\u001b[0m status \u001b[38;5;241m=\u001b[39m \u001b[38;5;241m0\u001b[39m\n\u001b[1;32m    542\u001b[0m result, status \u001b[38;5;241m=\u001b[39m lib\u001b[38;5;241m.\u001b[39mfftlog_transform(n_transforms,\n\u001b[1;32m    543\u001b[0m                                       rs, frs\u001b[38;5;241m.\u001b[39mflatten(),\n\u001b[1;32m    544\u001b[0m                                       dim, mu, power_law_index,\n\u001b[1;32m    545\u001b[0m                                       (n_transforms \u001b[38;5;241m+\u001b[39m \u001b[38;5;241m1\u001b[39m) \u001b[38;5;241m*\u001b[39m n_r,\n\u001b[1;32m    546\u001b[0m                                       status)\n",
      "\u001b[0;31mValueError\u001b[0m: rs should have 3 elements"
     ]
    }
   ],
   "source": [
    "stelGas_fourier_false = stelGas_profile_false.fourier(cosmo=cosmo, k=trial_k, M=trial_M, a=1)\n",
    "bcm_fourier_false = bcm_profile_false.fourier(cosmo=cosmo, k=trial_k, M=trial_M, a=1)"
   ]
  },
  {
   "cell_type": "code",
   "execution_count": null,
   "id": "138355ba-5f67-4054-b7dc-43074731583b",
   "metadata": {},
   "outputs": [],
   "source": []
  },
  {
   "cell_type": "markdown",
   "id": "d024382d-5479-4aa6-ba4a-06b7239fd8e1",
   "metadata": {},
   "source": [
    "## Loading (real) profiles with call_interp=False (check with/without interpolator)"
   ]
  },
  {
   "cell_type": "code",
   "execution_count": 41,
   "id": "c265632f-673e-47ad-8dfc-50778bfa309f",
   "metadata": {},
   "outputs": [
    {
     "name": "stdout",
     "output_type": "stream",
     "text": [
      "False\n",
      "False\n",
      "False\n",
      "False\n",
      "False\n",
      "False\n",
      "False\n",
      "False\n"
     ]
    }
   ],
   "source": [
    "bd_real_noInterp = bd_profile._real(cosmo, trial_r, trial_M, scale_a=1, Gamma = trial_gamma, call_interp=False)\n",
    "gas_real_noInterp = gas_profile._real(cosmo, trial_r, trial_M, scale_a=1, Gamma = trial_gamma, f_bd=trial_f_bd, call_interp=False)\n",
    "stelGas_real_noInterp = stelGas_profile._real(cosmo, trial_r, trial_M, scale_a=1, Gamma = trial_gamma, call_interp=False)\n",
    "bcm_real_noInterp = bcm_profile._real(cosmo, trial_r, trial_M, scale_a=1, Gamma = trial_gamma, call_interp=False)\n",
    "\n",
    "bd_real_false_noInterp = bd_profile_false._real(cosmo, trial_r, trial_M, scale_a=1, Gamma = trial_gamma, call_interp=False)\n",
    "gas_real_false_noInterp = gas_profile_false._real(cosmo, trial_r, trial_M, scale_a=1, Gamma = trial_gamma, f_bd=trial_f_bd, call_interp=False)\n",
    "stelGas_real_false_noInterp = stelGas_profile_false._real(cosmo, trial_r, trial_M, scale_a=1, Gamma = trial_gamma, call_interp=False)\n",
    "bcm_real_false_noInterp = bcm_profile_false._real(cosmo, trial_r, trial_M, scale_a=1, Gamma = trial_gamma, call_interp=False)"
   ]
  },
  {
   "cell_type": "markdown",
   "id": "36e10569-932c-4da6-b774-bd134f911766",
   "metadata": {
    "jp-MarkdownHeadingCollapsed": true
   },
   "source": [
    "## Checking the plots"
   ]
  },
  {
   "cell_type": "code",
   "execution_count": 44,
   "id": "70e9dd79-cf97-43f9-be17-65c6b789d3a7",
   "metadata": {},
   "outputs": [
    {
     "data": {
      "image/png": "[encoded data removed]",
      "text/plain": [
       "<Figure size 640x480 with 1 Axes>"
      ]
     },
     "metadata": {},
     "output_type": "display_data"
    }
   ],
   "source": [
    "four_plot, four_plot2 = bd_fourier_false, bd_fourier[0]\n",
    "for prof, prof2, mass in zip(four_plot, four_plot2, trial_M):\n",
    "    plt.plot(trial_k, prof)\n",
    "    plt.plot(trial_k, prof2, ':')\n",
    "    plt.axhline(mass, linestyle='--', zorder=1)\n",
    "plt.yscale('log')\n",
    "plt.xscale('log');"
   ]
  },
  {
   "cell_type": "markdown",
   "id": "6676d174-46d7-4e81-96f6-cab9e52c4b74",
   "metadata": {},
   "source": [
    "## g"
   ]
  },
  {
   "cell_type": "code",
   "execution_count": 46,
   "id": "b1da6004-f878-4e9d-97ac-d99647e6b835",
   "metadata": {},
   "outputs": [
    {
     "name": "stdout",
     "output_type": "stream",
     "text": [
      "[3.e+12 6.e+13 1.e+14]\n"
     ]
    }
   ],
   "source": [
    "print(trial_M)"
   ]
  },
  {
   "cell_type": "code",
   "execution_count": 54,
   "id": "85a276a1-0060-4e82-a8fd-78d594ff92ca",
   "metadata": {},
   "outputs": [
    {
     "name": "stdout",
     "output_type": "stream",
     "text": [
      "Should get:  $4 \\pi \\int^{\\infty}_0 r^2 g(r) dr = 1 $, when normalised by mass\n",
      "With Interpolator \n",
      "\n",
      "bound:  [0.97655719 0.99859019 0.99897545]\n",
      "gas:  [0.9859341  0.99915411 0.99938526] \n",
      "\n",
      " Without interpolator\n",
      "stellar:  [9.64514191e-10 9.64514191e-10 9.64514191e-10]\n",
      "ejected:  [0.99999946 0.99999997 0.99999998]\n",
      "bound:  [0.97710228 0.99914758 0.99953304]\n",
      "gas:  [0.98626115 0.99948853 0.99971982]\n"
     ]
    }
   ],
   "source": [
    "print('Should get:  $4 \\\\pi \\\\int^{\\\\infty}_0 r^2 g(r) dr = 1 $, when normalised by mass')\n",
    "print('With Interpolator \\n')#stellar: ', integrate.simpson(4*np.pi*(trial_r**2)*stel_real, x = trial_r)\n",
    "print('bound: ', integrate.simpson(4*np.pi*(trial_r**2)*bd_real, x = trial_r)/trial_M)\n",
    "print('gas: ', integrate.simpson(4*np.pi*(trial_r**2)*gas_real, x = trial_r)/trial_M, '\\n\\n Without interpolator')\n",
    "\n",
    "print('stellar: ', integrate.simpson(4*np.pi*(trial_r**2)*stel_real, x = trial_r)/trial_M)\n",
    "print('ejected: ', integrate.simpson(4*np.pi*(trial_r**2)*ej_real, x = trial_r)/trial_M)\n",
    "print('bound: ', integrate.simpson(4*np.pi*(trial_r**2)*bd_real_noInterp, x = trial_r)/trial_M)\n",
    "print('gas: ', integrate.simpson(4*np.pi*(trial_r**2)*gas_real_noInterp, x = trial_r)/trial_M)"
   ]
  },
  {
   "cell_type": "markdown",
   "id": "3fdf392a-0bb7-4d99-87e4-1a82adf9283d",
   "metadata": {
    "jp-MarkdownHeadingCollapsed": true
   },
   "source": [
    "#### g\n",
    "Need to go back & fix up stelGas & bcm false_fouriers, but 1st: integrate others => should get M"
   ]
  },
  {
   "cell_type": "code",
   "execution_count": 196,
   "id": "bd8020f1-5357-4a93-9c1c-96cdccba0e1a",
   "metadata": {},
   "outputs": [
    {
     "name": "stdout",
     "output_type": "stream",
     "text": [
      "Trapezoid method \n",
      " Analytical\n",
      "stellar:  [2.99985e+14 5.99970e+15 9.99950e+15]\n",
      "ejected:  [4.75116976e+12 3.48174445e+13 4.88653383e+13]\n",
      "bound:  [[inf inf inf]]\n",
      "gas:  [inf inf inf] \n",
      "\n",
      " Numerical\n",
      "stellar:  [2.16388172e+07 4.32776343e+08 7.21293906e+08]\n",
      "ejected:  [4.80874485e+12 3.52342882e+13 4.94483856e+13]\n",
      "bound:  [2.19492819e+13 1.31810123e+14 1.77624677e+14]\n",
      "gas:  [2.19492819e+13 1.31810123e+14 1.77624677e+14]\n"
     ]
    }
   ],
   "source": [
    "print('Trapezoid method \\n Analytical')\n",
    "print('stellar: ', integrate.trapezoid(stel_fourier, x=trial_k))\n",
    "print('ejected: ', integrate.trapezoid(ej_fourier, x=trial_k))\n",
    "print('bound: ', integrate.trapezoid(bd_fourier, x=trial_k))\n",
    "print('gas: ', integrate.trapezoid(gas_fourier, x=trial_k), '\\n\\n Numerical')\n",
    "\n",
    "print('stellar: ', integrate.trapezoid(stel_fourier_false, x=trial_k))\n",
    "print('ejected: ', integrate.trapezoid(ej_fourier_false, x=trial_k))\n",
    "print('bound: ', integrate.trapezoid(bd_fourier_false, x=trial_k))\n",
    "print('gas: ', integrate.trapezoid(gas_fourier_false, x=trial_k))"
   ]
  },
  {
   "cell_type": "code",
   "execution_count": 198,
   "id": "1a3f17e0-d5d8-4904-88e7-38c96f0ada66",
   "metadata": {},
   "outputs": [
    {
     "name": "stdout",
     "output_type": "stream",
     "text": [
      "Simpson method \n",
      " Analytical\n",
      "stellar:  [2.99985e+14 5.99970e+15 9.99950e+15]\n",
      "ejected:  [4.75116975e+12 3.48174444e+13 4.88653383e+13]\n",
      "bound:  [[nan nan nan]]\n",
      "gas:  [nan nan nan] \n",
      "\n",
      " Numerical\n",
      "stellar:  [2.16388184e+07 4.32776367e+08 7.21293946e+08]\n",
      "ejected:  [4.80874485e+12 3.52342881e+13 4.94483856e+13]\n",
      "bound:  [2.19492819e+13 1.31810122e+14 1.77624677e+14]\n",
      "gas:  [2.19492819e+13 1.31810122e+14 1.77624677e+14]\n"
     ]
    }
   ],
   "source": [
    "print('Simpson method \\n Analytical')\n",
    "print('stellar: ', integrate.simpson(stel_fourier, x=trial_k))\n",
    "print('ejected: ', integrate.simpson(ej_fourier, x=trial_k))\n",
    "print('bound: ', integrate.simpson(bd_fourier, x=trial_k))\n",
    "print('gas: ', integrate.simpson(gas_fourier, x=trial_k), '\\n\\n Numerical')\n",
    "\n",
    "print('stellar: ', integrate.simpson(stel_fourier_false, x=trial_k))\n",
    "print('ejected: ', integrate.simpson(ej_fourier_false, x=trial_k))\n",
    "print('bound: ', integrate.simpson(bd_fourier_false, x=trial_k))\n",
    "print('gas: ', integrate.simpson(gas_fourier_false, x=trial_k))"
   ]
  },
  {
   "cell_type": "markdown",
   "id": "31a97fa1-1b60-40c8-98aa-80d41665f563",
   "metadata": {
    "jp-MarkdownHeadingCollapsed": true
   },
   "source": [
    "# For NFW, get that $4 \\pi \\int^{\\infty}_0 r^2\\ g(r)\\ dr\\ \\simeq 1$ as should"
   ]
  },
  {
   "cell_type": "code",
   "execution_count": 201,
   "id": "7a9b0e32-5795-4501-b187-f0ae960aeb84",
   "metadata": {},
   "outputs": [],
   "source": [
    "NFWprofile_false = ccl.halos.profiles.nfw.HaloProfileNFW(mass_def = hmd_200c, concentration = cM, fourier_analytic=False) \n",
    "NFWprofile_true = ccl.halos.profiles.nfw.HaloProfileNFW(mass_def = hmd_200c, concentration = cM, fourier_analytic=True) "
   ]
  },
  {
   "cell_type": "code",
   "execution_count": 203,
   "id": "a958f2eb-bfeb-4b61-9e5f-da8fea6f06bd",
   "metadata": {},
   "outputs": [],
   "source": [
    "nfw_real_false = NFWprofile_false._real(cosmo, trial_r, trial_M, a=1)\n",
    "nfw_fourier_false = NFWprofile_false.fourier(cosmo, trial_k, trial_M, a=1)"
   ]
  },
  {
   "cell_type": "code",
   "execution_count": 205,
   "id": "cb9721d2-2c86-434a-9bad-02bf00af3979",
   "metadata": {},
   "outputs": [],
   "source": [
    "nfw_real_true = NFWprofile_false._real(cosmo, trial_r, trial_M, a=1)\n",
    "nfw_fourier_true = NFWprofile_false.fourier(cosmo, trial_k, trial_M, a=1)"
   ]
  },
  {
   "cell_type": "code",
   "execution_count": 207,
   "id": "6e6d3554-d83f-4183-81ba-3419ebfa3f29",
   "metadata": {},
   "outputs": [
    {
     "name": "stdout",
     "output_type": "stream",
     "text": [
      "Masses (solar masses):  [3.e+12 6.e+13 1.e+14]\n",
      "Trapezoid method\n",
      "Analytical:  [256456.55358097  36352.54432982  25289.28933789]\n",
      "Numerical:  [6.31351755e+13 4.60458126e+14 6.40687624e+14]\n",
      "\n",
      "Simpson method\n",
      "Analytical:  [6.31351755e+13 4.60458126e+14 6.40687624e+14]\n",
      "Numerical:  [256456.55358097  36352.54432982  25289.28933789]\n"
     ]
    }
   ],
   "source": [
    "print('Masses (solar masses): ', trial_M)\n",
    "print('Trapezoid method')\n",
    "print('Analytical: ', integrate.simpson(nfw_fourier_true*trial_k**2, x=trial_k)/trial_M*4*np.pi)\n",
    "print('Numerical: ', integrate.simpson(nfw_fourier_false, x=trial_k))\n",
    "\n",
    "print('\\nSimpson method')\n",
    "print('Analytical: ', integrate.simpson(nfw_fourier_true, x=trial_k))\n",
    "print('Numerical: ', integrate.simpson(nfw_fourier_false*4*np.pi*trial_k**2, x=trial_k)/trial_M)"
   ]
  },
  {
   "cell_type": "code",
   "execution_count": 209,
   "id": "b42fd71d-b17c-4c89-9a49-ab81a0e5ccb8",
   "metadata": {},
   "outputs": [
    {
     "name": "stdout",
     "output_type": "stream",
     "text": [
      "[0.04751709 0.13030501 0.1560823 ]\n",
      "[-6.01351755e+13 -4.00458126e+14 -5.40687624e+14]\n",
      "[0.98616499 0.99842835 0.99902432]\n"
     ]
    }
   ],
   "source": [
    "print(trial_M / integrate.simpson(nfw_fourier_true, x=trial_k) )\n",
    "print(trial_M - integrate.simpson(nfw_fourier_true, x=trial_k))\n",
    "print(integrate.simpson(nfw_real_true*4*np.pi*trial_r**2, x=trial_r)/trial_M)"
   ]
  },
  {
   "cell_type": "code",
   "execution_count": 211,
   "id": "022c9e10-da08-44f8-af36-8a05156abf62",
   "metadata": {},
   "outputs": [
    {
     "data": {
      "image/png": "[encoded data removed]",
      "text/plain": [
       "<Figure size 640x480 with 1 Axes>"
      ]
     },
     "metadata": {},
     "output_type": "display_data"
    }
   ],
   "source": [
    "i = 0\n",
    "for mass in zip(trial_M):\n",
    "    plt.plot(trial_k, nfw_fourier_true[i], 'r--', zorder=1)\n",
    "    plt.plot(trial_k, nfw_fourier_false[i], 'g:', zorder=2)\n",
    "    plt.axhline(mass, zorder=3)\n",
    "    i+=1\n",
    "plt.grid(True)\n",
    "plt.xscale('log');"
   ]
  },
  {
   "cell_type": "markdown",
   "id": "e5e1b64b-b1ef-453e-9fa5-e2bf96dee03a",
   "metadata": {},
   "source": [
    "$\\rho(k)\\ = \\frac{M}{a^3} \\bar{g}(k)\\ $, where $\\bar{g}(k \\to 0)\\ = 1 $ if normalised correctly.   \n",
    "Here, using $a = 1$, so [profile/mass] = g(k)"
   ]
  },
  {
   "cell_type": "code",
   "execution_count": 214,
   "id": "015be028-fba6-4a83-bcb5-4692b35ee06d",
   "metadata": {},
   "outputs": [
    {
     "name": "stdout",
     "output_type": "stream",
     "text": [
      "[1.07183901 1.07185409 1.07186747 ... 0.02982888 0.02982138 0.02981389]\n",
      "[1.00993748 1.00993897 1.00994028 ... 0.00327209 0.00327087 0.00326965]\n",
      "[1.00725998 1.00726098 1.00726187 ... 0.00229443 0.00229477 0.00229511]\n"
     ]
    }
   ],
   "source": [
    "for mass, prof in zip(trial_M, nfw_fourier_false):\n",
    "    print(prof/mass)"
   ]
  },
  {
   "cell_type": "code",
   "execution_count": 216,
   "id": "6b8a1cd7-3069-4ff6-9304-ad2d243042f4",
   "metadata": {
    "scrolled": true
   },
   "outputs": [
    {
     "name": "stdout",
     "output_type": "stream",
     "text": [
      "       mass:  3000000000000.0 ;  3e+12\n",
      "Real/Mass * 4*pi*r^2:  0.9861649903132987 \n",
      "___\n",
      "Real/Mass:  27.080328338116015 \n",
      "___\n",
      "Analytical fourier/Mass:  7730614.677901178 \n",
      "___\n",
      "Analytical fourier/Mass * 4*pi*r^2:  1.6566730565451005e+23 \n",
      "___\n",
      "Numerical fourier/Mass:  7730614.677901178 \n",
      "-----\n",
      "       mass:  60000000000000.0 ;  6e+13\n",
      "Real/Mass * 4*pi*r^2:  0.9984283537352867 \n",
      "___\n",
      "Real/Mass:  5.4284414170330955 \n",
      "___\n",
      "Analytical fourier/Mass:  1275039.7996805059 \n",
      "___\n",
      "Analytical fourier/Mass * 4*pi*r^2:  1.9564494236749356e+22 \n",
      "___\n",
      "Numerical fourier/Mass:  1275039.7996805059 \n",
      "-----\n",
      "       mass:  100000000000000.0 ;  1e+14\n",
      "Real/Mass * 4*pi*r^2:  0.9990243150838364 \n",
      "___\n",
      "Real/Mass:  4.0160981336635055 \n",
      "___\n",
      "Analytical fourier/Mass:  911134.9268983336 \n",
      "___\n",
      "Analytical fourier/Mass * 4*pi*r^2:  1.3276222086029502e+22 \n",
      "___\n",
      "Numerical fourier/Mass:  911134.9268983336 \n",
      "-----\n"
     ]
    }
   ],
   "source": [
    "for mass, profA, profB, profR in zip(trial_M, nfw_fourier_true, nfw_fourier_false, nfw_real_true):\n",
    "    print('       mass: ', mass, f';  {mass:.1g}')\n",
    "    print('Real/Mass * 4*pi*r^2: ', integrate.simpson(4*np.pi*(trial_r**2)*profR/mass, x=trial_r), '\\n___')\n",
    "    print('Real/Mass: ', integrate.simpson(profR/mass, x=trial_r), '\\n___')\n",
    "    print('Analytical fourier/Mass: ', integrate.simpson(profA/mass, x=trial_r), '\\n___')\n",
    "    print('Analytical fourier/Mass * 4*pi*r^2: ', integrate.simpson(4*np.pi*(trial_r**2)*profA/mass, x=trial_r), '\\n___')\n",
    "    print('Numerical fourier/Mass: ', integrate.simpson(profB/mass, x=trial_r), '\\n-----')\n",
    "    "
   ]
  },
  {
   "cell_type": "markdown",
   "id": "e9af5271-55d5-4eff-aa9c-e3e798bfe72f",
   "metadata": {},
   "source": [
    "For NFW, get that $4 \\pi \\int^{\\infty}_0 r^2\\ g(r)\\ dr\\ \\simeq 1$ as should"
   ]
  },
  {
   "cell_type": "code",
   "execution_count": null,
   "id": "45c94859-f944-4ba6-9b05-9482247d1d83",
   "metadata": {},
   "outputs": [],
   "source": []
  },
  {
   "cell_type": "markdown",
   "id": "9c2793f2-7e44-4e36-824f-e8cffb75cede",
   "metadata": {},
   "source": [
    "# Check Bound Gas"
   ]
  },
  {
   "cell_type": "code",
   "execution_count": 65,
   "id": "dcb26a94-4636-4ad1-aea2-021a340465f2",
   "metadata": {},
   "outputs": [
    {
     "name": "stdout",
     "output_type": "stream",
     "text": [
      "False\n",
      "[1.00055817 1.00055817 1.00055817 ... 1.00055817 1.00055817 1.00055817]\n",
      "[ 3.          3.26984127  3.53968254  3.80952381  4.07936508  4.34920635\n",
      "  4.61904762  4.88888889  5.15873016  5.42857143  5.6984127   5.96825397\n",
      "  6.23809524  6.50793651  6.77777778  7.04761905  7.31746032  7.58730159\n",
      "  7.85714286  8.12698413  8.3968254   8.66666667  8.93650794  9.20634921\n",
      "  9.47619048  9.74603175 10.01587302 10.28571429 10.55555556 10.82539683\n",
      " 11.0952381  11.36507937 11.63492063 11.9047619  12.17460317 12.44444444\n",
      " 12.71428571 12.98412698 13.25396825 13.52380952 13.79365079 14.06349206\n",
      " 14.33333333 14.6031746  14.87301587 15.14285714 15.41269841 15.68253968\n",
      " 15.95238095 16.22222222 16.49206349 16.76190476 17.03174603 17.3015873\n",
      " 17.57142857 17.84126984 18.11111111 18.38095238 18.65079365 18.92063492\n",
      " 19.19047619 19.46031746 19.73015873 20.        ]\n"
     ]
    }
   ],
   "source": [
    "bd_profile = BCMprofiles.BoundGasProfile(cosmo, hmd_200c, cM)\n",
    "gamma_list = np.linspace(bd_profile.gammaRange[0], bd_profile.gammaRange[1], bd_profile.ngamma)\n",
    "prof1 = bd_profile._real(cosmo, trial_r, 1E14, scale_a=1, Gamma=trial_gamma, call_interp=False)\n",
    "prof2 = bd_profile._real(cosmo, trial_r, 1E14,  scale_a=1, Gamma=trial_gamma, call_interp=True)\n",
    "print(prof1/prof2)\n",
    "print(gamma_list)"
   ]
  },
  {
   "cell_type": "code",
   "execution_count": 71,
   "id": "808bd7fb-d00e-4fe5-9e4c-4a6fddc4e010",
   "metadata": {},
   "outputs": [
    {
     "name": "stdout",
     "output_type": "stream",
     "text": [
      "Help on BoundGasProfile in module BCMprofiles_Copy3 object:\n",
      "\n",
      "class BoundGasProfile(pyccl.halos.profiles.profile_base.HaloProfile)\n",
      " |  BoundGasProfile(self, cosmo, mass_def, concentration, fourier_analytic=True, gammaRange=(3, 20), ngamma=64, qrange=(0.0001, 100.0), nq=64, limInt=(0.0001, 10000.0))\n",
      " |\n",
      " |  Creating a class for the bound gas density profile where:\n",
      " |  .. math::\n",
      " |      \\rho_b(r)\\ = Ma ^{-3} & g_b(r)\\ = \\frac{1}{V_b} \\left( \\frac{log(1 + \\frac{r}{r_s})}{\\frac{r}{r_s}} \\right)^{\\frac{1}{\\Gamma - 1}}     , where log \\equiv ln.\n",
      " |      V_b \\equiv 4\\pi r_s^3 I_b(\\frac{1}{\\Gamma - 1}, 0)\\ .\n",
      " |      I_b(\\gamma, q)\\ = \\int^{\\infty}_0 dx\\ x^2 \\left( \\frac{log(1+x)}{x} \\right)^{\\gamma} j_0(qx)\\, with q = kr_s [in Fourier space].\n",
      "ight)^{\f",
      "rac{1}{\\Gamma - 1}}amma - 1}, 0)\\ = \\int^{\\infty}_0 dx\\ x^2 \\left( \\frac{log(1+x)}{x} \\right)^{\\frac{1}{\\Gamma - 1}} j_0(0)\\  = \\int^{\\infty}_0 dx\\ x^2 \\left( \f",
      "rac{log(1+x)}{x} \n",
      " |      As j_0 is a Besel function, & j_0(0)\\ = 1 .\n",
      " |\n",
      " |  Therefore:\n",
      " |  .. math::\n",
      " |      \\rho_x(r)\\ = \\frac{M f_x\\ }{4\\pi r_s^3 a^{3}} \\frac{1}{\\int^{\\infty}_0 dx\\ x^2 \\left( \\frac{log(1+x)}{x} \\right)^{\\frac{1}{\\Gamma - 1}}} \\left( \\frac{log(1 + \\frac{r}{r_s})}{\\frac{r}{r_s}} \\right)^{\\frac{1}{\\Gamma - 1}}.\n",
      " |\n",
      " |  The normalised Fourier profile is then given by:\n",
      " |  .. math::\n",
      " |  \\tilde{g}_b(k)\\ = \\frac{I_b(1/(\\Gamma - 1),q)\\ }{I_b(1/(\\Gamma - 1),0)\\ } , with q = kr_s.\n",
      " |\n",
      " |  Method resolution order:\n",
      " |      BoundGasProfile\n",
      " |      pyccl.halos.profiles.profile_base.HaloProfile\n",
      " |      pyccl._core.schema.CCLAutoRepr\n",
      " |      pyccl._core.schema.CCLObject\n",
      " |      abc.ABC\n",
      " |      builtins.object\n",
      " |\n",
      " |  Methods defined here:\n",
      " |\n",
      " |  __init__(self, cosmo, mass_def, concentration, fourier_analytic=True, gammaRange=(3, 20), ngamma=64, qrange=(0.0001, 100.0), nq=64, limInt=(0.0001, 10000.0))\n",
      " |      Initialize self.  See help(type(self)) for accurate signature.\n",
      " |\n",
      " |  ----------------------------------------------------------------------\n",
      " |  Data and other attributes defined here:\n",
      " |\n",
      " |  __abstractmethods__ = frozenset()\n",
      " |\n",
      " |  __annotations__ = {}\n",
      " |\n",
      " |  __signature__ = <Signature (self, cosmo, mass_def, concentration...0.0...\n",
      " |\n",
      " |  ----------------------------------------------------------------------\n",
      " |  Methods inherited from pyccl.halos.profiles.profile_base.HaloProfile:\n",
      " |\n",
      " |  convergence(self, cosmo, r, M, *, a_lens, a_source)\n",
      " |      convergence(cosmo, r, M, *, a_lens, a_source)\n",
      " |      Returns the convergence as a function of cosmology,\n",
      " |      radius, halo mass and the scale factors of the source\n",
      " |      and the lens.\n",
      " |\n",
      " |      .. math::\n",
      " |         \\kappa(R) = \\frac{\\Sigma(R)}{\\Sigma_{\\rm crit}},\n",
      " |\n",
      " |      where :math:`\\Sigma(R)` is the 2D projected surface mass density\n",
      " |      (see :meth:`projected`), and :math:`\\Sigma_{\\rm crit}` is\n",
      " |      the critical surface density (see\n",
      " |      :meth:`~pyccl.background.sigma_critical`).\n",
      " |\n",
      " |      Args:\n",
      " |          cosmo (:class:`~pyccl.cosmology.Cosmology`): A Cosmology object.\n",
      " |          r (:obj:`float` or `array`): comoving radius.\n",
      " |          M (:obj:`float` or `array`): halo mass.\n",
      " |          a_lens (:obj:`float`): scale factor of lens.\n",
      " |          a_source (:obj:`float` or `array`): scale factor of source.\n",
      " |              If an array, it must have the same shape as ``r``.\n",
      " |\n",
      " |      Returns:\n",
      " |          (:obj:`float` or `array`): convergence :math:`\\kappa`. The\n",
      " |          shape of the output will be ``(N_M, N_r)`` where ``N_r`` and\n",
      " |          ``N_m`` are the sizes of ``r`` and ``M`` respectively. If\n",
      " |          ``r`` or ``M`` are scalars, the corresponding dimension will\n",
      " |          be squeezed out on output.\n",
      " |\n",
      " |  cumul2d(self, cosmo, r_t, M, a)\n",
      " |      cumul2d(cosmo, r_t, M, a)\n",
      " |      Returns the 2D cumulative surface density as a\n",
      " |      function of cosmology, radius, halo mass and scale\n",
      " |      factor.\n",
      " |\n",
      " |      .. math::\n",
      " |         \\Sigma(<R)= \\frac{2}{R^2} \\int dR'\\, R'\\,\n",
      " |         \\Sigma(R')\n",
      " |\n",
      " |      Args:\n",
      " |          cosmo (:class:`~pyccl.cosmology.Cosmology`): a Cosmology object.\n",
      " |          r_t (:obj:`float` or `array`): transverse comoving radius in Mpc.\n",
      " |          M (:obj:`float` or `array`): halo mass in units of M_sun.\n",
      " |          a (:obj:`float`): scale factor.\n",
      " |\n",
      " |      Returns:\n",
      " |          (:obj:`float` or `array`): cumulative surface density. The shape of the\n",
      " |          output will be ``(N_M, N_r)`` where ``N_r`` and ``N_m`` are\n",
      " |          the sizes of ``r`` and ``M`` respectively. If ``r`` or ``M``\n",
      " |          are scalars, the corresponding dimension will be\n",
      " |          squeezed out on output.\n",
      " |\n",
      " |  fourier(self, cosmo, k, M, a)\n",
      " |      fourier(cosmo, k, M, a)\n",
      " |      Returns the Fourier-space value of the profile as a\n",
      " |      function of cosmology, wavenumber, halo mass and\n",
      " |      scale factor.\n",
      " |\n",
      " |      .. math::\n",
      " |         \\rho(k)=\\frac{1}{2\\pi^2} \\int dr\\, r^2\\,\n",
      " |         \\rho(r)\\, j_0(k r)\n",
      " |\n",
      " |      Args:\n",
      " |          cosmo (:class:`~pyccl.cosmology.Cosmology`): a Cosmology object.\n",
      " |          k (:obj:`float` or `array`): comoving wavenumber (in :math:`Mpc^{-1}`).\n",
      " |          M (:obj:`float` or `array`): halo mass.\n",
      " |          a (:obj:`float`): scale factor.\n",
      " |\n",
      " |      Returns:\n",
      " |          (:obj:`float` or `array`): Fourier-space profile. The shape of the\n",
      " |          output will be ``(N_M, N_k)`` where ``N_k`` and ``N_m`` are\n",
      " |          the sizes of ``k`` and ``M`` respectively. If ``k`` or ``M``\n",
      " |          are scalars, the corresponding dimension will be\n",
      " |          squeezed out on output.\n",
      " |\n",
      " |  get_normalization(self, cosmo=None, a=None, *, hmc=None)\n",
      " |      Profiles may be normalized by an overall function of redshift\n",
      " |      (or scale factor). This function may be cosmology-dependent and\n",
      " |      often comes from integrating certain halo properties over mass.\n",
      " |      This method returns this normalizing factor. For example,\n",
      " |      to get the normalized profile in real space, one would call\n",
      " |      the :meth:`real` method, and then **divide** the result by the value\n",
      " |      returned by this method.\n",
      " |\n",
      " |      Args:\n",
      " |          cosmo (:class:`~pyccl.cosmology.Cosmology`): a Cosmology object.\n",
      " |          a (:obj:`float`): scale factor.\n",
      " |          hmc (:class:`~pyccl.halos.halo_model.HMCalculator`): a halo\n",
      " |              model calculator object.\n",
      " |\n",
      " |      Returns:\n",
      " |          float: normalization factor of this profile.\n",
      " |\n",
      " |  magnification(self, cosmo, r, M, *, a_lens, a_source)\n",
      " |      magnification(cosmo, r, M, a_lens, a_source)\n",
      " |      Returns the magnification for input parameters.\n",
      " |\n",
      " |      .. math::\n",
      " |         \\mu(R) = \\frac{1}{\\left[(1 - \\kappa(R))^2 -\n",
      " |         \\vert \\gamma(R) \\vert^2 \\right]]},\n",
      " |\n",
      " |      where :math:`\\gamma(R)` is the shear and :math:`\\kappa(R)` is the\n",
      " |      convergence (see :meth:`shear` and :meth:`convergence`).\n",
      " |\n",
      " |      Args:\n",
      " |          cosmo (:class:`~pyccl.cosmology.Cosmology`): A Cosmology object.\n",
      " |          r (:obj:`float` or `array`): comoving radius in Mpc.\n",
      " |          M (:obj:`float` or `array`): halo mass in units of M_sun.\n",
      " |          a_lens (:obj:`float`): scale factor of lens.\n",
      " |          a_source (:obj:`float` or `array`): source's scale factor.\n",
      " |              If array, it must have the same shape as `r`.\n",
      " |\n",
      " |      Returns:\n",
      " |          (:obj:`float` or `array`): magnification :math:`\\mu`. The shape\n",
      " |          of the output will be ``(N_M, N_r)`` where ``N_r`` and ``N_m``\n",
      " |          are the sizes of ``r`` and ``M`` respectively. If ``r`` or ``M``\n",
      " |          are scalars, the corresponding dimension will be\n",
      " |          squeezed out on output.\n",
      " |\n",
      " |  projected(self, cosmo, r_t, M, a)\n",
      " |      projected(cosmo, r_t, M, a)\n",
      " |      Returns the 2D projected profile as a function of\n",
      " |      cosmology, radius, halo mass and scale factor.\n",
      " |\n",
      " |      .. math::\n",
      " |         \\Sigma(R)= \\int dr_\\parallel\\,\n",
      " |         \\rho(\\sqrt{r_\\parallel^2 + R^2})\n",
      " |\n",
      " |      Args:\n",
      " |          cosmo (:class:`~pyccl.cosmology.Cosmology`): a Cosmology object.\n",
      " |          r_t (:obj:`float` or `array`): transverse comoving radius in Mpc.\n",
      " |          M (:obj:`float` or `array`): halo mass in units of M_sun.\n",
      " |          a (:obj:`float`): scale factor.\n",
      " |\n",
      " |      Returns:\n",
      " |          (:obj:`float` or `array`): projected profile. The shape of the\n",
      " |          output will be `(N_M, N_r)` where `N_r` and `N_m` are\n",
      " |          the sizes of `r` and `M` respectively. If `r` or `M`\n",
      " |          are scalars, the corresponding dimension will be\n",
      " |          squeezed out on output.\n",
      " |\n",
      " |  real(self, cosmo, r, M, a)\n",
      " |      real(cosmo, r, M, a)\n",
      " |      Returns the 3D real-space value of the profile as a\n",
      " |      function of cosmology, radius, halo mass and scale factor.\n",
      " |\n",
      " |      Args:\n",
      " |          cosmo (:class:`~pyccl.cosmology.Cosmology`): a Cosmology object.\n",
      " |          r (:obj:`float` or `array`): comoving radius in Mpc.\n",
      " |          M (:obj:`float` or `array`): halo mass in units of M_sun.\n",
      " |          a (:obj:`float`): scale factor.\n",
      " |\n",
      " |      Returns:\n",
      " |          (:obj:`float` or `array`): halo profile. The shape of the\n",
      " |          output will be `(N_M, N_r)` where `N_r` and `N_m` are\n",
      " |          the sizes of `r` and `M` respectively. If `r` or `M`\n",
      " |          are scalars, the corresponding dimension will be\n",
      " |          squeezed out on output.\n",
      " |\n",
      " |  reduced_shear(self, cosmo, r, M, *, a_lens, a_source)\n",
      " |      reduced_shear(cosmo, r, M, *, a_lens, a_source)\n",
      " |      Returns the reduced shear as a function of cosmology,\n",
      " |      radius, halo mass and the scale factors of the\n",
      " |      source and the lens.\n",
      " |\n",
      " |      .. math::\n",
      " |         g_t (R) = \\frac{\\gamma(R)}{(1 - \\kappa(R))},\n",
      " |\n",
      " |      where :math:`\\gamma(R)` is the shear and :math:`\\kappa(R)` is the\n",
      " |      convergence.\n",
      " |\n",
      " |      Args:\n",
      " |          cosmo (:class:`~pyccl.cosmology.Cosmology`): A Cosmology object.\n",
      " |          r (:obj:`float` or `array`): comoving radius in Mpc.\n",
      " |          M (:obj:`float` or `array`): halo mass in units of M_sun.\n",
      " |          a_lens (:obj:`float`): scale factor of lens.\n",
      " |          a_source (:obj:`float` or `array`): source's scale factor.\n",
      " |              If array, it must have the same shape as `r`.\n",
      " |\n",
      " |      Returns:\n",
      " |          (:obj:`float` or `array`): reduced shear :math:`g_t`. The shape\n",
      " |          of the output will be ``(N_M, N_r)`` where ``N_r`` and ``N_m``\n",
      " |          are the sizes of ``r`` and ``M`` respectively. If ``r`` or\n",
      " |          ``M`` are scalars, the corresponding dimension will be\n",
      " |          squeezed out on output.\n",
      " |\n",
      " |  shear(self, cosmo, r, M, *, a_lens, a_source)\n",
      " |      shear(cosmo, r, M, *, a_lens, a_source)\n",
      " |      Returns the shear (tangential) as a function of cosmology,\n",
      " |      radius, halo mass and the scale factors of the\n",
      " |      source and the lens.\n",
      " |\n",
      " |      .. math::\n",
      " |         \\gamma(R) = \\frac{\\Delta\\Sigma(R)}{\\Sigma_{\\mathrm{crit}}} =\n",
      " |         \\frac{\\overline{\\Sigma}(< R) -\n",
      " |         \\Sigma(R)}{\\Sigma_{\\mathrm{crit}}},\n",
      " |\n",
      " |      where :math:`\\overline{\\Sigma}(< R)` is cumulative surface density\n",
      " |      (see :meth:`cumul2d`), :math:`\\Sigma(R)` is the projected 2D density\n",
      " |      (see :meth:`projected`), and :math:`\\Sigma_{\\rm crit}` is the\n",
      " |      critical surface density (see\n",
      " |      :meth:`~pyccl.background.sigma_critical`).\n",
      " |\n",
      " |      Args:\n",
      " |          cosmo (:class:`~pyccl.cosmology.Cosmology`): A Cosmology object.\n",
      " |          r (:obj:`float` or `array`): comoving radius in Mpc.\n",
      " |          M (:obj:`float` or `array`): halo mass in units of M_sun.\n",
      " |          a_lens (:obj:`float`): scale factor of lens.\n",
      " |          a_source (:obj:`float` or `array`): source's scale factor.\n",
      " |              If array, it must have the same shape as `r`.\n",
      " |\n",
      " |      Returns:\n",
      " |          (:obj:`float` or `array`): shear :math:`\\gamma`. The shape of the\n",
      " |          output will be ``(N_M, N_r)`` where ``N_r`` and ``N_m`` are\n",
      " |          the sizes of ``r`` and ``M`` respectively. If ``r`` or ``M``\n",
      " |          are scalars, the corresponding dimension will be\n",
      " |          squeezed out on output.\n",
      " |\n",
      " |  update_precision_fftlog = update_parameters(self, **kwargs)\n",
      " |      Update the precision of FFTLog for the Hankel transforms.\n",
      " |\n",
      " |      Arguments\n",
      " |      ---------\n",
      " |      padding_lo_fftlog: :obj:`float`\n",
      " |          Factor by which the minimum scale is multiplied to avoid\n",
      " |          aliasing. Default: 0.1.\n",
      " |      padding_hi_fftlog: :obj:`float`\n",
      " |          Factor by which the maximum scale is multiplied to avoid\n",
      " |          aliasing. Default: 10.\n",
      " |      n_per_decade : :obj:`float`\n",
      " |          Samples per decade for the Hankel transforms. Default: 100.\n",
      " |      extrapol : {'linx_liny', 'linx_logy'}\n",
      " |          Extrapolation type when FFTLog has narrower output support.\n",
      " |          Default ``'linx_liny'``.\n",
      " |      padding_lo_extra: :obj:`float`\n",
      " |          Additional minimum scale padding for double Hankel transforms,\n",
      " |          used when computing 2D projected and cumulative profiles. In\n",
      " |          these, the first transform goes from 3D real space to\n",
      " |          Fourier, and the second transform goes from Fourier to 2D\n",
      " |          real space.\n",
      " |          Default: 0.1.\n",
      " |      padding_hi_extra: :obj:`float`\n",
      " |          As ``padding_lo_extra`` for the maximum scale.\n",
      " |          Default: 10.\n",
      " |      large_padding_2D : :obj:`bool`\n",
      " |          Override ``padding_xx_extra`` in the intermediate transform,\n",
      " |          and use ``padding_xx_fftlog``. The default is False.\n",
      " |      plaw_fourier: :obj:`float`\n",
      " |          FFTLog pre-whitens its arguments (makes them flatter) to avoid\n",
      " |          aliasing. The ``plaw_fourier`` parameter describes the tilt of\n",
      " |          the profile, :math:`P(r) \\propto r^{\\mathrm{tilt}}`, for\n",
      " |          standard 3D transforms. Default: -1.5\n",
      " |      plaw_fourier_projected: :obj:`float`\n",
      " |          As ``plaw_fourier`` for 2D transforms (when computing 2D\n",
      " |          projected or cumulative profiles. Default: -1.0.\n",
      " |\n",
      " |  ----------------------------------------------------------------------\n",
      " |  Data descriptors inherited from pyccl.halos.profiles.profile_base.HaloProfile:\n",
      " |\n",
      " |  is_number_counts\n",
      " |      If ``True``, this profile represents source-count overdensities,\n",
      " |      normalised by the mean number density within their survey window\n",
      " |      function. This must be propagated when estimated super-sample\n",
      " |      effects in the covariance matrix.\n",
      " |\n",
      " |  ----------------------------------------------------------------------\n",
      " |  Methods inherited from pyccl._core.schema.CCLAutoRepr:\n",
      " |\n",
      " |  __repr__(self)\n",
      " |      Return repr(self).\n",
      " |\n",
      " |  ----------------------------------------------------------------------\n",
      " |  Methods inherited from pyccl._core.schema.CCLObject:\n",
      " |\n",
      " |  __eq__(self, other)\n",
      " |      Return self==value.\n",
      " |\n",
      " |  __hash__(self)\n",
      " |      Return hash(self).\n",
      " |\n",
      " |  __setattr__(self, name, value)\n",
      " |      Implement setattr(self, name, value).\n",
      " |\n",
      " |  update_parameters(self, **kwargs)\n",
      " |\n",
      " |  ----------------------------------------------------------------------\n",
      " |  Class methods inherited from pyccl._core.schema.CCLObject:\n",
      " |\n",
      " |  __init_subclass__(**kwargs) from abc.ABCMeta\n",
      " |      This method is called when a class is subclassed.\n",
      " |\n",
      " |      The default implementation does nothing. It may be\n",
      " |      overridden to extend subclasses.\n",
      " |\n",
      " |  ----------------------------------------------------------------------\n",
      " |  Static methods inherited from pyccl._core.schema.CCLObject:\n",
      " |\n",
      " |  __new__(cls, *args, **kwargs)\n",
      " |      Create and return a new object.  See help(type) for accurate signature.\n",
      " |\n",
      " |  ----------------------------------------------------------------------\n",
      " |  Data descriptors inherited from pyccl._core.schema.CCLObject:\n",
      " |\n",
      " |  __dict__\n",
      " |      dictionary for instance variables\n",
      " |\n",
      " |  __weakref__\n",
      " |      list of weak references to the object\n",
      "\n"
     ]
    }
   ],
   "source": [
    "help(bd_profile)"
   ]
  },
  {
   "cell_type": "code",
   "execution_count": 67,
   "id": "96614728-c60a-40bd-98aa-13409f57a979",
   "metadata": {
    "scrolled": true
   },
   "outputs": [
    {
     "name": "stderr",
     "output_type": "stream",
     "text": [
      "/var/folders/fj/p1qj16jj5pl9df1rgw6p12tc000vry/T/ipykernel_77073/3677888448.py:11: IntegrationWarning: The algorithm does not converge.  Roundoff error is detected\n",
      "  in the extrapolation table.  It is assumed that the requested tolerance\n",
      "  cannot be achieved, and that the returned result (if full_output = 1) is \n",
      "  the best which can be obtained.\n",
      "  I0_array[i] =  integrate.quad(bd_profile._innerInt, 1E-5, 1E5, args = 1/(g-1))[0]\n"
     ]
    },
    {
     "data": {
      "image/png": "[encoded data removed]",
      "text/plain": [
       "<Figure size 640x480 with 1 Axes>"
      ]
     },
     "metadata": {},
     "output_type": "display_data"
    }
   ],
   "source": [
    "I0_array = np.zeros(bd_profile.ngamma)\n",
    "gamma_list = np.linspace(1.05, 3, 64)\n",
    "#gamma_list = np.linspace(bd_profile.GammaRange[0], bd_profile.GammaRange[1], bd_profile.nGamma)\n",
    "\n",
    "for i, g in enumerate(gamma_list):\n",
    "    I0_array[i] =  integrate.quad(bd_profile._innerInt, 1E-4, 1E4, args = 1/(g-1))[0]\n",
    "#func_normQ0 = interpol.interp1d(gamma_list, I0_array)\n",
    "plt.plot(gamma_list, I0_array, 'r-')\n",
    "\n",
    "for i, g in enumerate(gamma_list):\n",
    "    I0_array[i] =  integrate.quad(bd_profile._innerInt, 1E-5, 1E5, args = 1/(g-1))[0]\n",
    "#func_normQ0 = interpol.interp1d(gamma_list, I0_array)\n",
    "plt.plot(gamma_list, I0_array, 'k--')\n",
    "plt.yscale('log')"
   ]
  },
  {
   "cell_type": "code",
   "execution_count": 73,
   "id": "1d81d7f4-9bcd-4e67-9294-bb369a06d69a",
   "metadata": {},
   "outputs": [
    {
     "data": {
      "text/plain": [
       "<bound method BoundGasProfile._norm_interpol2 of <BCMprofiles_Copy3.BoundGasProfile object at 0x1517f7a70>>"
      ]
     },
     "execution_count": 73,
     "metadata": {},
     "output_type": "execute_result"
    }
   ],
   "source": [
    "bd_profile._norm_interpol2"
   ]
  },
  {
   "cell_type": "code",
   "execution_count": null,
   "id": "6ca45e60-76ee-4009-9b3b-73650bf3d0b7",
   "metadata": {},
   "outputs": [],
   "source": []
  },
  {
   "cell_type": "code",
   "execution_count": null,
   "id": "3620311c-3394-49d8-9242-39ceae43b92d",
   "metadata": {},
   "outputs": [],
   "source": []
  },
  {
   "cell_type": "markdown",
   "id": "85d3b553-479f-466f-9572-25971f6d8693",
   "metadata": {
    "jp-MarkdownHeadingCollapsed": true
   },
   "source": [
    "#### THERE DOES SEEM TO BE A PROBLEM WITH THE INTERPOLATOR"
   ]
  },
  {
   "cell_type": "code",
   "execution_count": 56,
   "id": "6e1e81ba-29e0-4fb7-ba92-3fa15cfe7ba4",
   "metadata": {},
   "outputs": [
    {
     "name": "stdout",
     "output_type": "stream",
     "text": [
      "Masses are: [3.e+12 6.e+13 1.e+14]\n",
      "        $4 \\pi \\int^{\\infty}_0 r^2 g(r) dr$\n",
      "With interpolator:  [2.92967158e+12 5.99154116e+13 9.98975446e+13]\n",
      "Without interpolator:  [2.93130684e+12 5.99488545e+13 9.99533043e+13]\n",
      "        Normalised by mass\n",
      "With interpolator:  [0.97655719 0.99859019 0.99897545]\n",
      "Without interpolator:  [0.97710228 0.99914758 0.99953304]\n"
     ]
    }
   ],
   "source": [
    "print('Masses are:', trial_M)\n",
    "print('        $4 \\\\pi \\\\int^{\\\\infty}_0 r^2 g(r) dr$')\n",
    "print('With interpolator: ', integrate.simpson(4*np.pi*(trial_r**2)*bd_real, x = trial_r))\n",
    "print('Without interpolator: ', integrate.simpson(4*np.pi*(trial_r**2)*bd_real_noInterp, x = trial_r))\n",
    "print('        Normalised by mass')\n",
    "print('With interpolator: ', integrate.simpson(4*np.pi*(trial_r**2)*bd_real, x = trial_r)/trial_M)\n",
    "print('Without interpolator: ', integrate.simpson(4*np.pi*(trial_r**2)*bd_real_noInterp, x = trial_r)/trial_M)"
   ]
  },
  {
   "cell_type": "code",
   "execution_count": null,
   "id": "027ca72a-ecc2-427f-ad2d-f28b7f7dffde",
   "metadata": {},
   "outputs": [],
   "source": []
  },
  {
   "cell_type": "code",
   "execution_count": 59,
   "id": "98c08731-d0ea-4db9-af72-bc2a13696952",
   "metadata": {},
   "outputs": [
    {
     "name": "stdout",
     "output_type": "stream",
     "text": [
      "[1.00055817 1.00055817 1.00055817]\n"
     ]
    }
   ],
   "source": [
    "print((integrate.simpson(4*np.pi*(trial_r**2)*bd_real_noInterp, x = trial_r)/trial_M) / (integrate.simpson(4*np.pi*(trial_r**2)*bd_real, x = trial_r)/trial_M))"
   ]
  },
  {
   "cell_type": "code",
   "execution_count": 61,
   "id": "9d049e54-9395-4cf6-ab56-41edba4a2bc5",
   "metadata": {},
   "outputs": [
    {
     "data": {
      "image/png": "[encoded data removed]",
      "text/plain": [
       "<Figure size 640x480 with 1 Axes>"
      ]
     },
     "metadata": {},
     "output_type": "display_data"
    },
    {
     "data": {
      "image/png": "[encoded data removed]",
      "text/plain": [
       "<Figure size 640x480 with 1 Axes>"
      ]
     },
     "metadata": {},
     "output_type": "display_data"
    }
   ],
   "source": [
    "colour1, colour2 = ['tab:purple','tab:red','tab:cyan'], ['tab:orange','tab:green','tab:blue']\n",
    "for mass, col1, col2, interp, nointerp in zip(trial_M, colour1, colour2, bd_real, bd_real_noInterp):\n",
    "    plt.plot(trial_r, interp, ':', color=col1)#, label=f'Interpolated: {mass:.1g} $M \\\\odot $')\n",
    "    plt.plot(trial_r, nointerp, color=col2, zorder=1)#, label=f'No interp.: {mass:.1g} $M \\\\odot $');\n",
    "plt.legend(['Interp.', 'No interp.'], loc='best')\n",
    "plt.grid(True)\n",
    "plt.xscale('log');\n",
    "\n",
    "plt.figure()\n",
    "for mass, col1, col2, interp, nointerp in zip(trial_M, colour1, colour2, bd_real, bd_real_noInterp):\n",
    "    plt.plot(trial_r, interp, ':', color=col1)#, label=f'Interpolated: {mass:.1g} $M \\\\odot $')\n",
    "    plt.plot(trial_r, nointerp, color=col2)#, label=f'No interp.: {mass:.1g} $M \\\\odot $');\n",
    "    plt.plot(trial_r, interp*5.2732215, '--', color=col1)#, label=f'Interpolated*5.2732215 : {mass:.1g} $M \\\\odot $')\n",
    "plt.legend(['Interp.', 'No interp.', 'Interp*5.2732215'], loc='best')\n",
    "plt.grid(True)\n",
    "plt.xscale('log');\n"
   ]
  },
  {
   "cell_type": "markdown",
   "id": "73b623d0-b2a5-4f9e-9336-8065f74c899b",
   "metadata": {
    "jp-MarkdownHeadingCollapsed": true
   },
   "source": [
    "#### g"
   ]
  },
  {
   "cell_type": "code",
   "execution_count": 229,
   "id": "1f03f388-9346-4d71-aaf1-7b4dc696bfcc",
   "metadata": {},
   "outputs": [
    {
     "name": "stdout",
     "output_type": "stream",
     "text": [
      "Masses (solar masses):  [3.e+12 6.e+13 1.e+14]\n",
      "Trapezoid method\n",
      "Analytical:  [[nan nan nan]]\n",
      "Numerical:  [2.19492819e+13 1.31810122e+14 1.77624677e+14]\n",
      "\n",
      "Simpson method\n",
      "Analytical:  [[nan nan nan]]\n",
      "Numerical:  [2.19492819e+13 1.31810122e+14 1.77624677e+14]\n"
     ]
    }
   ],
   "source": [
    "print('Masses (solar masses): ', trial_M)\n",
    "print('Trapezoid method')\n",
    "print('Analytical: ', integrate.simpson(bd_fourier, x=trial_k))\n",
    "print('Numerical: ', integrate.simpson(bd_fourier_false, x=trial_k))\n",
    "\n",
    "print('\\nSimpson method')\n",
    "print('Analytical: ', integrate.simpson(bd_fourier, x=trial_k))\n",
    "print('Numerical: ', integrate.simpson(bd_fourier_false, x=trial_k))"
   ]
  },
  {
   "cell_type": "code",
   "execution_count": 230,
   "id": "63411921-1ece-463b-9663-f1d3d0c369eb",
   "metadata": {
    "scrolled": true
   },
   "outputs": [
    {
     "name": "stdout",
     "output_type": "stream",
     "text": [
      "       mass:  3000000000000.0 ;  3e+12\n",
      "Real/Mass * 4*pi*r^2:  0.18529513289911434 \n",
      "___\n",
      "Real/Mass:  11.891164989553728 \n",
      "___\n",
      "Analytical fourier/Mass:  nan \n",
      "___\n",
      "Analytical fourier/Mass * 4*pi*r^2:  nan \n",
      "___\n",
      "Numerical fourier/Mass:  3515032.753611079 \n",
      "-----\n",
      "       mass:  60000000000000.0 ;  6e+13\n",
      "Real/Mass * 4*pi*r^2:  0.18947574567095557 \n",
      "___\n",
      "Real/Mass:  1.6420492927177393 \n",
      "___\n",
      "Analytical fourier/Mass:  nan \n",
      "___\n",
      "Analytical fourier/Mass * 4*pi*r^2:  nan \n",
      "___\n",
      "Numerical fourier/Mass:  334491.2793910221 \n",
      "-----\n",
      "       mass:  100000000000000.0 ;  1e+14\n",
      "Real/Mass * 4*pi*r^2:  0.18954884468913394 \n",
      "___\n",
      "Real/Mass:  1.1184340000513 \n",
      "___\n",
      "Analytical fourier/Mass:  nan \n",
      "___\n",
      "Analytical fourier/Mass * 4*pi*r^2:  nan \n",
      "___\n",
      "Numerical fourier/Mass:  210343.93319038532 \n",
      "-----\n"
     ]
    }
   ],
   "source": [
    "for mass, profA, profB, profR in zip(trial_M, bd_fourier[0], bd_fourier_false, bd_real):\n",
    "    print('       mass: ', mass, f';  {mass:.1g}')\n",
    "    print('Real/Mass * 4*pi*r^2: ', integrate.simpson(4*np.pi*(trial_r**2)*profR/mass, x=trial_r), '\\n___')\n",
    "    print('Real/Mass: ', integrate.simpson(profR/mass, x=trial_r), '\\n___')\n",
    "    print('Analytical fourier/Mass: ', integrate.simpson(profA/mass, x=trial_r), '\\n___')\n",
    "    print('Analytical fourier/Mass * 4*pi*r^2: ', integrate.simpson(4*np.pi*(trial_r**2)*profA/mass, x=trial_r), '\\n___')\n",
    "    print('Numerical fourier/Mass: ', integrate.simpson(profB/mass, x=trial_r), '\\n-----')\n",
    "    "
   ]
  },
  {
   "cell_type": "code",
   "execution_count": null,
   "id": "0a867518-d469-47bc-8658-e895706cb21b",
   "metadata": {},
   "outputs": [],
   "source": []
  },
  {
   "cell_type": "markdown",
   "id": "fa86d349-1ec2-4ac5-b279-70d562cbcea4",
   "metadata": {
    "jp-MarkdownHeadingCollapsed": true
   },
   "source": [
    "# Now look at integration of stellar"
   ]
  },
  {
   "cell_type": "code",
   "execution_count": 236,
   "id": "f7fbcfa9-df7a-4609-a21c-08f32f41a469",
   "metadata": {},
   "outputs": [
    {
     "name": "stdout",
     "output_type": "stream",
     "text": [
      "Masses (solar masses):  [3.e+12 6.e+13 1.e+14]\n",
      "Trapezoid method\n",
      "Analytical:  [2.99985e+14 5.99970e+15 9.99950e+15]\n",
      "Numerical:  [2.16388184e+07 4.32776367e+08 7.21293946e+08]\n",
      "\n",
      "Simpson method\n",
      "Analytical:  [2.99985e+14 5.99970e+15 9.99950e+15]\n",
      "Numerical:  [2.16388184e+07 4.32776367e+08 7.21293946e+08]\n"
     ]
    }
   ],
   "source": [
    "print('Masses (solar masses): ', trial_M)\n",
    "print('Trapezoid method')\n",
    "print('Analytical: ', integrate.simpson(stel_fourier, x=trial_k))\n",
    "print('Numerical: ', integrate.simpson(stel_fourier_false, x=trial_k))\n",
    "\n",
    "print('\\nSimpson method')\n",
    "print('Analytical: ', integrate.simpson(stel_fourier, x=trial_k))\n",
    "print('Numerical: ', integrate.simpson(stel_fourier_false, x=trial_k))"
   ]
  },
  {
   "cell_type": "code",
   "execution_count": 238,
   "id": "d96d87d7-12a4-4628-9bb5-7b535b202fe8",
   "metadata": {},
   "outputs": [
    {
     "name": "stdout",
     "output_type": "stream",
     "text": [
      "3000000000000.0\n",
      "[1. 1. 1. ... 1. 1. 1.]\n",
      "[-1.89605762e-02 -1.89528467e-02 -1.89451128e-02 ...  3.94364844e-11\n",
      "  3.94366440e-11  3.94368037e-11]\n",
      "60000000000000.0\n",
      "[1. 1. 1. ... 1. 1. 1.]\n",
      "[-1.89605762e-02 -1.89528467e-02 -1.89451128e-02 ...  3.94364844e-11\n",
      "  3.94366440e-11  3.94368037e-11]\n",
      "100000000000000.0\n",
      "[1. 1. 1. ... 1. 1. 1.]\n",
      "[-1.89605762e-02 -1.89528467e-02 -1.89451128e-02 ...  3.94364844e-11\n",
      "  3.94366440e-11  3.94368037e-11]\n"
     ]
    }
   ],
   "source": [
    "for mass, profA, profB in zip(trial_M, stel_fourier, stel_fourier_false):\n",
    "    print(mass)\n",
    "    print(profA/mass)\n",
    "    print(profB/mass)\n",
    "    "
   ]
  },
  {
   "cell_type": "code",
   "execution_count": 240,
   "id": "a4ab992c-6e2d-425d-a3fd-ec0c89565a78",
   "metadata": {
    "scrolled": true
   },
   "outputs": [
    {
     "name": "stdout",
     "output_type": "stream",
     "text": [
      "Masses (solar masses):  [3.e+12 6.e+13 1.e+14]\n",
      "Trapezoid method\n",
      "Analytical:  [ 2302608.01731347 46052160.34626944 76753600.57711573]\n",
      "\n",
      "Simpson method\n",
      "Analytical:  [ 2302608.01731347 46052160.34626944 76753600.57711573]\n"
     ]
    }
   ],
   "source": [
    "print('Masses (solar masses): ', trial_M)\n",
    "print('Trapezoid method')\n",
    "print('Analytical: ', integrate.simpson(stel_real, x=trial_r))\n",
    "#print('Numerical: ', integrate.simpson(stel_fourier_false, x=trial_k))\n",
    "\n",
    "print('\\nSimpson method')\n",
    "print('Analytical: ', integrate.simpson(stel_real, x=trial_r))\n",
    "#print('Numerical: ', integrate.simpson(stel_fourier_false, x=trial_k))"
   ]
  },
  {
   "cell_type": "code",
   "execution_count": 242,
   "id": "ec185c85-bf0d-4e7b-86a0-ed8de91d40e5",
   "metadata": {},
   "outputs": [
    {
     "name": "stdout",
     "output_type": "stream",
     "text": [
      "       mass:  3000000000000.0 ;  3e+12\n",
      "Real/Mass * 4*pi*r^2:  9.645141908385284e-10 \n",
      "___\n",
      "Real/Mass:  7.675360057711572e-07 \n",
      "___\n",
      "Analytical fourier/Mass:  99999999.99 \n",
      "___\n",
      "Analytical fourier/Mass * 4*pi*r^2:  4.188790204786391e+24 \n",
      "___\n",
      "Numerical fourier/Mass:  0.00401097774456718 \n",
      "-----\n",
      "       mass:  60000000000000.0 ;  6e+13\n",
      "Real/Mass * 4*pi*r^2:  9.645141908385284e-10 \n",
      "___\n",
      "Real/Mass:  7.675360057711572e-07 \n",
      "___\n",
      "Analytical fourier/Mass:  99999999.99 \n",
      "___\n",
      "Analytical fourier/Mass * 4*pi*r^2:  4.188790204786391e+24 \n",
      "___\n",
      "Numerical fourier/Mass:  0.004010977744567168 \n",
      "-----\n",
      "       mass:  100000000000000.0 ;  1e+14\n",
      "Real/Mass * 4*pi*r^2:  9.645141908385284e-10 \n",
      "___\n",
      "Real/Mass:  7.675360057711572e-07 \n",
      "___\n",
      "Analytical fourier/Mass:  99999999.99 \n",
      "___\n",
      "Analytical fourier/Mass * 4*pi*r^2:  4.188790204786391e+24 \n",
      "___\n",
      "Numerical fourier/Mass:  0.004010977744567212 \n",
      "-----\n"
     ]
    }
   ],
   "source": [
    "for mass, profA, profB, profR in zip(trial_M, stel_fourier, stel_fourier_false, stel_real):\n",
    "    print('       mass: ', mass, f';  {mass:.1g}')\n",
    "    print('Real/Mass * 4*pi*r^2: ', integrate.simpson(4*np.pi*(trial_r**2)*profR/mass, x=trial_r), '\\n___')\n",
    "    print('Real/Mass: ', integrate.simpson(profR/mass, x=trial_r), '\\n___')\n",
    "    print('Analytical fourier/Mass: ', integrate.simpson(profA/mass, x=trial_r), '\\n___')\n",
    "    print('Analytical fourier/Mass * 4*pi*r^2: ', integrate.simpson(4*np.pi*(trial_r**2)*profA/mass, x=trial_r), '\\n___')\n",
    "    print('Numerical fourier/Mass: ', integrate.simpson(profB/mass, x=trial_r), '\\n-----')\n",
    "    "
   ]
  },
  {
   "cell_type": "markdown",
   "id": "d71a6099-8e68-467d-b0c7-53490f29f840",
   "metadata": {},
   "source": [
    "See that $4 \\pi \\int^{\\infty}_0 r^2 g(r)\\ dr \\simeq 1 \\times 10^{-9}$ & $\\int^{\\infty}_0 g(k)\\ dr \\simeq 1 \\times 10^{9}$ for stellar.    \n",
    "(even though, $\\rho(k)\\ $ goes with *$dk$*)"
   ]
  },
  {
   "cell_type": "code",
   "execution_count": 245,
   "id": "8a4dcaf3-9428-4bbb-af98-16651edb1717",
   "metadata": {},
   "outputs": [
    {
     "name": "stdout",
     "output_type": "stream",
     "text": [
      "99999999.99 1.0000000001e-08\n",
      "9.645141908385284e-10 1036791381.0896044  1.04e+09 \n"
     ]
    }
   ],
   "source": [
    "print(99999999.99 , 1/99999999.99 )\n",
    "print(9.645141908385284e-10 , 1/9.645141908385284e-10 , f' {1/9.645141908385284e-10:.3g} ')"
   ]
  },
  {
   "cell_type": "code",
   "execution_count": null,
   "id": "96345677-71aa-45b6-9d13-cf931c522da7",
   "metadata": {},
   "outputs": [],
   "source": []
  },
  {
   "cell_type": "code",
   "execution_count": null,
   "id": "c73e245e-6e94-48d6-9db3-1d89b8df30bd",
   "metadata": {},
   "outputs": [],
   "source": []
  },
  {
   "cell_type": "code",
   "execution_count": null,
   "id": "a08451a2-b209-4f98-bddf-26b23db0fa69",
   "metadata": {},
   "outputs": [],
   "source": []
  },
  {
   "cell_type": "code",
   "execution_count": null,
   "id": "1cefd256-1935-457a-8f90-c4e436114cde",
   "metadata": {},
   "outputs": [],
   "source": []
  }
 ],
 "metadata": {
  "kernelspec": {
   "display_name": "Python 3 (ipykernel)",
   "language": "python",
   "name": "python3"
  },
  "language_info": {
   "codemirror_mode": {
    "name": "ipython",
    "version": 3
   },
   "file_extension": ".py",
   "mimetype": "text/x-python",
   "name": "python",
   "nbconvert_exporter": "python",
   "pygments_lexer": "ipython3",
   "version": "3.12.2"
  }
 },
 "nbformat": 4,
 "nbformat_minor": 5
}
