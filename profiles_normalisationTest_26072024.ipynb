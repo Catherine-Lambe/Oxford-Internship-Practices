{
 "cells": [
  {
   "cell_type": "code",
   "execution_count": 1,
   "id": "4bf77c27-b104-43f1-9d76-e6c35e8c7085",
   "metadata": {},
   "outputs": [],
   "source": [
    "import numpy as np\n",
    "import pyccl as ccl\n",
    "import matplotlib.pyplot as plt\n",
    "import scipy.integrate as integrate\n",
    "import scipy.interpolate as interpol\n",
    "from pyccl._core import UnlockInstance\n",
    "from scipy import signal"
   ]
  },
  {
   "cell_type": "markdown",
   "id": "4a9183e4-bef9-4bc0-aab7-f2c8ec7ce5ad",
   "metadata": {},
   "source": [
    "# BCM"
   ]
  },
  {
   "cell_type": "code",
   "execution_count": 3,
   "id": "4c4d7e09-76d0-439b-b072-44e829041bc4",
   "metadata": {},
   "outputs": [
    {
     "data": {
      "text/plain": [
       "('StellarProfile',\n",
       " 'EjectedGasProfile',\n",
       " 'BoundGasProfile',\n",
       " 'CombinedGasProfile',\n",
       " 'CombinedStellarGasProfile',\n",
       " 'CombinedAllBCMProfile')"
      ]
     },
     "execution_count": 3,
     "metadata": {},
     "output_type": "execute_result"
    }
   ],
   "source": [
    "import BCMprofiles_Copy2 as BCMprofiles\n",
    "BCMprofiles.__all__"
   ]
  },
  {
   "cell_type": "markdown",
   "id": "f84ee585-1863-45cc-9787-44ef22056c42",
   "metadata": {},
   "source": [
    "## Setting up pars & profiles"
   ]
  },
  {
   "cell_type": "code",
   "execution_count": 7,
   "id": "2eeb41ed-0560-4d27-9feb-c9766a5a3f06",
   "metadata": {},
   "outputs": [],
   "source": [
    "hmd_200c = ccl.halos.MassDef200c # use a mass definition with Delta = 200\n",
    "cM = ccl.halos.ConcentrationDuffy08(mass_def=hmd_200c)\n",
    "cosmo = ccl.Cosmology(Omega_c = 0.25, Omega_b=0.05, h=0.07, A_s=2.1e-9, n_s=0.96, Neff=0, Omega_g=0)\n",
    "\n",
    "trial_r = np.geomspace(1E-2,1E8,100000) # geomspace is like linspace, but evenly spaces on a logscale\n",
    "trial_k = np.geomspace(1E-3,1E2,100000) # np.geomspace(1E-3,1E2,100000)\n",
    "trial_M = np.array([3E12,6E13, 1E14])\n",
    "trial_gamma = 1.1  # working with z = 0 (today) ; therefore a = 1 [default]\n",
    "trial_f_bd = 0.6"
   ]
  },
  {
   "cell_type": "markdown",
   "id": "82a87a93-5f70-4300-8511-62c0dbf51a9f",
   "metadata": {},
   "source": [
    "## Loading profiles, with fourier_analytic = True"
   ]
  },
  {
   "cell_type": "code",
   "execution_count": 9,
   "id": "89f0c99c-0182-4ed7-8098-f2b37cee702a",
   "metadata": {},
   "outputs": [],
   "source": [
    "stel_profile = BCMprofiles.StellarProfile(cosmo, hmd_200c)\n",
    "ej_profile = BCMprofiles.EjectedGasProfile(cosmo, hmd_200c)\n",
    "bd_profile = BCMprofiles.BoundGasProfile(cosmo, hmd_200c, cM, trial_gamma)\n",
    "gas_profile = BCMprofiles.CombinedGasProfile(cosmo, hmd_200c, cM, trial_gamma)\n",
    "stelGas_profile = BCMprofiles.CombinedStellarGasProfile(cosmo, hmd_200c, cM, trial_gamma) \n",
    "bcm_profile = BCMprofiles.CombinedAllBCMProfile(cosmo, hmd_200c, cM, trial_gamma)"
   ]
  },
  {
   "cell_type": "code",
   "execution_count": 11,
   "id": "96bbe3ae-738f-489f-aea0-638becfbf339",
   "metadata": {},
   "outputs": [
    {
     "name": "stderr",
     "output_type": "stream",
     "text": [
      "/Users/lambe/Documents/GitHub/Oxford-Intern-2024/Oxford-Internship-Practices/BCMprofiles_Copy2.py:153: IntegrationWarning: The integral is probably divergent, or slowly convergent.\n",
      "  I0_array[k] =  integrate.quad(self._innerInt, 0, np.inf, args = 1/(i-1))[0]\n",
      "/Users/lambe/Documents/GitHub/Oxford-Intern-2024/Oxford-Internship-Practices/BCMprofiles_Copy2.py:153: IntegrationWarning: The algorithm does not converge.  Roundoff error is detected\n",
      "  in the extrapolation table.  It is assumed that the requested tolerance\n",
      "  cannot be achieved, and that the returned result (if full_output = 1) is \n",
      "  the best which can be obtained.\n",
      "  I0_array[k] =  integrate.quad(self._innerInt, 0, np.inf, args = 1/(i-1))[0]\n"
     ]
    }
   ],
   "source": [
    "stel_real = stel_profile._real(cosmo, trial_r, trial_M)\n",
    "ej_real = ej_profile._real(cosmo, trial_r, trial_M)\n",
    "bd_real = bd_profile._real(cosmo, trial_r, trial_M)\n",
    "gas_real = gas_profile._real(cosmo, trial_r, trial_M, trial_f_bd)\n",
    "stelGas_real = stelGas_profile._real(cosmo, trial_r, trial_M)\n",
    "bcm_real = bcm_profile._real(cosmo, trial_r, trial_M)"
   ]
  },
  {
   "cell_type": "code",
   "execution_count": 13,
   "id": "173414aa-f1b6-4db6-b454-89324b037bfa",
   "metadata": {
    "scrolled": true
   },
   "outputs": [
    {
     "name": "stderr",
     "output_type": "stream",
     "text": [
      "/Users/lambe/Documents/GitHub/Oxford-Intern-2024/Oxford-Internship-Practices/BCMprofiles_Copy2.py:138: RuntimeWarning: invalid value encountered in scalar divide\n",
      "  return (np.log(1+x)/x)**gam_use\n",
      "/Users/lambe/Documents/GitHub/Oxford-Intern-2024/Oxford-Internship-Practices/BCMprofiles_Copy2.py:196: IntegrationWarning: The maximum number of cycles allowed has been achieved., e.e.\n",
      "  of subintervals (a+(k-1)c, a+kc) where c = (2*int(abs(omega)+1))\n",
      "  *pi/abs(omega), for k = 1, 2, ..., lst.  One can allow more cycles by increasing the value of limlst.  Look at info['ierlst'] with full_output=1.\n",
      "  I0_array[k, l] =  integrate.quad(integralQany, 0, np.inf, args = 1/(i-1), weight = \"sin\", wvar=j)[0] / j\n"
     ]
    },
    {
     "name": "stdout",
     "output_type": "stream",
     "text": [
      "k = 1.56% through\n"
     ]
    },
    {
     "name": "stderr",
     "output_type": "stream",
     "text": [
      "/Users/lambe/Documents/GitHub/Oxford-Intern-2024/Oxford-Internship-Practices/BCMprofiles_Copy2.py:196: IntegrationWarning: Bad integrand behavior occurs within one or more of the cycles.\n",
      "  Location and type of the difficulty involved can be determined from \n",
      "  the vector info['ierlist'] obtained with full_output=1.\n",
      "  I0_array[k, l] =  integrate.quad(integralQany, 0, np.inf, args = 1/(i-1), weight = \"sin\", wvar=j)[0] / j\n"
     ]
    },
    {
     "name": "stdout",
     "output_type": "stream",
     "text": [
      "k = 3.12% through\n",
      "k = 4.69% through\n",
      "k = 6.25% through\n",
      "k = 7.81% through\n",
      "k = 9.38% through\n",
      "k = 10.9% through\n",
      "k = 12.5% through\n",
      "k = 14.1% through\n",
      "k = 15.6% through\n",
      "k = 17.2% through\n",
      "k = 18.8% through\n",
      "k = 20.3% through\n",
      "k = 21.9% through\n",
      "k = 23.4% through\n",
      "k = 25% through\n",
      "k = 26.6% through\n"
     ]
    },
    {
     "name": "stderr",
     "output_type": "stream",
     "text": [
      "/Users/lambe/Documents/GitHub/Oxford-Intern-2024/Oxford-Internship-Practices/BCMprofiles_Copy2.py:196: IntegrationWarning: The extrapolation table constructed for convergence acceleration\n",
      "  of the series formed by the integral contributions over the cycles, \n",
      "  does not converge to within the requested accuracy.  Look at \n",
      "  info['ierlst'] with full_output=1.\n",
      "  I0_array[k, l] =  integrate.quad(integralQany, 0, np.inf, args = 1/(i-1), weight = \"sin\", wvar=j)[0] / j\n"
     ]
    },
    {
     "name": "stdout",
     "output_type": "stream",
     "text": [
      "k = 28.1% through\n",
      "k = 29.7% through\n",
      "k = 31.2% through\n",
      "k = 32.8% through\n",
      "k = 34.4% through\n",
      "k = 35.9% through\n",
      "k = 37.5% through\n",
      "k = 39.1% through\n",
      "k = 40.6% through\n",
      "k = 42.2% through\n",
      "k = 43.8% through\n",
      "k = 45.3% through\n",
      "k = 46.9% through\n",
      "k = 48.4% through\n",
      "k = 50% through\n",
      "k = 51.6% through\n",
      "k = 53.1% through\n",
      "k = 54.7% through\n",
      "k = 56.2% through\n",
      "k = 57.8% through\n",
      "k = 59.4% through\n",
      "k = 60.9% through\n",
      "k = 62.5% through\n",
      "k = 64.1% through\n",
      "k = 65.6% through\n",
      "k = 67.2% through\n",
      "k = 68.8% through\n",
      "k = 70.3% through\n",
      "k = 71.9% through\n",
      "k = 73.4% through\n",
      "k = 75% through\n",
      "k = 76.6% through\n",
      "k = 78.1% through\n",
      "k = 79.7% through\n",
      "k = 81.2% through\n",
      "k = 82.8% through\n",
      "k = 84.4% through\n",
      "k = 85.9% through\n",
      "k = 87.5% through\n",
      "k = 89.1% through\n",
      "k = 90.6% through\n",
      "k = 92.2% through\n",
      "k = 93.8% through\n",
      "k = 95.3% through\n",
      "k = 96.9% through\n",
      "k = 98.4% through\n",
      "k = 100% through\n"
     ]
    },
    {
     "name": "stderr",
     "output_type": "stream",
     "text": [
      "/Users/lambe/Documents/GitHub/Oxford-Intern-2024/Oxford-Internship-Practices/BCMprofiles_Copy2.py:219: RuntimeWarning: overflow encountered in divide\n",
      "  g_k = self._func_normQany((self.gamma, np.log(q_use))) / self._func_normQ0(self.gamma) # = Ib_qAny / Ib_q0\n",
      "/Users/lambe/Documents/GitHub/Oxford-Intern-2024/Oxford-Internship-Practices/BCMprofiles_Copy2.py:222: RuntimeWarning: overflow encountered in multiply\n",
      "  prof = prefix[:, None] * g_k[None,:]\n"
     ]
    },
    {
     "name": "stdout",
     "output_type": "stream",
     "text": [
      "k = 1.56% through\n",
      "k = 3.12% through\n",
      "k = 4.69% through\n",
      "k = 6.25% through\n",
      "k = 7.81% through\n",
      "k = 9.38% through\n",
      "k = 10.9% through\n",
      "k = 12.5% through\n",
      "k = 14.1% through\n",
      "k = 15.6% through\n",
      "k = 17.2% through\n",
      "k = 18.8% through\n",
      "k = 20.3% through\n",
      "k = 21.9% through\n",
      "k = 23.4% through\n",
      "k = 25% through\n",
      "k = 26.6% through\n",
      "k = 28.1% through\n",
      "k = 29.7% through\n",
      "k = 31.2% through\n",
      "k = 32.8% through\n",
      "k = 34.4% through\n",
      "k = 35.9% through\n",
      "k = 37.5% through\n",
      "k = 39.1% through\n",
      "k = 40.6% through\n",
      "k = 42.2% through\n",
      "k = 43.8% through\n",
      "k = 45.3% through\n",
      "k = 46.9% through\n",
      "k = 48.4% through\n",
      "k = 50% through\n",
      "k = 51.6% through\n",
      "k = 53.1% through\n",
      "k = 54.7% through\n",
      "k = 56.2% through\n",
      "k = 57.8% through\n",
      "k = 59.4% through\n",
      "k = 60.9% through\n",
      "k = 62.5% through\n",
      "k = 64.1% through\n",
      "k = 65.6% through\n",
      "k = 67.2% through\n",
      "k = 68.8% through\n",
      "k = 70.3% through\n",
      "k = 71.9% through\n",
      "k = 73.4% through\n",
      "k = 75% through\n",
      "k = 76.6% through\n",
      "k = 78.1% through\n",
      "k = 79.7% through\n",
      "k = 81.2% through\n",
      "k = 82.8% through\n",
      "k = 84.4% through\n",
      "k = 85.9% through\n",
      "k = 87.5% through\n",
      "k = 89.1% through\n",
      "k = 90.6% through\n",
      "k = 92.2% through\n",
      "k = 93.8% through\n",
      "k = 95.3% through\n",
      "k = 96.9% through\n",
      "k = 98.4% through\n",
      "k = 100% through\n",
      "k = 1.56% through\n",
      "k = 3.12% through\n",
      "k = 4.69% through\n",
      "k = 6.25% through\n",
      "k = 7.81% through\n",
      "k = 9.38% through\n",
      "k = 10.9% through\n",
      "k = 12.5% through\n",
      "k = 14.1% through\n",
      "k = 15.6% through\n",
      "k = 17.2% through\n",
      "k = 18.8% through\n",
      "k = 20.3% through\n",
      "k = 21.9% through\n",
      "k = 23.4% through\n",
      "k = 25% through\n",
      "k = 26.6% through\n",
      "k = 28.1% through\n",
      "k = 29.7% through\n",
      "k = 31.2% through\n",
      "k = 32.8% through\n",
      "k = 34.4% through\n",
      "k = 35.9% through\n",
      "k = 37.5% through\n",
      "k = 39.1% through\n",
      "k = 40.6% through\n",
      "k = 42.2% through\n",
      "k = 43.8% through\n",
      "k = 45.3% through\n",
      "k = 46.9% through\n",
      "k = 48.4% through\n",
      "k = 50% through\n",
      "k = 51.6% through\n",
      "k = 53.1% through\n",
      "k = 54.7% through\n",
      "k = 56.2% through\n",
      "k = 57.8% through\n",
      "k = 59.4% through\n",
      "k = 60.9% through\n",
      "k = 62.5% through\n",
      "k = 64.1% through\n",
      "k = 65.6% through\n",
      "k = 67.2% through\n",
      "k = 68.8% through\n",
      "k = 70.3% through\n",
      "k = 71.9% through\n",
      "k = 73.4% through\n",
      "k = 75% through\n",
      "k = 76.6% through\n",
      "k = 78.1% through\n",
      "k = 79.7% through\n",
      "k = 81.2% through\n",
      "k = 82.8% through\n",
      "k = 84.4% through\n",
      "k = 85.9% through\n",
      "k = 87.5% through\n",
      "k = 89.1% through\n",
      "k = 90.6% through\n",
      "k = 92.2% through\n",
      "k = 93.8% through\n",
      "k = 95.3% through\n",
      "k = 96.9% through\n",
      "k = 98.4% through\n",
      "k = 100% through\n",
      "k = 1.56% through\n",
      "k = 3.12% through\n",
      "k = 4.69% through\n",
      "k = 6.25% through\n",
      "k = 7.81% through\n",
      "k = 9.38% through\n",
      "k = 10.9% through\n",
      "k = 12.5% through\n",
      "k = 14.1% through\n",
      "k = 15.6% through\n",
      "k = 17.2% through\n",
      "k = 18.8% through\n",
      "k = 20.3% through\n",
      "k = 21.9% through\n",
      "k = 23.4% through\n",
      "k = 25% through\n",
      "k = 26.6% through\n",
      "k = 28.1% through\n",
      "k = 29.7% through\n",
      "k = 31.2% through\n",
      "k = 32.8% through\n",
      "k = 34.4% through\n",
      "k = 35.9% through\n",
      "k = 37.5% through\n",
      "k = 39.1% through\n",
      "k = 40.6% through\n",
      "k = 42.2% through\n",
      "k = 43.8% through\n",
      "k = 45.3% through\n",
      "k = 46.9% through\n",
      "k = 48.4% through\n",
      "k = 50% through\n",
      "k = 51.6% through\n",
      "k = 53.1% through\n",
      "k = 54.7% through\n",
      "k = 56.2% through\n",
      "k = 57.8% through\n",
      "k = 59.4% through\n",
      "k = 60.9% through\n",
      "k = 62.5% through\n",
      "k = 64.1% through\n",
      "k = 65.6% through\n",
      "k = 67.2% through\n",
      "k = 68.8% through\n",
      "k = 70.3% through\n",
      "k = 71.9% through\n",
      "k = 73.4% through\n",
      "k = 75% through\n",
      "k = 76.6% through\n",
      "k = 78.1% through\n",
      "k = 79.7% through\n",
      "k = 81.2% through\n",
      "k = 82.8% through\n",
      "k = 84.4% through\n",
      "k = 85.9% through\n",
      "k = 87.5% through\n",
      "k = 89.1% through\n",
      "k = 90.6% through\n",
      "k = 92.2% through\n",
      "k = 93.8% through\n",
      "k = 95.3% through\n",
      "k = 96.9% through\n",
      "k = 98.4% through\n",
      "k = 100% through\n"
     ]
    }
   ],
   "source": [
    "stel_fourier = stel_profile._fourier(trial_k, trial_M)\n",
    "ej_fourier = ej_profile._fourier(trial_k, trial_M)\n",
    "bd_fourier = bd_profile._fourier(trial_k, trial_M)\n",
    "gas_fourier = gas_profile._fourier(trial_k, trial_M, trial_f_bd)\n",
    "stelGas_fourier = stelGas_profile._fourier(trial_k, trial_M)\n",
    "bcm_fourier = bcm_profile._fourier(trial_k, trial_M)"
   ]
  },
  {
   "cell_type": "code",
   "execution_count": null,
   "id": "4b795e63-29eb-460a-877d-f02dcfb61cec",
   "metadata": {},
   "outputs": [],
   "source": []
  },
  {
   "cell_type": "markdown",
   "id": "e5662731-6a9c-4416-9726-9eb658c1557e",
   "metadata": {},
   "source": [
    "## Loading profiles, with fourier_analytic = False"
   ]
  },
  {
   "cell_type": "code",
   "execution_count": 15,
   "id": "6d7c7a80-7052-479a-9fa9-cc2529b3b86f",
   "metadata": {},
   "outputs": [],
   "source": [
    "stel_profile_false = BCMprofiles.StellarProfile(cosmo, hmd_200c, fourier_analytic=False)\n",
    "ej_profile_false = BCMprofiles.EjectedGasProfile(cosmo, hmd_200c, fourier_analytic=False)\n",
    "bd_profile_false = BCMprofiles.BoundGasProfile(cosmo, hmd_200c, cM, trial_gamma, fourier_analytic=False)\n",
    "gas_profile_false = BCMprofiles.CombinedGasProfile(cosmo, hmd_200c, cM, trial_gamma, fourier_analytic=False)\n",
    "stelGas_profile_false = BCMprofiles.CombinedStellarGasProfile(cosmo, hmd_200c, cM, trial_gamma, fourier_analytic=False) \n",
    "bcm_profile_false = BCMprofiles.CombinedAllBCMProfile(cosmo, hmd_200c, cM, trial_gamma, fourier_analytic=False)"
   ]
  },
  {
   "cell_type": "code",
   "execution_count": 17,
   "id": "8f2a31de-e1af-4283-a34a-732a80803eb8",
   "metadata": {},
   "outputs": [],
   "source": [
    "stel_real_false = stel_profile_false._real(cosmo, trial_r, trial_M)\n",
    "ej_real_false = ej_profile_false._real(cosmo, trial_r, trial_M)\n",
    "bd_real_false = bd_profile_false._real(cosmo, trial_r, trial_M)\n",
    "gas_real_false = gas_profile_false._real(cosmo, trial_r, trial_M, trial_f_bd)\n",
    "stelGas_real_false = stelGas_profile_false._real(cosmo, trial_r, trial_M)\n",
    "bcm_real_false = bcm_profile_false._real(cosmo, trial_r, trial_M)"
   ]
  },
  {
   "cell_type": "code",
   "execution_count": 19,
   "id": "c401ebac-3c2a-42e0-b38e-66ed64f52f96",
   "metadata": {},
   "outputs": [
    {
     "data": {
      "text/plain": [
       "<function pyccl.halos.profiles.profile_base.HaloProfile.fourier(self, cosmo, k, M, a)>"
      ]
     },
     "execution_count": 19,
     "metadata": {},
     "output_type": "execute_result"
    }
   ],
   "source": [
    "ccl.halos.profiles.HaloProfile.fourier"
   ]
  },
  {
   "cell_type": "code",
   "execution_count": 21,
   "id": "adfd5873-7fb6-494b-b2cd-67b66e19752d",
   "metadata": {
    "scrolled": true
   },
   "outputs": [],
   "source": [
    "stel_fourier_false = stel_profile_false.fourier(cosmo=cosmo, k=trial_k, M=trial_M, a=1)\n",
    "ej_fourier_false = ej_profile_false.fourier(cosmo=cosmo, k=trial_k, M=trial_M, a=1)\n",
    "bd_fourier_false = bd_profile_false.fourier(cosmo=cosmo, k=trial_k, M=trial_M, a=1)\n",
    "gas_fourier_false = gas_profile_false.fourier(cosmo=cosmo, k=trial_k, M=trial_M, a=1)\n",
    "# stelGas_fourier_false = stelGas_profile_false.fourier(cosmo=cosmo, k=trial_k, M=trial_M, a=1)\n",
    "# bcm_fourier_false = bcm_profile_false.fourier(cosmo=cosmo, k=trial_k, M=trial_M, a=1)"
   ]
  },
  {
   "cell_type": "code",
   "execution_count": 23,
   "id": "6b78915b-9534-4897-abf9-a363ee8cc35a",
   "metadata": {},
   "outputs": [
    {
     "ename": "ValueError",
     "evalue": "rs should have 3 elements",
     "output_type": "error",
     "traceback": [
      "\u001b[0;31m---------------------------------------------------------------------------\u001b[0m",
      "\u001b[0;31mValueError\u001b[0m                                Traceback (most recent call last)",
      "Cell \u001b[0;32mIn[23], line 1\u001b[0m\n\u001b[0;32m----> 1\u001b[0m stelGas_fourier_false \u001b[38;5;241m=\u001b[39m stelGas_profile_false\u001b[38;5;241m.\u001b[39mfourier(cosmo\u001b[38;5;241m=\u001b[39mcosmo, k\u001b[38;5;241m=\u001b[39mtrial_k, M\u001b[38;5;241m=\u001b[39mtrial_M, a\u001b[38;5;241m=\u001b[39m\u001b[38;5;241m1\u001b[39m)\n\u001b[1;32m      2\u001b[0m bcm_fourier_false \u001b[38;5;241m=\u001b[39m bcm_profile_false\u001b[38;5;241m.\u001b[39mfourier(cosmo\u001b[38;5;241m=\u001b[39mcosmo, k\u001b[38;5;241m=\u001b[39mtrial_k, M\u001b[38;5;241m=\u001b[39mtrial_M, a\u001b[38;5;241m=\u001b[39m\u001b[38;5;241m1\u001b[39m)\n",
      "File \u001b[0;32m/opt/anaconda3/lib/python3.12/site-packages/pyccl/halos/profiles/profile_base.py:182\u001b[0m, in \u001b[0;36mHaloProfile.fourier\u001b[0;34m(self, cosmo, k, M, a)\u001b[0m\n\u001b[1;32m    180\u001b[0m \u001b[38;5;28;01mif\u001b[39;00m \u001b[38;5;28mgetattr\u001b[39m(\u001b[38;5;28mself\u001b[39m, \u001b[38;5;124m\"\u001b[39m\u001b[38;5;124m_fourier\u001b[39m\u001b[38;5;124m\"\u001b[39m, \u001b[38;5;28;01mNone\u001b[39;00m):\n\u001b[1;32m    181\u001b[0m     \u001b[38;5;28;01mreturn\u001b[39;00m \u001b[38;5;28mself\u001b[39m\u001b[38;5;241m.\u001b[39m_fourier(cosmo, k, M, a)\n\u001b[0;32m--> 182\u001b[0m \u001b[38;5;28;01mreturn\u001b[39;00m \u001b[38;5;28mself\u001b[39m\u001b[38;5;241m.\u001b[39m_fftlog_wrap(cosmo, k, M, a, fourier_out\u001b[38;5;241m=\u001b[39m\u001b[38;5;28;01mTrue\u001b[39;00m)\n",
      "File \u001b[0;32m/opt/anaconda3/lib/python3.12/site-packages/pyccl/halos/profiles/profile_base.py:415\u001b[0m, in \u001b[0;36mHaloProfile._fftlog_wrap\u001b[0;34m(self, cosmo, k, M, a, fourier_out, large_padding, ell)\u001b[0m\n\u001b[1;32m    412\u001b[0m plaw_index \u001b[38;5;241m=\u001b[39m \u001b[38;5;28mself\u001b[39m\u001b[38;5;241m.\u001b[39m_get_plaw_fourier(cosmo, a)\n\u001b[1;32m    414\u001b[0m \u001b[38;5;66;03m# Compute Fourier profile through fftlog\u001b[39;00m\n\u001b[0;32m--> 415\u001b[0m k_arr, p_fourier_M \u001b[38;5;241m=\u001b[39m _fftlog_transform(r_arr, p_real_M,\n\u001b[1;32m    416\u001b[0m                                        \u001b[38;5;241m3\u001b[39m, ell, plaw_index)\n\u001b[1;32m    417\u001b[0m lk_arr \u001b[38;5;241m=\u001b[39m np\u001b[38;5;241m.\u001b[39mlog(k_arr)\n\u001b[1;32m    419\u001b[0m \u001b[38;5;28;01mfor\u001b[39;00m im, p_k_arr \u001b[38;5;129;01min\u001b[39;00m \u001b[38;5;28menumerate\u001b[39m(p_fourier_M):\n\u001b[1;32m    420\u001b[0m     \u001b[38;5;66;03m# Resample into input k values\u001b[39;00m\n",
      "File \u001b[0;32m/opt/anaconda3/lib/python3.12/site-packages/pyccl/pyutils.py:539\u001b[0m, in \u001b[0;36m_fftlog_transform\u001b[0;34m(rs, frs, dim, mu, power_law_index)\u001b[0m\n\u001b[1;32m    536\u001b[0m     n_transforms, n_r \u001b[38;5;241m=\u001b[39m frs\u001b[38;5;241m.\u001b[39mshape\n\u001b[1;32m    538\u001b[0m \u001b[38;5;28;01mif\u001b[39;00m \u001b[38;5;28mlen\u001b[39m(rs) \u001b[38;5;241m!=\u001b[39m n_r:\n\u001b[0;32m--> 539\u001b[0m     \u001b[38;5;28;01mraise\u001b[39;00m \u001b[38;5;167;01mValueError\u001b[39;00m(\u001b[38;5;124mf\u001b[39m\u001b[38;5;124m\"\u001b[39m\u001b[38;5;124mrs should have \u001b[39m\u001b[38;5;132;01m{\u001b[39;00mn_r\u001b[38;5;132;01m}\u001b[39;00m\u001b[38;5;124m elements\u001b[39m\u001b[38;5;124m\"\u001b[39m)\n\u001b[1;32m    541\u001b[0m status \u001b[38;5;241m=\u001b[39m \u001b[38;5;241m0\u001b[39m\n\u001b[1;32m    542\u001b[0m result, status \u001b[38;5;241m=\u001b[39m lib\u001b[38;5;241m.\u001b[39mfftlog_transform(n_transforms,\n\u001b[1;32m    543\u001b[0m                                       rs, frs\u001b[38;5;241m.\u001b[39mflatten(),\n\u001b[1;32m    544\u001b[0m                                       dim, mu, power_law_index,\n\u001b[1;32m    545\u001b[0m                                       (n_transforms \u001b[38;5;241m+\u001b[39m \u001b[38;5;241m1\u001b[39m) \u001b[38;5;241m*\u001b[39m n_r,\n\u001b[1;32m    546\u001b[0m                                       status)\n",
      "\u001b[0;31mValueError\u001b[0m: rs should have 3 elements"
     ]
    }
   ],
   "source": [
    "stelGas_fourier_false = stelGas_profile_false.fourier(cosmo=cosmo, k=trial_k, M=trial_M, a=1)\n",
    "bcm_fourier_false = bcm_profile_false.fourier(cosmo=cosmo, k=trial_k, M=trial_M, a=1)"
   ]
  },
  {
   "cell_type": "code",
   "execution_count": null,
   "id": "c265632f-673e-47ad-8dfc-50778bfa309f",
   "metadata": {},
   "outputs": [],
   "source": []
  },
  {
   "cell_type": "markdown",
   "id": "36e10569-932c-4da6-b774-bd134f911766",
   "metadata": {},
   "source": [
    "## Checking the plots"
   ]
  },
  {
   "cell_type": "code",
   "execution_count": 66,
   "id": "70e9dd79-cf97-43f9-be17-65c6b789d3a7",
   "metadata": {},
   "outputs": [
    {
     "data": {
      "image/png": "[encoded data removed]",
      "text/plain": [
       "<Figure size 640x480 with 1 Axes>"
      ]
     },
     "metadata": {},
     "output_type": "display_data"
    }
   ],
   "source": [
    "four_plot, four_plot2 = bd_fourier_false, bd_fourier[0]\n",
    "for prof, prof2, mass in zip(four_plot, four_plot2, trial_M):\n",
    "    plt.plot(trial_k, prof)\n",
    "    plt.plot(trial_k, prof2, ':')\n",
    "    plt.axhline(mass, linestyle='--', zorder=1)\n",
    "plt.yscale('log')\n",
    "plt.xscale('log');"
   ]
  },
  {
   "cell_type": "markdown",
   "id": "6676d174-46d7-4e81-96f6-cab9e52c4b74",
   "metadata": {},
   "source": [
    "## g\n",
    "Need to go back & fix up stelGas & bcm false_fouriers, but 1st: integrate others => should get M"
   ]
  },
  {
   "cell_type": "code",
   "execution_count": 27,
   "id": "b1da6004-f878-4e9d-97ac-d99647e6b835",
   "metadata": {},
   "outputs": [
    {
     "name": "stdout",
     "output_type": "stream",
     "text": [
      "[3.e+12 6.e+13 1.e+14]\n"
     ]
    }
   ],
   "source": [
    "print(trial_M)"
   ]
  },
  {
   "cell_type": "code",
   "execution_count": 29,
   "id": "bd8020f1-5357-4a93-9c1c-96cdccba0e1a",
   "metadata": {},
   "outputs": [
    {
     "name": "stdout",
     "output_type": "stream",
     "text": [
      "Trapezoid method \n",
      " Analytical\n",
      "stellar:  [2.99997e+14 5.99994e+15 9.99990e+15]\n",
      "ejected:  [1.02384014e+12 7.50582381e+12 1.05354392e+13]\n",
      "bound:  [[inf inf inf]]\n",
      "gas:  [inf inf inf] \n",
      "\n",
      " Numerical\n",
      "stellar:  [1.64726582e+07 3.29453165e+08 5.49088608e+08]\n",
      "ejected:  [7.25649455e+12 2.37879513e+14 4.31042936e+14]\n",
      "bound:  [5.98081690e+12 3.44629810e+13 4.64128171e+13]\n",
      "gas:  [5.98081690e+12 3.44629810e+13 4.64128171e+13]\n"
     ]
    }
   ],
   "source": [
    "print('Trapezoid method \\n Analytical')\n",
    "print('stellar: ', integrate.trapezoid(stel_fourier, x=trial_k))\n",
    "print('ejected: ', integrate.trapezoid(ej_fourier, x=trial_k))\n",
    "print('bound: ', integrate.trapezoid(bd_fourier, x=trial_k))\n",
    "print('gas: ', integrate.trapezoid(gas_fourier, x=trial_k), '\\n\\n Numerical')\n",
    "\n",
    "print('stellar: ', integrate.trapezoid(stel_fourier_false, x=trial_k))\n",
    "print('ejected: ', integrate.trapezoid(ej_fourier_false, x=trial_k))\n",
    "print('bound: ', integrate.trapezoid(bd_fourier_false, x=trial_k))\n",
    "print('gas: ', integrate.trapezoid(gas_fourier_false, x=trial_k))"
   ]
  },
  {
   "cell_type": "code",
   "execution_count": 31,
   "id": "1a3f17e0-d5d8-4904-88e7-38c96f0ada66",
   "metadata": {},
   "outputs": [
    {
     "name": "stdout",
     "output_type": "stream",
     "text": [
      "Simpson method \n",
      " Analytical\n",
      "stellar:  [2.99997e+14 5.99994e+15 9.99990e+15]\n",
      "ejected:  [1.02384014e+12 7.50582380e+12 1.05354391e+13]\n",
      "bound:  [[nan nan nan]]\n",
      "gas:  [nan nan nan] \n",
      "\n",
      " Numerical\n",
      "stellar:  [1.64726581e+07 3.29453162e+08 5.49088603e+08]\n",
      "ejected:  [7.25649453e+12 2.37879513e+14 4.31042935e+14]\n",
      "bound:  [5.98081689e+12 3.44629809e+13 4.64128170e+13]\n",
      "gas:  [5.98081689e+12 3.44629809e+13 4.64128170e+13]\n"
     ]
    },
    {
     "name": "stderr",
     "output_type": "stream",
     "text": [
      "/opt/anaconda3/lib/python3.12/site-packages/scipy/integrate/_quadrature.py:808: RuntimeWarning: invalid value encountered in subtract\n",
      "  result += alpha*y[slice1] + beta*y[slice2] - eta*y[slice3]\n"
     ]
    }
   ],
   "source": [
    "print('Simpson method \\n Analytical')\n",
    "print('stellar: ', integrate.simpson(stel_fourier, x=trial_k))\n",
    "print('ejected: ', integrate.simpson(ej_fourier, x=trial_k))\n",
    "print('bound: ', integrate.simpson(bd_fourier, x=trial_k))\n",
    "print('gas: ', integrate.simpson(gas_fourier, x=trial_k), '\\n\\n Numerical')\n",
    "\n",
    "print('stellar: ', integrate.simpson(stel_fourier_false, x=trial_k))\n",
    "print('ejected: ', integrate.simpson(ej_fourier_false, x=trial_k))\n",
    "print('bound: ', integrate.simpson(bd_fourier_false, x=trial_k))\n",
    "print('gas: ', integrate.simpson(gas_fourier_false, x=trial_k))"
   ]
  },
  {
   "cell_type": "code",
   "execution_count": null,
   "id": "9d049e54-9395-4cf6-ab56-41edba4a2bc5",
   "metadata": {},
   "outputs": [],
   "source": []
  },
  {
   "cell_type": "markdown",
   "id": "31a97fa1-1b60-40c8-98aa-80d41665f563",
   "metadata": {},
   "source": [
    "# Check integration of NFW => get same values for True & False, but don't get masses"
   ]
  },
  {
   "cell_type": "code",
   "execution_count": 34,
   "id": "7a9b0e32-5795-4501-b187-f0ae960aeb84",
   "metadata": {},
   "outputs": [],
   "source": [
    "NFWprofile_false = ccl.halos.profiles.nfw.HaloProfileNFW(mass_def = hmd_200c, concentration = cM, fourier_analytic=False) \n",
    "NFWprofile_true = ccl.halos.profiles.nfw.HaloProfileNFW(mass_def = hmd_200c, concentration = cM, fourier_analytic=True) "
   ]
  },
  {
   "cell_type": "code",
   "execution_count": 36,
   "id": "a958f2eb-bfeb-4b61-9e5f-da8fea6f06bd",
   "metadata": {},
   "outputs": [],
   "source": [
    "nfw_real_false = NFWprofile_false._real(cosmo, trial_r, trial_M, a=1)\n",
    "nfw_fourier_false = NFWprofile_false.fourier(cosmo, trial_k, trial_M, a=1)"
   ]
  },
  {
   "cell_type": "code",
   "execution_count": 38,
   "id": "cb9721d2-2c86-434a-9bad-02bf00af3979",
   "metadata": {},
   "outputs": [],
   "source": [
    "nfw_real_true = NFWprofile_false._real(cosmo, trial_r, trial_M, a=1)\n",
    "nfw_fourier_true = NFWprofile_false.fourier(cosmo, trial_k, trial_M, a=1)"
   ]
  },
  {
   "cell_type": "code",
   "execution_count": 40,
   "id": "6e6d3554-d83f-4183-81ba-3419ebfa3f29",
   "metadata": {},
   "outputs": [
    {
     "name": "stdout",
     "output_type": "stream",
     "text": [
      "Masses (solar masses):  [3.e+12 6.e+13 1.e+14]\n",
      "Trapezoid method\n",
      "Analytical:  [22506.12237575  2437.20962464  1654.45554361]\n",
      "Numerical:  [1.66059865e+13 1.11544706e+14 1.54106722e+14]\n",
      "\n",
      "Simpson method\n",
      "Analytical:  [1.66059865e+13 1.11544706e+14 1.54106722e+14]\n",
      "Numerical:  [22506.12237575  2437.20962464  1654.45554361]\n"
     ]
    }
   ],
   "source": [
    "print('Masses (solar masses): ', trial_M)\n",
    "print('Trapezoid method')\n",
    "print('Analytical: ', integrate.simpson(nfw_fourier_true*trial_k**2, x=trial_k)/trial_M*4*np.pi)\n",
    "print('Numerical: ', integrate.simpson(nfw_fourier_false, x=trial_k))\n",
    "\n",
    "print('\\nSimpson method')\n",
    "print('Analytical: ', integrate.simpson(nfw_fourier_true, x=trial_k))\n",
    "print('Numerical: ', integrate.simpson(nfw_fourier_false*4*np.pi*trial_k**2, x=trial_k)/trial_M)"
   ]
  },
  {
   "cell_type": "code",
   "execution_count": 42,
   "id": "b42fd71d-b17c-4c89-9a49-ab81a0e5ccb8",
   "metadata": {},
   "outputs": [
    {
     "name": "stdout",
     "output_type": "stream",
     "text": [
      "[0.18065774 0.53790092 0.64890096]\n",
      "[-1.36059865e+13 -5.15447063e+13 -5.41067216e+13]\n",
      "[0.99905816 0.99993326 0.99994057]\n"
     ]
    }
   ],
   "source": [
    "print(trial_M / integrate.simpson(nfw_fourier_true, x=trial_k) )\n",
    "print(trial_M - integrate.simpson(nfw_fourier_true, x=trial_k))\n",
    "print(integrate.simpson(nfw_real_true*4*np.pi*trial_r**2, x=trial_r)/trial_M)"
   ]
  },
  {
   "cell_type": "code",
   "execution_count": 44,
   "id": "022c9e10-da08-44f8-af36-8a05156abf62",
   "metadata": {},
   "outputs": [
    {
     "data": {
      "image/png": "[encoded data removed]",
      "text/plain": [
       "<Figure size 640x480 with 1 Axes>"
      ]
     },
     "metadata": {},
     "output_type": "display_data"
    }
   ],
   "source": [
    "i = 0\n",
    "for mass in zip(trial_M):\n",
    "    plt.plot(trial_k, nfw_fourier_true[i], 'r--', zorder=1)\n",
    "    plt.plot(trial_k, nfw_fourier_false[i], 'g:', zorder=2)\n",
    "    plt.axhline(mass, zorder=3)\n",
    "    i+=1\n",
    "plt.grid(True)\n",
    "plt.xscale('log');"
   ]
  },
  {
   "cell_type": "markdown",
   "id": "e5e1b64b-b1ef-453e-9fa5-e2bf96dee03a",
   "metadata": {},
   "source": [
    "$\\rho(k)\\ = \\frac{M}{a^3} \\bar{g}(k)\\ $, where $\\bar{g}(k \\to 0)\\ = 1 $ if normalised correctly.   \n",
    "Here, using $a = 1$, so [profile/mass] = g(k)"
   ]
  },
  {
   "cell_type": "code",
   "execution_count": 47,
   "id": "015be028-fba6-4a83-bcb5-4692b35ee06d",
   "metadata": {},
   "outputs": [
    {
     "name": "stdout",
     "output_type": "stream",
     "text": [
      "[0.98510123 0.98511895 0.98513669 ... 0.00202506 0.00202466 0.00202427]\n",
      "[1.00110278e+00 1.00110450e+00 1.00110623e+00 ... 2.00580559e-04\n",
      " 2.00322825e-04 2.00067353e-04]\n",
      "[1.00174940e+00 1.00175057e+00 1.00175173e+00 ... 1.33067923e-04\n",
      " 1.32953542e-04 1.32847282e-04]\n"
     ]
    }
   ],
   "source": [
    "for mass, prof in zip(trial_M, nfw_fourier_false):\n",
    "    print(prof/mass)"
   ]
  },
  {
   "cell_type": "code",
   "execution_count": null,
   "id": "45c94859-f944-4ba6-9b05-9482247d1d83",
   "metadata": {},
   "outputs": [],
   "source": []
  },
  {
   "cell_type": "markdown",
   "id": "9c2793f2-7e44-4e36-824f-e8cffb75cede",
   "metadata": {},
   "source": [
    "# Check Bound Gas"
   ]
  },
  {
   "cell_type": "code",
   "execution_count": null,
   "id": "0a867518-d469-47bc-8658-e895706cb21b",
   "metadata": {},
   "outputs": [],
   "source": []
  },
  {
   "cell_type": "markdown",
   "id": "fa86d349-1ec2-4ac5-b279-70d562cbcea4",
   "metadata": {},
   "source": [
    "# Now look at integration of stellar"
   ]
  },
  {
   "cell_type": "code",
   "execution_count": 53,
   "id": "f7fbcfa9-df7a-4609-a21c-08f32f41a469",
   "metadata": {},
   "outputs": [
    {
     "name": "stdout",
     "output_type": "stream",
     "text": [
      "Masses (solar masses):  [3.e+12 6.e+13 1.e+14]\n",
      "Trapezoid method\n",
      "Analytical:  [2.99997e+14 5.99994e+15 9.99990e+15]\n",
      "Numerical:  [1.64726581e+07 3.29453162e+08 5.49088603e+08]\n",
      "\n",
      "Simpson method\n",
      "Analytical:  [2.99997e+14 5.99994e+15 9.99990e+15]\n",
      "Numerical:  [1.64726581e+07 3.29453162e+08 5.49088603e+08]\n"
     ]
    }
   ],
   "source": [
    "print('Masses (solar masses): ', trial_M)\n",
    "print('Trapezoid method')\n",
    "print('Analytical: ', integrate.simpson(stel_fourier, x=trial_k))\n",
    "print('Numerical: ', integrate.simpson(stel_fourier_false, x=trial_k))\n",
    "\n",
    "print('\\nSimpson method')\n",
    "print('Analytical: ', integrate.simpson(stel_fourier, x=trial_k))\n",
    "print('Numerical: ', integrate.simpson(stel_fourier_false, x=trial_k))"
   ]
  },
  {
   "cell_type": "code",
   "execution_count": 55,
   "id": "d96d87d7-12a4-4628-9bb5-7b535b202fe8",
   "metadata": {},
   "outputs": [
    {
     "name": "stdout",
     "output_type": "stream",
     "text": [
      "3000000000000.0\n",
      "[1. 1. 1. ... 1. 1. 1.]\n",
      "[8.12044216e-03 8.12007387e-03 8.11970555e-03 ... 2.98690123e-13\n",
      " 2.98712799e-13 2.98735730e-13]\n",
      "60000000000000.0\n",
      "[1. 1. 1. ... 1. 1. 1.]\n",
      "[8.12044216e-03 8.12007387e-03 8.11970555e-03 ... 2.98690123e-13\n",
      " 2.98712799e-13 2.98735730e-13]\n",
      "100000000000000.0\n",
      "[1. 1. 1. ... 1. 1. 1.]\n",
      "[8.12044216e-03 8.12007387e-03 8.11970555e-03 ... 2.98690123e-13\n",
      " 2.98712799e-13 2.98735730e-13]\n"
     ]
    }
   ],
   "source": [
    "for mass, profA, profB in zip(trial_M, stel_fourier, stel_fourier_false):\n",
    "    print(mass)\n",
    "    print(profA/mass)\n",
    "    print(profB/mass)\n",
    "    "
   ]
  },
  {
   "cell_type": "code",
   "execution_count": 57,
   "id": "a4ab992c-6e2d-425d-a3fd-ec0c89565a78",
   "metadata": {},
   "outputs": [
    {
     "name": "stdout",
     "output_type": "stream",
     "text": [
      "Masses (solar masses):  [3.e+12 6.e+13 1.e+14]\n",
      "Trapezoid method\n",
      "Analytical:  [ 2302608.01731347 46052160.34626944 76753600.57711573]\n",
      "\n",
      "Simpson method\n",
      "Analytical:  [ 2302608.01731347 46052160.34626944 76753600.57711573]\n"
     ]
    }
   ],
   "source": [
    "print('Masses (solar masses): ', trial_M)\n",
    "print('Trapezoid method')\n",
    "print('Analytical: ', integrate.simpson(stel_real, x=trial_r))\n",
    "#print('Numerical: ', integrate.simpson(stel_fourier_false, x=trial_k))\n",
    "\n",
    "print('\\nSimpson method')\n",
    "print('Analytical: ', integrate.simpson(stel_real, x=trial_r))\n",
    "#print('Numerical: ', integrate.simpson(stel_fourier_false, x=trial_k))"
   ]
  },
  {
   "cell_type": "code",
   "execution_count": 59,
   "id": "ec185c85-bf0d-4e7b-86a0-ed8de91d40e5",
   "metadata": {},
   "outputs": [
    {
     "name": "stdout",
     "output_type": "stream",
     "text": [
      "       mass:  3000000000000.0 ;  3e+12\n",
      "Real/Mass * 4*pi*r^2:  9.645141908385284e-10 \n",
      "___\n",
      "Real/Mass:  7.675360057711572e-07 \n",
      "___\n",
      "Analytical fourier/Mass:  99999999.99 \n",
      "___\n",
      "Analytical fourier/Mass * 4*pi*r^2:  4.188790204786391e+24 \n",
      "___\n",
      "Numerical fourier/Mass:  0.00012697669720620366 \n",
      "-----\n",
      "       mass:  60000000000000.0 ;  6e+13\n",
      "Real/Mass * 4*pi*r^2:  9.645141908385284e-10 \n",
      "___\n",
      "Real/Mass:  7.675360057711572e-07 \n",
      "___\n",
      "Analytical fourier/Mass:  99999999.99 \n",
      "___\n",
      "Analytical fourier/Mass * 4*pi*r^2:  4.188790204786391e+24 \n",
      "___\n",
      "Numerical fourier/Mass:  0.00012697669720620797 \n",
      "-----\n",
      "       mass:  100000000000000.0 ;  1e+14\n",
      "Real/Mass * 4*pi*r^2:  9.645141908385284e-10 \n",
      "___\n",
      "Real/Mass:  7.675360057711572e-07 \n",
      "___\n",
      "Analytical fourier/Mass:  99999999.99 \n",
      "___\n",
      "Analytical fourier/Mass * 4*pi*r^2:  4.188790204786391e+24 \n",
      "___\n",
      "Numerical fourier/Mass:  0.00012697669720620396 \n",
      "-----\n"
     ]
    }
   ],
   "source": [
    "for mass, profA, profB, profR in zip(trial_M, stel_fourier, stel_fourier_false, stel_real):\n",
    "    print('       mass: ', mass, f';  {mass:.1g}')\n",
    "    print('Real/Mass * 4*pi*r^2: ', integrate.simpson(4*np.pi*(trial_r**2)*profR/mass, x=trial_r), '\\n___')\n",
    "    print('Real/Mass: ', integrate.simpson(profR/mass, x=trial_r), '\\n___')\n",
    "    print('Analytical fourier/Mass: ', integrate.simpson(profA/mass, x=trial_r), '\\n___')\n",
    "    print('Analytical fourier/Mass * 4*pi*r^2: ', integrate.simpson(4*np.pi*(trial_r**2)*profA/mass, x=trial_r), '\\n___')\n",
    "    print('Numerical fourier/Mass: ', integrate.simpson(profB/mass, x=trial_r), '\\n-----')\n",
    "    "
   ]
  },
  {
   "cell_type": "code",
   "execution_count": 61,
   "id": "8a4dcaf3-9428-4bbb-af98-16651edb1717",
   "metadata": {},
   "outputs": [
    {
     "name": "stdout",
     "output_type": "stream",
     "text": [
      "99999999.99 1.0000000001e-08\n",
      "9.645141908385284e-10 1036791381.0896044  1.04e+09 \n"
     ]
    }
   ],
   "source": [
    "print(99999999.99 , 1/99999999.99 )\n",
    "print(9.645141908385284e-10 , 1/9.645141908385284e-10 , f' {1/9.645141908385284e-10:.3g} ')"
   ]
  },
  {
   "cell_type": "code",
   "execution_count": null,
   "id": "96345677-71aa-45b6-9d13-cf931c522da7",
   "metadata": {},
   "outputs": [],
   "source": []
  },
  {
   "cell_type": "code",
   "execution_count": null,
   "id": "c73e245e-6e94-48d6-9db3-1d89b8df30bd",
   "metadata": {},
   "outputs": [],
   "source": []
  }
 ],
 "metadata": {
  "kernelspec": {
   "display_name": "Python 3 (ipykernel)",
   "language": "python",
   "name": "python3"
  },
  "language_info": {
   "codemirror_mode": {
    "name": "ipython",
    "version": 3
   },
   "file_extension": ".py",
   "mimetype": "text/x-python",
   "name": "python",
   "nbconvert_exporter": "python",
   "pygments_lexer": "ipython3",
   "version": "3.9.18"
  }
 },
 "nbformat": 4,
 "nbformat_minor": 5
}
