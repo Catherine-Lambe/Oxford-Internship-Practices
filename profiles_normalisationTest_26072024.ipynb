{
 "cells": [
  {
   "cell_type": "code",
   "execution_count": 1,
   "id": "4bf77c27-b104-43f1-9d76-e6c35e8c7085",
   "metadata": {},
   "outputs": [],
   "source": [
    "import numpy as np\n",
    "import pyccl as ccl\n",
    "import matplotlib.pyplot as plt\n",
    "import scipy.integrate as integrate\n",
    "import scipy.interpolate as interpol\n",
    "from pyccl._core import UnlockInstance\n",
    "from scipy import signal"
   ]
  },
  {
   "cell_type": "code",
   "execution_count": 2,
   "id": "4c4d7e09-76d0-439b-b072-44e829041bc4",
   "metadata": {},
   "outputs": [
    {
     "data": {
      "text/plain": [
       "('StellarProfile',\n",
       " 'EjectedGasProfile',\n",
       " 'BoundGasProfile',\n",
       " 'CombinedGasProfile',\n",
       " 'CombinedStellarGasProfile',\n",
       " 'CombinedAllBCMProfile')"
      ]
     },
     "execution_count": 2,
     "metadata": {},
     "output_type": "execute_result"
    }
   ],
   "source": [
    "import BCMprofiles\n",
    "BCMprofiles.__all__"
   ]
  },
  {
   "cell_type": "markdown",
   "id": "f84ee585-1863-45cc-9787-44ef22056c42",
   "metadata": {},
   "source": [
    "# Setting up pars & profiles"
   ]
  },
  {
   "cell_type": "code",
   "execution_count": 8,
   "id": "2eeb41ed-0560-4d27-9feb-c9766a5a3f06",
   "metadata": {},
   "outputs": [],
   "source": [
    "hmd_200c = ccl.halos.MassDef200c # use a mass definition with Delta = 200\n",
    "cM = ccl.halos.ConcentrationDuffy08(mass_def=hmd_200c)\n",
    "cosmo = ccl.Cosmology(Omega_c = 0.25, Omega_b=0.05, h=0.07, A_s=2.1e-9, n_s=0.96, Neff=0, Omega_g=0)\n",
    "\n",
    "trial_r = np.geomspace(1E-2,1E8,100000) # geomspace is like linspace, but evenly spaces on a logscale\n",
    "trial_k = np.geomspace(1E-3,1E2,100000) # np.geomspace(1E-3,1E2,100000)\n",
    "trial_M = np.array([3E12,6E13, 1E14])\n",
    "trial_gamma = 1.1  # working with z = 0 (today) ; therefore a = 1 [default]\n",
    "trial_f_bd = 0.6"
   ]
  },
  {
   "cell_type": "markdown",
   "id": "82a87a93-5f70-4300-8511-62c0dbf51a9f",
   "metadata": {},
   "source": [
    "## Loading profiles, with fourier_analytic = True"
   ]
  },
  {
   "cell_type": "code",
   "execution_count": 11,
   "id": "89f0c99c-0182-4ed7-8098-f2b37cee702a",
   "metadata": {},
   "outputs": [],
   "source": [
    "stel_profile = BCMprofiles.StellarProfile(hmd_200c)\n",
    "ej_profile = BCMprofiles.EjectedGasProfile(cosmo, hmd_200c)\n",
    "bd_profile = BCMprofiles.BoundGasProfile(cosmo, hmd_200c, cM, trial_gamma)\n",
    "gas_profile = BCMprofiles.CombinedGasProfile(cosmo, hmd_200c, cM, trial_gamma)\n",
    "stelGas_profile = BCMprofiles.CombinedStellarGasProfile(cosmo, hmd_200c, cM, trial_gamma) \n",
    "bcm_profile = BCMprofiles.CombinedAllBCMProfile(cosmo, hmd_200c, cM, trial_gamma)"
   ]
  },
  {
   "cell_type": "code",
   "execution_count": 13,
   "id": "96bbe3ae-738f-489f-aea0-638becfbf339",
   "metadata": {},
   "outputs": [
    {
     "name": "stderr",
     "output_type": "stream",
     "text": [
      "/Users/lambe/Documents/GitHub/Oxford-Intern-2024/Oxford-Internship-Practices/BCMprofiles.py:152: IntegrationWarning: The integral is probably divergent, or slowly convergent.\n",
      "  I0_array[k] =  integrate.quad(self._innerInt, 0, np.inf, args = 1/(i-1))[0]\n",
      "/Users/lambe/Documents/GitHub/Oxford-Intern-2024/Oxford-Internship-Practices/BCMprofiles.py:152: IntegrationWarning: The algorithm does not converge.  Roundoff error is detected\n",
      "  in the extrapolation table.  It is assumed that the requested tolerance\n",
      "  cannot be achieved, and that the returned result (if full_output = 1) is \n",
      "  the best which can be obtained.\n",
      "  I0_array[k] =  integrate.quad(self._innerInt, 0, np.inf, args = 1/(i-1))[0]\n"
     ]
    }
   ],
   "source": [
    "stel_real = stel_profile._real(trial_r, trial_M)\n",
    "ej_real = ej_profile._real(trial_r, trial_M)\n",
    "bd_real = bd_profile._real(trial_r, trial_M)\n",
    "gas_real = gas_profile._real(trial_r, trial_M, trial_f_bd)\n",
    "stelGas_real = stelGas_profile._real(trial_r, trial_M)\n",
    "bcm_real = bcm_profile._real(trial_r, trial_M)"
   ]
  },
  {
   "cell_type": "code",
   "execution_count": 15,
   "id": "173414aa-f1b6-4db6-b454-89324b037bfa",
   "metadata": {
    "scrolled": true
   },
   "outputs": [
    {
     "name": "stderr",
     "output_type": "stream",
     "text": [
      "/Users/lambe/Documents/GitHub/Oxford-Intern-2024/Oxford-Internship-Practices/BCMprofiles.py:137: RuntimeWarning: invalid value encountered in scalar divide\n",
      "  return (np.log(1+x)/x)**gam_use\n",
      "/Users/lambe/Documents/GitHub/Oxford-Intern-2024/Oxford-Internship-Practices/BCMprofiles.py:195: IntegrationWarning: The maximum number of cycles allowed has been achieved., e.e.\n",
      "  of subintervals (a+(k-1)c, a+kc) where c = (2*int(abs(omega)+1))\n",
      "  *pi/abs(omega), for k = 1, 2, ..., lst.  One can allow more cycles by increasing the value of limlst.  Look at info['ierlst'] with full_output=1.\n",
      "  I0_array[k, l] =  integrate.quad(integralQany, 0, np.inf, args = 1/(i-1), weight = \"sin\", wvar=j)[0] / j\n"
     ]
    },
    {
     "name": "stdout",
     "output_type": "stream",
     "text": [
      "k = 1.56% through\n"
     ]
    },
    {
     "name": "stderr",
     "output_type": "stream",
     "text": [
      "/Users/lambe/Documents/GitHub/Oxford-Intern-2024/Oxford-Internship-Practices/BCMprofiles.py:195: IntegrationWarning: Bad integrand behavior occurs within one or more of the cycles.\n",
      "  Location and type of the difficulty involved can be determined from \n",
      "  the vector info['ierlist'] obtained with full_output=1.\n",
      "  I0_array[k, l] =  integrate.quad(integralQany, 0, np.inf, args = 1/(i-1), weight = \"sin\", wvar=j)[0] / j\n"
     ]
    },
    {
     "name": "stdout",
     "output_type": "stream",
     "text": [
      "k = 3.12% through\n",
      "k = 4.69% through\n",
      "k = 6.25% through\n",
      "k = 7.81% through\n",
      "k = 9.38% through\n",
      "k = 10.9% through\n",
      "k = 12.5% through\n",
      "k = 14.1% through\n",
      "k = 15.6% through\n",
      "k = 17.2% through\n",
      "k = 18.8% through\n",
      "k = 20.3% through\n",
      "k = 21.9% through\n",
      "k = 23.4% through\n",
      "k = 25% through\n",
      "k = 26.6% through\n"
     ]
    },
    {
     "name": "stderr",
     "output_type": "stream",
     "text": [
      "/Users/lambe/Documents/GitHub/Oxford-Intern-2024/Oxford-Internship-Practices/BCMprofiles.py:195: IntegrationWarning: The extrapolation table constructed for convergence acceleration\n",
      "  of the series formed by the integral contributions over the cycles, \n",
      "  does not converge to within the requested accuracy.  Look at \n",
      "  info['ierlst'] with full_output=1.\n",
      "  I0_array[k, l] =  integrate.quad(integralQany, 0, np.inf, args = 1/(i-1), weight = \"sin\", wvar=j)[0] / j\n"
     ]
    },
    {
     "name": "stdout",
     "output_type": "stream",
     "text": [
      "k = 28.1% through\n",
      "k = 29.7% through\n",
      "k = 31.2% through\n",
      "k = 32.8% through\n",
      "k = 34.4% through\n",
      "k = 35.9% through\n",
      "k = 37.5% through\n",
      "k = 39.1% through\n",
      "k = 40.6% through\n",
      "k = 42.2% through\n",
      "k = 43.8% through\n",
      "k = 45.3% through\n",
      "k = 46.9% through\n",
      "k = 48.4% through\n",
      "k = 50% through\n",
      "k = 51.6% through\n",
      "k = 53.1% through\n",
      "k = 54.7% through\n",
      "k = 56.2% through\n",
      "k = 57.8% through\n",
      "k = 59.4% through\n",
      "k = 60.9% through\n",
      "k = 62.5% through\n",
      "k = 64.1% through\n",
      "k = 65.6% through\n",
      "k = 67.2% through\n",
      "k = 68.8% through\n",
      "k = 70.3% through\n",
      "k = 71.9% through\n",
      "k = 73.4% through\n",
      "k = 75% through\n",
      "k = 76.6% through\n",
      "k = 78.1% through\n",
      "k = 79.7% through\n",
      "k = 81.2% through\n",
      "k = 82.8% through\n",
      "k = 84.4% through\n",
      "k = 85.9% through\n",
      "k = 87.5% through\n",
      "k = 89.1% through\n",
      "k = 90.6% through\n",
      "k = 92.2% through\n",
      "k = 93.8% through\n",
      "k = 95.3% through\n",
      "k = 96.9% through\n",
      "k = 98.4% through\n",
      "k = 100% through\n"
     ]
    },
    {
     "name": "stderr",
     "output_type": "stream",
     "text": [
      "/Users/lambe/Documents/GitHub/Oxford-Intern-2024/Oxford-Internship-Practices/BCMprofiles.py:218: RuntimeWarning: overflow encountered in divide\n",
      "  g_k = self._func_normQany((self.gamma, np.log(q_use))) / self._func_normQ0(self.gamma) # = Ib_qAny / Ib_q0\n",
      "/Users/lambe/Documents/GitHub/Oxford-Intern-2024/Oxford-Internship-Practices/BCMprofiles.py:221: RuntimeWarning: overflow encountered in multiply\n",
      "  prof = prefix[:, None] * g_k[None,:]\n"
     ]
    },
    {
     "name": "stdout",
     "output_type": "stream",
     "text": [
      "k = 1.56% through\n",
      "k = 3.12% through\n",
      "k = 4.69% through\n",
      "k = 6.25% through\n",
      "k = 7.81% through\n",
      "k = 9.38% through\n",
      "k = 10.9% through\n",
      "k = 12.5% through\n",
      "k = 14.1% through\n",
      "k = 15.6% through\n",
      "k = 17.2% through\n",
      "k = 18.8% through\n",
      "k = 20.3% through\n",
      "k = 21.9% through\n",
      "k = 23.4% through\n",
      "k = 25% through\n",
      "k = 26.6% through\n",
      "k = 28.1% through\n",
      "k = 29.7% through\n",
      "k = 31.2% through\n",
      "k = 32.8% through\n",
      "k = 34.4% through\n",
      "k = 35.9% through\n",
      "k = 37.5% through\n",
      "k = 39.1% through\n",
      "k = 40.6% through\n",
      "k = 42.2% through\n",
      "k = 43.8% through\n",
      "k = 45.3% through\n",
      "k = 46.9% through\n",
      "k = 48.4% through\n",
      "k = 50% through\n",
      "k = 51.6% through\n",
      "k = 53.1% through\n",
      "k = 54.7% through\n",
      "k = 56.2% through\n",
      "k = 57.8% through\n",
      "k = 59.4% through\n",
      "k = 60.9% through\n",
      "k = 62.5% through\n",
      "k = 64.1% through\n",
      "k = 65.6% through\n",
      "k = 67.2% through\n",
      "k = 68.8% through\n",
      "k = 70.3% through\n",
      "k = 71.9% through\n",
      "k = 73.4% through\n",
      "k = 75% through\n",
      "k = 76.6% through\n",
      "k = 78.1% through\n",
      "k = 79.7% through\n",
      "k = 81.2% through\n",
      "k = 82.8% through\n",
      "k = 84.4% through\n",
      "k = 85.9% through\n",
      "k = 87.5% through\n",
      "k = 89.1% through\n",
      "k = 90.6% through\n",
      "k = 92.2% through\n",
      "k = 93.8% through\n",
      "k = 95.3% through\n",
      "k = 96.9% through\n",
      "k = 98.4% through\n",
      "k = 100% through\n",
      "k = 1.56% through\n",
      "k = 3.12% through\n",
      "k = 4.69% through\n",
      "k = 6.25% through\n",
      "k = 7.81% through\n",
      "k = 9.38% through\n",
      "k = 10.9% through\n",
      "k = 12.5% through\n",
      "k = 14.1% through\n",
      "k = 15.6% through\n",
      "k = 17.2% through\n",
      "k = 18.8% through\n",
      "k = 20.3% through\n",
      "k = 21.9% through\n",
      "k = 23.4% through\n",
      "k = 25% through\n",
      "k = 26.6% through\n",
      "k = 28.1% through\n",
      "k = 29.7% through\n",
      "k = 31.2% through\n",
      "k = 32.8% through\n",
      "k = 34.4% through\n",
      "k = 35.9% through\n",
      "k = 37.5% through\n",
      "k = 39.1% through\n",
      "k = 40.6% through\n",
      "k = 42.2% through\n",
      "k = 43.8% through\n",
      "k = 45.3% through\n",
      "k = 46.9% through\n",
      "k = 48.4% through\n",
      "k = 50% through\n",
      "k = 51.6% through\n",
      "k = 53.1% through\n",
      "k = 54.7% through\n",
      "k = 56.2% through\n",
      "k = 57.8% through\n",
      "k = 59.4% through\n",
      "k = 60.9% through\n",
      "k = 62.5% through\n",
      "k = 64.1% through\n",
      "k = 65.6% through\n",
      "k = 67.2% through\n",
      "k = 68.8% through\n",
      "k = 70.3% through\n",
      "k = 71.9% through\n",
      "k = 73.4% through\n",
      "k = 75% through\n",
      "k = 76.6% through\n",
      "k = 78.1% through\n",
      "k = 79.7% through\n",
      "k = 81.2% through\n",
      "k = 82.8% through\n",
      "k = 84.4% through\n",
      "k = 85.9% through\n",
      "k = 87.5% through\n",
      "k = 89.1% through\n",
      "k = 90.6% through\n",
      "k = 92.2% through\n",
      "k = 93.8% through\n",
      "k = 95.3% through\n",
      "k = 96.9% through\n",
      "k = 98.4% through\n",
      "k = 100% through\n",
      "k = 1.56% through\n",
      "k = 3.12% through\n",
      "k = 4.69% through\n",
      "k = 6.25% through\n",
      "k = 7.81% through\n",
      "k = 9.38% through\n",
      "k = 10.9% through\n",
      "k = 12.5% through\n",
      "k = 14.1% through\n",
      "k = 15.6% through\n",
      "k = 17.2% through\n",
      "k = 18.8% through\n",
      "k = 20.3% through\n",
      "k = 21.9% through\n",
      "k = 23.4% through\n",
      "k = 25% through\n",
      "k = 26.6% through\n",
      "k = 28.1% through\n",
      "k = 29.7% through\n",
      "k = 31.2% through\n",
      "k = 32.8% through\n",
      "k = 34.4% through\n",
      "k = 35.9% through\n",
      "k = 37.5% through\n",
      "k = 39.1% through\n",
      "k = 40.6% through\n",
      "k = 42.2% through\n",
      "k = 43.8% through\n",
      "k = 45.3% through\n",
      "k = 46.9% through\n",
      "k = 48.4% through\n",
      "k = 50% through\n",
      "k = 51.6% through\n",
      "k = 53.1% through\n",
      "k = 54.7% through\n",
      "k = 56.2% through\n",
      "k = 57.8% through\n",
      "k = 59.4% through\n",
      "k = 60.9% through\n",
      "k = 62.5% through\n",
      "k = 64.1% through\n",
      "k = 65.6% through\n",
      "k = 67.2% through\n",
      "k = 68.8% through\n",
      "k = 70.3% through\n",
      "k = 71.9% through\n",
      "k = 73.4% through\n",
      "k = 75% through\n",
      "k = 76.6% through\n",
      "k = 78.1% through\n",
      "k = 79.7% through\n",
      "k = 81.2% through\n",
      "k = 82.8% through\n",
      "k = 84.4% through\n",
      "k = 85.9% through\n",
      "k = 87.5% through\n",
      "k = 89.1% through\n",
      "k = 90.6% through\n",
      "k = 92.2% through\n",
      "k = 93.8% through\n",
      "k = 95.3% through\n",
      "k = 96.9% through\n",
      "k = 98.4% through\n",
      "k = 100% through\n"
     ]
    }
   ],
   "source": [
    "stel_fourier = stel_profile._fourier(trial_k, trial_M)\n",
    "ej_fourier = ej_profile._fourier(trial_k, trial_M)\n",
    "bd_fourier = bd_profile._fourier(trial_k, trial_M)\n",
    "gas_fourier = gas_profile._fourier(trial_k, trial_M, trial_f_bd)\n",
    "stelGas_fourier = stelGas_profile._fourier(trial_k, trial_M)\n",
    "bcm_fourier = bcm_profile._fourier(trial_k, trial_M)"
   ]
  },
  {
   "cell_type": "code",
   "execution_count": null,
   "id": "4b795e63-29eb-460a-877d-f02dcfb61cec",
   "metadata": {},
   "outputs": [],
   "source": []
  },
  {
   "cell_type": "markdown",
   "id": "e5662731-6a9c-4416-9726-9eb658c1557e",
   "metadata": {},
   "source": [
    "## Loading profiles, with fourier_analytic = False"
   ]
  },
  {
   "cell_type": "code",
   "execution_count": 30,
   "id": "6d7c7a80-7052-479a-9fa9-cc2529b3b86f",
   "metadata": {},
   "outputs": [],
   "source": [
    "stel_profile_false = BCMprofiles.StellarProfile(hmd_200c, fourier_analytic=False)\n",
    "ej_profile_false = BCMprofiles.EjectedGasProfile(cosmo, hmd_200c, fourier_analytic=False)\n",
    "bd_profile_false = BCMprofiles.BoundGasProfile(cosmo, hmd_200c, cM, trial_gamma, fourier_analytic=False)\n",
    "gas_profile_false = BCMprofiles.CombinedGasProfile(cosmo, hmd_200c, cM, trial_gamma, fourier_analytic=False)\n",
    "stelGas_profile_false = BCMprofiles.CombinedStellarGasProfile(cosmo, hmd_200c, cM, trial_gamma, fourier_analytic=False) \n",
    "bcm_profile_false = BCMprofiles.CombinedAllBCMProfile(cosmo, hmd_200c, cM, trial_gamma, fourier_analytic=False)"
   ]
  },
  {
   "cell_type": "code",
   "execution_count": 34,
   "id": "8f2a31de-e1af-4283-a34a-732a80803eb8",
   "metadata": {},
   "outputs": [],
   "source": [
    "stel_real_false = stel_profile_false._real(trial_r, trial_M)\n",
    "ej_real_false = ej_profile_false._real(trial_r, trial_M)\n",
    "bd_real_false = bd_profile_false._real(trial_r, trial_M)\n",
    "gas_real_false = gas_profile_false._real(trial_r, trial_M, trial_f_bd)\n",
    "stelGas_real_false = stelGas_profile_false._real(trial_r, trial_M)\n",
    "bcm_real_false = bcm_profile_false._real(trial_r, trial_M)"
   ]
  },
  {
   "cell_type": "code",
   "execution_count": 44,
   "id": "c401ebac-3c2a-42e0-b38e-66ed64f52f96",
   "metadata": {},
   "outputs": [
    {
     "data": {
      "text/plain": [
       "<function pyccl.halos.profiles.profile_base.HaloProfile.fourier(self, cosmo, k, M, a)>"
      ]
     },
     "execution_count": 44,
     "metadata": {},
     "output_type": "execute_result"
    }
   ],
   "source": [
    "ccl.halos.profiles.HaloProfile.fourier"
   ]
  },
  {
   "cell_type": "code",
   "execution_count": 56,
   "id": "adfd5873-7fb6-494b-b2cd-67b66e19752d",
   "metadata": {
    "scrolled": true
   },
   "outputs": [
    {
     "ename": "ValueError",
     "evalue": "The truth value of an array with more than one element is ambiguous. Use a.any() or a.all()",
     "output_type": "error",
     "traceback": [
      "\u001b[0;31m---------------------------------------------------------------------------\u001b[0m",
      "\u001b[0;31mValueError\u001b[0m                                Traceback (most recent call last)",
      "Cell \u001b[0;32mIn[56], line 1\u001b[0m\n\u001b[0;32m----> 1\u001b[0m stel_fourier_false \u001b[38;5;241m=\u001b[39m stel_profile_false\u001b[38;5;241m.\u001b[39mfourier(cosmo\u001b[38;5;241m=\u001b[39mcosmo, k\u001b[38;5;241m=\u001b[39mtrial_k, M\u001b[38;5;241m=\u001b[39mtrial_M, a\u001b[38;5;241m=\u001b[39m\u001b[38;5;241m1\u001b[39m)\n\u001b[1;32m      2\u001b[0m ej_fourier_false \u001b[38;5;241m=\u001b[39m ej_profile_false\u001b[38;5;241m.\u001b[39mfourier(cosmo\u001b[38;5;241m=\u001b[39mcosmo, k\u001b[38;5;241m=\u001b[39mtrial_k, M\u001b[38;5;241m=\u001b[39mtrial_M, a\u001b[38;5;241m=\u001b[39m\u001b[38;5;241m1\u001b[39m)\n\u001b[1;32m      3\u001b[0m bd_fourier_false \u001b[38;5;241m=\u001b[39m bd_profile_false\u001b[38;5;241m.\u001b[39mfourier(cosmo\u001b[38;5;241m=\u001b[39mcosmo, k\u001b[38;5;241m=\u001b[39mtrial_k, M\u001b[38;5;241m=\u001b[39mtrial_M, a\u001b[38;5;241m=\u001b[39m\u001b[38;5;241m1\u001b[39m)\n",
      "File \u001b[0;32m/opt/anaconda3/lib/python3.12/site-packages/pyccl/halos/profiles/profile_base.py:182\u001b[0m, in \u001b[0;36mHaloProfile.fourier\u001b[0;34m(self, cosmo, k, M, a)\u001b[0m\n\u001b[1;32m    180\u001b[0m \u001b[38;5;28;01mif\u001b[39;00m \u001b[38;5;28mgetattr\u001b[39m(\u001b[38;5;28mself\u001b[39m, \u001b[38;5;124m\"\u001b[39m\u001b[38;5;124m_fourier\u001b[39m\u001b[38;5;124m\"\u001b[39m, \u001b[38;5;28;01mNone\u001b[39;00m):\n\u001b[1;32m    181\u001b[0m     \u001b[38;5;28;01mreturn\u001b[39;00m \u001b[38;5;28mself\u001b[39m\u001b[38;5;241m.\u001b[39m_fourier(cosmo, k, M, a)\n\u001b[0;32m--> 182\u001b[0m \u001b[38;5;28;01mreturn\u001b[39;00m \u001b[38;5;28mself\u001b[39m\u001b[38;5;241m.\u001b[39m_fftlog_wrap(cosmo, k, M, a, fourier_out\u001b[38;5;241m=\u001b[39m\u001b[38;5;28;01mTrue\u001b[39;00m)\n",
      "File \u001b[0;32m/opt/anaconda3/lib/python3.12/site-packages/pyccl/halos/profiles/profile_base.py:410\u001b[0m, in \u001b[0;36mHaloProfile._fftlog_wrap\u001b[0;34m(self, cosmo, k, M, a, fourier_out, large_padding, ell)\u001b[0m\n\u001b[1;32m    408\u001b[0m p_k_out \u001b[38;5;241m=\u001b[39m np\u001b[38;5;241m.\u001b[39mzeros([nM, k_use\u001b[38;5;241m.\u001b[39msize])\n\u001b[1;32m    409\u001b[0m \u001b[38;5;66;03m# Compute real profile values\u001b[39;00m\n\u001b[0;32m--> 410\u001b[0m p_real_M \u001b[38;5;241m=\u001b[39m p_func(cosmo, r_arr, M_use, a)\n\u001b[1;32m    411\u001b[0m \u001b[38;5;66;03m# Power-law index to pass to FFTLog.\u001b[39;00m\n\u001b[1;32m    412\u001b[0m plaw_index \u001b[38;5;241m=\u001b[39m \u001b[38;5;28mself\u001b[39m\u001b[38;5;241m.\u001b[39m_get_plaw_fourier(cosmo, a)\n",
      "File \u001b[0;32m~/Documents/GitHub/Oxford-Intern-2024/Oxford-Internship-Practices/BCMprofiles.py:31\u001b[0m, in \u001b[0;36mStellarProfile._real\u001b[0;34m(self, r, M, centre_pt, scale_a)\u001b[0m\n\u001b[1;32m     28\u001b[0m len_r \u001b[38;5;241m=\u001b[39m \u001b[38;5;28mlen\u001b[39m(r_use) \n\u001b[1;32m     30\u001b[0m prefix \u001b[38;5;241m=\u001b[39m M_use \u001b[38;5;241m/\u001b[39m scale_a\u001b[38;5;241m*\u001b[39m\u001b[38;5;241m*\u001b[39m\u001b[38;5;241m3\u001b[39m\n\u001b[0;32m---> 31\u001b[0m prof \u001b[38;5;241m=\u001b[39m prefix[:, \u001b[38;5;28;01mNone\u001b[39;00m] \u001b[38;5;241m*\u001b[39m signal\u001b[38;5;241m.\u001b[39munit_impulse(len_r, centre_pt)[\u001b[38;5;28;01mNone\u001b[39;00m,:] \u001b[38;5;66;03m# If centre_pt=None, defaults to index at the 0th element.\u001b[39;00m\n\u001b[1;32m     33\u001b[0m \u001b[38;5;28;01mif\u001b[39;00m np\u001b[38;5;241m.\u001b[39mndim(r) \u001b[38;5;241m==\u001b[39m \u001b[38;5;241m0\u001b[39m:\n\u001b[1;32m     34\u001b[0m     prof \u001b[38;5;241m=\u001b[39m np\u001b[38;5;241m.\u001b[39msqueeze(prof, axis\u001b[38;5;241m=\u001b[39m\u001b[38;5;241m-\u001b[39m\u001b[38;5;241m1\u001b[39m)\n",
      "File \u001b[0;32m/opt/anaconda3/lib/python3.12/site-packages/scipy/signal/_waveforms.py:666\u001b[0m, in \u001b[0;36munit_impulse\u001b[0;34m(shape, idx, dtype)\u001b[0m\n\u001b[1;32m    664\u001b[0m \u001b[38;5;28;01mif\u001b[39;00m idx \u001b[38;5;129;01mis\u001b[39;00m \u001b[38;5;28;01mNone\u001b[39;00m:\n\u001b[1;32m    665\u001b[0m     idx \u001b[38;5;241m=\u001b[39m (\u001b[38;5;241m0\u001b[39m,) \u001b[38;5;241m*\u001b[39m \u001b[38;5;28mlen\u001b[39m(shape)\n\u001b[0;32m--> 666\u001b[0m \u001b[38;5;28;01melif\u001b[39;00m idx \u001b[38;5;241m==\u001b[39m \u001b[38;5;124m'\u001b[39m\u001b[38;5;124mmid\u001b[39m\u001b[38;5;124m'\u001b[39m:\n\u001b[1;32m    667\u001b[0m     idx \u001b[38;5;241m=\u001b[39m \u001b[38;5;28mtuple\u001b[39m(shape \u001b[38;5;241m/\u001b[39m\u001b[38;5;241m/\u001b[39m \u001b[38;5;241m2\u001b[39m)\n\u001b[1;32m    668\u001b[0m \u001b[38;5;28;01melif\u001b[39;00m \u001b[38;5;129;01mnot\u001b[39;00m \u001b[38;5;28mhasattr\u001b[39m(idx, \u001b[38;5;124m\"\u001b[39m\u001b[38;5;124m__iter__\u001b[39m\u001b[38;5;124m\"\u001b[39m):\n",
      "\u001b[0;31mValueError\u001b[0m: The truth value of an array with more than one element is ambiguous. Use a.any() or a.all()"
     ]
    }
   ],
   "source": [
    "stel_fourier_false = stel_profile_false.fourier(cosmo=cosmo, k=trial_k, M=trial_M, a=1)\n",
    "ej_fourier_false = ej_profile_false.fourier(cosmo=cosmo, k=trial_k, M=trial_M, a=1)\n",
    "bd_fourier_false = bd_profile_false.fourier(cosmo=cosmo, k=trial_k, M=trial_M, a=1)\n",
    "gas_fourier_false = gas_profile_false.fourier(cosmo=cosmo, k=trial_k, M=trial_M, a=1)\n",
    "stelGas_fourier_false = stelGas_profile_false.fourier(cosmo=cosmo, k=trial_k, M=trial_M, a=1)\n",
    "bcm_fourier_false = bcm_profile_false.fourier(cosmo=cosmo, k=trial_k, M=trial_M, a=1)"
   ]
  },
  {
   "cell_type": "code",
   "execution_count": 58,
   "id": "6b78915b-9534-4897-abf9-a363ee8cc35a",
   "metadata": {},
   "outputs": [
    {
     "ename": "ValueError",
     "evalue": "operands could not be broadcast together with shapes (700,) (3,) ",
     "output_type": "error",
     "traceback": [
      "\u001b[0;31m---------------------------------------------------------------------------\u001b[0m",
      "\u001b[0;31mValueError\u001b[0m                                Traceback (most recent call last)",
      "Cell \u001b[0;32mIn[58], line 1\u001b[0m\n\u001b[0;32m----> 1\u001b[0m ej_fourier_false \u001b[38;5;241m=\u001b[39m ej_profile_false\u001b[38;5;241m.\u001b[39mfourier(cosmo\u001b[38;5;241m=\u001b[39mcosmo, k\u001b[38;5;241m=\u001b[39mtrial_k, M\u001b[38;5;241m=\u001b[39mtrial_M, a\u001b[38;5;241m=\u001b[39m\u001b[38;5;241m1\u001b[39m)\n",
      "File \u001b[0;32m/opt/anaconda3/lib/python3.12/site-packages/pyccl/halos/profiles/profile_base.py:182\u001b[0m, in \u001b[0;36mHaloProfile.fourier\u001b[0;34m(self, cosmo, k, M, a)\u001b[0m\n\u001b[1;32m    180\u001b[0m \u001b[38;5;28;01mif\u001b[39;00m \u001b[38;5;28mgetattr\u001b[39m(\u001b[38;5;28mself\u001b[39m, \u001b[38;5;124m\"\u001b[39m\u001b[38;5;124m_fourier\u001b[39m\u001b[38;5;124m\"\u001b[39m, \u001b[38;5;28;01mNone\u001b[39;00m):\n\u001b[1;32m    181\u001b[0m     \u001b[38;5;28;01mreturn\u001b[39;00m \u001b[38;5;28mself\u001b[39m\u001b[38;5;241m.\u001b[39m_fourier(cosmo, k, M, a)\n\u001b[0;32m--> 182\u001b[0m \u001b[38;5;28;01mreturn\u001b[39;00m \u001b[38;5;28mself\u001b[39m\u001b[38;5;241m.\u001b[39m_fftlog_wrap(cosmo, k, M, a, fourier_out\u001b[38;5;241m=\u001b[39m\u001b[38;5;28;01mTrue\u001b[39;00m)\n",
      "File \u001b[0;32m/opt/anaconda3/lib/python3.12/site-packages/pyccl/halos/profiles/profile_base.py:410\u001b[0m, in \u001b[0;36mHaloProfile._fftlog_wrap\u001b[0;34m(self, cosmo, k, M, a, fourier_out, large_padding, ell)\u001b[0m\n\u001b[1;32m    408\u001b[0m p_k_out \u001b[38;5;241m=\u001b[39m np\u001b[38;5;241m.\u001b[39mzeros([nM, k_use\u001b[38;5;241m.\u001b[39msize])\n\u001b[1;32m    409\u001b[0m \u001b[38;5;66;03m# Compute real profile values\u001b[39;00m\n\u001b[0;32m--> 410\u001b[0m p_real_M \u001b[38;5;241m=\u001b[39m p_func(cosmo, r_arr, M_use, a)\n\u001b[1;32m    411\u001b[0m \u001b[38;5;66;03m# Power-law index to pass to FFTLog.\u001b[39;00m\n\u001b[1;32m    412\u001b[0m plaw_index \u001b[38;5;241m=\u001b[39m \u001b[38;5;28mself\u001b[39m\u001b[38;5;241m.\u001b[39m_get_plaw_fourier(cosmo, a)\n",
      "File \u001b[0;32m~/Documents/GitHub/Oxford-Intern-2024/Oxford-Internship-Practices/BCMprofiles.py:69\u001b[0m, in \u001b[0;36mEjectedGasProfile._real\u001b[0;34m(self, r, M, delta, eta_b, scale_a)\u001b[0m\n\u001b[1;32m     67\u001b[0m M_use \u001b[38;5;241m=\u001b[39m np\u001b[38;5;241m.\u001b[39matleast_1d(M)\n\u001b[1;32m     68\u001b[0m r_vir \u001b[38;5;241m=\u001b[39m \u001b[38;5;28mself\u001b[39m\u001b[38;5;241m.\u001b[39mmass_def\u001b[38;5;241m.\u001b[39mget_radius(\u001b[38;5;28mself\u001b[39m\u001b[38;5;241m.\u001b[39mcosmo, M_use, scale_a) \u001b[38;5;241m/\u001b[39m scale_a \u001b[38;5;66;03m# halo virial radius\u001b[39;00m\n\u001b[0;32m---> 69\u001b[0m r_e \u001b[38;5;241m=\u001b[39m \u001b[38;5;241m0.375\u001b[39m\u001b[38;5;241m*\u001b[39mr_vir\u001b[38;5;241m*\u001b[39mnp\u001b[38;5;241m.\u001b[39msqrt(delta)\u001b[38;5;241m*\u001b[39meta_b \u001b[38;5;66;03m# eta_b = a free parameter\u001b[39;00m\n\u001b[1;32m     71\u001b[0m prefix \u001b[38;5;241m=\u001b[39m M_use \u001b[38;5;241m*\u001b[39m (\u001b[38;5;241m1\u001b[39m\u001b[38;5;241m/\u001b[39m(scale_a\u001b[38;5;241m*\u001b[39mnp\u001b[38;5;241m.\u001b[39msqrt(\u001b[38;5;241m2\u001b[39m\u001b[38;5;241m*\u001b[39mnp\u001b[38;5;241m.\u001b[39mpi\u001b[38;5;241m*\u001b[39mr_e)))\u001b[38;5;241m*\u001b[39m\u001b[38;5;241m*\u001b[39m\u001b[38;5;241m3\u001b[39m\n\u001b[1;32m     72\u001b[0m x \u001b[38;5;241m=\u001b[39m r_use[\u001b[38;5;28;01mNone\u001b[39;00m, :] \u001b[38;5;241m/\u001b[39m r_e[:, \u001b[38;5;28;01mNone\u001b[39;00m]\n",
      "\u001b[0;31mValueError\u001b[0m: operands could not be broadcast together with shapes (700,) (3,) "
     ]
    }
   ],
   "source": [
    "ej_fourier_false = ej_profile_false.fourier(cosmo=cosmo, k=trial_k, M=trial_M, a=1)"
   ]
  },
  {
   "cell_type": "code",
   "execution_count": null,
   "id": "c265632f-673e-47ad-8dfc-50778bfa309f",
   "metadata": {},
   "outputs": [],
   "source": []
  }
 ],
 "metadata": {
  "kernelspec": {
   "display_name": "Python 3 (ipykernel)",
   "language": "python",
   "name": "python3"
  },
  "language_info": {
   "codemirror_mode": {
    "name": "ipython",
    "version": 3
   },
   "file_extension": ".py",
   "mimetype": "text/x-python",
   "name": "python",
   "nbconvert_exporter": "python",
   "pygments_lexer": "ipython3",
   "version": "3.12.2"
  }
 },
 "nbformat": 4,
 "nbformat_minor": 5
}
