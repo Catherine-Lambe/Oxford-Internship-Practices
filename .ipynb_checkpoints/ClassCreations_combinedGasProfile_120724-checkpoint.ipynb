{
 "cells": [
  {
   "cell_type": "code",
   "execution_count": 255,
   "id": "9e508032-5bb9-469d-83d0-238b62e0ff55",
   "metadata": {},
   "outputs": [],
   "source": [
    "import numpy as np\n",
    "import pyccl as ccl\n",
    "import matplotlib.pyplot as plt\n",
    "import scipy.integrate as integrate\n",
    "import scipy.interpolate as interpol\n",
    "from pyccl._core import UnlockInstance"
   ]
  },
  {
   "cell_type": "markdown",
   "id": "1bb803eb-7ac9-4d6d-9912-8f21f99193f2",
   "metadata": {},
   "source": [
    "# Ejected Gas & Bound Gas Profiles (separate profiles)"
   ]
  },
  {
   "cell_type": "code",
   "execution_count": 258,
   "id": "96806c9d-9976-4725-9673-75f7b733ce85",
   "metadata": {},
   "outputs": [],
   "source": [
    "class ejGas_profile(ccl.halos.profiles.profile_base.HaloProfile): #(ccl.halos.Haloprofile):\n",
    "    \"\"\"Creating a class for the ejected gas density profile\n",
    "    where: \"\"\"  # could put in the equations used\n",
    "\n",
    "    def __init__(self, mass_def, r_ej):\n",
    "        self.r_ej = r_ej  \n",
    "        super(ejGas_profile, self).__init__(mass_def=mass_def)\n",
    "\n",
    "    def _real(self, r, M, r_ej, a=1, f=1): \n",
    "        r_use = np.atleast_1d(r) # need them to be functional arrays\n",
    "        M_use = np.atleast_1d(M)\n",
    "        rEj_use = np.atleast_1d(r_ej)\n",
    "\n",
    "# Returns: float or array_like: halo profile. Shape of output = `(N_M, N_r)` where `N_r` & `N_m` = the sizes of `r` and `M` respectively.\n",
    "        prefix = M_use * f * (1/(a*np.sqrt(2*np.pi*rEj_use)))**3\n",
    "        x = r_use[None, :] / rEj_use[:, None]\n",
    "        prof = prefix[:, None] * np.exp(-(x**2)/2)\n",
    "\n",
    "        if np.ndim(r) == 0:\n",
    "            prof = np.squeeze(prof, axis=-1)\n",
    "        if np.ndim(M) == 0:\n",
    "            prof = np.squeeze(prof, axis=0)\n",
    "                                                          \n",
    "        return prof\n",
    "\n",
    "    def _fourier(self, k, M, r_ej, a=1, f=1):\n",
    "        k_use = np.atleast_1d(k)\n",
    "        M_use = np.atleast_1d(M)\n",
    "        rEj_use = np.atleast_1d(r_ej)\n",
    "\n",
    "        prefix = M_use * f / a**3\n",
    "        x = k_use[None, :] * rEj_use[:, None]\n",
    "        prof = prefix[:, None] * np.exp(-(x**2)/2)  #prof = M_use * f * np.exp(-(1/2)*(k_use*r_ej)**2)/(a**3)\n",
    "\n",
    "        if np.ndim(k) == 0:\n",
    "            prof = np.squeeze(prof, axis=-1)\n",
    "        if np.ndim(M) == 0:\n",
    "            prof = np.squeeze(prof, axis=0)\n",
    "\n",
    "        return prof\n",
    "    "
   ]
  },
  {
   "cell_type": "code",
   "execution_count": 335,
   "id": "6e53a3c3-0b1d-48db-bb75-5cbf58786f02",
   "metadata": {},
   "outputs": [],
   "source": [
    "class boundGas_profile(ccl.halos.profiles.profile_base.HaloProfile): #(ccl.halos.Haloprofile):\n",
    "    \"\"\"Creating a class for the bound gas density profile\n",
    "    where: \"\"\"  # could put in the equations used\n",
    "\n",
    "    def __init__(self, mass_def, concentration, gamma, r_s=1, GammaRange = (1.01, 10), nGamma=64, qrange=(1e-4, 1e2), nq=64):\n",
    "        #, # n_q/Gamma = 2^x\n",
    "                # Omega_c = 0.25, Omega_b=0.05, h=0.07, A_s=2.1e-9, n_s=0.96, Neff=0, Omega_g=0):\n",
    "        # will change later, but can leave characteristic scale as ~ 1 Mpc for the moment\n",
    "        \n",
    "        self.r_s = r_s \n",
    "        self.gamma = gamma\n",
    "        super(boundGas_profile, self).__init__(mass_def=mass_def, concentration=concentration)\n",
    "\n",
    "        self.GammaRange = GammaRange\n",
    "        self.nGamma = nGamma\n",
    "\n",
    "        self.qrange = qrange\n",
    "        self.nq = nq\n",
    "        \n",
    "        self._func_normQ0 = None   # General normalised profile (for q=0, over Gamma)\n",
    "        self._func_normQany = None\n",
    "\n",
    "    def _shape(self, x, gam):\n",
    "        gam_use = np.atleast_1d(gam)\n",
    "        return (np.log(1+x)/x)**gam_use\n",
    "\n",
    "    def _innerInt(self, x, gam): #(a, gam=1/(gamma_use-1), b=1, c=1):\n",
    "        return x**2 * self._shape(x, gam)   # eqn = (1/c) * (a**2) * (np.log(1 + a/b)/(a/b))**gam\n",
    "\n",
    "    import scipy.integrate as integrate\n",
    "    import scipy.interpolate as interpol\n",
    "    from pyccl._core import UnlockInstance\n",
    "\n",
    "    def _Vb_prefix(self, r_s=1):\n",
    "        vB1 = integrate.quad(self._innerInt, 0, np.inf, args = (1/(self.gamma-1)))  # (func, a, b[, args, full_output, ...])\n",
    "        vB2 = 4*np.pi*(r_s**3)*vB1[0]\n",
    "        return vB2\n",
    "\n",
    "    def _norm_interpol1(self):  # interpol1 = for q = 0\n",
    "        gamma_list = np.linspace(self.GammaRange[0], self.GammaRange[1], self.nGamma) # start, stop, number of evenly spaced samples\n",
    "        I0_array = np.zeros(self.nGamma)\n",
    "        k=0\n",
    "        for i in gamma_list:\n",
    "            I0_array[k] =  integrate.quad(self._innerInt, 0, np.inf, args = 1/(i-1))[0] # _innerInt(self, x, gam=1/(gamma_use-1))\n",
    "            k+=1\n",
    "        func_normQ0 = interpol.interp1d(gamma_list, I0_array) # interp1d(x, y, ...\n",
    "        return func_normQ0\n",
    "        \n",
    "    def _real(self, r, M, call_interp=True, r_s=1, scale_a=1, f=1): \n",
    "        r_use = np.atleast_1d(r) # need them to be functional arrays\n",
    "        M_use = np.atleast_1d(M)\n",
    "        \n",
    "        R_M = self.mass_def.get_radius(cosmo, M_use, scale_a) / scale_a # halo virial radius\n",
    "        c_M = self.concentration(cosmo, M_use, scale_a) # concentration-mass relation c(M)\n",
    "        r_s = R_M / c_M # characteristic scale r_s\n",
    "\n",
    "        if call_interp==False:\n",
    "            vB_prefix = self._Vb_prefix(r_s)\n",
    "        else:\n",
    "            if self._func_normQ0 is None: # is instead of == here\n",
    "                with UnlockInstance(self):\n",
    "                    self._func_normQ0 = self._norm_interpol1() \n",
    "            vB_prefix = 4*np.pi*(r_s**3)*self._func_normQ0(self.gamma)  # self._Vb_prefix(gamma_use, rS_use)[0]\n",
    "        prefix = M_use * f * (1/scale_a**3) * (1/vB_prefix)\n",
    "# Returns: float or array_like: halo profile. Shape of the output = `(N_M, N_r)` where `N_r` & `N_m` = the sizes of `r` & `M` respectively.\n",
    "\n",
    "        x = r_use[None, :] / r_s[:, None]\n",
    "        prof = prefix[:, None] * self._shape(x, 1/(self.gamma-1)) # default par of gam = 1/(gamma_use-1) #innerInt(x)\n",
    "\n",
    "        if np.ndim(r) == 0:\n",
    "            prof = np.squeeze(prof, axis=-1)\n",
    "        if np.ndim(M) == 0:\n",
    "            prof = np.squeeze(prof, axis=0)\n",
    "                                                          \n",
    "        return prof\n",
    "\n",
    "    def _norm_interpol2(self):  # interpol1 for q = any\n",
    "        gamma_list = np.linspace(self.GammaRange[0], self.GammaRange[1], self.nGamma) # start, stop, number of evenly spaced samples\n",
    "        q_array = np.geomspace(self.qrange[0], self.qrange[1], self.nq) # q = k*r_s, k will be from geomspace\n",
    "        I0_array =  np.zeros((self.nGamma, self.nq))\n",
    "\n",
    "        def integralQany(x, gam): #(a, gam=1/(gamma_use-1), b=1, c=1):\n",
    "            return x * self._shape(x, gam) # for q = any (& j0(qx) = sinh(qx) = sin(qx)/(qx) => int[x^2 ... j0] = int[x ... sin(qx)]/q\n",
    "        k=0\n",
    "        for i in gamma_list: \n",
    "            l=0\n",
    "            for j in q_array: \n",
    "                I0_array[k, l] =  integrate.quad(integralQany, 0, np.inf, args = 1/(i-1), weight = \"sin\", wvar=j)[0] / j\n",
    "                l+=1\n",
    "            k+=1\n",
    "            print(f'k = {100*k/self.nGamma:.3g}% through')\n",
    "        #interpol.RegularGridInterpolator() for 2D array # (points, values, ... \n",
    "        func_normQany = interpol.RegularGridInterpolator((gamma_list, np.log(q_array)), I0_array)\n",
    "        return func_normQany\n",
    "    \n",
    "    def _fourier(self, k, M, scale_a=1, f=1):\n",
    "        k_use = np.atleast_1d(k)\n",
    "        M_use = np.atleast_1d(M)\n",
    "\n",
    "        R_M = self.mass_def.get_radius(cosmo, M_use, scale_a) / scale_a # halo virial radius\n",
    "        c_M = self.concentration(cosmo, M_use, scale_a) # concentration-mass relation c(M)\n",
    "        r_s = R_M / c_M # characteristic scale r_s\n",
    "\n",
    "        if self._func_normQ0 is None: # is instead of == here\n",
    "            with UnlockInstance(self):\n",
    "                self._func_normQ0 = self._norm_interpol1() \n",
    "        if self._func_normQany is None:\n",
    "            with UnlockInstance(self):\n",
    "                self._func_normQany = self._norm_interpol2()\n",
    "\n",
    "        q_use = k_use*r_s # k_use[None, :]*r_s[None, :]\n",
    "        g_k = self._func_normQany((self.gamma, np.log(q_use))) / self._func_normQ0(self.gamma) # = Ib_qAny / Ib_q0\n",
    "\n",
    "        prefix = M_use * f / a**3\n",
    "        prof = prefix[:, None] * g_k[None,:] \n",
    "\n",
    "        if np.ndim(k) == 0:\n",
    "            prof = np.squeeze(prof, axis=-1)\n",
    "        if np.ndim(M) == 0:\n",
    "            prof = np.squeeze(prof, axis=0)\n",
    "\n",
    "        return prof\n",
    "    "
   ]
  },
  {
   "cell_type": "markdown",
   "id": "e650570a-c65d-409f-87bc-a2fc09470730",
   "metadata": {},
   "source": [
    "# New Combined Class"
   ]
  },
  {
   "cell_type": "markdown",
   "id": "f0f58b3f-fa7d-4b3b-9d03-d3db8f0f2c39",
   "metadata": {},
   "source": [
    "Add in equations: $\\rho(r)\\ = f_b\\ \\rho_{bound}(r)\\ + (1 - f_b)\\rho_{ejected}(r)\\ $"
   ]
  },
  {
   "cell_type": "code",
   "execution_count": 339,
   "id": "691046e0-3b07-4895-b76b-1bb2be87802a",
   "metadata": {},
   "outputs": [
    {
     "data": {
      "text/plain": [
       "<function __main__.combinedGas_profile._fourier(self, k, M, r_ej, f_bd=1, call_interp=True, r_s=1, scale_a=1)>"
      ]
     },
     "execution_count": 339,
     "metadata": {},
     "output_type": "execute_result"
    }
   ],
   "source": [
    "combinedGas_profile._fourier"
   ]
  },
  {
   "cell_type": "code",
   "execution_count": 341,
   "id": "7826104c-35de-47d7-af3f-d3f02d76fd08",
   "metadata": {},
   "outputs": [],
   "source": [
    "class combinedGas_profile(boundGas_profile, ejGas_profile): # ccl.halos.profiles.profile_base.HaloProfile, \n",
    "    \"\"\"Text\n",
    "    \"\"\"\n",
    "\n",
    "    def __init__(self, mass_def, concentration, gamma, r_ej, r_s=1, GammaRange = (1.01, 10), nGamma=64, qrange=(1e-4, 1e2), nq=64):\n",
    "        \n",
    "        self.r_ej = r_ej  \n",
    "        self.r_s = r_s \n",
    "        self.gamma = gamma\n",
    "        self.mass_def = mass_def\n",
    "        self.concentration = concentration\n",
    "        # super().__init__(mass_def=mass_def, concentration=concentration)\n",
    "        \n",
    "       # super(combinedGas_profile, self).__init__(mass_def=mass_def, concentration=concentration)\n",
    "      #  ejGas_profile.__init__(self, mass_def=mass_def, r_ej=r_ej)\n",
    "        #boundGas_profile.__init__(self, mass_def=mass_def, concentration=concentration, gamma = gamma)\n",
    "        # A.__init__(self, x=x, y=y)\n",
    "\n",
    "        self.GammaRange = GammaRange\n",
    "        self.nGamma = nGamma\n",
    "        self.qrange = qrange\n",
    "        self.nq = nq\n",
    "        self._func_normQ0 = None   # General normalised bound profile (for q=0, over Gamma)\n",
    "        self._func_normQany = None\n",
    "\n",
    "        import scipy.integrate as integrate\n",
    "        import scipy.interpolate as interpol\n",
    "        from pyccl._core import UnlockInstance\n",
    "\n",
    "    def _real(self, r, M, r_ej, f_bd=1, call_interp=True, r_s=1, scale_a=1):\n",
    "        f_ej = 1 - f_bd\n",
    "        prof_ej = ejGas_profile._real(self, r, M, r_ej, scale_a, f_ej)\n",
    "        prof_bd = boundGas_profile._real(self, r, M, call_interp, r_s, scale_a, f_bd)\n",
    "        profile = prof_ej + prof_bd\n",
    "        return profile\n",
    "\n",
    "    def _fourier(self, k, M, r_ej, f_bd = 1, call_interp=True, r_s=1, scale_a=1):\n",
    "        f_ej = 1 - f_bd\n",
    "        prof_ej = ejGas_profile._fourier(self, k, M, r_ej, scale_a, f_ej)\n",
    "        prof_bd = boundGas_profile._fourier(self, k, M, scale_a, f_bd)\n",
    "        profile = prof_ej + prof_bd\n",
    "        return profile"
   ]
  },
  {
   "cell_type": "code",
   "execution_count": null,
   "id": "8ff6a335-bb62-4f50-b7c8-5427deac1931",
   "metadata": {},
   "outputs": [],
   "source": []
  },
  {
   "cell_type": "markdown",
   "id": "0d963cfb-94f9-4ff2-b8b3-eded737a7e74",
   "metadata": {},
   "source": [
    "# Trial"
   ]
  },
  {
   "cell_type": "code",
   "execution_count": 345,
   "id": "7503aad9-692a-4db0-aeab-fbce3932bc9b",
   "metadata": {},
   "outputs": [],
   "source": [
    "hmd_200c = ccl.halos.MassDef200c # use a mass definition with Delta = 200\n",
    "cM = ccl.halos.ConcentrationDuffy08(mass_def=hmd_200c)\n",
    "cosmo = ccl.Cosmology(Omega_c = 0.25, Omega_b=0.05, h=0.07, A_s=2.1e-9, n_s=0.96, Neff=0, Omega_g=0)\n",
    "\n",
    "trial_r = np.geomspace(1E-2,1E8,100000) # geomspace is like linspace, but evenly spaces on a logscale\n",
    "trial_M = np.array([5E12,2E13, 1E14])\n",
    "trial_gamma = 1.1  # working with z = 0 (today) ; therefore a = 1 [default]\n",
    "trial_rEj = 100\n",
    "trial_rS = 1       "
   ]
  },
  {
   "cell_type": "code",
   "execution_count": 347,
   "id": "44588f06-546f-445d-811b-1c3894282a3f",
   "metadata": {},
   "outputs": [],
   "source": [
    "trial_profile = combinedGas_profile(hmd_200c, cM, trial_gamma, trial_rEj)"
   ]
  },
  {
   "cell_type": "markdown",
   "id": "e1f0cb57-cd7e-4378-8f34-6d912bab92ef",
   "metadata": {},
   "source": [
    "## Real"
   ]
  },
  {
   "cell_type": "code",
   "execution_count": 350,
   "id": "b0978015-bd15-49db-bd69-3d9fee93c250",
   "metadata": {},
   "outputs": [
    {
     "name": "stderr",
     "output_type": "stream",
     "text": [
      "/var/folders/fj/p1qj16jj5pl9df1rgw6p12tc000vry/T/ipykernel_5363/4284777483.py:44: IntegrationWarning: The integral is probably divergent, or slowly convergent.\n",
      "  I0_array[k] =  integrate.quad(self._innerInt, 0, np.inf, args = 1/(i-1))[0] # _innerInt(self, x, gam=1/(gamma_use-1))\n",
      "/var/folders/fj/p1qj16jj5pl9df1rgw6p12tc000vry/T/ipykernel_5363/4284777483.py:44: IntegrationWarning: The algorithm does not converge.  Roundoff error is detected\n",
      "  in the extrapolation table.  It is assumed that the requested tolerance\n",
      "  cannot be achieved, and that the returned result (if full_output = 1) is \n",
      "  the best which can be obtained.\n",
      "  I0_array[k] =  integrate.quad(self._innerInt, 0, np.inf, args = 1/(i-1))[0] # _innerInt(self, x, gam=1/(gamma_use-1))\n"
     ]
    },
    {
     "data": {
      "text/plain": [
       "array([[5.42579817e+13, 5.42555413e+13, 5.42531004e+13, ...,\n",
       "        5.39172055e-60, 5.37994492e-60, 5.36819501e-60],\n",
       "       [4.17136818e+13, 4.17126146e+13, 4.17115471e+13, ...,\n",
       "        9.20280116e-58, 9.18273415e-58, 9.16271089e-58],\n",
       "       [2.93677687e+13, 2.93673814e+13, 2.93669940e+13, ...,\n",
       "        3.55197247e-55, 3.54424263e-55, 3.53652960e-55]])"
      ]
     },
     "execution_count": 350,
     "metadata": {},
     "output_type": "execute_result"
    }
   ],
   "source": [
    "trial_f_bd = 0.7\n",
    "profTrial_real = trial_profile._real(trial_r, trial_M, trial_rEj, trial_f_bd) \n",
    "# _real(self, r, M, r_ej, f_bd=1, call_interp=True, r_s=1, scale_a=1)\n",
    "profTrial_real"
   ]
  },
  {
   "cell_type": "code",
   "execution_count": 351,
   "id": "12c09816-66d6-4ca4-a16d-58e61473bb2f",
   "metadata": {},
   "outputs": [
    {
     "data": {
      "image/png": "[encoded data removed]",
      "text/plain": [
       "<Figure size 640x480 with 1 Axes>"
      ]
     },
     "metadata": {},
     "output_type": "display_data"
    },
    {
     "data": {
      "image/png": "[encoded data removed]",
      "text/plain": [
       "<Figure size 640x480 with 1 Axes>"
      ]
     },
     "metadata": {},
     "output_type": "display_data"
    }
   ],
   "source": [
    "colours, i = ['k-.', 'r:', 'g--'], 0\n",
    "title_real = '\\nReal profile of Combined gas $f_{bd}=$'+f'{trial_f_bd*100}%;' \n",
    "for j, col in zip(trial_M, colours):\n",
    "    plt.plot(trial_r, profTrial_real[i], col, lw=3, zorder = i, label=f'{trial_M[i]:.1g} $M \\\\odot $')\n",
    "    i+=1\n",
    "plt.ylabel(r'$\\rho(r)\\,\\,[M_\\odot\\,{\\rm Mpc}^{-3}]$', fontsize=15)\n",
    "plt.xlabel(r'$r\\,\\,[{\\rm Mpc}]$', fontsize=15);\n",
    "plt.title(title_real+' Linear-log plot')\n",
    "plt.grid(True)\n",
    "plt.legend(loc='best')\n",
    "plt.xscale('log');   #plt.xlim(1e-2,1e5);   #plt.ylim(1e-2,1e5);\n",
    "\n",
    "plt.figure()\n",
    "i = 0\n",
    "for j, col in zip(trial_M, colours):\n",
    "    plt.plot(trial_r, profTrial_real[i], col, lw=3, zorder = i, label=f'{trial_M[i]:.1g} $M \\\\odot $')\n",
    "    i+=1\n",
    "plt.ylabel(r'$\\rho(r)\\,\\,[M_\\odot\\,{\\rm Mpc}^{-3}]$', fontsize=15)\n",
    "plt.xlabel(r'$r\\,\\,[{\\rm Mpc}]$', fontsize=15);\n",
    "plt.title(title_real+' Log-log plot')\n",
    "plt.grid(True)\n",
    "plt.legend(loc='best')\n",
    "plt.xscale('log');\n",
    "plt.yscale('log');  "
   ]
  },
  {
   "cell_type": "code",
   "execution_count": null,
   "id": "63782a0a-e3a4-4feb-91fe-abce37941e8f",
   "metadata": {},
   "outputs": [],
   "source": []
  },
  {
   "cell_type": "markdown",
   "id": "52e89418-a25a-48a4-8ee4-85ef6f8cea9b",
   "metadata": {},
   "source": [
    "## Fourier"
   ]
  },
  {
   "cell_type": "code",
   "execution_count": 355,
   "id": "b4c85932-37a3-4293-9d4c-91df66ecbffb",
   "metadata": {},
   "outputs": [
    {
     "data": {
      "text/plain": [
       "array([[1.00000000e-04, 1.00013817e-04, 1.00027635e-04, ...,\n",
       "        9.99723725e+01, 9.99861853e+01, 1.00000000e+02]])"
      ]
     },
     "execution_count": 355,
     "metadata": {},
     "output_type": "execute_result"
    }
   ],
   "source": [
    "(trial_k[None, :])"
   ]
  },
  {
   "cell_type": "code",
   "execution_count": 358,
   "id": "60b2c78d-42bd-4b57-9a05-90bf2e5f8531",
   "metadata": {},
   "outputs": [
    {
     "name": "stderr",
     "output_type": "stream",
     "text": [
      "/var/folders/fj/p1qj16jj5pl9df1rgw6p12tc000vry/T/ipykernel_5363/4284777483.py:25: RuntimeWarning: invalid value encountered in scalar divide\n",
      "  return (np.log(1+x)/x)**gam_use\n",
      "/var/folders/fj/p1qj16jj5pl9df1rgw6p12tc000vry/T/ipykernel_5363/4284777483.py:88: IntegrationWarning: The maximum number of cycles allowed has been achieved., e.e.\n",
      "  of subintervals (a+(k-1)c, a+kc) where c = (2*int(abs(omega)+1))\n",
      "  *pi/abs(omega), for k = 1, 2, ..., lst.  One can allow more cycles by increasing the value of limlst.  Look at info['ierlst'] with full_output=1.\n",
      "  I0_array[k, l] =  integrate.quad(integralQany, 0, np.inf, args = 1/(i-1), weight = \"sin\", wvar=j)[0] / j\n"
     ]
    },
    {
     "name": "stdout",
     "output_type": "stream",
     "text": [
      "k = 1.56% through\n"
     ]
    },
    {
     "name": "stderr",
     "output_type": "stream",
     "text": [
      "/var/folders/fj/p1qj16jj5pl9df1rgw6p12tc000vry/T/ipykernel_5363/4284777483.py:88: IntegrationWarning: Bad integrand behavior occurs within one or more of the cycles.\n",
      "  Location and type of the difficulty involved can be determined from \n",
      "  the vector info['ierlist'] obtained with full_output=1.\n",
      "  I0_array[k, l] =  integrate.quad(integralQany, 0, np.inf, args = 1/(i-1), weight = \"sin\", wvar=j)[0] / j\n"
     ]
    },
    {
     "name": "stdout",
     "output_type": "stream",
     "text": [
      "k = 3.12% through\n",
      "k = 4.69% through\n",
      "k = 6.25% through\n",
      "k = 7.81% through\n",
      "k = 9.38% through\n",
      "k = 10.9% through\n",
      "k = 12.5% through\n",
      "k = 14.1% through\n",
      "k = 15.6% through\n",
      "k = 17.2% through\n",
      "k = 18.8% through\n",
      "k = 20.3% through\n",
      "k = 21.9% through\n",
      "k = 23.4% through\n",
      "k = 25% through\n",
      "k = 26.6% through\n"
     ]
    },
    {
     "name": "stderr",
     "output_type": "stream",
     "text": [
      "/var/folders/fj/p1qj16jj5pl9df1rgw6p12tc000vry/T/ipykernel_5363/4284777483.py:88: IntegrationWarning: The extrapolation table constructed for convergence acceleration\n",
      "  of the series formed by the integral contributions over the cycles, \n",
      "  does not converge to within the requested accuracy.  Look at \n",
      "  info['ierlst'] with full_output=1.\n",
      "  I0_array[k, l] =  integrate.quad(integralQany, 0, np.inf, args = 1/(i-1), weight = \"sin\", wvar=j)[0] / j\n"
     ]
    },
    {
     "name": "stdout",
     "output_type": "stream",
     "text": [
      "k = 28.1% through\n",
      "k = 29.7% through\n",
      "k = 31.2% through\n",
      "k = 32.8% through\n",
      "k = 34.4% through\n",
      "k = 35.9% through\n",
      "k = 37.5% through\n",
      "k = 39.1% through\n",
      "k = 40.6% through\n",
      "k = 42.2% through\n",
      "k = 43.8% through\n",
      "k = 45.3% through\n",
      "k = 46.9% through\n",
      "k = 48.4% through\n",
      "k = 50% through\n",
      "k = 51.6% through\n",
      "k = 53.1% through\n",
      "k = 54.7% through\n",
      "k = 56.2% through\n",
      "k = 57.8% through\n",
      "k = 59.4% through\n",
      "k = 60.9% through\n",
      "k = 62.5% through\n",
      "k = 64.1% through\n",
      "k = 65.6% through\n",
      "k = 67.2% through\n",
      "k = 68.8% through\n",
      "k = 70.3% through\n",
      "k = 71.9% through\n",
      "k = 73.4% through\n",
      "k = 75% through\n",
      "k = 76.6% through\n",
      "k = 78.1% through\n",
      "k = 79.7% through\n",
      "k = 81.2% through\n",
      "k = 82.8% through\n",
      "k = 84.4% through\n",
      "k = 85.9% through\n",
      "k = 87.5% through\n",
      "k = 89.1% through\n",
      "k = 90.6% through\n",
      "k = 92.2% through\n",
      "k = 93.8% through\n",
      "k = 95.3% through\n",
      "k = 96.9% through\n",
      "k = 98.4% through\n",
      "k = 100% through\n"
     ]
    },
    {
     "ename": "ValueError",
     "evalue": "operands could not be broadcast together with shapes (100000,) (3,) ",
     "output_type": "error",
     "traceback": [
      "\u001b[0;31m---------------------------------------------------------------------------\u001b[0m",
      "\u001b[0;31mValueError\u001b[0m                                Traceback (most recent call last)",
      "Cell \u001b[0;32mIn[358], line 2\u001b[0m\n\u001b[1;32m      1\u001b[0m trial_k \u001b[38;5;241m=\u001b[39m np\u001b[38;5;241m.\u001b[39mgeomspace(\u001b[38;5;241m1E-4\u001b[39m,\u001b[38;5;241m1E2\u001b[39m,\u001b[38;5;241m100000\u001b[39m)\n\u001b[0;32m----> 2\u001b[0m profTrial_fourier \u001b[38;5;241m=\u001b[39m trial_profile\u001b[38;5;241m.\u001b[39m_fourier(trial_k, trial_M, trial_rEj, trial_f_bd)\n\u001b[1;32m      3\u001b[0m profTrial_fourier\n",
      "Cell \u001b[0;32mIn[341], line 40\u001b[0m, in \u001b[0;36mcombinedGas_profile._fourier\u001b[0;34m(self, k, M, r_ej, f_bd, call_interp, r_s, scale_a)\u001b[0m\n\u001b[1;32m     38\u001b[0m f_ej \u001b[38;5;241m=\u001b[39m \u001b[38;5;241m1\u001b[39m \u001b[38;5;241m-\u001b[39m f_bd\n\u001b[1;32m     39\u001b[0m prof_ej \u001b[38;5;241m=\u001b[39m ejGas_profile\u001b[38;5;241m.\u001b[39m_fourier(\u001b[38;5;28mself\u001b[39m, k, M, r_ej, scale_a, f_ej)\n\u001b[0;32m---> 40\u001b[0m prof_bd \u001b[38;5;241m=\u001b[39m boundGas_profile\u001b[38;5;241m.\u001b[39m_fourier(\u001b[38;5;28mself\u001b[39m, k, M, scale_a, f_bd)\n\u001b[1;32m     41\u001b[0m profile \u001b[38;5;241m=\u001b[39m prof_ej \u001b[38;5;241m+\u001b[39m prof_bd\n\u001b[1;32m     42\u001b[0m \u001b[38;5;28;01mreturn\u001b[39;00m profile\n",
      "Cell \u001b[0;32mIn[335], line 111\u001b[0m, in \u001b[0;36mboundGas_profile._fourier\u001b[0;34m(self, k, M, scale_a, f)\u001b[0m\n\u001b[1;32m    108\u001b[0m     \u001b[38;5;28;01mwith\u001b[39;00m UnlockInstance(\u001b[38;5;28mself\u001b[39m):\n\u001b[1;32m    109\u001b[0m         \u001b[38;5;28mself\u001b[39m\u001b[38;5;241m.\u001b[39m_func_normQany \u001b[38;5;241m=\u001b[39m \u001b[38;5;28mself\u001b[39m\u001b[38;5;241m.\u001b[39m_norm_interpol2()\n\u001b[0;32m--> 111\u001b[0m q_use \u001b[38;5;241m=\u001b[39m k_use\u001b[38;5;241m*\u001b[39mr_s \u001b[38;5;66;03m# k_use[None, :]*r_s[None, :]\u001b[39;00m\n\u001b[1;32m    112\u001b[0m g_k \u001b[38;5;241m=\u001b[39m \u001b[38;5;28mself\u001b[39m\u001b[38;5;241m.\u001b[39m_func_normQany((\u001b[38;5;28mself\u001b[39m\u001b[38;5;241m.\u001b[39mgamma, np\u001b[38;5;241m.\u001b[39mlog(q_use))) \u001b[38;5;241m/\u001b[39m \u001b[38;5;28mself\u001b[39m\u001b[38;5;241m.\u001b[39m_func_normQ0(\u001b[38;5;28mself\u001b[39m\u001b[38;5;241m.\u001b[39mgamma) \u001b[38;5;66;03m# = Ib_qAny / Ib_q0\u001b[39;00m\n\u001b[1;32m    114\u001b[0m prefix \u001b[38;5;241m=\u001b[39m M_use \u001b[38;5;241m*\u001b[39m f \u001b[38;5;241m/\u001b[39m a\u001b[38;5;241m*\u001b[39m\u001b[38;5;241m*\u001b[39m\u001b[38;5;241m3\u001b[39m\n",
      "\u001b[0;31mValueError\u001b[0m: operands could not be broadcast together with shapes (100000,) (3,) "
     ]
    }
   ],
   "source": [
    "trial_k = np.geomspace(1E-4,1E2,100000)\n",
    "profTrial_fourier = trial_profile._fourier(trial_k, trial_M, trial_rEj, trial_f_bd)\n",
    "profTrial_fourier  #_fourier(self, k, M, r_ej, f_bd = 1, call_interp=True, r_s=1, scale_a=1)"
   ]
  },
  {
   "cell_type": "code",
   "execution_count": null,
   "id": "72e1f6ec-5294-4834-a570-4d1393a4b612",
   "metadata": {},
   "outputs": [],
   "source": [
    "colours, i = ['k-.', 'r:', 'g--'], 0\n",
    "title_fourier = '\\nFourier profile of Combined gas $f_{bd}=$'+f'{trial_f_bd*100}%;' \n",
    "for j, col in zip(trial_M, colours):\n",
    "    plt.plot(trial_r, profTrial_fourier[i], col, lw=3, zorder = i, label=f'{trial_M[i]:.1g} $M \\\\odot $')\n",
    "    i+=1\n",
    "plt.ylabel(r'$\\rho(k)\\, \\,[M_\\odot\\,{\\rm Mpc}^{-3}]$', fontsize=15)\n",
    "plt.xlabel(r'$k\\, \\,[{\\rm Mpc^{-1}}]$', fontsize=15);\n",
    "plt.title(title_real+' Linear-log plot')\n",
    "plt.grid(True)\n",
    "plt.legend(loc='best')\n",
    "plt.xscale('log');   #plt.xlim(1e-2,1e5);   #plt.ylim(1e-2,1e5);\n",
    "\n",
    "plt.figure()\n",
    "i = 0\n",
    "for j, col in zip(trial_M, colours):\n",
    "    plt.plot(trial_r, profTrial_fourier[i], col, lw=3, zorder = i, label=f'{trial_M[i]:.1g} $M \\\\odot $')\n",
    "    i+=1\n",
    "plt.ylabel(r'$\\rho(k)\\, \\,[M_\\odot\\,{\\rm Mpc}^{-3}]$', fontsize=15)\n",
    "plt.xlabel(r'$k\\, \\,[{\\rm Mpc^{-1}}]$', fontsize=15);\n",
    "plt.title(title_fourier+' Log-log plot')\n",
    "plt.grid(True)\n",
    "plt.legend(loc='best')\n",
    "plt.xscale('log');\n",
    "plt.yscale('log'); "
   ]
  },
  {
   "cell_type": "markdown",
   "id": "8cee2401-4b51-4863-93c6-745da9286fa2",
   "metadata": {
    "jp-MarkdownHeadingCollapsed": true
   },
   "source": [
    "# delete"
   ]
  },
  {
   "cell_type": "code",
   "execution_count": 172,
   "id": "7086028e-a773-4e90-a784-db3c2100fc8c",
   "metadata": {},
   "outputs": [
    {
     "name": "stdout",
     "output_type": "stream",
     "text": [
      "[<class '__main__.combinedGas_profile'>, <class '__main__.boundGas_profile'>, <class '__main__.ejGas_profile'>, <class 'pyccl.halos.profiles.profile_base.HaloProfile'>, <class 'pyccl._core.schema.CCLAutoRepr'>, <class 'pyccl._core.schema.CCLObject'>, <class 'abc.ABC'>, <class 'object'>]\n"
     ]
    }
   ],
   "source": [
    "print(combinedGas_profile.mro())"
   ]
  },
  {
   "cell_type": "code",
   "execution_count": 72,
   "id": "861bce41-2cb9-430f-aa4f-88ded7dd936d",
   "metadata": {},
   "outputs": [
    {
     "data": {
      "text/plain": [
       "<function __main__.boundGas_profile.__init__(self, mass_def, gamma, concentration, r_s=1, GammaRange=(1.01, 10), nGamma=64, qrange=(0.0001, 100.0), nq=64)>"
      ]
     },
     "execution_count": 72,
     "metadata": {},
     "output_type": "execute_result"
    }
   ],
   "source": [
    "boundGas_profile.__init__"
   ]
  },
  {
   "cell_type": "code",
   "execution_count": 152,
   "id": "27c2c04a-951d-486b-9d95-091699e865e9",
   "metadata": {},
   "outputs": [
    {
     "data": {
      "text/plain": [
       "<function __main__.ejGas_profile.__init__(self, mass_def, r_ej)>"
      ]
     },
     "execution_count": 152,
     "metadata": {},
     "output_type": "execute_result"
    }
   ],
   "source": [
    "ejGas_profile.__init__"
   ]
  }
 ],
 "metadata": {
  "kernelspec": {
   "display_name": "Python 3 (ipykernel)",
   "language": "python",
   "name": "python3"
  },
  "language_info": {
   "codemirror_mode": {
    "name": "ipython",
    "version": 3
   },
   "file_extension": ".py",
   "mimetype": "text/x-python",
   "name": "python",
   "nbconvert_exporter": "python",
   "pygments_lexer": "ipython3",
   "version": "3.12.2"
  }
 },
 "nbformat": 4,
 "nbformat_minor": 5
}
