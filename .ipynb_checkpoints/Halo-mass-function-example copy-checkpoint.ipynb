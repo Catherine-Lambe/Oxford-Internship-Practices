{
 "cells": [
  {
   "cell_type": "markdown",
   "metadata": {},
   "source": [
    "# Computing mass functions, halo biases and concentrations\n",
    "This notebook illustrates how to compute mass functions, halo biases and concentration-mass relations with CCL, as well as how to translate between different mass definitions."
   ]
  },
  {
   "cell_type": "code",
   "execution_count": 2,
   "metadata": {},
   "outputs": [],
   "source": [
    "import numpy as np\n",
    "from matplotlib import pyplot as plt\n",
    "import pyccl as ccl\n",
    "import logging\n",
    "mpl_logger = logging.getLogger('matplotlib')\n",
    "mpl_logger.setLevel(logging.WARNING)\n",
    "pil_logger = logging.getLogger('PIL')"
   ]
  },
  {
   "cell_type": "markdown",
   "metadata": {},
   "source": [
    "## Preliminaries\n",
    "Generate a cosmology object and a few mass/redshift arrays"
   ]
  },
  {
   "cell_type": "code",
   "execution_count": 4,
   "metadata": {},
   "outputs": [],
   "source": [
    "# Cosmology\n",
    "cosmo = ccl.Cosmology(Omega_b=0.0492, Omega_c=0.2650, h=0.6724, A_s=2.2065e-09, n_s=0.9645)\n",
    "\n",
    "# Array of masses\n",
    "m_arr = np.geomspace(1.01E12,1E15,128)/cosmo['h']\n",
    "\n",
    "# Array of redshifts\n",
    "z_arr = np.linspace(0.,1.,16)"
   ]
  },
  {
   "cell_type": "markdown",
   "metadata": {},
   "source": [
    "## Mass definitions\n",
    "CCL admits 3 different classes of definitions:\n",
    "- Spherical overdensity (SO). The mass is defined as that enclosed by a radius within which the mean density is a factor $\\Delta$ larger than the matter or critical density ($x$ is either $M$ or ${\\rm crit}$: \n",
    "\n",
    "\\begin{equation}\n",
    "   M_{\\Delta,x} = \\frac{4\\pi}{3}\\Delta\\rho_x R_{\\Delta,x}^3\n",
    "\\end{equation},\n",
    "- Virial spherical overdensity. The same as SO for the specific choice $\\Delta=\\Delta_{\\rm vir}(z)$ and $x={\\rm critical}$, where $\\Delta_{\\rm vir}$ is the virial overdensity, which CCL computes from Brian & Norman 1998.\n",
    "- Friends-of-friends masses (fof).\n",
    "\n",
    "CCL is able to translate masses assuming an NFW profile. This is only an approximation, and it's actually better to make sure you use consistent mass definitions throughout, but this functionality is provided for convenience.\n",
    "\n",
    "These mass definition objects can then be passed around to all halo-model functions to make sure masses are treated consistently.\n",
    "\n"
   ]
  },
  {
   "cell_type": "code",
   "execution_count": 6,
   "metadata": {},
   "outputs": [],
   "source": [
    "# Delta=200 (matter).\n",
    "hmd_200m = ccl.halos.MassDef200m\n",
    "\n",
    "# Delta=200 (critical).\n",
    "hmd_200c = ccl.halos.MassDef200c\n",
    "\n",
    "# Delta=500 (matter).\n",
    "hmd_500m = ccl.halos.MassDef(500, 'matter')\n",
    "\n",
    "# Virial overdensity\n",
    "hmd_vir = ccl.halos.MassDefVir\n",
    "\n",
    "# FoF mass definition\n",
    "hmd_fof = ccl.halos.MassDefFof"
   ]
  },
  {
   "cell_type": "markdown",
   "metadata": {},
   "source": [
    "Note that associating concentration-mass relations with mass definitions is only necessary if you'll want to translate between different mass definitions. Otherwise, you can use any concentration-mass relation you want for a given mass definition as we show further down (even if that c(M) relation is not the one you used to initialize the corresponding mass definition object)."
   ]
  },
  {
   "cell_type": "markdown",
   "metadata": {},
   "source": [
    "## Mass functions\n",
    "Mass functions are computed through classes that inherit from the `MassFunc` class. CCL supports a wide variety of mass function parametrizations, but more can be created following the instructions in the documentation.\n",
    "\n",
    "All mass functions have a mass definition attached to them. Some mass functions support a range of mass definitions, and you can select which one you want when instantiating the class. All mass functions have default mass definitions, which are used if `None` is passed (which is the case below)."
   ]
  },
  {
   "cell_type": "code",
   "execution_count": 9,
   "metadata": {},
   "outputs": [
    {
     "ename": "AttributeError",
     "evalue": "module 'pyccl.halos' has no attribute 'MassFuncNishimichi19'",
     "output_type": "error",
     "traceback": [
      "\u001b[0;31m---------------------------------------------------------------------------\u001b[0m",
      "\u001b[0;31mAttributeError\u001b[0m                            Traceback (most recent call last)",
      "Cell \u001b[0;32mIn[9], line 20\u001b[0m\n\u001b[1;32m     15\u001b[0m hmfs\u001b[38;5;241m.\u001b[39mappend(ccl\u001b[38;5;241m.\u001b[39mhalos\u001b[38;5;241m.\u001b[39mMassFuncBocquet16(mass_def\u001b[38;5;241m=\u001b[39mhmd_200m))\n\u001b[1;32m     17\u001b[0m \u001b[38;5;66;03m# Nishimichi 2019 mass function\u001b[39;00m\n\u001b[1;32m     18\u001b[0m \u001b[38;5;66;03m# To use this mass function you need the dark emulator: \u001b[39;00m\n\u001b[1;32m     19\u001b[0m \u001b[38;5;66;03m# https://dark-emulator.readthedocs.io/en/latest/\u001b[39;00m\n\u001b[0;32m---> 20\u001b[0m hmfs\u001b[38;5;241m.\u001b[39mappend(ccl\u001b[38;5;241m.\u001b[39mhalos\u001b[38;5;241m.\u001b[39mMassFuncNishimichi19(mass_def\u001b[38;5;241m=\u001b[39mhmd_200m,extrapolate\u001b[38;5;241m=\u001b[39m\u001b[38;5;28;01mTrue\u001b[39;00m))\n\u001b[1;32m     22\u001b[0m \u001b[38;5;66;03m# Let's plot all of them at z=0\u001b[39;00m\n\u001b[1;32m     23\u001b[0m plt\u001b[38;5;241m.\u001b[39mfigure()\n",
      "\u001b[0;31mAttributeError\u001b[0m: module 'pyccl.halos' has no attribute 'MassFuncNishimichi19'"
     ]
    }
   ],
   "source": [
    "hmfs = []\n",
    "# Press & Schechter mass function\n",
    "hmfs.append(ccl.halos.MassFuncPress74(mass_def=hmd_fof))\n",
    "\n",
    "# Sheth & Tormen mass function\n",
    "hmfs.append(ccl.halos.MassFuncSheth99(mass_def=hmd_fof))\n",
    "\n",
    "# Tinker 2008 mass function\n",
    "hmfs.append(ccl.halos.MassFuncTinker08(mass_def=hmd_200m))\n",
    "\n",
    "# Tinker 2010 mass function\n",
    "hmfs.append(ccl.halos.MassFuncTinker10(mass_def=hmd_200m))\n",
    "\n",
    "# Bocquet 2016 mass function\n",
    "hmfs.append(ccl.halos.MassFuncBocquet16(mass_def=hmd_200m))\n",
    "\n",
    "# Nishimichi 2019 mass function\n",
    "# To use this mass function you need the dark emulator: \n",
    "# https://dark-emulator.readthedocs.io/en/latest/\n",
    "hmfs.append(ccl.halos.MassFuncNishimichi19(mass_def=hmd_200m,extrapolate=True))\n",
    "\n",
    "# Let's plot all of them at z=0\n",
    "plt.figure()\n",
    "for mf in hmfs:\n",
    "    nm = mf(cosmo, m_arr, 1.)\n",
    "    plt.plot(m_arr,\n",
    "             m_arr * nm, label=mf.name)\n",
    "plt.xscale('log')\n",
    "plt.ylim([1E9,8.5E9])\n",
    "plt.legend()\n",
    "plt.xlabel(r'$M/M_\\odot$', fontsize=14)\n",
    "plt.ylabel(r'$M\\,\\frac{dn}{d\\log_{10}M}\\,[M_\\odot\\,{\\rm Mpc}^{-3}]$',\n",
    "           fontsize=14);"
   ]
  },
  {
   "cell_type": "markdown",
   "metadata": {},
   "source": [
    "Let's explore the time evolution of the mass function"
   ]
  },
  {
   "cell_type": "code",
   "execution_count": null,
   "metadata": {},
   "outputs": [],
   "source": [
    "# Look at time evolution\n",
    "from matplotlib.pyplot import cm\n",
    "\n",
    "hmf_200m = ccl.halos.MassFuncTinker08(mass_def=hmd_200m)\n",
    "plt.figure()\n",
    "plt.title(r'$0<z<1$',fontsize=14)\n",
    "for z in z_arr:\n",
    "    nm = hmf_200m(cosmo, m_arr, 1./(1+z))\n",
    "    plt.plot(m_arr,\n",
    "             m_arr * nm, c=cm.autumn(z))\n",
    "plt.xscale('log')\n",
    "plt.ylim([5E8,7E9])\n",
    "plt.xlabel(r'$M/M_\\odot$',fontsize=14)\n",
    "plt.ylabel(r'$M\\,\\frac{dn}{d\\log_{10}M}\\,[M_\\odot\\,{\\rm Mpc}^{-3}]$',\n",
    "           fontsize=14);"
   ]
  },
  {
   "cell_type": "markdown",
   "metadata": {},
   "source": [
    "## Halo bias\n",
    "Similar comments apply to the different halo bias parametrizations supported by CCL."
   ]
  },
  {
   "cell_type": "code",
   "execution_count": null,
   "metadata": {},
   "outputs": [],
   "source": [
    "hbfs = []\n",
    "# Sheth & Tormen 1999\n",
    "hbfs.append(ccl.halos.HaloBiasSheth99())\n",
    "\n",
    "# Sheth & Tormen 2001\n",
    "hbfs.append(ccl.halos.HaloBiasSheth01())\n",
    "\n",
    "# Bhattacharya 2011\n",
    "hbfs.append(ccl.halos.HaloBiasBhattacharya11())\n",
    "\n",
    "# Tinker 2010\n",
    "hbfs.append(ccl.halos.HaloBiasTinker10())\n",
    "\n",
    "# Let's plot all of them at z=0\n",
    "plt.figure()\n",
    "for bf in hbfs:\n",
    "    bm = bf(cosmo, m_arr, 1.)\n",
    "    plt.plot(m_arr, bm, label=bf.name)\n",
    "plt.xscale('log')\n",
    "plt.legend()\n",
    "plt.xlabel(r'$M/M_\\odot$', fontsize=14)\n",
    "plt.ylabel(r'$b_h(M)$', fontsize=14);"
   ]
  },
  {
   "cell_type": "markdown",
   "metadata": {},
   "source": [
    "## Concentration-mass relation\n",
    "Concentration-mass relations work in a similar way"
   ]
  },
  {
   "cell_type": "code",
   "execution_count": null,
   "metadata": {},
   "outputs": [],
   "source": [
    "cmrs = []\n",
    "# Diemer 2015\n",
    "cmrs.append(ccl.halos.ConcentrationDiemer15())\n",
    "\n",
    "# Bhattacharya 2013\n",
    "cmrs.append(ccl.halos.ConcentrationBhattacharya13())\n",
    "\n",
    "# Prada 2012\n",
    "cmrs.append(ccl.halos.ConcentrationPrada12())\n",
    "\n",
    "# Klypin 2011\n",
    "cmrs.append(ccl.halos.ConcentrationKlypin11())\n",
    "\n",
    "# Duffy 2008\n",
    "cmrs.append(ccl.halos.ConcentrationDuffy08())\n",
    "\n",
    "# Let's plot all of them at z=0\n",
    "plt.figure()\n",
    "for cmr in cmrs:\n",
    "    cm = cmr(cosmo, m_arr, 1.)\n",
    "    plt.plot(m_arr, cm, label=cmr.name)\n",
    "plt.xscale('log')\n",
    "plt.legend()\n",
    "plt.xlabel(r'$M/M_\\odot$', fontsize=14)\n",
    "plt.ylabel(r'$c(M)$', fontsize=14);"
   ]
  },
  {
   "cell_type": "markdown",
   "metadata": {},
   "source": [
    "## Convenience functions\n",
    "It is possible to select mass functions, halo biases and concentration-mass relation from their name as follows"
   ]
  },
  {
   "cell_type": "code",
   "execution_count": null,
   "metadata": {},
   "outputs": [],
   "source": [
    "nm = ccl.halos.MassFunc.from_name('Tinker08')\n",
    "bm = ccl.halos.HaloBias.from_name('Tinker10')\n",
    "cm = ccl.halos.Concentration.from_name('Duffy08')\n",
    "print(nm)\n",
    "print(bm)\n",
    "print(cm)"
   ]
  },
  {
   "cell_type": "markdown",
   "metadata": {},
   "source": [
    "## Mass conversion\n",
    "The lines below show how to convert between different mass definitions (and the consequences of doing so). First, we generate mass function objects for $\\Delta=200$ and $500$. Then, we compute the mass function using both parametrizations, but for masses defined using $\\Delta=200$ (the $\\Delta=500$ mass function will use the concentration-mass relation to translate masses from $\\Delta=200$ to $\\Delta=500$ automatically). As you can see, doing so incurrs a systematic error of up to ~20%."
   ]
  },
  {
   "cell_type": "code",
   "execution_count": null,
   "metadata": {},
   "outputs": [],
   "source": [
    "# Let's define a mass function object for Delta = 500 (matter)\n",
    "hmf_500m = ccl.halos.MassFuncTinker08(mass_def=hmd_500m)\n",
    "\n",
    "# Now let's compare the mass function parametrized for 200 (matter)\n",
    "# with the mass function parametrized for 500 (matter) but\n",
    "# translated to 200 (matter)\n",
    "hmf_200m = ccl.halos.MassFuncTinker08(mass_def=hmd_200m)\n",
    "\n",
    "mass_trans = ccl.halos.mass_translator(mass_in=hmd_200m, mass_out=hmd_500m, \n",
    "                                       concentration=ccl.halos.ConcentrationDuffy08(mass_def=hmd_200m))\n",
    "\n",
    "m500 = mass_trans(cosmo, m_arr, 1.)\n",
    "\n",
    "nM_200m = hmf_200m(cosmo, m_arr, 1.)\n",
    "nM_200m_trans = hmf_500m(cosmo, m500, 1.)\n",
    "\n",
    "plt.figure()\n",
    "plt.plot(m_arr, nM_200m_trans/nM_200m-1)\n",
    "plt.xscale('log')\n",
    "plt.xlabel(r'$M/M_\\odot$',fontsize=14)\n",
    "plt.ylabel('Error from mass translation',\n",
    "           fontsize=14);"
   ]
  },
  {
   "cell_type": "code",
   "execution_count": null,
   "metadata": {},
   "outputs": [],
   "source": []
  }
 ],
 "metadata": {
  "kernelspec": {
   "display_name": "Python 3 (ipykernel)",
   "language": "python",
   "name": "python3"
  },
  "language_info": {
   "codemirror_mode": {
    "name": "ipython",
    "version": 3
   },
   "file_extension": ".py",
   "mimetype": "text/x-python",
   "name": "python",
   "nbconvert_exporter": "python",
   "pygments_lexer": "ipython3",
   "version": "3.12.2"
  }
 },
 "nbformat": 4,
 "nbformat_minor": 4
}
