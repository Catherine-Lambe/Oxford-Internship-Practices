{
 "cells": [
  {
   "cell_type": "code",
   "execution_count": 1,
   "id": "9e508032-5bb9-469d-83d0-238b62e0ff55",
   "metadata": {},
   "outputs": [],
   "source": [
    "import numpy as np\n",
    "import pyccl as ccl\n",
    "import matplotlib.pyplot as plt\n",
    "import scipy.integrate as integrate\n",
    "import scipy.interpolate as interpol\n",
    "from pyccl._core import UnlockInstance\n",
    "from scipy import signal"
   ]
  },
  {
   "cell_type": "markdown",
   "id": "f8a3138a-b022-498c-8c7f-ffe5d55625e6",
   "metadata": {},
   "source": [
    "# Combined Profile for the Stellar, Ejected & Bound Gas components"
   ]
  },
  {
   "cell_type": "markdown",
   "id": "650976f8-2069-4b0d-b138-e607016f1ea1",
   "metadata": {},
   "source": [
    "## Stellar Profile"
   ]
  },
  {
   "cell_type": "code",
   "execution_count": 22,
   "id": "cec2dd1b-f5d2-40b5-9358-42339d7c302b",
   "metadata": {},
   "outputs": [],
   "source": [
    "class StellarProfile(ccl.halos.profiles.profile_base.HaloProfile): \n",
    "    \"\"\"Creating a class for the stellar density profile\n",
    "    where: \"\"\"  # could put in the equations used\n",
    "\n",
    "    def __init__(self, mass_def):\n",
    "        super(StellarProfile, self).__init__(mass_def=mass_def)\n",
    "\n",
    "    def _real(self, r, M, centre_pt=None, scale_a=1): \n",
    "        r_use = np.atleast_1d(r) \n",
    "        M_use = np.atleast_1d(M)\n",
    "        len_r = len(r_use) \n",
    "        \n",
    "        prefix = M_use / scale_a**3\n",
    "        prof = prefix[:, None] * signal.unit_impulse(len_r, centre_pt)[None,:]\n",
    "\n",
    "        if np.ndim(r) == 0:\n",
    "            prof = np.squeeze(prof, axis=-1)\n",
    "        if np.ndim(M) == 0:\n",
    "            prof = np.squeeze(prof, axis=0)\n",
    "                                                          \n",
    "        return prof\n",
    "\n",
    "    def _fourier(self, k, M, scale_a=1):\n",
    "        k_use = np.atleast_1d(k)\n",
    "        M_use = np.atleast_1d(M)\n",
    "\n",
    "        prefix = M_use / scale_a**3\n",
    "        prof = k_use[None,:] + prefix[:, None] * 1 # as g(k) = 1\n",
    "\n",
    "        if np.ndim(k) == 0:\n",
    "            prof = np.squeeze(prof, axis=-1)\n",
    "        if np.ndim(M) == 0:\n",
    "            prof = np.squeeze(prof, axis=0)\n",
    "\n",
    "        return prof\n",
    "    "
   ]
  },
  {
   "cell_type": "markdown",
   "id": "1bb803eb-7ac9-4d6d-9912-8f21f99193f2",
   "metadata": {},
   "source": [
    "## Ejected Gas & Bound Gas Profiles (separate profiles)"
   ]
  },
  {
   "cell_type": "code",
   "execution_count": 3,
   "id": "96806c9d-9976-4725-9673-75f7b733ce85",
   "metadata": {},
   "outputs": [],
   "source": [
    "class EjectedGasProfile(ccl.halos.profiles.profile_base.HaloProfile): #(ccl.halos.Haloprofile):\n",
    "    \"\"\"Creating a class for the ejected gas density profile\n",
    "    where: \"\"\"  # could put in the equations used\n",
    "\n",
    "    def __init__(self, cosmo, mass_def): \n",
    "        super(EjectedGasProfile, self).__init__(mass_def=mass_def)\n",
    "        self.cosmo = cosmo\n",
    "\n",
    "    def _real(self, r, M, delta=200, eta_b = 0.5, scale_a=1): \n",
    "        r_use = np.atleast_1d(r) # need them to be functional arrays\n",
    "        M_use = np.atleast_1d(M)\n",
    "        r_vir = self.mass_def.get_radius(self.cosmo, M_use, scale_a) / scale_a # halo virial radius\n",
    "        r_e = 0.375*r_vir*np.sqrt(delta)*eta_b # eta_b = a free parameter\n",
    "\n",
    "        prefix = M_use * (1/(scale_a*np.sqrt(2*np.pi*r_e)))**3\n",
    "        x = r_use[None, :] / r_e[:, None]\n",
    "        prof = prefix[:, None] * np.exp(-(x**2)/2)\n",
    "\n",
    "        if np.ndim(r) == 0:\n",
    "            prof = np.squeeze(prof, axis=-1)\n",
    "        if np.ndim(M) == 0:\n",
    "            prof = np.squeeze(prof, axis=0)\n",
    "                                                          \n",
    "        return prof\n",
    "\n",
    "    def _fourier(self, k, M, delta=200, eta_b = 0.5, scale_a=1):\n",
    "        k_use = np.atleast_1d(k)\n",
    "        M_use = np.atleast_1d(M)\n",
    "        r_vir = self.mass_def.get_radius(self.cosmo, M_use, scale_a) / scale_a # halo virial radius\n",
    "        r_e = 0.375*r_vir*np.sqrt(delta)*eta_b # eta_b = a free parameter\n",
    "\n",
    "        prefix = M_use / scale_a**3\n",
    "        x = k_use[None, :] * r_e[:, None]\n",
    "        prof = prefix[:, None] * np.exp(-(x**2)/2)  #prof = M_use * f * np.exp(-(1/2)*(k_use*r_ej)**2)/(a**3)\n",
    "\n",
    "        if np.ndim(k) == 0:\n",
    "            prof = np.squeeze(prof, axis=-1)\n",
    "        if np.ndim(M) == 0:\n",
    "            prof = np.squeeze(prof, axis=0)\n",
    "\n",
    "        return prof\n",
    "    "
   ]
  },
  {
   "cell_type": "code",
   "execution_count": 4,
   "id": "6e53a3c3-0b1d-48db-bb75-5cbf58786f02",
   "metadata": {},
   "outputs": [],
   "source": [
    "class BoundGasProfile(ccl.halos.profiles.profile_base.HaloProfile): #(ccl.halos.Haloprofile):\n",
    "    \"\"\"Creating a class for the bound gas density profile\n",
    "    where: \"\"\"  # could put in the equations used\n",
    "\n",
    "    def __init__(self, cosmo, mass_def, concentration, gamma, GammaRange = (1.01, 10), nGamma=64, qrange=(1e-4, 1e2), nq=64): \n",
    "        # n_q/Gamma = 2^x\n",
    "        self.gamma = gamma\n",
    "        super(BoundGasProfile, self).__init__(mass_def=mass_def, concentration=concentration)\n",
    "        self.cosmo = cosmo\n",
    "\n",
    "        self.GammaRange = GammaRange\n",
    "        self.nGamma = nGamma\n",
    "\n",
    "        self.qrange = qrange\n",
    "        self.nq = nq\n",
    "        \n",
    "        self._func_normQ0 = None   # General normalised profile (for q=0, over Gamma)\n",
    "        self._func_normQany = None\n",
    "\n",
    "    def _shape(self, x, gam):\n",
    "        gam_use = np.atleast_1d(gam)\n",
    "        return (np.log(1+x)/x)**gam_use\n",
    "\n",
    "    def _innerInt(self, x, gam): \n",
    "        return x**2 * self._shape(x, gam)   \n",
    "\n",
    "    import scipy.integrate as integrate\n",
    "    import scipy.interpolate as interpol\n",
    "    from pyccl._core import UnlockInstance\n",
    "\n",
    "    def _Vb_prefix(self, r_s=1):\n",
    "        vB1 = integrate.quad(self._innerInt, 0, np.inf, args = (1/(self.gamma-1)))  # (func, a, b[, args, full_output, ...])\n",
    "        vB2 = 4*np.pi*(r_s**3)*vB1[0]\n",
    "        return vB2\n",
    "\n",
    "    def _norm_interpol1(self):  # interpol1 = for q = 0\n",
    "        gamma_list = np.linspace(self.GammaRange[0], self.GammaRange[1], self.nGamma) # start, stop, number of evenly spaced samples\n",
    "        I0_array = np.zeros(self.nGamma)\n",
    "        k=0\n",
    "        for i in gamma_list:\n",
    "            I0_array[k] =  integrate.quad(self._innerInt, 0, np.inf, args = 1/(i-1))[0] # _innerInt(self, x, gam=1/(gamma_use-1))\n",
    "            k+=1\n",
    "        func_normQ0 = interpol.interp1d(gamma_list, I0_array) # interp1d(x, y, ...\n",
    "        return func_normQ0\n",
    "        \n",
    "    def _real(self, r, M, call_interp=True, scale_a=1): \n",
    "        r_use = np.atleast_1d(r) # need them to be functional arrays\n",
    "        M_use = np.atleast_1d(M)\n",
    "        \n",
    "        R_M = self.mass_def.get_radius(self.cosmo, M_use, scale_a) / scale_a # halo virial radius\n",
    "        c_M = self.concentration(self.cosmo, M_use, scale_a) # concentration-mass relation c(M)\n",
    "        r_s = R_M / c_M # characteristic scale r_s\n",
    "\n",
    "        if call_interp==False:\n",
    "            vB_prefix = self._Vb_prefix(r_s)\n",
    "        else:\n",
    "            if self._func_normQ0 is None: # is instead of == here\n",
    "                with UnlockInstance(self):\n",
    "                    self._func_normQ0 = self._norm_interpol1() \n",
    "            vB_prefix = 4*np.pi*(r_s**3)*self._func_normQ0(self.gamma)  # self._Vb_prefix(gamma_use, rS_use)[0]\n",
    "        prefix = M_use * (1/scale_a**3) * (1/vB_prefix)\n",
    "\n",
    "        x = r_use[None, :] / r_s[:, None]\n",
    "        prof = prefix[:, None] * self._shape(x, 1/(self.gamma-1)) # default par of gam = 1/(gamma_use-1) #innerInt(x)\n",
    "\n",
    "        if np.ndim(r) == 0:\n",
    "            prof = np.squeeze(prof, axis=-1)\n",
    "        if np.ndim(M) == 0:\n",
    "            prof = np.squeeze(prof, axis=0)\n",
    "                                                          \n",
    "        return prof\n",
    "\n",
    "    def _norm_interpol2(self):  # interpol1 for q = any\n",
    "        gamma_list = np.linspace(self.GammaRange[0], self.GammaRange[1], self.nGamma) # start, stop, number of evenly spaced samples\n",
    "        q_array = np.geomspace(self.qrange[0], self.qrange[1], self.nq) # q = k*r_s, k will be from geomspace\n",
    "        I0_array =  np.zeros((self.nGamma, self.nq))\n",
    "\n",
    "        def integralQany(x, gam): #(a, gam=1/(gamma_use-1), b=1, c=1):\n",
    "            return x * self._shape(x, gam) # for q = any (& j0(qx) = sinh(qx) = sin(qx)/(qx) => int[x^2 ... j0] = int[x ... sin(qx)]/q\n",
    "        k=0\n",
    "        for i in gamma_list: \n",
    "            l=0\n",
    "            for j in q_array: \n",
    "                I0_array[k, l] =  integrate.quad(integralQany, 0, np.inf, args = 1/(i-1), weight = \"sin\", wvar=j)[0] / j\n",
    "                l+=1\n",
    "            k+=1\n",
    "            print(f'k = {100*k/self.nGamma:.3g}% through')\n",
    "        #interpol.RegularGridInterpolator() for 2D array # (points, values, ... \n",
    "        func_normQany = interpol.RegularGridInterpolator((gamma_list, np.log(q_array)), I0_array)\n",
    "        return func_normQany\n",
    "    \n",
    "    def _fourier(self, k, M, scale_a=1):\n",
    "        k_use = np.atleast_1d(k)\n",
    "        M_use = np.atleast_1d(M)\n",
    "\n",
    "        R_M = self.mass_def.get_radius(self.cosmo, M_use, scale_a) / scale_a # halo virial radius\n",
    "        c_M = self.concentration(cosmo, M_use, scale_a) # concentration-mass relation c(M)\n",
    "        r_s = R_M / c_M # characteristic scale r_s\n",
    "\n",
    "        if self._func_normQ0 is None: # is instead of == here\n",
    "            with UnlockInstance(self):\n",
    "                self._func_normQ0 = self._norm_interpol1() \n",
    "        if self._func_normQany is None:\n",
    "            with UnlockInstance(self):\n",
    "                self._func_normQany = self._norm_interpol2()\n",
    "\n",
    "        q_use = k_use[None, :]*r_s[:, None]\n",
    "        g_k = self._func_normQany((self.gamma, np.log(q_use))) / self._func_normQ0(self.gamma) # = Ib_qAny / Ib_q0\n",
    "\n",
    "        prefix = M_use / scale_a**3\n",
    "        prof = prefix[:, None] * g_k[None,:] \n",
    "\n",
    "        if np.ndim(k) == 0:\n",
    "            prof = np.squeeze(prof, axis=-1)\n",
    "        if np.ndim(M) == 0:\n",
    "            prof = np.squeeze(prof, axis=0)\n",
    "\n",
    "        return prof\n",
    "    "
   ]
  },
  {
   "cell_type": "markdown",
   "id": "a15e0768-f406-4b60-91e1-8e7ffaaf46fd",
   "metadata": {},
   "source": [
    "## Combined Gas Class"
   ]
  },
  {
   "cell_type": "markdown",
   "id": "f0f58b3f-fa7d-4b3b-9d03-d3db8f0f2c39",
   "metadata": {},
   "source": [
    "Add in equations: $\\rho(r)\\ = f_b\\ \\rho_{bound}(r)\\ + (1 - f_b)\\rho_{ejected}(r)\\ $"
   ]
  },
  {
   "cell_type": "code",
   "execution_count": 8,
   "id": "9b6f2452-0872-4fed-aabe-a34439cf9f6b",
   "metadata": {},
   "outputs": [],
   "source": [
    "class CombinedGasProfile(ccl.halos.profiles.profile_base.HaloProfile): #boundGas_profile, ejGas_profile): \n",
    "    #ccl.halos.profiles.profile_base.HaloProfile): \n",
    "    \"\"\"Text\n",
    "    \"\"\"\n",
    "\n",
    "    def __init__(self, cosmo, mass_def, concentration, gamma, GammaRange = (1.01, 10), nGamma=64, qrange=(1e-4, 1e2), nq=64):\n",
    "\n",
    "        self.gamma = gamma\n",
    "        super(CombinedGasProfile, self).__init__(mass_def=mass_def, concentration=concentration)\n",
    "        self.boundProfile = BoundGasProfile(cosmo=cosmo, mass_def=mass_def, concentration=concentration, gamma=gamma)\n",
    "        self.ejProfile = EjectedGasProfile(cosmo=cosmo, mass_def=mass_def)\n",
    "\n",
    "        self.GammaRange = GammaRange\n",
    "        self.nGamma = nGamma\n",
    "        self.qrange = qrange\n",
    "        self.nq = nq\n",
    "        self._func_normQ0 = None   # General normalised bound profile (for q=0, over Gamma)\n",
    "        self._func_normQany = None\n",
    "\n",
    "    def _real(self, r, M, f_bd=1, call_interp=True, scale_a=1):\n",
    "        f_ej = 1 - f_bd\n",
    "        prof_ej = self.ejProfile._real(r, M, scale_a) # ejGas_profile._real(self, r, M, scale_a)\n",
    "        prof_bd = self.boundProfile._real(r, M, call_interp, scale_a) # boundGas_profile._real(self, r, M, call_interp, scale_a)\n",
    "        profile = f_ej*prof_ej + f_bd*prof_bd\n",
    "        return profile\n",
    "\n",
    "    def _fourier(self, k, M, f_bd = 1, call_interp=True, scale_a=1):\n",
    "        f_ej = 1 - f_bd\n",
    "        prof_ej = self.ejProfile._fourier(k, M, scale_a)\n",
    "        prof_bd = self.boundProfile._fourier(k, M, scale_a)\n",
    "        profile = f_ej*prof_ej + f_bd*prof_bd\n",
    "        return profile"
   ]
  },
  {
   "cell_type": "code",
   "execution_count": null,
   "id": "8ff6a335-bb62-4f50-b7c8-5427deac1931",
   "metadata": {},
   "outputs": [],
   "source": []
  },
  {
   "cell_type": "markdown",
   "id": "5e0005c9-8aba-4f7c-aee3-917cbaa84bbf",
   "metadata": {},
   "source": [
    "# Combined Gas & Stellar Profile"
   ]
  },
  {
   "cell_type": "code",
   "execution_count": 177,
   "id": "37828e61-b958-415c-810d-d1bda4fb7d1f",
   "metadata": {},
   "outputs": [],
   "source": [
    "class CombinedStellarGasProfile(ccl.halos.profiles.profile_base.HaloProfile): \n",
    "    \"\"\"Text\n",
    "    \"\"\"\n",
    "\n",
    "    def __init__(self, cosmo, mass_def, concentration, gamma, GammaRange = (1.01, 10), nGamma=64, qrange=(1e-4, 1e2), nq=64,\n",
    "                beta=0.6, M_c = 10**(13.5), M_star = 10**(12.5), A_star = 0.03, sigma_star = 1.2):\n",
    "        self.gamma = gamma\n",
    "        super(CombinedStellarGasProfile, self).__init__(mass_def=mass_def, concentration=concentration)\n",
    "        self.boundProfile = BoundGasProfile(cosmo=cosmo, mass_def=mass_def, concentration=concentration, gamma=gamma)\n",
    "        self.ejProfile = EjectedGasProfile(cosmo=cosmo, mass_def=mass_def)\n",
    "        self.stellProfile = StellarProfile(mass_def=mass_def)\n",
    "\n",
    "        self.GammaRange = GammaRange\n",
    "        self.nGamma = nGamma\n",
    "        self.qrange = qrange\n",
    "        self.nq = nq\n",
    "        self._func_normQ0 = None   # General normalised bound profile (for q=0, over Gamma)\n",
    "        self._func_normQany = None\n",
    "\n",
    "        self.beta = beta\n",
    "        self.M_c = M_c\n",
    "        self.M_star = M_star\n",
    "        self.A_star = A_star\n",
    "        self.sigma_star = sigma_star\n",
    "        \n",
    "        self.f_bar_b = cosmo['Omega_b']/cosmo['Omega_m']\n",
    "        self.f_c = 1 - self.f_bar_b\n",
    "        \n",
    "    def _f_stell(self, M):\n",
    "        f_stell = self.A_star * np.exp( (-1/2)* (np.log10(M / self.M_star) / self.sigma_star)**2 )\n",
    "        return f_stell\n",
    "\n",
    "    def _f_bd(self, M):     #$f_b(M)\\ = \\frac{\\bar{f}_b - f_*(M)}{1 + (M_c/M)^{\\beta}} $\n",
    "        f_stell = self._f_stell(M)\n",
    "        f_b = (self.f_bar_b - f_stell) / (1 + (self.M_c / M)**self.beta )\n",
    "        return f_b, f_stell\n",
    "\n",
    "    def _real(self, r, M, #calc_frac=True, f_bd=1, f_stell=0, \n",
    "              call_interp=True, scale_a=1, centre_pt=None):\n",
    "        #if calc_frac==True:\n",
    "         #   f_stell = self._f_stell(M)\n",
    "        \n",
    "        f_bd, f_stell = self._f_bd(M)\n",
    "        f_ej = self.f_bar_b - f_stell - f_bd\n",
    "        \n",
    "        prof_ej = self.ejProfile._real(r, M, scale_a) # ejGas_profile._real(self, r, M, scale_a)\n",
    "        prof_bd = self.boundProfile._real(r, M, call_interp, scale_a) # boundGas_profile._real(self, r, M, call_interp, scale_a)\n",
    "        prof_stell = self.stellProfile._real(r, M, centre_pt, scale_a) # _real(self, r, M, centre_pt=None, scale_a=1): \n",
    "\n",
    "        profile = np.dot(f_ej.reshape(1,3),prof_ej) + np.dot(f_bd.reshape(1,3),prof_bd) + np.dot(f_stell.reshape(1,3),prof_stell)\n",
    "        print(np.shape(profile))\n",
    "        return profile\n",
    "\n",
    "    def _fourier(self, k, M, # call_frac=True, f_bd = 1, f_stell=0, \n",
    "                 call_interp=True, scale_a=1, centre_pt=None):\n",
    "        f_bd, f_stell = self._f_bd(M)\n",
    "        f_ej = self.f_bar_b - f_stell - f_bd\n",
    "        \n",
    "        prof_ej = self.ejProfile._fourier(k, M, scale_a)\n",
    "        prof_bd = self.boundProfile._fourier(k, M, scale_a)\n",
    "        prof_stell = self.stellProfile._fourier(k, M, scale_a)  # _fourier(self, k, M, scale_a=1)\n",
    "        profile = np.dot(f_ej,prof_ej) + np.dot(f_bd,prof_bd) + np.dot(f_stell,prof_stell)\n",
    "        \n",
    "        return profile"
   ]
  },
  {
   "cell_type": "markdown",
   "id": "36cffe43-fdc4-4124-9b7c-53999b15df6b",
   "metadata": {},
   "source": [
    "# Problem with Indexing! (fs now = arrays, so should have M*M profiles to plot)"
   ]
  },
  {
   "cell_type": "code",
   "execution_count": 116,
   "id": "a7b55716-0807-485c-8671-0fd173dd7e19",
   "metadata": {},
   "outputs": [
    {
     "ename": "IndentationError",
     "evalue": "unexpected indent (752644500.py, line 2)",
     "output_type": "error",
     "traceback": [
      "\u001b[0;36m  Cell \u001b[0;32mIn[116], line 2\u001b[0;36m\u001b[0m\n\u001b[0;31m    profile += f_bd*prof_bd\u001b[0m\n\u001b[0m    ^\u001b[0m\n\u001b[0;31mIndentationError\u001b[0m\u001b[0;31m:\u001b[0m unexpected indent\n"
     ]
    }
   ],
   "source": [
    "prof_array = np.zeros((len(M), len(M)), dtype=object)\n",
    "        i = 0\n",
    "        for e, b, s in zip(f_ej, f_bd, f_stell):\n",
    "            j = 0\n",
    "            for mass in M:\n",
    "                profile = e*prof_ej[j] + b*prof_bd[j] + s*prof_stell[j]\n",
    "               # print(profile)\n",
    "                prof_array[i,j] = profile\n",
    "                j+=1\n",
    "            i+=1\n",
    "        print(np.shape(prof_array))\n"
   ]
  },
  {
   "cell_type": "markdown",
   "id": "1a3168c5-7f66-4746-a0d8-60661436d646",
   "metadata": {},
   "source": [
    "## Making the Fraction Equations"
   ]
  },
  {
   "cell_type": "code",
   "execution_count": 119,
   "id": "f657850e-d3de-4232-b452-c3000cfe0635",
   "metadata": {},
   "outputs": [
    {
     "data": {
      "text/plain": [
       "0.3"
      ]
     },
     "execution_count": 119,
     "metadata": {},
     "output_type": "execute_result"
    }
   ],
   "source": [
    "cosmo['Omega_b'] # can access values in cosmo object like this\n",
    "cosmo['Omega_m']"
   ]
  },
  {
   "cell_type": "markdown",
   "id": "1e4f2979-fcec-43df-b22c-7016a09d7c36",
   "metadata": {},
   "source": [
    "- $f_c\\ + f_b\\ +f_e\\ + f_*\\ = 1$\n",
    "- Cold dark matter: $f_c\\ = 1 - \\bar{f}_b$      \n",
    "    - where: $\\bar{f}_b\\ = f_b\\ + f_e\\ + f_*\\ = \\frac{\\Omega_b}{\\Omega_M}$\n",
    "    - This is the same (?) as: $f_c\\ = 1 - \\frac{\\Omega_b}{\\Omega_M} = \\frac{\\Omega_c}{\\Omega_m}$\n",
    "- $f_*(M)\\ = A_*\\ \\exp{\\left[ -\\frac{1}{2} \\left( \\frac{\\log_{10}(M/M_*)}{\\sigma_*} \\right)^2 \\right]}$     \n",
    "    - with: $A_* = 0.03$, $M_* = 10^{12.5}M_{\\odot} $, & $\\sigma_* = 1.2$.            \n",
    "\n",
    "- $f_b(M)\\ = \\frac{\\bar{f}_b - f_*(M)}{1 + (M_c/M)^{\\beta}} $      \n",
    "    - with: $M_c \\simeq 10^{13.5 - 14} M_{\\odot}$ & $\\beta \\sim 0.6$\n",
    "     \n",
    "- $f_e(M)\\ = \\bar{f}_b\\ - f_b(M)\\ - f_*(M)\\ $"
   ]
  },
  {
   "cell_type": "code",
   "execution_count": 143,
   "id": "349a944f-25cc-4240-a961-c273c94a705f",
   "metadata": {},
   "outputs": [
    {
     "data": {
      "text/plain": [
       "False"
      ]
     },
     "execution_count": 143,
     "metadata": {},
     "output_type": "execute_result"
    }
   ],
   "source": [
    "np.shape(trial_M[0]) == "
   ]
  },
  {
   "cell_type": "markdown",
   "id": "0d963cfb-94f9-4ff2-b8b3-eded737a7e74",
   "metadata": {},
   "source": [
    "# Trial"
   ]
  },
  {
   "cell_type": "code",
   "execution_count": 147,
   "id": "7503aad9-692a-4db0-aeab-fbce3932bc9b",
   "metadata": {},
   "outputs": [],
   "source": [
    "hmd_200c = ccl.halos.MassDef200c # use a mass definition with Delta = 200\n",
    "cM = ccl.halos.ConcentrationDuffy08(mass_def=hmd_200c)\n",
    "cosmo = ccl.Cosmology(Omega_c = 0.25, Omega_b=0.05, h=0.07, A_s=2.1e-9, n_s=0.96, Neff=0, Omega_g=0)\n",
    "\n",
    "trial_r = np.geomspace(1E-2,1E8,100000) # geomspace is like linspace, but evenly spaces on a logscale\n",
    "trial_M = np.array([5E12,2E13, 1E14])\n",
    "trial_gamma = 1.1  # working with z = 0 (today) ; therefore a = 1 [default]\n",
    "#trial_rEj = 100\n",
    "#trial_rS = 1       "
   ]
  },
  {
   "cell_type": "code",
   "execution_count": 179,
   "id": "44588f06-546f-445d-811b-1c3894282a3f",
   "metadata": {},
   "outputs": [],
   "source": [
    "trial_profile = CombinedStellarGasProfile(cosmo, hmd_200c, cM, trial_gamma) "
   ]
  },
  {
   "cell_type": "code",
   "execution_count": null,
   "id": "62504090-8883-46a4-be57-a2b914335d62",
   "metadata": {},
   "outputs": [],
   "source": []
  },
  {
   "cell_type": "markdown",
   "id": "e1f0cb57-cd7e-4378-8f34-6d912bab92ef",
   "metadata": {},
   "source": [
    "## Real"
   ]
  },
  {
   "cell_type": "code",
   "execution_count": 183,
   "id": "b0978015-bd15-49db-bd69-3d9fee93c250",
   "metadata": {},
   "outputs": [
    {
     "name": "stderr",
     "output_type": "stream",
     "text": [
      "/var/folders/fj/p1qj16jj5pl9df1rgw6p12tc000vry/T/ipykernel_4439/3654199575.py:41: IntegrationWarning: The integral is probably divergent, or slowly convergent.\n",
      "  I0_array[k] =  integrate.quad(self._innerInt, 0, np.inf, args = 1/(i-1))[0] # _innerInt(self, x, gam=1/(gamma_use-1))\n",
      "/var/folders/fj/p1qj16jj5pl9df1rgw6p12tc000vry/T/ipykernel_4439/3654199575.py:41: IntegrationWarning: The algorithm does not converge.  Roundoff error is detected\n",
      "  in the extrapolation table.  It is assumed that the requested tolerance\n",
      "  cannot be achieved, and that the returned result (if full_output = 1) is \n",
      "  the best which can be obtained.\n",
      "  I0_array[k] =  integrate.quad(self._innerInt, 0, np.inf, args = 1/(i-1))[0] # _innerInt(self, x, gam=1/(gamma_use-1))\n"
     ]
    },
    {
     "name": "stdout",
     "output_type": "stream",
     "text": [
      "(1, 100000)\n"
     ]
    },
    {
     "data": {
      "text/plain": [
       "array([[1.35064761e+13, 1.15045873e+13, 1.15043182e+13, ...,\n",
       "        5.17745117e-56, 5.16618390e-56, 5.15494115e-56]])"
      ]
     },
     "execution_count": 183,
     "metadata": {},
     "output_type": "execute_result"
    }
   ],
   "source": [
    "trial_f_bd = 0.45\n",
    "trial_f_stell = 0.05\n",
    "profTrial_real = trial_profile._real(trial_r, trial_M) #, trial_f_bd, trial_f_stell) \n",
    "# _real(self, r, M, #calc_frac=True, f_bd=1, f_stell=0, \n",
    "              #call_interp=True, scale_a=1, centre_pt=None):\n",
    "profTrial_real"
   ]
  },
  {
   "cell_type": "code",
   "execution_count": 185,
   "id": "12c09816-66d6-4ca4-a16d-58e61473bb2f",
   "metadata": {},
   "outputs": [
    {
     "ename": "IndexError",
     "evalue": "index 1 is out of bounds for axis 0 with size 1",
     "output_type": "error",
     "traceback": [
      "\u001b[0;31m---------------------------------------------------------------------------\u001b[0m",
      "\u001b[0;31mIndexError\u001b[0m                                Traceback (most recent call last)",
      "Cell \u001b[0;32mIn[185], line 4\u001b[0m\n\u001b[1;32m      2\u001b[0m title_real \u001b[38;5;241m=\u001b[39m \u001b[38;5;124m'\u001b[39m\u001b[38;5;130;01m\\n\u001b[39;00m\u001b[38;5;124mReal profile of Combined gas $f_\u001b[39m\u001b[38;5;132;01m{bd}\u001b[39;00m\u001b[38;5;124m=$\u001b[39m\u001b[38;5;124m'\u001b[39m\u001b[38;5;241m+\u001b[39m\u001b[38;5;124mf\u001b[39m\u001b[38;5;124m'\u001b[39m\u001b[38;5;132;01m{\u001b[39;00mtrial_f_bd\u001b[38;5;241m*\u001b[39m\u001b[38;5;241m100\u001b[39m\u001b[38;5;132;01m}\u001b[39;00m\u001b[38;5;124m%\u001b[39m\u001b[38;5;124m'\u001b[39m\u001b[38;5;241m+\u001b[39m\u001b[38;5;124m'\u001b[39m\u001b[38;5;124m & $f_*=$\u001b[39m\u001b[38;5;124m'\u001b[39m\u001b[38;5;241m+\u001b[39m\u001b[38;5;124mf\u001b[39m\u001b[38;5;124m'\u001b[39m\u001b[38;5;132;01m{\u001b[39;00mtrial_f_stell\u001b[38;5;241m*\u001b[39m\u001b[38;5;241m100\u001b[39m\u001b[38;5;132;01m}\u001b[39;00m\u001b[38;5;124m%; \u001b[39m\u001b[38;5;124m'\u001b[39m \n\u001b[1;32m      3\u001b[0m \u001b[38;5;28;01mfor\u001b[39;00m j, col \u001b[38;5;129;01min\u001b[39;00m \u001b[38;5;28mzip\u001b[39m(trial_M, colours):\n\u001b[0;32m----> 4\u001b[0m     plt\u001b[38;5;241m.\u001b[39mplot(trial_r, profTrial_real[i], col, lw\u001b[38;5;241m=\u001b[39m\u001b[38;5;241m3\u001b[39m, zorder \u001b[38;5;241m=\u001b[39m i, label\u001b[38;5;241m=\u001b[39m\u001b[38;5;124mf\u001b[39m\u001b[38;5;124m'\u001b[39m\u001b[38;5;132;01m{\u001b[39;00mtrial_M[i]\u001b[38;5;132;01m:\u001b[39;00m\u001b[38;5;124m.1g\u001b[39m\u001b[38;5;132;01m}\u001b[39;00m\u001b[38;5;124m $M \u001b[39m\u001b[38;5;130;01m\\\\\u001b[39;00m\u001b[38;5;124modot $\u001b[39m\u001b[38;5;124m'\u001b[39m)\n\u001b[1;32m      5\u001b[0m     i\u001b[38;5;241m+\u001b[39m\u001b[38;5;241m=\u001b[39m\u001b[38;5;241m1\u001b[39m\n\u001b[1;32m      6\u001b[0m plt\u001b[38;5;241m.\u001b[39mylabel(\u001b[38;5;124mr\u001b[39m\u001b[38;5;124m'\u001b[39m\u001b[38;5;124m$\u001b[39m\u001b[38;5;124m\\\u001b[39m\u001b[38;5;124mrho(r)\u001b[39m\u001b[38;5;124m\\\u001b[39m\u001b[38;5;124m,\u001b[39m\u001b[38;5;124m\\\u001b[39m\u001b[38;5;124m,[M_\u001b[39m\u001b[38;5;124m\\\u001b[39m\u001b[38;5;124modot\u001b[39m\u001b[38;5;124m\\\u001b[39m\u001b[38;5;124m,\u001b[39m\u001b[38;5;124m{\u001b[39m\u001b[38;5;124m\\\u001b[39m\u001b[38;5;124mrm Mpc}^\u001b[39m\u001b[38;5;124m{\u001b[39m\u001b[38;5;124m-3}]$\u001b[39m\u001b[38;5;124m'\u001b[39m, fontsize\u001b[38;5;241m=\u001b[39m\u001b[38;5;241m15\u001b[39m)\n",
      "\u001b[0;31mIndexError\u001b[0m: index 1 is out of bounds for axis 0 with size 1"
     ]
    },
    {
     "data": {
      "image/png": "[encoded data removed]",
      "text/plain": [
       "<Figure size 640x480 with 1 Axes>"
      ]
     },
     "metadata": {},
     "output_type": "display_data"
    }
   ],
   "source": [
    "colours, i = ['k-.', 'r:', 'g--'], 0\n",
    "title_real = '\\nReal profile of Combined gas $f_{bd}=$'+f'{trial_f_bd*100}%'+' & $f_*=$'+f'{trial_f_stell*100}%; ' \n",
    "for j, col in zip(trial_M, colours):\n",
    "    plt.plot(trial_r, profTrial_real[i], col, lw=3, zorder = i, label=f'{trial_M[i]:.1g} $M \\\\odot $')\n",
    "    i+=1\n",
    "plt.ylabel(r'$\\rho(r)\\,\\,[M_\\odot\\,{\\rm Mpc}^{-3}]$', fontsize=15)\n",
    "plt.xlabel(r'$r\\,\\,[{\\rm Mpc}]$', fontsize=15);\n",
    "plt.title(title_real+' Linear-log plot')\n",
    "plt.grid(True)\n",
    "plt.legend(loc='best')\n",
    "plt.xscale('log');   #plt.xlim(1e-2,1e5);   #plt.ylim(1e-2,1e5);\n",
    "\n",
    "plt.figure()\n",
    "i = 0\n",
    "for j, col in zip(trial_M, colours):\n",
    "    plt.plot(trial_r, profTrial_real[i], col, lw=3, zorder = i, label=f'{trial_M[i]:.1g} $M \\\\odot $')\n",
    "    i+=1\n",
    "plt.ylabel(r'$\\rho(r)\\,\\,[M_\\odot\\,{\\rm Mpc}^{-3}]$', fontsize=15)\n",
    "plt.xlabel(r'$r\\,\\,[{\\rm Mpc}]$', fontsize=15);\n",
    "plt.title(title_real+' Log-log plot')\n",
    "plt.grid(True)\n",
    "plt.legend(loc='best')\n",
    "plt.xscale('log');\n",
    "plt.yscale('log');  "
   ]
  },
  {
   "cell_type": "code",
   "execution_count": null,
   "id": "63782a0a-e3a4-4feb-91fe-abce37941e8f",
   "metadata": {},
   "outputs": [],
   "source": []
  },
  {
   "cell_type": "markdown",
   "id": "52e89418-a25a-48a4-8ee4-85ef6f8cea9b",
   "metadata": {},
   "source": [
    "## Fourier"
   ]
  },
  {
   "cell_type": "code",
   "execution_count": 195,
   "id": "60b2c78d-42bd-4b57-9a05-90bf2e5f8531",
   "metadata": {
    "scrolled": true
   },
   "outputs": [
    {
     "name": "stderr",
     "output_type": "stream",
     "text": [
      "/var/folders/fj/p1qj16jj5pl9df1rgw6p12tc000vry/T/ipykernel_30612/3654199575.py:108: RuntimeWarning: overflow encountered in divide\n",
      "  g_k = self._func_normQany((self.gamma, np.log(q_use))) / self._func_normQ0(self.gamma) # = Ib_qAny / Ib_q0\n",
      "/var/folders/fj/p1qj16jj5pl9df1rgw6p12tc000vry/T/ipykernel_30612/3654199575.py:111: RuntimeWarning: overflow encountered in multiply\n",
      "  prof = prefix[:, None] * g_k[None,:]\n"
     ]
    },
    {
     "data": {
      "text/plain": [
       "array([[[4.99994253e+12, 4.99994253e+12, 4.99994253e+12, ...,\n",
       "                    inf,            inf,            inf],\n",
       "        [1.99997329e+13, 1.99997329e+13, 1.99997329e+13, ...,\n",
       "                    inf,            inf,            inf],\n",
       "        [9.99979222e+13, 9.99979220e+13, 9.99979218e+13, ...,\n",
       "                    inf,            inf,            inf]]])"
      ]
     },
     "execution_count": 195,
     "metadata": {},
     "output_type": "execute_result"
    }
   ],
   "source": [
    "trial_k = np.geomspace(1E-3,1E2,100000)\n",
    "profTrial_fourier = trial_profile._fourier(trial_k, trial_M, trial_f_bd, trial_f_stell)\n",
    "profTrial_fourier  #_fourier(self, k, M, f_bd = 1, f_stell=0, call_interp=True, scale_a=1, centre_pt=None)"
   ]
  },
  {
   "cell_type": "markdown",
   "id": "6dc5887a-2f0f-4b40-9583-f17ba2bce629",
   "metadata": {},
   "source": [
    "#### Normalisation of profiles means that:   \n",
    "$\\rho(k \\to 0)\\ _x = \\frac{M_x}{a^3} [f_x]$   \n",
    "For the combined gas profile, $\\rho(r)\\_{cbd} = \\rho(r)\\_{ej} + \\rho(r)\\_{bd}$    \n",
    "And: $\\rho(k)\\_{cbd} = \\rho(k)\\_{ej} + \\rho(k)\\_{bd}$   \n",
    "So: $\\rho(k \\to 0)\\_{cbd} = f_{ej}\\ \\frac{M_{ej}}{a^3} + f_{bd}\\ \\frac{M_{bd}}{a^3} = \\ $ (as $f_{ej} + f_{bd} \\equiv 1 here$) $ = \\frac{M_{cbd}}{a^3}$\n",
    "#### So plotting $y = x + \\frac{M_x}{a^3} [f_x]$ should give an overlap with the [normalised] Fourier density profile's plateau"
   ]
  },
  {
   "cell_type": "code",
   "execution_count": 198,
   "id": "72e1f6ec-5294-4834-a570-4d1393a4b612",
   "metadata": {},
   "outputs": [
    {
     "data": {
      "image/png": "[encoded data removed]",
      "text/plain": [
       "<Figure size 640x480 with 1 Axes>"
      ]
     },
     "metadata": {},
     "output_type": "display_data"
    },
    {
     "data": {
      "image/png": "[encoded data removed]",
      "text/plain": [
       "<Figure size 640x480 with 1 Axes>"
      ]
     },
     "metadata": {},
     "output_type": "display_data"
    }
   ],
   "source": [
    "colours, i = ['k-.', 'r:', 'g--'], 0\n",
    "title_fourier = '\\nFourier profile of Combined gas $f_{bd}=$'+f'{trial_f_bd*100}%'+' & $f_*=$'+f'{trial_f_stell*100}%; ' \n",
    "for mass, col, fourier in zip(trial_M, colours, profTrial_fourier[0,:]):\n",
    "    plt.plot(trial_k, fourier, col, lw=3, zorder = i, label=f'{mass:.1g} $M \\\\odot $')\n",
    "    plt.plot(trial_k, 1*trial_k + mass, col, zorder=(10-i), label=f'{mass:.1g} $M \\\\odot /a^3$')  # here, a=1\n",
    "    i+=1\n",
    "plt.ylabel(r'$\\rho(k)\\, \\,[M_\\odot\\,{\\rm Mpc}^{-3}]$', fontsize=15)\n",
    "plt.xlabel(r'$k\\, \\,[{\\rm Mpc^{-1}}]$', fontsize=15);\n",
    "plt.title(title_fourier+' Linear-log plot')\n",
    "plt.grid(True)\n",
    "plt.legend(loc='best')\n",
    "plt.xscale('log');   #plt.xlim(1e-2,1e5);   #plt.ylim(1e-2,1e5);\n",
    "\n",
    "plt.figure()\n",
    "i = 0\n",
    "for j, col in zip(trial_M, colours):\n",
    "    plt.plot(trial_k, profTrial_fourier[0,i], col, lw=3, zorder = i, label=f'{trial_M[i]:.1g} $M \\\\odot $')\n",
    "    i+=1\n",
    "plt.ylabel(r'$\\rho(k)\\, \\,[M_\\odot\\,{\\rm Mpc}^{-3}]$', fontsize=15)\n",
    "plt.xlabel(r'$k\\, \\,[{\\rm Mpc^{-1}}]$', fontsize=15);\n",
    "plt.title(title_fourier+' Log-log plot')\n",
    "plt.grid(True)\n",
    "plt.legend(loc='best')\n",
    "plt.xscale('log');\n",
    "plt.yscale('log'); "
   ]
  },
  {
   "cell_type": "code",
   "execution_count": null,
   "id": "b582260b-4b6f-4310-9c47-751722bfcab9",
   "metadata": {},
   "outputs": [],
   "source": []
  }
 ],
 "metadata": {
  "kernelspec": {
   "display_name": "Python 3 (ipykernel)",
   "language": "python",
   "name": "python3"
  },
  "language_info": {
   "codemirror_mode": {
    "name": "ipython",
    "version": 3
   },
   "file_extension": ".py",
   "mimetype": "text/x-python",
   "name": "python",
   "nbconvert_exporter": "python",
   "pygments_lexer": "ipython3",
   "version": "3.12.2"
  }
 },
 "nbformat": 4,
 "nbformat_minor": 5
}
