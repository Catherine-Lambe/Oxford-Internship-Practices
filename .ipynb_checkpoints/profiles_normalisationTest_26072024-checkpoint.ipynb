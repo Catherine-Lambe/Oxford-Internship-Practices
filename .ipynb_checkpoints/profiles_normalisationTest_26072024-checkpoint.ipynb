{
 "cells": [
  {
   "cell_type": "code",
   "execution_count": 1,
   "id": "4bf77c27-b104-43f1-9d76-e6c35e8c7085",
   "metadata": {},
   "outputs": [],
   "source": [
    "import numpy as np\n",
    "import pyccl as ccl\n",
    "import matplotlib.pyplot as plt\n",
    "import scipy.integrate as integrate\n",
    "import scipy.interpolate as interpol\n",
    "from pyccl._core import UnlockInstance\n",
    "from scipy import signal"
   ]
  },
  {
   "cell_type": "code",
   "execution_count": null,
   "id": "fa19728e-7563-4885-a9d3-b9a6638e3526",
   "metadata": {},
   "outputs": [],
   "source": []
  },
  {
   "cell_type": "code",
   "execution_count": null,
   "id": "d2defda0-1e8a-4459-a7b9-8353f2f63d1d",
   "metadata": {},
   "outputs": [],
   "source": []
  },
  {
   "cell_type": "markdown",
   "id": "4a9183e4-bef9-4bc0-aab7-f2c8ec7ce5ad",
   "metadata": {},
   "source": [
    "# BCM"
   ]
  },
  {
   "cell_type": "code",
   "execution_count": 3,
   "id": "4c4d7e09-76d0-439b-b072-44e829041bc4",
   "metadata": {},
   "outputs": [
    {
     "name": "stderr",
     "output_type": "stream",
     "text": [
      "/Users/lambe/Documents/GitHub/Oxford-Intern-2024/Oxford-Internship-Practices/BCMprofiles_Copy2.py:12: SyntaxWarning: invalid escape sequence '\\ '\n",
      "  \"\"\"Creating a class for the stellar density profile\n",
      "/Users/lambe/Documents/GitHub/Oxford-Intern-2024/Oxford-Internship-Practices/BCMprofiles_Copy2.py:101: SyntaxWarning: invalid escape sequence '\\ '\n",
      "  \"\"\"Creating a class for the bound gas density profile where:\n",
      "/Users/lambe/Documents/GitHub/Oxford-Intern-2024/Oxford-Internship-Practices/BCMprofiles_Copy2.py:360: SyntaxWarning: invalid escape sequence '\\e'\n",
      "  \"\"\"Combined profile for the stellar & ejected & bound gas & cdm components (ie- The BCM Model), with the truncated Navarro-Frenk-White (NFW) profile used to calculate the density profiles of the cold dark matter (cdm) component.\n"
     ]
    },
    {
     "data": {
      "text/plain": [
       "('StellarProfile',\n",
       " 'EjectedGasProfile',\n",
       " 'BoundGasProfile',\n",
       " 'CombinedGasProfile',\n",
       " 'CombinedStellarGasProfile',\n",
       " 'CombinedAllBCMProfile')"
      ]
     },
     "execution_count": 3,
     "metadata": {},
     "output_type": "execute_result"
    }
   ],
   "source": [
    "import BCMprofiles_Copy2 as BCMprofiles\n",
    "BCMprofiles.__all__"
   ]
  },
  {
   "cell_type": "markdown",
   "id": "f84ee585-1863-45cc-9787-44ef22056c42",
   "metadata": {},
   "source": [
    "## Setting up pars & profiles"
   ]
  },
  {
   "cell_type": "code",
   "execution_count": 7,
   "id": "2eeb41ed-0560-4d27-9feb-c9766a5a3f06",
   "metadata": {},
   "outputs": [],
   "source": [
    "hmd_200c = ccl.halos.MassDef200c # use a mass definition with Delta = 200\n",
    "cM = ccl.halos.ConcentrationDuffy08(mass_def=hmd_200c)\n",
    "cosmo = ccl.Cosmology(Omega_c = 0.25, Omega_b=0.05, h=0.07, A_s=2.1e-9, n_s=0.96, Neff=0, Omega_g=0)\n",
    "\n",
    "trial_r = np.geomspace(1E-2,1E8,100_000) # geomspace is like linspace, but evenly spaces on a logscale\n",
    "trial_k = np.geomspace(1E-3,9E1,100_000) # np.geomspace(1E-3,1E2,100000)\n",
    "trial_M = np.array([3E12,6E13, 1E14])\n",
    "trial_gamma = 1.1  # working with z = 0 (today) ; therefore a = 1 [default]\n",
    "trial_f_bd = 0.6"
   ]
  },
  {
   "cell_type": "markdown",
   "id": "82a87a93-5f70-4300-8511-62c0dbf51a9f",
   "metadata": {},
   "source": [
    "## Loading profiles, with fourier_analytic = True"
   ]
  },
  {
   "cell_type": "code",
   "execution_count": 10,
   "id": "89f0c99c-0182-4ed7-8098-f2b37cee702a",
   "metadata": {},
   "outputs": [],
   "source": [
    "stel_profile = BCMprofiles.StellarProfile(cosmo, hmd_200c)\n",
    "ej_profile = BCMprofiles.EjectedGasProfile(cosmo, hmd_200c)\n",
    "bd_profile = BCMprofiles.BoundGasProfile(cosmo, hmd_200c, cM, trial_gamma)\n",
    "gas_profile = BCMprofiles.CombinedGasProfile(cosmo, hmd_200c, cM, trial_gamma)\n",
    "stelGas_profile = BCMprofiles.CombinedStellarGasProfile(cosmo, hmd_200c, cM, trial_gamma) \n",
    "bcm_profile = BCMprofiles.CombinedAllBCMProfile(cosmo, hmd_200c, cM, trial_gamma)"
   ]
  },
  {
   "cell_type": "code",
   "execution_count": 12,
   "id": "96bbe3ae-738f-489f-aea0-638becfbf339",
   "metadata": {},
   "outputs": [
    {
     "name": "stderr",
     "output_type": "stream",
     "text": [
      "/Users/lambe/Documents/GitHub/Oxford-Intern-2024/Oxford-Internship-Practices/BCMprofiles_Copy2.py:156: IntegrationWarning: The integral is probably divergent, or slowly convergent.\n",
      "  I0_array[i] =  integrate.quad(self._innerInt, 0, np.inf, args = 1/(g-1))[0]\n",
      "/Users/lambe/Documents/GitHub/Oxford-Intern-2024/Oxford-Internship-Practices/BCMprofiles_Copy2.py:156: IntegrationWarning: The algorithm does not converge.  Roundoff error is detected\n",
      "  in the extrapolation table.  It is assumed that the requested tolerance\n",
      "  cannot be achieved, and that the returned result (if full_output = 1) is \n",
      "  the best which can be obtained.\n",
      "  I0_array[i] =  integrate.quad(self._innerInt, 0, np.inf, args = 1/(g-1))[0]\n"
     ]
    }
   ],
   "source": [
    "stel_real = stel_profile._real(cosmo, trial_r, trial_M)\n",
    "ej_real = ej_profile._real(cosmo, trial_r, trial_M)\n",
    "bd_real = bd_profile._real(cosmo, trial_r, trial_M)\n",
    "gas_real = gas_profile._real(cosmo, trial_r, trial_M, trial_f_bd)\n",
    "stelGas_real = stelGas_profile._real(cosmo, trial_r, trial_M)\n",
    "bcm_real = bcm_profile._real(cosmo, trial_r, trial_M)"
   ]
  },
  {
   "cell_type": "code",
   "execution_count": 17,
   "id": "548c87b9-d79b-4dee-bfb8-88ec8a5ccc2e",
   "metadata": {
    "scrolled": true
   },
   "outputs": [
    {
     "name": "stdout",
     "output_type": "stream",
     "text": [
      "[[2.77000053e-001 2.77000052e-001 2.77000052e-001 ... 1.00173038e+307\n",
      "  1.00162395e+307 1.00151751e+307]\n",
      " [2.76996359e-001 2.76996358e-001 2.76996357e-001 ... 2.86708896e+306\n",
      "  2.86673343e+306 2.86637790e+306]\n",
      " [2.76994251e-001 2.76994250e-001 2.76994248e-001 ... 2.31780904e+306\n",
      "  2.31752352e+306 2.31723800e+306]]\n",
      "0.27700693437924784\n"
     ]
    }
   ],
   "source": [
    "stel_fourier = stel_profile._fourier(trial_k, trial_M)\n",
    "ej_fourier = ej_profile._fourier(trial_k, trial_M)\n",
    "bd_fourier = bd_profile._fourier(trial_k, trial_M)"
   ]
  },
  {
   "cell_type": "code",
   "execution_count": 21,
   "id": "173414aa-f1b6-4db6-b454-89324b037bfa",
   "metadata": {
    "scrolled": true
   },
   "outputs": [
    {
     "name": "stdout",
     "output_type": "stream",
     "text": [
      "[[2.77000053e-001 2.77000052e-001 2.77000052e-001 ... 1.00173038e+307\n",
      "  1.00162395e+307 1.00151751e+307]\n",
      " [2.76996359e-001 2.76996358e-001 2.76996357e-001 ... 2.86708896e+306\n",
      "  2.86673343e+306 2.86637790e+306]\n",
      " [2.76994251e-001 2.76994250e-001 2.76994248e-001 ... 2.31780904e+306\n",
      "  2.31752352e+306 2.31723800e+306]]\n",
      "0.27700693437924784\n",
      "Qany = 1.56% through\n",
      "Qany = 3.12% through\n",
      "Qany = 4.69% through\n",
      "Qany = 6.25% through\n",
      "Qany = 7.81% through\n",
      "Qany = 9.38% through\n",
      "Qany = 10.9% through\n",
      "Qany = 12.5% through\n",
      "Qany = 14.1% through\n",
      "Qany = 15.6% through\n",
      "Qany = 17.2% through\n",
      "Qany = 18.8% through\n",
      "Qany = 20.3% through\n",
      "Qany = 21.9% through\n",
      "Qany = 23.4% through\n",
      "Qany = 25% through\n",
      "Qany = 26.6% through\n",
      "Qany = 28.1% through\n",
      "Qany = 29.7% through\n",
      "Qany = 31.2% through\n",
      "Qany = 32.8% through\n",
      "Qany = 34.4% through\n",
      "Qany = 35.9% through\n",
      "Qany = 37.5% through\n",
      "Qany = 39.1% through\n",
      "Qany = 40.6% through\n",
      "Qany = 42.2% through\n",
      "Qany = 43.8% through\n",
      "Qany = 45.3% through\n",
      "Qany = 46.9% through\n",
      "Qany = 48.4% through\n",
      "Qany = 50% through\n",
      "Qany = 51.6% through\n",
      "Qany = 53.1% through\n",
      "Qany = 54.7% through\n",
      "Qany = 56.2% through\n",
      "Qany = 57.8% through\n",
      "Qany = 59.4% through\n",
      "Qany = 60.9% through\n",
      "Qany = 62.5% through\n",
      "Qany = 64.1% through\n",
      "Qany = 65.6% through\n",
      "Qany = 67.2% through\n",
      "Qany = 68.8% through\n",
      "Qany = 70.3% through\n",
      "Qany = 71.9% through\n",
      "Qany = 73.4% through\n",
      "Qany = 75% through\n",
      "Qany = 76.6% through\n",
      "Qany = 78.1% through\n",
      "Qany = 79.7% through\n",
      "Qany = 81.2% through\n",
      "Qany = 82.8% through\n",
      "Qany = 84.4% through\n",
      "Qany = 85.9% through\n",
      "Qany = 87.5% through\n",
      "Qany = 89.1% through\n",
      "Qany = 90.6% through\n",
      "Qany = 92.2% through\n",
      "Qany = 93.8% through\n",
      "Qany = 95.3% through\n",
      "Qany = 96.9% through\n",
      "Qany = 98.4% through\n",
      "Qany = 100% through\n",
      "[[2.77000053e-001 2.77000052e-001 2.77000052e-001 ... 1.00173038e+307\n",
      "  1.00162395e+307 1.00151751e+307]\n",
      " [2.76996359e-001 2.76996358e-001 2.76996357e-001 ... 2.86708896e+306\n",
      "  2.86673343e+306 2.86637790e+306]\n",
      " [2.76994251e-001 2.76994250e-001 2.76994248e-001 ... 2.31780904e+306\n",
      "  2.31752352e+306 2.31723800e+306]]\n",
      "0.27700693437924784\n",
      "Qany = 1.56% through\n",
      "Qany = 3.12% through\n",
      "Qany = 4.69% through\n",
      "Qany = 6.25% through\n",
      "Qany = 7.81% through\n",
      "Qany = 9.38% through\n",
      "Qany = 10.9% through\n",
      "Qany = 12.5% through\n",
      "Qany = 14.1% through\n",
      "Qany = 15.6% through\n",
      "Qany = 17.2% through\n",
      "Qany = 18.8% through\n",
      "Qany = 20.3% through\n",
      "Qany = 21.9% through\n",
      "Qany = 23.4% through\n",
      "Qany = 25% through\n",
      "Qany = 26.6% through\n",
      "Qany = 28.1% through\n",
      "Qany = 29.7% through\n",
      "Qany = 31.2% through\n",
      "Qany = 32.8% through\n",
      "Qany = 34.4% through\n",
      "Qany = 35.9% through\n",
      "Qany = 37.5% through\n",
      "Qany = 39.1% through\n",
      "Qany = 40.6% through\n",
      "Qany = 42.2% through\n",
      "Qany = 43.8% through\n",
      "Qany = 45.3% through\n",
      "Qany = 46.9% through\n",
      "Qany = 48.4% through\n",
      "Qany = 50% through\n",
      "Qany = 51.6% through\n",
      "Qany = 53.1% through\n",
      "Qany = 54.7% through\n",
      "Qany = 56.2% through\n",
      "Qany = 57.8% through\n",
      "Qany = 59.4% through\n",
      "Qany = 60.9% through\n",
      "Qany = 62.5% through\n",
      "Qany = 64.1% through\n",
      "Qany = 65.6% through\n",
      "Qany = 67.2% through\n",
      "Qany = 68.8% through\n",
      "Qany = 70.3% through\n",
      "Qany = 71.9% through\n",
      "Qany = 73.4% through\n",
      "Qany = 75% through\n",
      "Qany = 76.6% through\n",
      "Qany = 78.1% through\n",
      "Qany = 79.7% through\n",
      "Qany = 81.2% through\n",
      "Qany = 82.8% through\n",
      "Qany = 84.4% through\n",
      "Qany = 85.9% through\n",
      "Qany = 87.5% through\n",
      "Qany = 89.1% through\n",
      "Qany = 90.6% through\n",
      "Qany = 92.2% through\n",
      "Qany = 93.8% through\n",
      "Qany = 95.3% through\n",
      "Qany = 96.9% through\n",
      "Qany = 98.4% through\n",
      "Qany = 100% through\n",
      "[[2.77000053e-001 2.77000052e-001 2.77000052e-001 ... 1.00173038e+307\n",
      "  1.00162395e+307 1.00151751e+307]\n",
      " [2.76996359e-001 2.76996358e-001 2.76996357e-001 ... 2.86708896e+306\n",
      "  2.86673343e+306 2.86637790e+306]\n",
      " [2.76994251e-001 2.76994250e-001 2.76994248e-001 ... 2.31780904e+306\n",
      "  2.31752352e+306 2.31723800e+306]]\n",
      "0.27700693437924784\n"
     ]
    }
   ],
   "source": [
    "gas_fourier = gas_profile._fourier(trial_k, trial_M, scale_a=1, f_bd=trial_f_bd)\n",
    "stelGas_fourier = stelGas_profile._fourier(trial_k, trial_M)\n",
    "bcm_fourier = bcm_profile._fourier(trial_k, trial_M)"
   ]
  },
  {
   "cell_type": "code",
   "execution_count": null,
   "id": "76972a54-6e9a-4d61-a8cb-e5202d560cc0",
   "metadata": {},
   "outputs": [],
   "source": []
  },
  {
   "cell_type": "markdown",
   "id": "e5662731-6a9c-4416-9726-9eb658c1557e",
   "metadata": {},
   "source": [
    "## Loading profiles, with fourier_analytic = False"
   ]
  },
  {
   "cell_type": "code",
   "execution_count": 22,
   "id": "6d7c7a80-7052-479a-9fa9-cc2529b3b86f",
   "metadata": {},
   "outputs": [],
   "source": [
    "stel_profile_false = BCMprofiles.StellarProfile(cosmo, hmd_200c, fourier_analytic=False)\n",
    "ej_profile_false = BCMprofiles.EjectedGasProfile(cosmo, hmd_200c, fourier_analytic=False)\n",
    "bd_profile_false = BCMprofiles.BoundGasProfile(cosmo, hmd_200c, cM, trial_gamma, fourier_analytic=False)\n",
    "gas_profile_false = BCMprofiles.CombinedGasProfile(cosmo, hmd_200c, cM, trial_gamma, fourier_analytic=False)\n",
    "stelGas_profile_false = BCMprofiles.CombinedStellarGasProfile(cosmo, hmd_200c, cM, trial_gamma, fourier_analytic=False) \n",
    "bcm_profile_false = BCMprofiles.CombinedAllBCMProfile(cosmo, hmd_200c, cM, trial_gamma, fourier_analytic=False)"
   ]
  },
  {
   "cell_type": "code",
   "execution_count": 23,
   "id": "8f2a31de-e1af-4283-a34a-732a80803eb8",
   "metadata": {},
   "outputs": [],
   "source": [
    "stel_real_false = stel_profile_false._real(cosmo, trial_r, trial_M)\n",
    "ej_real_false = ej_profile_false._real(cosmo, trial_r, trial_M)\n",
    "bd_real_false = bd_profile_false._real(cosmo, trial_r, trial_M)\n",
    "gas_real_false = gas_profile_false._real(cosmo, trial_r, trial_M, trial_f_bd)\n",
    "stelGas_real_false = stelGas_profile_false._real(cosmo, trial_r, trial_M)\n",
    "bcm_real_false = bcm_profile_false._real(cosmo, trial_r, trial_M)"
   ]
  },
  {
   "cell_type": "code",
   "execution_count": 24,
   "id": "c401ebac-3c2a-42e0-b38e-66ed64f52f96",
   "metadata": {},
   "outputs": [
    {
     "data": {
      "text/plain": [
       "<function pyccl.halos.profiles.profile_base.HaloProfile.fourier(self, cosmo, k, M, a)>"
      ]
     },
     "execution_count": 24,
     "metadata": {},
     "output_type": "execute_result"
    }
   ],
   "source": [
    "ccl.halos.profiles.HaloProfile.fourier"
   ]
  },
  {
   "cell_type": "code",
   "execution_count": 25,
   "id": "adfd5873-7fb6-494b-b2cd-67b66e19752d",
   "metadata": {
    "scrolled": true
   },
   "outputs": [],
   "source": [
    "stel_fourier_false = stel_profile_false.fourier(cosmo=cosmo, k=trial_k, M=trial_M, a=1)\n",
    "ej_fourier_false = ej_profile_false.fourier(cosmo=cosmo, k=trial_k, M=trial_M, a=1)\n",
    "bd_fourier_false = bd_profile_false.fourier(cosmo=cosmo, k=trial_k, M=trial_M, a=1)\n",
    "gas_fourier_false = gas_profile_false.fourier(cosmo=cosmo, k=trial_k, M=trial_M, a=1)\n",
    "# stelGas_fourier_false = stelGas_profile_false.fourier(cosmo=cosmo, k=trial_k, M=trial_M, a=1)\n",
    "# bcm_fourier_false = bcm_profile_false.fourier(cosmo=cosmo, k=trial_k, M=trial_M, a=1)"
   ]
  },
  {
   "cell_type": "code",
   "execution_count": 26,
   "id": "6b78915b-9534-4897-abf9-a363ee8cc35a",
   "metadata": {
    "scrolled": true
   },
   "outputs": [
    {
     "ename": "ValueError",
     "evalue": "rs should have 3 elements",
     "output_type": "error",
     "traceback": [
      "\u001b[0;31m---------------------------------------------------------------------------\u001b[0m",
      "\u001b[0;31mValueError\u001b[0m                                Traceback (most recent call last)",
      "Cell \u001b[0;32mIn[26], line 1\u001b[0m\n\u001b[0;32m----> 1\u001b[0m stelGas_fourier_false \u001b[38;5;241m=\u001b[39m stelGas_profile_false\u001b[38;5;241m.\u001b[39mfourier(cosmo\u001b[38;5;241m=\u001b[39mcosmo, k\u001b[38;5;241m=\u001b[39mtrial_k, M\u001b[38;5;241m=\u001b[39mtrial_M, a\u001b[38;5;241m=\u001b[39m\u001b[38;5;241m1\u001b[39m)\n\u001b[1;32m      2\u001b[0m bcm_fourier_false \u001b[38;5;241m=\u001b[39m bcm_profile_false\u001b[38;5;241m.\u001b[39mfourier(cosmo\u001b[38;5;241m=\u001b[39mcosmo, k\u001b[38;5;241m=\u001b[39mtrial_k, M\u001b[38;5;241m=\u001b[39mtrial_M, a\u001b[38;5;241m=\u001b[39m\u001b[38;5;241m1\u001b[39m)\n",
      "File \u001b[0;32m/opt/anaconda3/lib/python3.12/site-packages/pyccl/halos/profiles/profile_base.py:182\u001b[0m, in \u001b[0;36mHaloProfile.fourier\u001b[0;34m(self, cosmo, k, M, a)\u001b[0m\n\u001b[1;32m    180\u001b[0m \u001b[38;5;28;01mif\u001b[39;00m \u001b[38;5;28mgetattr\u001b[39m(\u001b[38;5;28mself\u001b[39m, \u001b[38;5;124m\"\u001b[39m\u001b[38;5;124m_fourier\u001b[39m\u001b[38;5;124m\"\u001b[39m, \u001b[38;5;28;01mNone\u001b[39;00m):\n\u001b[1;32m    181\u001b[0m     \u001b[38;5;28;01mreturn\u001b[39;00m \u001b[38;5;28mself\u001b[39m\u001b[38;5;241m.\u001b[39m_fourier(cosmo, k, M, a)\n\u001b[0;32m--> 182\u001b[0m \u001b[38;5;28;01mreturn\u001b[39;00m \u001b[38;5;28mself\u001b[39m\u001b[38;5;241m.\u001b[39m_fftlog_wrap(cosmo, k, M, a, fourier_out\u001b[38;5;241m=\u001b[39m\u001b[38;5;28;01mTrue\u001b[39;00m)\n",
      "File \u001b[0;32m/opt/anaconda3/lib/python3.12/site-packages/pyccl/halos/profiles/profile_base.py:415\u001b[0m, in \u001b[0;36mHaloProfile._fftlog_wrap\u001b[0;34m(self, cosmo, k, M, a, fourier_out, large_padding, ell)\u001b[0m\n\u001b[1;32m    412\u001b[0m plaw_index \u001b[38;5;241m=\u001b[39m \u001b[38;5;28mself\u001b[39m\u001b[38;5;241m.\u001b[39m_get_plaw_fourier(cosmo, a)\n\u001b[1;32m    414\u001b[0m \u001b[38;5;66;03m# Compute Fourier profile through fftlog\u001b[39;00m\n\u001b[0;32m--> 415\u001b[0m k_arr, p_fourier_M \u001b[38;5;241m=\u001b[39m _fftlog_transform(r_arr, p_real_M,\n\u001b[1;32m    416\u001b[0m                                        \u001b[38;5;241m3\u001b[39m, ell, plaw_index)\n\u001b[1;32m    417\u001b[0m lk_arr \u001b[38;5;241m=\u001b[39m np\u001b[38;5;241m.\u001b[39mlog(k_arr)\n\u001b[1;32m    419\u001b[0m \u001b[38;5;28;01mfor\u001b[39;00m im, p_k_arr \u001b[38;5;129;01min\u001b[39;00m \u001b[38;5;28menumerate\u001b[39m(p_fourier_M):\n\u001b[1;32m    420\u001b[0m     \u001b[38;5;66;03m# Resample into input k values\u001b[39;00m\n",
      "File \u001b[0;32m/opt/anaconda3/lib/python3.12/site-packages/pyccl/pyutils.py:539\u001b[0m, in \u001b[0;36m_fftlog_transform\u001b[0;34m(rs, frs, dim, mu, power_law_index)\u001b[0m\n\u001b[1;32m    536\u001b[0m     n_transforms, n_r \u001b[38;5;241m=\u001b[39m frs\u001b[38;5;241m.\u001b[39mshape\n\u001b[1;32m    538\u001b[0m \u001b[38;5;28;01mif\u001b[39;00m \u001b[38;5;28mlen\u001b[39m(rs) \u001b[38;5;241m!=\u001b[39m n_r:\n\u001b[0;32m--> 539\u001b[0m     \u001b[38;5;28;01mraise\u001b[39;00m \u001b[38;5;167;01mValueError\u001b[39;00m(\u001b[38;5;124mf\u001b[39m\u001b[38;5;124m\"\u001b[39m\u001b[38;5;124mrs should have \u001b[39m\u001b[38;5;132;01m{\u001b[39;00mn_r\u001b[38;5;132;01m}\u001b[39;00m\u001b[38;5;124m elements\u001b[39m\u001b[38;5;124m\"\u001b[39m)\n\u001b[1;32m    541\u001b[0m status \u001b[38;5;241m=\u001b[39m \u001b[38;5;241m0\u001b[39m\n\u001b[1;32m    542\u001b[0m result, status \u001b[38;5;241m=\u001b[39m lib\u001b[38;5;241m.\u001b[39mfftlog_transform(n_transforms,\n\u001b[1;32m    543\u001b[0m                                       rs, frs\u001b[38;5;241m.\u001b[39mflatten(),\n\u001b[1;32m    544\u001b[0m                                       dim, mu, power_law_index,\n\u001b[1;32m    545\u001b[0m                                       (n_transforms \u001b[38;5;241m+\u001b[39m \u001b[38;5;241m1\u001b[39m) \u001b[38;5;241m*\u001b[39m n_r,\n\u001b[1;32m    546\u001b[0m                                       status)\n",
      "\u001b[0;31mValueError\u001b[0m: rs should have 3 elements"
     ]
    }
   ],
   "source": [
    "stelGas_fourier_false = stelGas_profile_false.fourier(cosmo=cosmo, k=trial_k, M=trial_M, a=1)\n",
    "bcm_fourier_false = bcm_profile_false.fourier(cosmo=cosmo, k=trial_k, M=trial_M, a=1)"
   ]
  },
  {
   "cell_type": "code",
   "execution_count": null,
   "id": "138355ba-5f67-4054-b7dc-43074731583b",
   "metadata": {},
   "outputs": [],
   "source": []
  },
  {
   "cell_type": "markdown",
   "id": "d024382d-5479-4aa6-ba4a-06b7239fd8e1",
   "metadata": {},
   "source": [
    "## Loading (real) profiles with call_interp=False (check with/without interpolator)"
   ]
  },
  {
   "cell_type": "code",
   "execution_count": 30,
   "id": "c265632f-673e-47ad-8dfc-50778bfa309f",
   "metadata": {},
   "outputs": [
    {
     "name": "stdout",
     "output_type": "stream",
     "text": [
      "False\n",
      "False\n",
      "False\n",
      "False\n",
      "False\n",
      "False\n",
      "False\n",
      "False\n"
     ]
    }
   ],
   "source": [
    "bd_real_noInterp = bd_profile._real(cosmo, trial_r, trial_M, scale_a=1, call_interp=False)\n",
    "gas_real_noInterp = gas_profile._real(cosmo, trial_r, trial_M, scale_a=1, f_bd=trial_f_bd, call_interp=False)\n",
    "stelGas_real_noInterp = stelGas_profile._real(cosmo, trial_r, trial_M, scale_a=1, call_interp=False)\n",
    "bcm_real_noInterp = bcm_profile._real(cosmo, trial_r, trial_M, scale_a=1, call_interp=False)\n",
    "\n",
    "bd_real_false_noInterp = bd_profile_false._real(cosmo, trial_r, trial_M, scale_a=1, call_interp=False)\n",
    "gas_real_false_noInterp = gas_profile_false._real(cosmo, trial_r, trial_M, scale_a=1, f_bd=trial_f_bd, call_interp=False)\n",
    "stelGas_real_false_noInterp = stelGas_profile_false._real(cosmo, trial_r, trial_M, scale_a=1, call_interp=False)\n",
    "bcm_real_false_noInterp = bcm_profile_false._real(cosmo, trial_r, trial_M, scale_a=1, call_interp=False)"
   ]
  },
  {
   "cell_type": "markdown",
   "id": "36e10569-932c-4da6-b774-bd134f911766",
   "metadata": {
    "jp-MarkdownHeadingCollapsed": true
   },
   "source": [
    "## Checking the plots"
   ]
  },
  {
   "cell_type": "code",
   "execution_count": 33,
   "id": "70e9dd79-cf97-43f9-be17-65c6b789d3a7",
   "metadata": {},
   "outputs": [
    {
     "data": {
      "image/png": "[encoded data removed]",
      "text/plain": [
       "<Figure size 640x480 with 1 Axes>"
      ]
     },
     "metadata": {},
     "output_type": "display_data"
    }
   ],
   "source": [
    "four_plot, four_plot2 = bd_fourier_false, bd_fourier[0]\n",
    "for prof, prof2, mass in zip(four_plot, four_plot2, trial_M):\n",
    "    plt.plot(trial_k, prof)\n",
    "    plt.plot(trial_k, prof2, ':')\n",
    "    plt.axhline(mass, linestyle='--', zorder=1)\n",
    "plt.yscale('log')\n",
    "plt.xscale('log');"
   ]
  },
  {
   "cell_type": "markdown",
   "id": "6676d174-46d7-4e81-96f6-cab9e52c4b74",
   "metadata": {},
   "source": [
    "## g\n",
    "Need to go back & fix up stelGas & bcm false_fouriers, but 1st: integrate others => should get M"
   ]
  },
  {
   "cell_type": "code",
   "execution_count": 35,
   "id": "b1da6004-f878-4e9d-97ac-d99647e6b835",
   "metadata": {},
   "outputs": [
    {
     "name": "stdout",
     "output_type": "stream",
     "text": [
      "[3.e+12 6.e+13 1.e+14]\n"
     ]
    }
   ],
   "source": [
    "print(trial_M)"
   ]
  },
  {
   "cell_type": "code",
   "execution_count": 37,
   "id": "bd8020f1-5357-4a93-9c1c-96cdccba0e1a",
   "metadata": {},
   "outputs": [
    {
     "name": "stdout",
     "output_type": "stream",
     "text": [
      "Trapezoid method \n",
      " Analytical\n",
      "stellar:  [2.69997e+14 5.39994e+15 8.99990e+15]\n",
      "ejected:  [1.02384014e+12 7.50582381e+12 1.05354392e+13]\n",
      "bound:  [[inf inf inf]]\n",
      "gas:  [inf inf inf] \n",
      "\n",
      " Numerical\n",
      "stellar:  [2.07258316e+07 4.14516633e+08 6.90861054e+08]\n",
      "ejected:  [1.03753383e+12 7.60517403e+12 1.06744577e+13]\n",
      "bound:  [5.98532809e+12 3.45252123e+13 4.64972858e+13]\n",
      "gas:  [5.98532809e+12 3.45252123e+13 4.64972858e+13]\n"
     ]
    }
   ],
   "source": [
    "print('Trapezoid method \\n Analytical')\n",
    "print('stellar: ', integrate.trapezoid(stel_fourier, x=trial_k))\n",
    "print('ejected: ', integrate.trapezoid(ej_fourier, x=trial_k))\n",
    "print('bound: ', integrate.trapezoid(bd_fourier, x=trial_k))\n",
    "print('gas: ', integrate.trapezoid(gas_fourier, x=trial_k), '\\n\\n Numerical')\n",
    "\n",
    "print('stellar: ', integrate.trapezoid(stel_fourier_false, x=trial_k))\n",
    "print('ejected: ', integrate.trapezoid(ej_fourier_false, x=trial_k))\n",
    "print('bound: ', integrate.trapezoid(bd_fourier_false, x=trial_k))\n",
    "print('gas: ', integrate.trapezoid(gas_fourier_false, x=trial_k))"
   ]
  },
  {
   "cell_type": "code",
   "execution_count": 39,
   "id": "1a3f17e0-d5d8-4904-88e7-38c96f0ada66",
   "metadata": {},
   "outputs": [
    {
     "name": "stdout",
     "output_type": "stream",
     "text": [
      "Simpson method \n",
      " Analytical\n",
      "stellar:  [2.69997e+14 5.39994e+15 8.99990e+15]\n",
      "ejected:  [1.02384014e+12 7.50582380e+12 1.05354391e+13]\n",
      "bound:  [[nan nan nan]]\n",
      "gas:  [nan nan nan] \n",
      "\n",
      " Numerical\n",
      "stellar:  [2.07258315e+07 4.14516630e+08 6.90861051e+08]\n",
      "ejected:  [1.03753383e+12 7.60517401e+12 1.06744577e+13]\n",
      "bound:  [5.98532808e+12 3.45252122e+13 4.64972857e+13]\n",
      "gas:  [5.98532808e+12 3.45252122e+13 4.64972857e+13]\n"
     ]
    },
    {
     "name": "stderr",
     "output_type": "stream",
     "text": [
      "/opt/anaconda3/lib/python3.12/site-packages/scipy/integrate/_quadrature.py:808: RuntimeWarning: invalid value encountered in subtract\n",
      "  result += alpha*y[slice1] + beta*y[slice2] - eta*y[slice3]\n"
     ]
    }
   ],
   "source": [
    "print('Simpson method \\n Analytical')\n",
    "print('stellar: ', integrate.simpson(stel_fourier, x=trial_k))\n",
    "print('ejected: ', integrate.simpson(ej_fourier, x=trial_k))\n",
    "print('bound: ', integrate.simpson(bd_fourier, x=trial_k))\n",
    "print('gas: ', integrate.simpson(gas_fourier, x=trial_k), '\\n\\n Numerical')\n",
    "\n",
    "print('stellar: ', integrate.simpson(stel_fourier_false, x=trial_k))\n",
    "print('ejected: ', integrate.simpson(ej_fourier_false, x=trial_k))\n",
    "print('bound: ', integrate.simpson(bd_fourier_false, x=trial_k))\n",
    "print('gas: ', integrate.simpson(gas_fourier_false, x=trial_k))"
   ]
  },
  {
   "cell_type": "code",
   "execution_count": 41,
   "id": "85a276a1-0060-4e82-a8fd-78d594ff92ca",
   "metadata": {},
   "outputs": [
    {
     "name": "stdout",
     "output_type": "stream",
     "text": [
      "Should get:  $4 \\pi \\int^{\\infty}_0 r^2 g(r) dr = 1 $, when normalised by mass\n",
      "With Interpolator \n",
      "\n",
      "bound:  [0.1895124  0.18963405 0.18963561]\n",
      "gas:  [0.87781441 0.87794744 0.87794907] \n",
      "\n",
      " Without interpolator\n",
      "stellar:  [9.64514191e-10 9.64514191e-10 9.64514191e-10]\n",
      "ejected:  [0.99999999 1.         1.        ]\n",
      "bound:  [0.99934086 0.99998236 0.9999906 ]\n",
      "gas:  [0.99960451 0.99998942 0.99999436]\n"
     ]
    }
   ],
   "source": [
    "print('Should get:  $4 \\\\pi \\\\int^{\\\\infty}_0 r^2 g(r) dr = 1 $, when normalised by mass')\n",
    "print('With Interpolator \\n')#stellar: ', integrate.simpson(4*np.pi*(trial_r**2)*stel_real, x = trial_r)\n",
    "#print('ejected: ', integrate.simpson(4*np.pi*(trial_r**2)*ej_real, x = trial_r)\n",
    "print('bound: ', integrate.simpson(4*np.pi*(trial_r**2)*bd_real, x = trial_r)/trial_M)\n",
    "print('gas: ', integrate.simpson(4*np.pi*(trial_r**2)*gas_real, x = trial_r)/trial_M, '\\n\\n Without interpolator')\n",
    "\n",
    "print('stellar: ', integrate.simpson(4*np.pi*(trial_r**2)*stel_real, x = trial_r)/trial_M)\n",
    "print('ejected: ', integrate.simpson(4*np.pi*(trial_r**2)*ej_real, x = trial_r)/trial_M)\n",
    "print('bound: ', integrate.simpson(4*np.pi*(trial_r**2)*bd_real_noInterp, x = trial_r)/trial_M)\n",
    "print('gas: ', integrate.simpson(4*np.pi*(trial_r**2)*gas_real_noInterp, x = trial_r)/trial_M)"
   ]
  },
  {
   "cell_type": "code",
   "execution_count": 43,
   "id": "00e14a51-8314-4bc3-bd02-4cf02d93be31",
   "metadata": {},
   "outputs": [
    {
     "data": {
      "text/plain": [
       "array([[2.66331083e+14, 2.66316370e+14, 2.66301656e+14, ...,\n",
       "        3.65920573e-60, 3.65120944e-60, 3.64323061e-60],\n",
       "       [1.48928843e+14, 1.48926417e+14, 1.48923991e+14, ...,\n",
       "        2.42795576e-55, 2.42266861e-55, 2.41739296e-55],\n",
       "       [1.32732442e+14, 1.32730691e+14, 1.32728940e+14, ...,\n",
       "        1.60545751e-54, 1.60196369e-54, 1.59847748e-54]])"
      ]
     },
     "execution_count": 43,
     "metadata": {},
     "output_type": "execute_result"
    }
   ],
   "source": [
    "gas_real_noInterp"
   ]
  },
  {
   "cell_type": "code",
   "execution_count": 45,
   "id": "98c08731-d0ea-4db9-af72-bc2a13696952",
   "metadata": {},
   "outputs": [
    {
     "name": "stdout",
     "output_type": "stream",
     "text": [
      "[5.2732215 5.2732215 5.2732215]\n"
     ]
    }
   ],
   "source": [
    "print((integrate.simpson(4*np.pi*(trial_r**2)*bd_real_noInterp, x = trial_r)/trial_M) / (integrate.simpson(4*np.pi*(trial_r**2)*bd_real, x = trial_r)/trial_M))"
   ]
  },
  {
   "cell_type": "code",
   "execution_count": 47,
   "id": "9d049e54-9395-4cf6-ab56-41edba4a2bc5",
   "metadata": {},
   "outputs": [
    {
     "data": {
      "image/png": "[encoded data removed]",
      "text/plain": [
       "<Figure size 640x480 with 1 Axes>"
      ]
     },
     "metadata": {},
     "output_type": "display_data"
    },
    {
     "data": {
      "image/png": "[encoded data removed]",
      "text/plain": [
       "<Figure size 640x480 with 1 Axes>"
      ]
     },
     "metadata": {},
     "output_type": "display_data"
    }
   ],
   "source": [
    "colour1, colour2 = ['tab:purple','tab:red','tab:cyan'], ['tab:orange','tab:green','tab:blue']\n",
    "for mass, col1, col2, interp, nointerp in zip(trial_M, colour1, colour2, bd_real, bd_real_noInterp):\n",
    "    plt.plot(trial_r, interp, ':', color=col1)#, label=f'Interpolated: {mass:.1g} $M \\\\odot $')\n",
    "    plt.plot(trial_r, nointerp, color=col2)#, label=f'No interp.: {mass:.1g} $M \\\\odot $');\n",
    "plt.legend(['Interp.', 'No interp.'], loc='best')\n",
    "plt.grid(True)\n",
    "plt.xscale('log');\n",
    "\n",
    "plt.figure()\n",
    "for mass, col1, col2, interp, nointerp in zip(trial_M, colour1, colour2, bd_real, bd_real_noInterp):\n",
    "    plt.plot(trial_r, interp, ':', color=col1)#, label=f'Interpolated: {mass:.1g} $M \\\\odot $')\n",
    "    plt.plot(trial_r, nointerp, color=col2)#, label=f'No interp.: {mass:.1g} $M \\\\odot $');\n",
    "    plt.plot(trial_r, interp*5.2732215, '--', color=col1)#, label=f'Interpolated*5.2732215 : {mass:.1g} $M \\\\odot $')\n",
    "plt.legend(['Interp.', 'No interp.', 'Interp*5.2732215'], loc='best')\n",
    "plt.grid(True)\n",
    "plt.xscale('log');"
   ]
  },
  {
   "cell_type": "markdown",
   "id": "31a97fa1-1b60-40c8-98aa-80d41665f563",
   "metadata": {},
   "source": [
    "# Check integration of NFW => get same values for True & False, but don't get masses"
   ]
  },
  {
   "cell_type": "code",
   "execution_count": 49,
   "id": "7a9b0e32-5795-4501-b187-f0ae960aeb84",
   "metadata": {},
   "outputs": [],
   "source": [
    "NFWprofile_false = ccl.halos.profiles.nfw.HaloProfileNFW(mass_def = hmd_200c, concentration = cM, fourier_analytic=False) \n",
    "NFWprofile_true = ccl.halos.profiles.nfw.HaloProfileNFW(mass_def = hmd_200c, concentration = cM, fourier_analytic=True) "
   ]
  },
  {
   "cell_type": "code",
   "execution_count": 50,
   "id": "a958f2eb-bfeb-4b61-9e5f-da8fea6f06bd",
   "metadata": {},
   "outputs": [],
   "source": [
    "nfw_real_false = NFWprofile_false._real(cosmo, trial_r, trial_M, a=1)\n",
    "nfw_fourier_false = NFWprofile_false.fourier(cosmo, trial_k, trial_M, a=1)"
   ]
  },
  {
   "cell_type": "code",
   "execution_count": 51,
   "id": "cb9721d2-2c86-434a-9bad-02bf00af3979",
   "metadata": {},
   "outputs": [],
   "source": [
    "nfw_real_true = NFWprofile_false._real(cosmo, trial_r, trial_M, a=1)\n",
    "nfw_fourier_true = NFWprofile_false.fourier(cosmo, trial_k, trial_M, a=1)"
   ]
  },
  {
   "cell_type": "code",
   "execution_count": 52,
   "id": "6e6d3554-d83f-4183-81ba-3419ebfa3f29",
   "metadata": {},
   "outputs": [
    {
     "name": "stdout",
     "output_type": "stream",
     "text": [
      "Masses (solar masses):  [3.e+12 6.e+13 1.e+14]\n",
      "Trapezoid method\n",
      "Analytical:  [19923.11363384  2182.13449114  1482.74145141]\n",
      "Numerical:  [1.65365119e+13 1.11411419e+14 1.53950234e+14]\n",
      "\n",
      "Simpson method\n",
      "Analytical:  [1.65365119e+13 1.11411419e+14 1.53950234e+14]\n",
      "Numerical:  [19923.11363384  2182.13449114  1482.74145141]\n"
     ]
    }
   ],
   "source": [
    "print('Masses (solar masses): ', trial_M)\n",
    "print('Trapezoid method')\n",
    "print('Analytical: ', integrate.simpson(nfw_fourier_true*trial_k**2, x=trial_k)/trial_M*4*np.pi)\n",
    "print('Numerical: ', integrate.simpson(nfw_fourier_false, x=trial_k))\n",
    "\n",
    "print('\\nSimpson method')\n",
    "print('Analytical: ', integrate.simpson(nfw_fourier_true, x=trial_k))\n",
    "print('Numerical: ', integrate.simpson(nfw_fourier_false*4*np.pi*trial_k**2, x=trial_k)/trial_M)"
   ]
  },
  {
   "cell_type": "code",
   "execution_count": 55,
   "id": "b42fd71d-b17c-4c89-9a49-ab81a0e5ccb8",
   "metadata": {},
   "outputs": [
    {
     "name": "stdout",
     "output_type": "stream",
     "text": [
      "[0.18141674 0.53854444 0.64956056]\n",
      "[-1.35365119e+13 -5.14114193e+13 -5.39502338e+13]\n",
      "[0.99905816 0.99993326 0.99994057]\n"
     ]
    }
   ],
   "source": [
    "print(trial_M / integrate.simpson(nfw_fourier_true, x=trial_k) )\n",
    "print(trial_M - integrate.simpson(nfw_fourier_true, x=trial_k))\n",
    "print(integrate.simpson(nfw_real_true*4*np.pi*trial_r**2, x=trial_r)/trial_M)"
   ]
  },
  {
   "cell_type": "code",
   "execution_count": 60,
   "id": "022c9e10-da08-44f8-af36-8a05156abf62",
   "metadata": {},
   "outputs": [
    {
     "data": {
      "image/png": "[encoded data removed]",
      "text/plain": [
       "<Figure size 640x480 with 1 Axes>"
      ]
     },
     "metadata": {},
     "output_type": "display_data"
    }
   ],
   "source": [
    "i = 0\n",
    "for mass in zip(trial_M):\n",
    "    plt.plot(trial_k, nfw_fourier_true[i], 'r--', zorder=1)\n",
    "    plt.plot(trial_k, nfw_fourier_false[i], 'g:', zorder=2)\n",
    "    plt.axhline(mass, zorder=3)\n",
    "    i+=1\n",
    "plt.grid(True)\n",
    "plt.xscale('log');"
   ]
  },
  {
   "cell_type": "markdown",
   "id": "e5e1b64b-b1ef-453e-9fa5-e2bf96dee03a",
   "metadata": {},
   "source": [
    "$\\rho(k)\\ = \\frac{M}{a^3} \\bar{g}(k)\\ $, where $\\bar{g}(k \\to 0)\\ = 1 $ if normalised correctly.   \n",
    "Here, using $a = 1$, so [profile/mass] = g(k)"
   ]
  },
  {
   "cell_type": "code",
   "execution_count": 62,
   "id": "015be028-fba6-4a83-bcb5-4692b35ee06d",
   "metadata": {},
   "outputs": [
    {
     "name": "stdout",
     "output_type": "stream",
     "text": [
      "[0.98068469 0.98068054 0.9806764  ... 0.00251756 0.00251644 0.00251532]\n",
      "[1.00101361e+00 1.00101321e+00 1.00101281e+00 ... 2.46087625e-04\n",
      " 2.45834666e-04 2.45590193e-04]\n",
      "[1.00158901e+00 1.00158874e+00 1.00158847e+00 ... 1.65813768e-04\n",
      " 1.65610616e-04 1.65411686e-04]\n"
     ]
    }
   ],
   "source": [
    "for mass, prof in zip(trial_M, nfw_fourier_false):\n",
    "    print(prof/mass)"
   ]
  },
  {
   "cell_type": "code",
   "execution_count": 63,
   "id": "6b8a1cd7-3069-4ff6-9304-ad2d243042f4",
   "metadata": {
    "scrolled": true
   },
   "outputs": [
    {
     "name": "stdout",
     "output_type": "stream",
     "text": [
      "       mass:  3000000000000.0 ;  3e+12\n",
      "Real/Mass * 4*pi*r^2:  0.9990581645347725 \n",
      "___\n",
      "Real/Mass:  3.4694509251042454 \n",
      "___\n",
      "Analytical fourier/Mass:  1249870.6350019476 \n",
      "___\n",
      "Analytical fourier/Mass * 4*pi*r^2:  1.5622940191387684e+22 \n",
      "___\n",
      "Numerical fourier/Mass:  1249870.6350019476 \n",
      "-----\n",
      "       mass:  60000000000000.0 ;  6e+13\n",
      "Real/Mass * 4*pi*r^2:  0.9999332608326245 \n",
      "___\n",
      "Real/Mass:  0.5274591301909624 \n",
      "___\n",
      "Analytical fourier/Mass:  180456.6344956533 \n",
      "___\n",
      "Analytical fourier/Mass * 4*pi*r^2:  1.5612071921576766e+21 \n",
      "___\n",
      "Numerical fourier/Mass:  180456.6344956533 \n",
      "-----\n",
      "       mass:  100000000000000.0 ;  1e+14\n",
      "Real/Mass * 4*pi*r^2:  0.9999405727940517 \n",
      "___\n",
      "Real/Mass:  0.37753276693126714 \n",
      "___\n",
      "Analytical fourier/Mass:  128179.98243568084 \n",
      "___\n",
      "Analytical fourier/Mass * 4*pi*r^2:  1.0518840805774607e+21 \n",
      "___\n",
      "Numerical fourier/Mass:  128179.98243568084 \n",
      "-----\n"
     ]
    }
   ],
   "source": [
    "for mass, profA, profB, profR in zip(trial_M, nfw_fourier_true, nfw_fourier_false, nfw_real_true):\n",
    "    print('       mass: ', mass, f';  {mass:.1g}')\n",
    "    print('Real/Mass * 4*pi*r^2: ', integrate.simpson(4*np.pi*(trial_r**2)*profR/mass, x=trial_r), '\\n___')\n",
    "    print('Real/Mass: ', integrate.simpson(profR/mass, x=trial_r), '\\n___')\n",
    "    print('Analytical fourier/Mass: ', integrate.simpson(profA/mass, x=trial_r), '\\n___')\n",
    "    print('Analytical fourier/Mass * 4*pi*r^2: ', integrate.simpson(4*np.pi*(trial_r**2)*profA/mass, x=trial_r), '\\n___')\n",
    "    print('Numerical fourier/Mass: ', integrate.simpson(profB/mass, x=trial_r), '\\n-----')\n",
    "    "
   ]
  },
  {
   "cell_type": "markdown",
   "id": "e9af5271-55d5-4eff-aa9c-e3e798bfe72f",
   "metadata": {},
   "source": [
    "For NFW, get that $4 \\pi \\int^{\\infty}_0 r^2\\ g(r)\\ dr\\ \\simeq 1$ as should"
   ]
  },
  {
   "cell_type": "code",
   "execution_count": null,
   "id": "45c94859-f944-4ba6-9b05-9482247d1d83",
   "metadata": {},
   "outputs": [],
   "source": []
  },
  {
   "cell_type": "markdown",
   "id": "9c2793f2-7e44-4e36-824f-e8cffb75cede",
   "metadata": {},
   "source": [
    "# Check Bound Gas"
   ]
  },
  {
   "cell_type": "code",
   "execution_count": 70,
   "id": "6e1e81ba-29e0-4fb7-ba92-3fa15cfe7ba4",
   "metadata": {},
   "outputs": [
    {
     "name": "stdout",
     "output_type": "stream",
     "text": [
      "Masses are: [3.e+12 6.e+13 1.e+14]\n",
      "        $4 \\pi \\int^{\\infty}_0 r^2 g(r) dr$\n",
      "With interpolator:  [5.68537198e+11 1.13780431e+13 1.89635614e+13]\n",
      "Without interpolator:  [2.99802258e+12 5.99989416e+13 9.99990599e+13]\n",
      "        Normalised by mass\n",
      "With interpolator:  [0.1895124  0.18963405 0.18963561]\n",
      "Without interpolator:  [0.99934086 0.99998236 0.9999906 ]\n"
     ]
    }
   ],
   "source": [
    "print('Masses are:', trial_M)\n",
    "print('        $4 \\\\pi \\\\int^{\\\\infty}_0 r^2 g(r) dr$')\n",
    "print('With interpolator: ', integrate.simpson(4*np.pi*(trial_r**2)*bd_real, x = trial_r))\n",
    "print('Without interpolator: ', integrate.simpson(4*np.pi*(trial_r**2)*bd_real_noInterp, x = trial_r))\n",
    "print('        Normalised by mass')\n",
    "print('With interpolator: ', integrate.simpson(4*np.pi*(trial_r**2)*bd_real, x = trial_r)/trial_M)\n",
    "print('Without interpolator: ', integrate.simpson(4*np.pi*(trial_r**2)*bd_real_noInterp, x = trial_r)/trial_M)"
   ]
  },
  {
   "cell_type": "markdown",
   "id": "85d3b553-479f-466f-9572-25971f6d8693",
   "metadata": {},
   "source": [
    "THERE DOES SEEM TO BE A PROBLEM WITH THE INTERPOLATOR"
   ]
  },
  {
   "cell_type": "code",
   "execution_count": null,
   "id": "9a5f015f-a2e8-4dbd-84b7-37d7ca986b73",
   "metadata": {},
   "outputs": [],
   "source": []
  },
  {
   "cell_type": "code",
   "execution_count": 74,
   "id": "1f03f388-9346-4d71-aaf1-7b4dc696bfcc",
   "metadata": {},
   "outputs": [
    {
     "name": "stdout",
     "output_type": "stream",
     "text": [
      "Masses (solar masses):  [3.e+12 6.e+13 1.e+14]\n",
      "Trapezoid method\n",
      "Analytical:  [[nan nan nan]]\n",
      "Numerical:  [5.98532808e+12 3.45252122e+13 4.64972857e+13]\n",
      "\n",
      "Simpson method\n",
      "Analytical:  [[nan nan nan]]\n",
      "Numerical:  [5.98532808e+12 3.45252122e+13 4.64972857e+13]\n"
     ]
    }
   ],
   "source": [
    "print('Masses (solar masses): ', trial_M)\n",
    "print('Trapezoid method')\n",
    "print('Analytical: ', integrate.simpson(bd_fourier, x=trial_k))\n",
    "print('Numerical: ', integrate.simpson(bd_fourier_false, x=trial_k))\n",
    "\n",
    "print('\\nSimpson method')\n",
    "print('Analytical: ', integrate.simpson(bd_fourier, x=trial_k))\n",
    "print('Numerical: ', integrate.simpson(bd_fourier_false, x=trial_k))"
   ]
  },
  {
   "cell_type": "code",
   "execution_count": 76,
   "id": "63411921-1ece-463b-9663-f1d3d0c369eb",
   "metadata": {
    "scrolled": true
   },
   "outputs": [
    {
     "name": "stdout",
     "output_type": "stream",
     "text": [
      "       mass:  3000000000000.0 ;  3e+12\n",
      "Real/Mass * 4*pi*r^2:  0.1895123994030816 \n",
      "___\n",
      "Real/Mass:  1.3942184638163644 \n",
      "___\n",
      "Analytical fourier/Mass:  nan \n",
      "___\n",
      "Analytical fourier/Mass * 4*pi*r^2:  nan \n",
      "___\n",
      "Numerical fourier/Mass:  484276.52766755753 \n",
      "-----\n",
      "       mass:  60000000000000.0 ;  6e+13\n",
      "Real/Mass * 4*pi*r^2:  0.18963405203260297 \n",
      "___\n",
      "Real/Mass:  0.13232700754454885 \n",
      "___\n",
      "Analytical fourier/Mass:  nan \n",
      "___\n",
      "Analytical fourier/Mass * 4*pi*r^2:  nan \n",
      "___\n",
      "Numerical fourier/Mass:  40976.38652309093 \n",
      "-----\n",
      "       mass:  100000000000000.0 ;  1e+14\n",
      "Real/Mass * 4*pi*r^2:  0.18963561448370947 \n",
      "___\n",
      "Real/Mass:  0.08738310476544335 \n",
      "___\n",
      "Analytical fourier/Mass:  nan \n",
      "___\n",
      "Analytical fourier/Mass * 4*pi*r^2:  nan \n",
      "___\n",
      "Numerical fourier/Mass:  26695.879318239113 \n",
      "-----\n"
     ]
    },
    {
     "name": "stderr",
     "output_type": "stream",
     "text": [
      "/opt/anaconda3/lib/python3.12/site-packages/scipy/integrate/_quadrature.py:808: RuntimeWarning: invalid value encountered in scalar subtract\n",
      "  result += alpha*y[slice1] + beta*y[slice2] - eta*y[slice3]\n"
     ]
    }
   ],
   "source": [
    "for mass, profA, profB, profR in zip(trial_M, bd_fourier[0], bd_fourier_false, bd_real):\n",
    "    print('       mass: ', mass, f';  {mass:.1g}')\n",
    "    print('Real/Mass * 4*pi*r^2: ', integrate.simpson(4*np.pi*(trial_r**2)*profR/mass, x=trial_r), '\\n___')\n",
    "    print('Real/Mass: ', integrate.simpson(profR/mass, x=trial_r), '\\n___')\n",
    "    print('Analytical fourier/Mass: ', integrate.simpson(profA/mass, x=trial_r), '\\n___')\n",
    "    print('Analytical fourier/Mass * 4*pi*r^2: ', integrate.simpson(4*np.pi*(trial_r**2)*profA/mass, x=trial_r), '\\n___')\n",
    "    print('Numerical fourier/Mass: ', integrate.simpson(profB/mass, x=trial_r), '\\n-----')\n",
    "    "
   ]
  },
  {
   "cell_type": "code",
   "execution_count": null,
   "id": "0a867518-d469-47bc-8658-e895706cb21b",
   "metadata": {},
   "outputs": [],
   "source": []
  },
  {
   "cell_type": "markdown",
   "id": "fa86d349-1ec2-4ac5-b279-70d562cbcea4",
   "metadata": {},
   "source": [
    "# Now look at integration of stellar"
   ]
  },
  {
   "cell_type": "code",
   "execution_count": 80,
   "id": "f7fbcfa9-df7a-4609-a21c-08f32f41a469",
   "metadata": {},
   "outputs": [
    {
     "name": "stdout",
     "output_type": "stream",
     "text": [
      "Masses (solar masses):  [3.e+12 6.e+13 1.e+14]\n",
      "Trapezoid method\n",
      "Analytical:  [2.69997e+14 5.39994e+15 8.99990e+15]\n",
      "Numerical:  [2.07258315e+07 4.14516630e+08 6.90861051e+08]\n",
      "\n",
      "Simpson method\n",
      "Analytical:  [2.69997e+14 5.39994e+15 8.99990e+15]\n",
      "Numerical:  [2.07258315e+07 4.14516630e+08 6.90861051e+08]\n"
     ]
    }
   ],
   "source": [
    "print('Masses (solar masses): ', trial_M)\n",
    "print('Trapezoid method')\n",
    "print('Analytical: ', integrate.simpson(stel_fourier, x=trial_k))\n",
    "print('Numerical: ', integrate.simpson(stel_fourier_false, x=trial_k))\n",
    "\n",
    "print('\\nSimpson method')\n",
    "print('Analytical: ', integrate.simpson(stel_fourier, x=trial_k))\n",
    "print('Numerical: ', integrate.simpson(stel_fourier_false, x=trial_k))"
   ]
  },
  {
   "cell_type": "code",
   "execution_count": 82,
   "id": "d96d87d7-12a4-4628-9bb5-7b535b202fe8",
   "metadata": {},
   "outputs": [
    {
     "name": "stdout",
     "output_type": "stream",
     "text": [
      "3000000000000.0\n",
      "[1. 1. 1. ... 1. 1. 1.]\n",
      "[8.43863472e-03 8.43827177e-03 8.43790882e-03 ... 3.50826883e-13\n",
      " 3.50864196e-13 3.50901315e-13]\n",
      "60000000000000.0\n",
      "[1. 1. 1. ... 1. 1. 1.]\n",
      "[8.43863472e-03 8.43827177e-03 8.43790882e-03 ... 3.50826883e-13\n",
      " 3.50864196e-13 3.50901315e-13]\n",
      "100000000000000.0\n",
      "[1. 1. 1. ... 1. 1. 1.]\n",
      "[8.43863472e-03 8.43827177e-03 8.43790882e-03 ... 3.50826883e-13\n",
      " 3.50864196e-13 3.50901315e-13]\n"
     ]
    }
   ],
   "source": [
    "for mass, profA, profB in zip(trial_M, stel_fourier, stel_fourier_false):\n",
    "    print(mass)\n",
    "    print(profA/mass)\n",
    "    print(profB/mass)\n",
    "    "
   ]
  },
  {
   "cell_type": "code",
   "execution_count": 84,
   "id": "a4ab992c-6e2d-425d-a3fd-ec0c89565a78",
   "metadata": {
    "scrolled": true
   },
   "outputs": [
    {
     "name": "stdout",
     "output_type": "stream",
     "text": [
      "Masses (solar masses):  [3.e+12 6.e+13 1.e+14]\n",
      "Trapezoid method\n",
      "Analytical:  [ 2302608.01731347 46052160.34626944 76753600.57711573]\n",
      "\n",
      "Simpson method\n",
      "Analytical:  [ 2302608.01731347 46052160.34626944 76753600.57711573]\n"
     ]
    }
   ],
   "source": [
    "print('Masses (solar masses): ', trial_M)\n",
    "print('Trapezoid method')\n",
    "print('Analytical: ', integrate.simpson(stel_real, x=trial_r))\n",
    "#print('Numerical: ', integrate.simpson(stel_fourier_false, x=trial_k))\n",
    "\n",
    "print('\\nSimpson method')\n",
    "print('Analytical: ', integrate.simpson(stel_real, x=trial_r))\n",
    "#print('Numerical: ', integrate.simpson(stel_fourier_false, x=trial_k))"
   ]
  },
  {
   "cell_type": "code",
   "execution_count": 86,
   "id": "ec185c85-bf0d-4e7b-86a0-ed8de91d40e5",
   "metadata": {},
   "outputs": [
    {
     "name": "stdout",
     "output_type": "stream",
     "text": [
      "       mass:  3000000000000.0 ;  3e+12\n",
      "Real/Mass * 4*pi*r^2:  9.645141908385284e-10 \n",
      "___\n",
      "Real/Mass:  7.675360057711572e-07 \n",
      "___\n",
      "Analytical fourier/Mass:  99999999.99 \n",
      "___\n",
      "Analytical fourier/Mass * 4*pi*r^2:  4.188790204786391e+24 \n",
      "___\n",
      "Numerical fourier/Mass:  0.00015175942981481976 \n",
      "-----\n",
      "       mass:  60000000000000.0 ;  6e+13\n",
      "Real/Mass * 4*pi*r^2:  9.645141908385284e-10 \n",
      "___\n",
      "Real/Mass:  7.675360057711572e-07 \n",
      "___\n",
      "Analytical fourier/Mass:  99999999.99 \n",
      "___\n",
      "Analytical fourier/Mass * 4*pi*r^2:  4.188790204786391e+24 \n",
      "___\n",
      "Numerical fourier/Mass:  0.00015175942981481688 \n",
      "-----\n",
      "       mass:  100000000000000.0 ;  1e+14\n",
      "Real/Mass * 4*pi*r^2:  9.645141908385284e-10 \n",
      "___\n",
      "Real/Mass:  7.675360057711572e-07 \n",
      "___\n",
      "Analytical fourier/Mass:  99999999.99 \n",
      "___\n",
      "Analytical fourier/Mass * 4*pi*r^2:  4.188790204786391e+24 \n",
      "___\n",
      "Numerical fourier/Mass:  0.00015175942981482073 \n",
      "-----\n"
     ]
    }
   ],
   "source": [
    "for mass, profA, profB, profR in zip(trial_M, stel_fourier, stel_fourier_false, stel_real):\n",
    "    print('       mass: ', mass, f';  {mass:.1g}')\n",
    "    print('Real/Mass * 4*pi*r^2: ', integrate.simpson(4*np.pi*(trial_r**2)*profR/mass, x=trial_r), '\\n___')\n",
    "    print('Real/Mass: ', integrate.simpson(profR/mass, x=trial_r), '\\n___')\n",
    "    print('Analytical fourier/Mass: ', integrate.simpson(profA/mass, x=trial_r), '\\n___')\n",
    "    print('Analytical fourier/Mass * 4*pi*r^2: ', integrate.simpson(4*np.pi*(trial_r**2)*profA/mass, x=trial_r), '\\n___')\n",
    "    print('Numerical fourier/Mass: ', integrate.simpson(profB/mass, x=trial_r), '\\n-----')\n",
    "    "
   ]
  },
  {
   "cell_type": "markdown",
   "id": "d71a6099-8e68-467d-b0c7-53490f29f840",
   "metadata": {},
   "source": [
    "See that $4 \\pi \\int^{\\infty}_0 r^2 g(r)\\ dr \\simeq 1 \\times 10^{-9}$ & $\\int^{\\infty}_0 g(k)\\ dr \\simeq 1 \\times 10^{9}$ for stellar.    \n",
    "(even though, $\\rho(k)\\ $ goes with *$dk$*)"
   ]
  },
  {
   "cell_type": "code",
   "execution_count": 89,
   "id": "8a4dcaf3-9428-4bbb-af98-16651edb1717",
   "metadata": {},
   "outputs": [
    {
     "name": "stdout",
     "output_type": "stream",
     "text": [
      "99999999.99 1.0000000001e-08\n",
      "9.645141908385284e-10 1036791381.0896044  1.04e+09 \n"
     ]
    }
   ],
   "source": [
    "print(99999999.99 , 1/99999999.99 )\n",
    "print(9.645141908385284e-10 , 1/9.645141908385284e-10 , f' {1/9.645141908385284e-10:.3g} ')"
   ]
  },
  {
   "cell_type": "code",
   "execution_count": null,
   "id": "96345677-71aa-45b6-9d13-cf931c522da7",
   "metadata": {},
   "outputs": [],
   "source": []
  },
  {
   "cell_type": "code",
   "execution_count": null,
   "id": "c73e245e-6e94-48d6-9db3-1d89b8df30bd",
   "metadata": {},
   "outputs": [],
   "source": []
  },
  {
   "cell_type": "code",
   "execution_count": null,
   "id": "a08451a2-b209-4f98-bddf-26b23db0fa69",
   "metadata": {},
   "outputs": [],
   "source": []
  },
  {
   "cell_type": "code",
   "execution_count": null,
   "id": "1cefd256-1935-457a-8f90-c4e436114cde",
   "metadata": {},
   "outputs": [],
   "source": []
  }
 ],
 "metadata": {
  "kernelspec": {
   "display_name": "Python 3 (ipykernel)",
   "language": "python",
   "name": "python3"
  },
  "language_info": {
   "codemirror_mode": {
    "name": "ipython",
    "version": 3
   },
   "file_extension": ".py",
   "mimetype": "text/x-python",
   "name": "python",
   "nbconvert_exporter": "python",
   "pygments_lexer": "ipython3",
   "version": "3.12.2"
  }
 },
 "nbformat": 4,
 "nbformat_minor": 5
}
