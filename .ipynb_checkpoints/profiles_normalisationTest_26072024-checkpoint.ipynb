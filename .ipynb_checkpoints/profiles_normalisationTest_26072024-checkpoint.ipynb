{
 "cells": [
  {
   "cell_type": "code",
   "execution_count": 1,
   "id": "4bf77c27-b104-43f1-9d76-e6c35e8c7085",
   "metadata": {},
   "outputs": [],
   "source": [
    "import numpy as np\n",
    "import pyccl as ccl\n",
    "import matplotlib.pyplot as plt\n",
    "import scipy.integrate as integrate\n",
    "import scipy.interpolate as interpol\n",
    "from pyccl._core import UnlockInstance\n",
    "from scipy import signal"
   ]
  },
  {
   "cell_type": "markdown",
   "id": "4a9183e4-bef9-4bc0-aab7-f2c8ec7ce5ad",
   "metadata": {},
   "source": [
    "# BCM"
   ]
  },
  {
   "cell_type": "code",
   "execution_count": null,
   "id": "4c4d7e09-76d0-439b-b072-44e829041bc4",
   "metadata": {},
   "outputs": [],
   "source": [
    "import BCMprofiles_Copy3 as BCMprofiles\n",
    "BCMprofiles.__all__"
   ]
  },
  {
   "cell_type": "markdown",
   "id": "f84ee585-1863-45cc-9787-44ef22056c42",
   "metadata": {},
   "source": [
    "## Setting up pars & profiles"
   ]
  },
  {
   "cell_type": "code",
   "execution_count": null,
   "id": "2eeb41ed-0560-4d27-9feb-c9766a5a3f06",
   "metadata": {},
   "outputs": [],
   "source": [
    "hmd_200c = ccl.halos.MassDef200c # use a mass definition with Delta = 200\n",
    "cM = ccl.halos.ConcentrationDuffy08(mass_def=hmd_200c)\n",
    "cosmo = ccl.Cosmology(Omega_c = 0.25, Omega_b=0.05, h=0.7, A_s=2.1e-9, n_s=0.96, Neff=0, Omega_g=0)\n",
    "# change h=0.07 to h=0.7\n",
    "\n",
    "trial_r = np.geomspace(1E-2,1E8,100_000) # geomspace is like linspace, but evenly spaces on a logscale\n",
    "trial_k = np.geomspace(5E-3,1E2,100_000) # np.geomspace(1E-3,1E2,100000)\n",
    "trial_M = np.array([3E12,6E13, 1E14])\n",
    "trial_gamma = 1.1  # working with z = 0 (today) ; therefore a = 1 [default]\n",
    "trial_f_bd = 0.6"
   ]
  },
  {
   "cell_type": "markdown",
   "id": "82a87a93-5f70-4300-8511-62c0dbf51a9f",
   "metadata": {},
   "source": [
    "## Loading profiles, with fourier_analytic = True"
   ]
  },
  {
   "cell_type": "code",
   "execution_count": 10,
   "id": "96614728-c60a-40bd-98aa-13409f57a979",
   "metadata": {},
   "outputs": [
    {
     "ename": "NameError",
     "evalue": "name 'bd_profile' is not defined",
     "output_type": "error",
     "traceback": [
      "\u001b[0;31m---------------------------------------------------------------------------\u001b[0m",
      "\u001b[0;31mNameError\u001b[0m                                 Traceback (most recent call last)",
      "Cell \u001b[0;32mIn[10], line 1\u001b[0m\n\u001b[0;32m----> 1\u001b[0m I0_array \u001b[38;5;241m=\u001b[39m np\u001b[38;5;241m.\u001b[39mzeros(bd_profile\u001b[38;5;241m.\u001b[39mnGamma)\n\u001b[1;32m      2\u001b[0m gamma_list \u001b[38;5;241m=\u001b[39m np\u001b[38;5;241m.\u001b[39mlinspace(\u001b[38;5;241m1.05\u001b[39m, \u001b[38;5;241m3\u001b[39m, \u001b[38;5;241m64\u001b[39m)\n\u001b[1;32m      3\u001b[0m \u001b[38;5;66;03m#gamma_list = np.linspace(bd_profile.GammaRange[0], bd_profile.GammaRange[1], bd_profile.nGamma)\u001b[39;00m\n",
      "\u001b[0;31mNameError\u001b[0m: name 'bd_profile' is not defined"
     ]
    }
   ],
   "source": [
    "I0_array = np.zeros(bd_profile.nGamma)\n",
    "gamma_list = np.linspace(1.05, 3, 64)\n",
    "#gamma_list = np.linspace(bd_profile.GammaRange[0], bd_profile.GammaRange[1], bd_profile.nGamma)\n",
    "\n",
    "for i, g in enumerate(gamma_list):\n",
    "    I0_array[i] =  integrate.quad(bd_profile._innerInt, 1E-4, 1E4, args = 1/(g-1))[0]\n",
    "#func_normQ0 = interpol.interp1d(gamma_list, I0_array)\n",
    "plt.plot(gamma_list, I0_array, 'r-')\n",
    "\n",
    "for i, g in enumerate(gamma_list):\n",
    "    I0_array[i] =  integrate.quad(bd_profile._innerInt, 1E-5, 1E5, args = 1/(g-1))[0]\n",
    "#func_normQ0 = interpol.interp1d(gamma_list, I0_array)\n",
    "plt.plot(gamma_list, I0_array, 'k--')\n",
    "plt.yscale('log')"
   ]
  },
  {
   "cell_type": "code",
   "execution_count": null,
   "id": "89f0c99c-0182-4ed7-8098-f2b37cee702a",
   "metadata": {},
   "outputs": [],
   "source": [
    "stel_profile = BCMprofiles.StellarProfile(cosmo, hmd_200c)\n",
    "ej_profile = BCMprofiles.EjectedGasProfile(cosmo, hmd_200c)\n",
    "bd_profile = BCMprofiles.BoundGasProfile(cosmo, hmd_200c, cM, fourier_analytic = True)#, trial_gamma)\n",
    "gas_profile = BCMprofiles.CombinedGasProfile(cosmo, hmd_200c, cM)#, trial_gamma)\n",
    "stelGas_profile = BCMprofiles.CombinedStellarGasProfile(cosmo, hmd_200c, cM)#, trial_gamma) \n",
    "bcm_profile = BCMprofiles.CombinedAllBCMProfile(cosmo, hmd_200c, cM)#, trial_gamma)"
   ]
  },
  {
   "cell_type": "code",
   "execution_count": null,
   "id": "dcb26a94-4636-4ad1-aea2-021a340465f2",
   "metadata": {},
   "outputs": [],
   "source": [
    "bd_profile = BCMprofiles.BoundGasProfile(cosmo, hmd_200c, cM)\n",
    "gamma_list = np.linspace(bd_profile.gammaRange[0], bd_profile.gammaRange[1], bd_profile.ngamma)\n",
    "prof1 = bd_profile._real(cosmo, trial_r, 1E14, scale_a=1, Gamma=trial_gamma, call_interp=False)\n",
    "prof2 = bd_profile._real(cosmo, trial_r, 1E14,  scale_a=1, Gamma=trial_gamma, call_interp=True)\n",
    "print(prof1/prof2)\n",
    "print(gamma_list)"
   ]
  },
  {
   "cell_type": "code",
   "execution_count": null,
   "id": "96bbe3ae-738f-489f-aea0-638becfbf339",
   "metadata": {},
   "outputs": [],
   "source": [
    "stel_real = stel_profile._real(cosmo, trial_r, trial_M)\n",
    "ej_real = ej_profile._real(cosmo, trial_r, trial_M)\n",
    "bd_real = bd_profile._real(cosmo, trial_r, trial_M, scale_a=1, Gamma=trial_gamma)\n",
    "gas_real = gas_profile._real(cosmo, trial_r, trial_M, scale_a=1, Gamma=trial_gamma, f_bd=trial_f_bd)\n",
    "stelGas_real = stelGas_profile._real(cosmo, trial_r, trial_M, scale_a=1, Gamma=trial_gamma)\n",
    "bcm_real = bcm_profile._real(cosmo, trial_r, trial_M, scale_a=1, Gamma=trial_gamma)"
   ]
  },
  {
   "cell_type": "code",
   "execution_count": null,
   "id": "cf8bde4a-ddda-4e60-b004-405c1b09d090",
   "metadata": {},
   "outputs": [],
   "source": [
    "stel_fourier = stel_profile._fourier(trial_k, trial_M)\n",
    "ej_fourier = ej_profile._fourier(trial_k, trial_M)"
   ]
  },
  {
   "cell_type": "code",
   "execution_count": null,
   "id": "548c87b9-d79b-4dee-bfb8-88ec8a5ccc2e",
   "metadata": {
    "scrolled": true
   },
   "outputs": [],
   "source": [
    "trial_k = np.geomspace(1E-1,1E0,100_000)\n",
    "bd_fourier = bd_profile._fourier(k=trial_k, M=trial_M, scale_a=1, Gamma=trial_gamma)"
   ]
  },
  {
   "cell_type": "code",
   "execution_count": null,
   "id": "173414aa-f1b6-4db6-b454-89324b037bfa",
   "metadata": {
    "scrolled": true
   },
   "outputs": [],
   "source": [
    "gas_fourier = gas_profile._fourier(trial_k, trial_M, scale_a=1, f_bd=trial_f_bd)\n",
    "stelGas_fourier = stelGas_profile._fourier(trial_k, trial_M)\n",
    "bcm_fourier = bcm_profile._fourier(trial_k, trial_M)"
   ]
  },
  {
   "cell_type": "code",
   "execution_count": null,
   "id": "76972a54-6e9a-4d61-a8cb-e5202d560cc0",
   "metadata": {},
   "outputs": [],
   "source": []
  },
  {
   "cell_type": "markdown",
   "id": "e5662731-6a9c-4416-9726-9eb658c1557e",
   "metadata": {},
   "source": [
    "## Loading profiles, with fourier_analytic = False"
   ]
  },
  {
   "cell_type": "code",
   "execution_count": 24,
   "id": "6d7c7a80-7052-479a-9fa9-cc2529b3b86f",
   "metadata": {},
   "outputs": [],
   "source": [
    "stel_profile_false = BCMprofiles.StellarProfile(cosmo, hmd_200c, fourier_analytic=False)\n",
    "ej_profile_false = BCMprofiles.EjectedGasProfile(cosmo, hmd_200c, fourier_analytic=False)\n",
    "bd_profile_false = BCMprofiles.BoundGasProfile(cosmo, hmd_200c, cM, trial_gamma, fourier_analytic=False)\n",
    "gas_profile_false = BCMprofiles.CombinedGasProfile(cosmo, hmd_200c, cM, trial_gamma, fourier_analytic=False)\n",
    "stelGas_profile_false = BCMprofiles.CombinedStellarGasProfile(cosmo, hmd_200c, cM, trial_gamma, fourier_analytic=False) \n",
    "bcm_profile_false = BCMprofiles.CombinedAllBCMProfile(cosmo, hmd_200c, cM, trial_gamma, fourier_analytic=False)"
   ]
  },
  {
   "cell_type": "code",
   "execution_count": 25,
   "id": "8f2a31de-e1af-4283-a34a-732a80803eb8",
   "metadata": {},
   "outputs": [],
   "source": [
    "stel_real_false = stel_profile_false._real(cosmo, trial_r, trial_M)\n",
    "ej_real_false = ej_profile_false._real(cosmo, trial_r, trial_M)\n",
    "bd_real_false = bd_profile_false._real(cosmo, trial_r, trial_M)\n",
    "gas_real_false = gas_profile_false._real(cosmo, trial_r, trial_M, trial_f_bd)\n",
    "stelGas_real_false = stelGas_profile_false._real(cosmo, trial_r, trial_M)\n",
    "bcm_real_false = bcm_profile_false._real(cosmo, trial_r, trial_M)"
   ]
  },
  {
   "cell_type": "code",
   "execution_count": 26,
   "id": "c401ebac-3c2a-42e0-b38e-66ed64f52f96",
   "metadata": {},
   "outputs": [
    {
     "data": {
      "text/plain": [
       "<function pyccl.halos.profiles.profile_base.HaloProfile.fourier(self, cosmo, k, M, a)>"
      ]
     },
     "execution_count": 26,
     "metadata": {},
     "output_type": "execute_result"
    }
   ],
   "source": [
    "ccl.halos.profiles.HaloProfile.fourier"
   ]
  },
  {
   "cell_type": "code",
   "execution_count": 27,
   "id": "adfd5873-7fb6-494b-b2cd-67b66e19752d",
   "metadata": {
    "scrolled": true
   },
   "outputs": [],
   "source": [
    "stel_fourier_false = stel_profile_false.fourier(cosmo=cosmo, k=trial_k, M=trial_M, a=1)\n",
    "ej_fourier_false = ej_profile_false.fourier(cosmo=cosmo, k=trial_k, M=trial_M, a=1)\n",
    "bd_fourier_false = bd_profile_false.fourier(cosmo=cosmo, k=trial_k, M=trial_M, a=1)\n",
    "gas_fourier_false = gas_profile_false.fourier(cosmo=cosmo, k=trial_k, M=trial_M, a=1)\n",
    "# stelGas_fourier_false = stelGas_profile_false.fourier(cosmo=cosmo, k=trial_k, M=trial_M, a=1)\n",
    "# bcm_fourier_false = bcm_profile_false.fourier(cosmo=cosmo, k=trial_k, M=trial_M, a=1)"
   ]
  },
  {
   "cell_type": "code",
   "execution_count": 183,
   "id": "6b78915b-9534-4897-abf9-a363ee8cc35a",
   "metadata": {
    "scrolled": true
   },
   "outputs": [
    {
     "ename": "ValueError",
     "evalue": "rs should have 3 elements",
     "output_type": "error",
     "traceback": [
      "\u001b[0;31m---------------------------------------------------------------------------\u001b[0m",
      "\u001b[0;31mValueError\u001b[0m                                Traceback (most recent call last)",
      "Cell \u001b[0;32mIn[183], line 1\u001b[0m\n\u001b[0;32m----> 1\u001b[0m stelGas_fourier_false \u001b[38;5;241m=\u001b[39m stelGas_profile_false\u001b[38;5;241m.\u001b[39mfourier(cosmo\u001b[38;5;241m=\u001b[39mcosmo, k\u001b[38;5;241m=\u001b[39mtrial_k, M\u001b[38;5;241m=\u001b[39mtrial_M, a\u001b[38;5;241m=\u001b[39m\u001b[38;5;241m1\u001b[39m)\n\u001b[1;32m      2\u001b[0m bcm_fourier_false \u001b[38;5;241m=\u001b[39m bcm_profile_false\u001b[38;5;241m.\u001b[39mfourier(cosmo\u001b[38;5;241m=\u001b[39mcosmo, k\u001b[38;5;241m=\u001b[39mtrial_k, M\u001b[38;5;241m=\u001b[39mtrial_M, a\u001b[38;5;241m=\u001b[39m\u001b[38;5;241m1\u001b[39m)\n",
      "File \u001b[0;32m/opt/anaconda3/lib/python3.12/site-packages/pyccl/halos/profiles/profile_base.py:182\u001b[0m, in \u001b[0;36mHaloProfile.fourier\u001b[0;34m(self, cosmo, k, M, a)\u001b[0m\n\u001b[1;32m    180\u001b[0m \u001b[38;5;28;01mif\u001b[39;00m \u001b[38;5;28mgetattr\u001b[39m(\u001b[38;5;28mself\u001b[39m, \u001b[38;5;124m\"\u001b[39m\u001b[38;5;124m_fourier\u001b[39m\u001b[38;5;124m\"\u001b[39m, \u001b[38;5;28;01mNone\u001b[39;00m):\n\u001b[1;32m    181\u001b[0m     \u001b[38;5;28;01mreturn\u001b[39;00m \u001b[38;5;28mself\u001b[39m\u001b[38;5;241m.\u001b[39m_fourier(cosmo, k, M, a)\n\u001b[0;32m--> 182\u001b[0m \u001b[38;5;28;01mreturn\u001b[39;00m \u001b[38;5;28mself\u001b[39m\u001b[38;5;241m.\u001b[39m_fftlog_wrap(cosmo, k, M, a, fourier_out\u001b[38;5;241m=\u001b[39m\u001b[38;5;28;01mTrue\u001b[39;00m)\n",
      "File \u001b[0;32m/opt/anaconda3/lib/python3.12/site-packages/pyccl/halos/profiles/profile_base.py:415\u001b[0m, in \u001b[0;36mHaloProfile._fftlog_wrap\u001b[0;34m(self, cosmo, k, M, a, fourier_out, large_padding, ell)\u001b[0m\n\u001b[1;32m    412\u001b[0m plaw_index \u001b[38;5;241m=\u001b[39m \u001b[38;5;28mself\u001b[39m\u001b[38;5;241m.\u001b[39m_get_plaw_fourier(cosmo, a)\n\u001b[1;32m    414\u001b[0m \u001b[38;5;66;03m# Compute Fourier profile through fftlog\u001b[39;00m\n\u001b[0;32m--> 415\u001b[0m k_arr, p_fourier_M \u001b[38;5;241m=\u001b[39m _fftlog_transform(r_arr, p_real_M,\n\u001b[1;32m    416\u001b[0m                                        \u001b[38;5;241m3\u001b[39m, ell, plaw_index)\n\u001b[1;32m    417\u001b[0m lk_arr \u001b[38;5;241m=\u001b[39m np\u001b[38;5;241m.\u001b[39mlog(k_arr)\n\u001b[1;32m    419\u001b[0m \u001b[38;5;28;01mfor\u001b[39;00m im, p_k_arr \u001b[38;5;129;01min\u001b[39;00m \u001b[38;5;28menumerate\u001b[39m(p_fourier_M):\n\u001b[1;32m    420\u001b[0m     \u001b[38;5;66;03m# Resample into input k values\u001b[39;00m\n",
      "File \u001b[0;32m/opt/anaconda3/lib/python3.12/site-packages/pyccl/pyutils.py:539\u001b[0m, in \u001b[0;36m_fftlog_transform\u001b[0;34m(rs, frs, dim, mu, power_law_index)\u001b[0m\n\u001b[1;32m    536\u001b[0m     n_transforms, n_r \u001b[38;5;241m=\u001b[39m frs\u001b[38;5;241m.\u001b[39mshape\n\u001b[1;32m    538\u001b[0m \u001b[38;5;28;01mif\u001b[39;00m \u001b[38;5;28mlen\u001b[39m(rs) \u001b[38;5;241m!=\u001b[39m n_r:\n\u001b[0;32m--> 539\u001b[0m     \u001b[38;5;28;01mraise\u001b[39;00m \u001b[38;5;167;01mValueError\u001b[39;00m(\u001b[38;5;124mf\u001b[39m\u001b[38;5;124m\"\u001b[39m\u001b[38;5;124mrs should have \u001b[39m\u001b[38;5;132;01m{\u001b[39;00mn_r\u001b[38;5;132;01m}\u001b[39;00m\u001b[38;5;124m elements\u001b[39m\u001b[38;5;124m\"\u001b[39m)\n\u001b[1;32m    541\u001b[0m status \u001b[38;5;241m=\u001b[39m \u001b[38;5;241m0\u001b[39m\n\u001b[1;32m    542\u001b[0m result, status \u001b[38;5;241m=\u001b[39m lib\u001b[38;5;241m.\u001b[39mfftlog_transform(n_transforms,\n\u001b[1;32m    543\u001b[0m                                       rs, frs\u001b[38;5;241m.\u001b[39mflatten(),\n\u001b[1;32m    544\u001b[0m                                       dim, mu, power_law_index,\n\u001b[1;32m    545\u001b[0m                                       (n_transforms \u001b[38;5;241m+\u001b[39m \u001b[38;5;241m1\u001b[39m) \u001b[38;5;241m*\u001b[39m n_r,\n\u001b[1;32m    546\u001b[0m                                       status)\n",
      "\u001b[0;31mValueError\u001b[0m: rs should have 3 elements"
     ]
    }
   ],
   "source": [
    "stelGas_fourier_false = stelGas_profile_false.fourier(cosmo=cosmo, k=trial_k, M=trial_M, a=1)\n",
    "bcm_fourier_false = bcm_profile_false.fourier(cosmo=cosmo, k=trial_k, M=trial_M, a=1)"
   ]
  },
  {
   "cell_type": "code",
   "execution_count": null,
   "id": "138355ba-5f67-4054-b7dc-43074731583b",
   "metadata": {},
   "outputs": [],
   "source": []
  },
  {
   "cell_type": "markdown",
   "id": "d024382d-5479-4aa6-ba4a-06b7239fd8e1",
   "metadata": {},
   "source": [
    "## Loading (real) profiles with call_interp=False (check with/without interpolator)"
   ]
  },
  {
   "cell_type": "code",
   "execution_count": 14,
   "id": "c265632f-673e-47ad-8dfc-50778bfa309f",
   "metadata": {},
   "outputs": [
    {
     "name": "stdout",
     "output_type": "stream",
     "text": [
      "False\n"
     ]
    },
    {
     "ename": "NameError",
     "evalue": "name 'gas_profile' is not defined",
     "output_type": "error",
     "traceback": [
      "\u001b[0;31m---------------------------------------------------------------------------\u001b[0m",
      "\u001b[0;31mNameError\u001b[0m                                 Traceback (most recent call last)",
      "Cell \u001b[0;32mIn[14], line 2\u001b[0m\n\u001b[1;32m      1\u001b[0m bd_real_noInterp \u001b[38;5;241m=\u001b[39m bd_profile\u001b[38;5;241m.\u001b[39m_real(cosmo, trial_r, trial_M, scale_a\u001b[38;5;241m=\u001b[39m\u001b[38;5;241m1\u001b[39m, call_interp\u001b[38;5;241m=\u001b[39m\u001b[38;5;28;01mFalse\u001b[39;00m)\n\u001b[0;32m----> 2\u001b[0m gas_real_noInterp \u001b[38;5;241m=\u001b[39m gas_profile\u001b[38;5;241m.\u001b[39m_real(cosmo, trial_r, trial_M, scale_a\u001b[38;5;241m=\u001b[39m\u001b[38;5;241m1\u001b[39m, f_bd\u001b[38;5;241m=\u001b[39mtrial_f_bd, call_interp\u001b[38;5;241m=\u001b[39m\u001b[38;5;28;01mFalse\u001b[39;00m)\n\u001b[1;32m      3\u001b[0m stelGas_real_noInterp \u001b[38;5;241m=\u001b[39m stelGas_profile\u001b[38;5;241m.\u001b[39m_real(cosmo, trial_r, trial_M, scale_a\u001b[38;5;241m=\u001b[39m\u001b[38;5;241m1\u001b[39m, call_interp\u001b[38;5;241m=\u001b[39m\u001b[38;5;28;01mFalse\u001b[39;00m)\n\u001b[1;32m      4\u001b[0m bcm_real_noInterp \u001b[38;5;241m=\u001b[39m bcm_profile\u001b[38;5;241m.\u001b[39m_real(cosmo, trial_r, trial_M, scale_a\u001b[38;5;241m=\u001b[39m\u001b[38;5;241m1\u001b[39m, call_interp\u001b[38;5;241m=\u001b[39m\u001b[38;5;28;01mFalse\u001b[39;00m)\n",
      "\u001b[0;31mNameError\u001b[0m: name 'gas_profile' is not defined"
     ]
    }
   ],
   "source": [
    "bd_real_noInterp = bd_profile._real(cosmo, trial_r, trial_M, scale_a=1, call_interp=False)\n",
    "gas_real_noInterp = gas_profile._real(cosmo, trial_r, trial_M, scale_a=1, f_bd=trial_f_bd, call_interp=False)\n",
    "stelGas_real_noInterp = stelGas_profile._real(cosmo, trial_r, trial_M, scale_a=1, call_interp=False)\n",
    "bcm_real_noInterp = bcm_profile._real(cosmo, trial_r, trial_M, scale_a=1, call_interp=False)\n",
    "\n",
    "bd_real_false_noInterp = bd_profile_false._real(cosmo, trial_r, trial_M, scale_a=1, call_interp=False)\n",
    "gas_real_false_noInterp = gas_profile_false._real(cosmo, trial_r, trial_M, scale_a=1, f_bd=trial_f_bd, call_interp=False)\n",
    "stelGas_real_false_noInterp = stelGas_profile_false._real(cosmo, trial_r, trial_M, scale_a=1, call_interp=False)\n",
    "bcm_real_false_noInterp = bcm_profile_false._real(cosmo, trial_r, trial_M, scale_a=1, call_interp=False)"
   ]
  },
  {
   "cell_type": "markdown",
   "id": "36e10569-932c-4da6-b774-bd134f911766",
   "metadata": {
    "jp-MarkdownHeadingCollapsed": true
   },
   "source": [
    "## Checking the plots"
   ]
  },
  {
   "cell_type": "code",
   "execution_count": 188,
   "id": "70e9dd79-cf97-43f9-be17-65c6b789d3a7",
   "metadata": {},
   "outputs": [
    {
     "data": {
      "image/png": "[encoded data removed]",
      "text/plain": [
       "<Figure size 640x480 with 1 Axes>"
      ]
     },
     "metadata": {},
     "output_type": "display_data"
    }
   ],
   "source": [
    "four_plot, four_plot2 = bd_fourier_false, bd_fourier[0]\n",
    "for prof, prof2, mass in zip(four_plot, four_plot2, trial_M):\n",
    "    plt.plot(trial_k, prof)\n",
    "    plt.plot(trial_k, prof2, ':')\n",
    "    plt.axhline(mass, linestyle='--', zorder=1)\n",
    "plt.yscale('log')\n",
    "plt.xscale('log');"
   ]
  },
  {
   "cell_type": "markdown",
   "id": "6676d174-46d7-4e81-96f6-cab9e52c4b74",
   "metadata": {},
   "source": [
    "## g"
   ]
  },
  {
   "cell_type": "code",
   "execution_count": 29,
   "id": "b1da6004-f878-4e9d-97ac-d99647e6b835",
   "metadata": {},
   "outputs": [
    {
     "name": "stdout",
     "output_type": "stream",
     "text": [
      "[3.e+12 6.e+13 1.e+14]\n"
     ]
    }
   ],
   "source": [
    "print(trial_M)"
   ]
  },
  {
   "cell_type": "code",
   "execution_count": 18,
   "id": "85a276a1-0060-4e82-a8fd-78d594ff92ca",
   "metadata": {},
   "outputs": [
    {
     "name": "stdout",
     "output_type": "stream",
     "text": [
      "Should get:  $4 \\pi \\int^{\\infty}_0 r^2 g(r) dr = 1 $, when normalised by mass\n",
      "With Interpolator \n",
      "\n",
      "bound:  [0.97655719 0.99859019 0.99897545]\n",
      "stellar:  [9.64514191e-10 9.64514191e-10 9.64514191e-10]\n",
      "ejected:  [0.99999946 0.99999997 0.99999998]\n",
      "bound:  [0.97710228 0.99914758 0.99953304]\n"
     ]
    },
    {
     "ename": "NameError",
     "evalue": "name 'gas_real_noInterp' is not defined",
     "output_type": "error",
     "traceback": [
      "\u001b[0;31m---------------------------------------------------------------------------\u001b[0m",
      "\u001b[0;31mNameError\u001b[0m                                 Traceback (most recent call last)",
      "Cell \u001b[0;32mIn[18], line 10\u001b[0m\n\u001b[1;32m      8\u001b[0m \u001b[38;5;28mprint\u001b[39m(\u001b[38;5;124m'\u001b[39m\u001b[38;5;124mejected: \u001b[39m\u001b[38;5;124m'\u001b[39m, integrate\u001b[38;5;241m.\u001b[39msimpson(\u001b[38;5;241m4\u001b[39m\u001b[38;5;241m*\u001b[39mnp\u001b[38;5;241m.\u001b[39mpi\u001b[38;5;241m*\u001b[39m(trial_r\u001b[38;5;241m*\u001b[39m\u001b[38;5;241m*\u001b[39m\u001b[38;5;241m2\u001b[39m)\u001b[38;5;241m*\u001b[39mej_real, x \u001b[38;5;241m=\u001b[39m trial_r)\u001b[38;5;241m/\u001b[39mtrial_M)\n\u001b[1;32m      9\u001b[0m \u001b[38;5;28mprint\u001b[39m(\u001b[38;5;124m'\u001b[39m\u001b[38;5;124mbound: \u001b[39m\u001b[38;5;124m'\u001b[39m, integrate\u001b[38;5;241m.\u001b[39msimpson(\u001b[38;5;241m4\u001b[39m\u001b[38;5;241m*\u001b[39mnp\u001b[38;5;241m.\u001b[39mpi\u001b[38;5;241m*\u001b[39m(trial_r\u001b[38;5;241m*\u001b[39m\u001b[38;5;241m*\u001b[39m\u001b[38;5;241m2\u001b[39m)\u001b[38;5;241m*\u001b[39mbd_real_noInterp, x \u001b[38;5;241m=\u001b[39m trial_r)\u001b[38;5;241m/\u001b[39mtrial_M)\n\u001b[0;32m---> 10\u001b[0m \u001b[38;5;28mprint\u001b[39m(\u001b[38;5;124m'\u001b[39m\u001b[38;5;124mgas: \u001b[39m\u001b[38;5;124m'\u001b[39m, integrate\u001b[38;5;241m.\u001b[39msimpson(\u001b[38;5;241m4\u001b[39m\u001b[38;5;241m*\u001b[39mnp\u001b[38;5;241m.\u001b[39mpi\u001b[38;5;241m*\u001b[39m(trial_r\u001b[38;5;241m*\u001b[39m\u001b[38;5;241m*\u001b[39m\u001b[38;5;241m2\u001b[39m)\u001b[38;5;241m*\u001b[39mgas_real_noInterp, x \u001b[38;5;241m=\u001b[39m trial_r)\u001b[38;5;241m/\u001b[39mtrial_M)\n",
      "\u001b[0;31mNameError\u001b[0m: name 'gas_real_noInterp' is not defined"
     ]
    }
   ],
   "source": [
    "print('Should get:  $4 \\\\pi \\\\int^{\\\\infty}_0 r^2 g(r) dr = 1 $, when normalised by mass')\n",
    "print('With Interpolator \\n')#stellar: ', integrate.simpson(4*np.pi*(trial_r**2)*stel_real, x = trial_r)\n",
    "#print('ejected: ', integrate.simpson(4*np.pi*(trial_r**2)*ej_real, x = trial_r)\n",
    "print('bound: ', integrate.simpson(4*np.pi*(trial_r**2)*bd_real, x = trial_r)/trial_M)\n",
    "#print('gas: ', integrate.simpson(4*np.pi*(trial_r**2)*gas_real, x = trial_r)/trial_M, '\\n\\n Without interpolator')\n",
    "\n",
    "print('stellar: ', integrate.simpson(4*np.pi*(trial_r**2)*stel_real, x = trial_r)/trial_M)\n",
    "print('ejected: ', integrate.simpson(4*np.pi*(trial_r**2)*ej_real, x = trial_r)/trial_M)\n",
    "print('bound: ', integrate.simpson(4*np.pi*(trial_r**2)*bd_real_noInterp, x = trial_r)/trial_M)\n",
    "print('gas: ', integrate.simpson(4*np.pi*(trial_r**2)*gas_real_noInterp, x = trial_r)/trial_M)"
   ]
  },
  {
   "cell_type": "markdown",
   "id": "3fdf392a-0bb7-4d99-87e4-1a82adf9283d",
   "metadata": {
    "jp-MarkdownHeadingCollapsed": true
   },
   "source": [
    "#### g\n",
    "Need to go back & fix up stelGas & bcm false_fouriers, but 1st: integrate others => should get M"
   ]
  },
  {
   "cell_type": "code",
   "execution_count": 196,
   "id": "bd8020f1-5357-4a93-9c1c-96cdccba0e1a",
   "metadata": {},
   "outputs": [
    {
     "name": "stdout",
     "output_type": "stream",
     "text": [
      "Trapezoid method \n",
      " Analytical\n",
      "stellar:  [2.99985e+14 5.99970e+15 9.99950e+15]\n",
      "ejected:  [4.75116976e+12 3.48174445e+13 4.88653383e+13]\n",
      "bound:  [[inf inf inf]]\n",
      "gas:  [inf inf inf] \n",
      "\n",
      " Numerical\n",
      "stellar:  [2.16388172e+07 4.32776343e+08 7.21293906e+08]\n",
      "ejected:  [4.80874485e+12 3.52342882e+13 4.94483856e+13]\n",
      "bound:  [2.19492819e+13 1.31810123e+14 1.77624677e+14]\n",
      "gas:  [2.19492819e+13 1.31810123e+14 1.77624677e+14]\n"
     ]
    }
   ],
   "source": [
    "print('Trapezoid method \\n Analytical')\n",
    "print('stellar: ', integrate.trapezoid(stel_fourier, x=trial_k))\n",
    "print('ejected: ', integrate.trapezoid(ej_fourier, x=trial_k))\n",
    "print('bound: ', integrate.trapezoid(bd_fourier, x=trial_k))\n",
    "print('gas: ', integrate.trapezoid(gas_fourier, x=trial_k), '\\n\\n Numerical')\n",
    "\n",
    "print('stellar: ', integrate.trapezoid(stel_fourier_false, x=trial_k))\n",
    "print('ejected: ', integrate.trapezoid(ej_fourier_false, x=trial_k))\n",
    "print('bound: ', integrate.trapezoid(bd_fourier_false, x=trial_k))\n",
    "print('gas: ', integrate.trapezoid(gas_fourier_false, x=trial_k))"
   ]
  },
  {
   "cell_type": "code",
   "execution_count": 198,
   "id": "1a3f17e0-d5d8-4904-88e7-38c96f0ada66",
   "metadata": {},
   "outputs": [
    {
     "name": "stdout",
     "output_type": "stream",
     "text": [
      "Simpson method \n",
      " Analytical\n",
      "stellar:  [2.99985e+14 5.99970e+15 9.99950e+15]\n",
      "ejected:  [4.75116975e+12 3.48174444e+13 4.88653383e+13]\n",
      "bound:  [[nan nan nan]]\n",
      "gas:  [nan nan nan] \n",
      "\n",
      " Numerical\n",
      "stellar:  [2.16388184e+07 4.32776367e+08 7.21293946e+08]\n",
      "ejected:  [4.80874485e+12 3.52342881e+13 4.94483856e+13]\n",
      "bound:  [2.19492819e+13 1.31810122e+14 1.77624677e+14]\n",
      "gas:  [2.19492819e+13 1.31810122e+14 1.77624677e+14]\n"
     ]
    }
   ],
   "source": [
    "print('Simpson method \\n Analytical')\n",
    "print('stellar: ', integrate.simpson(stel_fourier, x=trial_k))\n",
    "print('ejected: ', integrate.simpson(ej_fourier, x=trial_k))\n",
    "print('bound: ', integrate.simpson(bd_fourier, x=trial_k))\n",
    "print('gas: ', integrate.simpson(gas_fourier, x=trial_k), '\\n\\n Numerical')\n",
    "\n",
    "print('stellar: ', integrate.simpson(stel_fourier_false, x=trial_k))\n",
    "print('ejected: ', integrate.simpson(ej_fourier_false, x=trial_k))\n",
    "print('bound: ', integrate.simpson(bd_fourier_false, x=trial_k))\n",
    "print('gas: ', integrate.simpson(gas_fourier_false, x=trial_k))"
   ]
  },
  {
   "cell_type": "markdown",
   "id": "31a97fa1-1b60-40c8-98aa-80d41665f563",
   "metadata": {
    "jp-MarkdownHeadingCollapsed": true
   },
   "source": [
    "# For NFW, get that $4 \\pi \\int^{\\infty}_0 r^2\\ g(r)\\ dr\\ \\simeq 1$ as should"
   ]
  },
  {
   "cell_type": "code",
   "execution_count": 201,
   "id": "7a9b0e32-5795-4501-b187-f0ae960aeb84",
   "metadata": {},
   "outputs": [],
   "source": [
    "NFWprofile_false = ccl.halos.profiles.nfw.HaloProfileNFW(mass_def = hmd_200c, concentration = cM, fourier_analytic=False) \n",
    "NFWprofile_true = ccl.halos.profiles.nfw.HaloProfileNFW(mass_def = hmd_200c, concentration = cM, fourier_analytic=True) "
   ]
  },
  {
   "cell_type": "code",
   "execution_count": 203,
   "id": "a958f2eb-bfeb-4b61-9e5f-da8fea6f06bd",
   "metadata": {},
   "outputs": [],
   "source": [
    "nfw_real_false = NFWprofile_false._real(cosmo, trial_r, trial_M, a=1)\n",
    "nfw_fourier_false = NFWprofile_false.fourier(cosmo, trial_k, trial_M, a=1)"
   ]
  },
  {
   "cell_type": "code",
   "execution_count": 205,
   "id": "cb9721d2-2c86-434a-9bad-02bf00af3979",
   "metadata": {},
   "outputs": [],
   "source": [
    "nfw_real_true = NFWprofile_false._real(cosmo, trial_r, trial_M, a=1)\n",
    "nfw_fourier_true = NFWprofile_false.fourier(cosmo, trial_k, trial_M, a=1)"
   ]
  },
  {
   "cell_type": "code",
   "execution_count": 207,
   "id": "6e6d3554-d83f-4183-81ba-3419ebfa3f29",
   "metadata": {},
   "outputs": [
    {
     "name": "stdout",
     "output_type": "stream",
     "text": [
      "Masses (solar masses):  [3.e+12 6.e+13 1.e+14]\n",
      "Trapezoid method\n",
      "Analytical:  [256456.55358097  36352.54432982  25289.28933789]\n",
      "Numerical:  [6.31351755e+13 4.60458126e+14 6.40687624e+14]\n",
      "\n",
      "Simpson method\n",
      "Analytical:  [6.31351755e+13 4.60458126e+14 6.40687624e+14]\n",
      "Numerical:  [256456.55358097  36352.54432982  25289.28933789]\n"
     ]
    }
   ],
   "source": [
    "print('Masses (solar masses): ', trial_M)\n",
    "print('Trapezoid method')\n",
    "print('Analytical: ', integrate.simpson(nfw_fourier_true*trial_k**2, x=trial_k)/trial_M*4*np.pi)\n",
    "print('Numerical: ', integrate.simpson(nfw_fourier_false, x=trial_k))\n",
    "\n",
    "print('\\nSimpson method')\n",
    "print('Analytical: ', integrate.simpson(nfw_fourier_true, x=trial_k))\n",
    "print('Numerical: ', integrate.simpson(nfw_fourier_false*4*np.pi*trial_k**2, x=trial_k)/trial_M)"
   ]
  },
  {
   "cell_type": "code",
   "execution_count": 209,
   "id": "b42fd71d-b17c-4c89-9a49-ab81a0e5ccb8",
   "metadata": {},
   "outputs": [
    {
     "name": "stdout",
     "output_type": "stream",
     "text": [
      "[0.04751709 0.13030501 0.1560823 ]\n",
      "[-6.01351755e+13 -4.00458126e+14 -5.40687624e+14]\n",
      "[0.98616499 0.99842835 0.99902432]\n"
     ]
    }
   ],
   "source": [
    "print(trial_M / integrate.simpson(nfw_fourier_true, x=trial_k) )\n",
    "print(trial_M - integrate.simpson(nfw_fourier_true, x=trial_k))\n",
    "print(integrate.simpson(nfw_real_true*4*np.pi*trial_r**2, x=trial_r)/trial_M)"
   ]
  },
  {
   "cell_type": "code",
   "execution_count": 211,
   "id": "022c9e10-da08-44f8-af36-8a05156abf62",
   "metadata": {},
   "outputs": [
    {
     "data": {
      "image/png": "[encoded data removed]",
      "text/plain": [
       "<Figure size 640x480 with 1 Axes>"
      ]
     },
     "metadata": {},
     "output_type": "display_data"
    }
   ],
   "source": [
    "i = 0\n",
    "for mass in zip(trial_M):\n",
    "    plt.plot(trial_k, nfw_fourier_true[i], 'r--', zorder=1)\n",
    "    plt.plot(trial_k, nfw_fourier_false[i], 'g:', zorder=2)\n",
    "    plt.axhline(mass, zorder=3)\n",
    "    i+=1\n",
    "plt.grid(True)\n",
    "plt.xscale('log');"
   ]
  },
  {
   "cell_type": "markdown",
   "id": "e5e1b64b-b1ef-453e-9fa5-e2bf96dee03a",
   "metadata": {},
   "source": [
    "$\\rho(k)\\ = \\frac{M}{a^3} \\bar{g}(k)\\ $, where $\\bar{g}(k \\to 0)\\ = 1 $ if normalised correctly.   \n",
    "Here, using $a = 1$, so [profile/mass] = g(k)"
   ]
  },
  {
   "cell_type": "code",
   "execution_count": 214,
   "id": "015be028-fba6-4a83-bcb5-4692b35ee06d",
   "metadata": {},
   "outputs": [
    {
     "name": "stdout",
     "output_type": "stream",
     "text": [
      "[1.07183901 1.07185409 1.07186747 ... 0.02982888 0.02982138 0.02981389]\n",
      "[1.00993748 1.00993897 1.00994028 ... 0.00327209 0.00327087 0.00326965]\n",
      "[1.00725998 1.00726098 1.00726187 ... 0.00229443 0.00229477 0.00229511]\n"
     ]
    }
   ],
   "source": [
    "for mass, prof in zip(trial_M, nfw_fourier_false):\n",
    "    print(prof/mass)"
   ]
  },
  {
   "cell_type": "code",
   "execution_count": 216,
   "id": "6b8a1cd7-3069-4ff6-9304-ad2d243042f4",
   "metadata": {
    "scrolled": true
   },
   "outputs": [
    {
     "name": "stdout",
     "output_type": "stream",
     "text": [
      "       mass:  3000000000000.0 ;  3e+12\n",
      "Real/Mass * 4*pi*r^2:  0.9861649903132987 \n",
      "___\n",
      "Real/Mass:  27.080328338116015 \n",
      "___\n",
      "Analytical fourier/Mass:  7730614.677901178 \n",
      "___\n",
      "Analytical fourier/Mass * 4*pi*r^2:  1.6566730565451005e+23 \n",
      "___\n",
      "Numerical fourier/Mass:  7730614.677901178 \n",
      "-----\n",
      "       mass:  60000000000000.0 ;  6e+13\n",
      "Real/Mass * 4*pi*r^2:  0.9984283537352867 \n",
      "___\n",
      "Real/Mass:  5.4284414170330955 \n",
      "___\n",
      "Analytical fourier/Mass:  1275039.7996805059 \n",
      "___\n",
      "Analytical fourier/Mass * 4*pi*r^2:  1.9564494236749356e+22 \n",
      "___\n",
      "Numerical fourier/Mass:  1275039.7996805059 \n",
      "-----\n",
      "       mass:  100000000000000.0 ;  1e+14\n",
      "Real/Mass * 4*pi*r^2:  0.9990243150838364 \n",
      "___\n",
      "Real/Mass:  4.0160981336635055 \n",
      "___\n",
      "Analytical fourier/Mass:  911134.9268983336 \n",
      "___\n",
      "Analytical fourier/Mass * 4*pi*r^2:  1.3276222086029502e+22 \n",
      "___\n",
      "Numerical fourier/Mass:  911134.9268983336 \n",
      "-----\n"
     ]
    }
   ],
   "source": [
    "for mass, profA, profB, profR in zip(trial_M, nfw_fourier_true, nfw_fourier_false, nfw_real_true):\n",
    "    print('       mass: ', mass, f';  {mass:.1g}')\n",
    "    print('Real/Mass * 4*pi*r^2: ', integrate.simpson(4*np.pi*(trial_r**2)*profR/mass, x=trial_r), '\\n___')\n",
    "    print('Real/Mass: ', integrate.simpson(profR/mass, x=trial_r), '\\n___')\n",
    "    print('Analytical fourier/Mass: ', integrate.simpson(profA/mass, x=trial_r), '\\n___')\n",
    "    print('Analytical fourier/Mass * 4*pi*r^2: ', integrate.simpson(4*np.pi*(trial_r**2)*profA/mass, x=trial_r), '\\n___')\n",
    "    print('Numerical fourier/Mass: ', integrate.simpson(profB/mass, x=trial_r), '\\n-----')\n",
    "    "
   ]
  },
  {
   "cell_type": "markdown",
   "id": "e9af5271-55d5-4eff-aa9c-e3e798bfe72f",
   "metadata": {},
   "source": [
    "For NFW, get that $4 \\pi \\int^{\\infty}_0 r^2\\ g(r)\\ dr\\ \\simeq 1$ as should"
   ]
  },
  {
   "cell_type": "code",
   "execution_count": null,
   "id": "45c94859-f944-4ba6-9b05-9482247d1d83",
   "metadata": {},
   "outputs": [],
   "source": []
  },
  {
   "cell_type": "markdown",
   "id": "9c2793f2-7e44-4e36-824f-e8cffb75cede",
   "metadata": {},
   "source": [
    "# Check Bound Gas"
   ]
  },
  {
   "cell_type": "markdown",
   "id": "85d3b553-479f-466f-9572-25971f6d8693",
   "metadata": {},
   "source": [
    "THERE DOES SEEM TO BE A PROBLEM WITH THE INTERPOLATOR"
   ]
  },
  {
   "cell_type": "code",
   "execution_count": 20,
   "id": "6e1e81ba-29e0-4fb7-ba92-3fa15cfe7ba4",
   "metadata": {},
   "outputs": [
    {
     "name": "stdout",
     "output_type": "stream",
     "text": [
      "Masses are: [3.e+12 6.e+13 1.e+14]\n",
      "        $4 \\pi \\int^{\\infty}_0 r^2 g(r) dr$\n",
      "With interpolator:  [2.92967158e+12 5.99154116e+13 9.98975446e+13]\n",
      "Without interpolator:  [2.93130684e+12 5.99488545e+13 9.99533043e+13]\n",
      "        Normalised by mass\n",
      "With interpolator:  [0.97655719 0.99859019 0.99897545]\n",
      "Without interpolator:  [0.97710228 0.99914758 0.99953304]\n"
     ]
    }
   ],
   "source": [
    "print('Masses are:', trial_M)\n",
    "print('        $4 \\\\pi \\\\int^{\\\\infty}_0 r^2 g(r) dr$')\n",
    "print('With interpolator: ', integrate.simpson(4*np.pi*(trial_r**2)*bd_real, x = trial_r))\n",
    "print('Without interpolator: ', integrate.simpson(4*np.pi*(trial_r**2)*bd_real_noInterp, x = trial_r))\n",
    "print('        Normalised by mass')\n",
    "print('With interpolator: ', integrate.simpson(4*np.pi*(trial_r**2)*bd_real, x = trial_r)/trial_M)\n",
    "print('Without interpolator: ', integrate.simpson(4*np.pi*(trial_r**2)*bd_real_noInterp, x = trial_r)/trial_M)"
   ]
  },
  {
   "cell_type": "code",
   "execution_count": null,
   "id": "027ca72a-ecc2-427f-ad2d-f28b7f7dffde",
   "metadata": {},
   "outputs": [],
   "source": []
  },
  {
   "cell_type": "code",
   "execution_count": 23,
   "id": "98c08731-d0ea-4db9-af72-bc2a13696952",
   "metadata": {},
   "outputs": [
    {
     "name": "stdout",
     "output_type": "stream",
     "text": [
      "[1.00055817 1.00055817 1.00055817]\n"
     ]
    }
   ],
   "source": [
    "print((integrate.simpson(4*np.pi*(trial_r**2)*bd_real_noInterp, x = trial_r)/trial_M) / (integrate.simpson(4*np.pi*(trial_r**2)*bd_real, x = trial_r)/trial_M))"
   ]
  },
  {
   "cell_type": "code",
   "execution_count": 29,
   "id": "9d049e54-9395-4cf6-ab56-41edba4a2bc5",
   "metadata": {},
   "outputs": [
    {
     "data": {
      "image/png": "[encoded data removed]",
      "text/plain": [
       "<Figure size 640x480 with 1 Axes>"
      ]
     },
     "metadata": {},
     "output_type": "display_data"
    },
    {
     "data": {
      "image/png": "[encoded data removed]",
      "text/plain": [
       "<Figure size 640x480 with 1 Axes>"
      ]
     },
     "metadata": {},
     "output_type": "display_data"
    }
   ],
   "source": [
    "colour1, colour2 = ['tab:purple','tab:red','tab:cyan'], ['tab:orange','tab:green','tab:blue']\n",
    "for mass, col1, col2, interp, nointerp in zip(trial_M, colour1, colour2, bd_real, bd_real_noInterp):\n",
    "    plt.plot(trial_r, interp, ':', color=col1)#, label=f'Interpolated: {mass:.1g} $M \\\\odot $')\n",
    "    plt.plot(trial_r, nointerp, color=col2, zorder=1)#, label=f'No interp.: {mass:.1g} $M \\\\odot $');\n",
    "plt.legend(['Interp.', 'No interp.'], loc='best')\n",
    "plt.grid(True)\n",
    "plt.xscale('log');\n",
    "\n",
    "plt.figure()\n",
    "for mass, col1, col2, interp, nointerp in zip(trial_M, colour1, colour2, bd_real, bd_real_noInterp):\n",
    "    plt.plot(trial_r, interp, ':', color=col1)#, label=f'Interpolated: {mass:.1g} $M \\\\odot $')\n",
    "    plt.plot(trial_r, nointerp, color=col2)#, label=f'No interp.: {mass:.1g} $M \\\\odot $');\n",
    "    plt.plot(trial_r, interp*5.2732215, '--', color=col1)#, label=f'Interpolated*5.2732215 : {mass:.1g} $M \\\\odot $')\n",
    "plt.legend(['Interp.', 'No interp.', 'Interp*5.2732215'], loc='best')\n",
    "plt.grid(True)\n",
    "plt.xscale('log');\n"
   ]
  },
  {
   "cell_type": "markdown",
   "id": "73b623d0-b2a5-4f9e-9336-8065f74c899b",
   "metadata": {},
   "source": [
    "#### g"
   ]
  },
  {
   "cell_type": "code",
   "execution_count": 229,
   "id": "1f03f388-9346-4d71-aaf1-7b4dc696bfcc",
   "metadata": {},
   "outputs": [
    {
     "name": "stdout",
     "output_type": "stream",
     "text": [
      "Masses (solar masses):  [3.e+12 6.e+13 1.e+14]\n",
      "Trapezoid method\n",
      "Analytical:  [[nan nan nan]]\n",
      "Numerical:  [2.19492819e+13 1.31810122e+14 1.77624677e+14]\n",
      "\n",
      "Simpson method\n",
      "Analytical:  [[nan nan nan]]\n",
      "Numerical:  [2.19492819e+13 1.31810122e+14 1.77624677e+14]\n"
     ]
    }
   ],
   "source": [
    "print('Masses (solar masses): ', trial_M)\n",
    "print('Trapezoid method')\n",
    "print('Analytical: ', integrate.simpson(bd_fourier, x=trial_k))\n",
    "print('Numerical: ', integrate.simpson(bd_fourier_false, x=trial_k))\n",
    "\n",
    "print('\\nSimpson method')\n",
    "print('Analytical: ', integrate.simpson(bd_fourier, x=trial_k))\n",
    "print('Numerical: ', integrate.simpson(bd_fourier_false, x=trial_k))"
   ]
  },
  {
   "cell_type": "code",
   "execution_count": 230,
   "id": "63411921-1ece-463b-9663-f1d3d0c369eb",
   "metadata": {
    "scrolled": true
   },
   "outputs": [
    {
     "name": "stdout",
     "output_type": "stream",
     "text": [
      "       mass:  3000000000000.0 ;  3e+12\n",
      "Real/Mass * 4*pi*r^2:  0.18529513289911434 \n",
      "___\n",
      "Real/Mass:  11.891164989553728 \n",
      "___\n",
      "Analytical fourier/Mass:  nan \n",
      "___\n",
      "Analytical fourier/Mass * 4*pi*r^2:  nan \n",
      "___\n",
      "Numerical fourier/Mass:  3515032.753611079 \n",
      "-----\n",
      "       mass:  60000000000000.0 ;  6e+13\n",
      "Real/Mass * 4*pi*r^2:  0.18947574567095557 \n",
      "___\n",
      "Real/Mass:  1.6420492927177393 \n",
      "___\n",
      "Analytical fourier/Mass:  nan \n",
      "___\n",
      "Analytical fourier/Mass * 4*pi*r^2:  nan \n",
      "___\n",
      "Numerical fourier/Mass:  334491.2793910221 \n",
      "-----\n",
      "       mass:  100000000000000.0 ;  1e+14\n",
      "Real/Mass * 4*pi*r^2:  0.18954884468913394 \n",
      "___\n",
      "Real/Mass:  1.1184340000513 \n",
      "___\n",
      "Analytical fourier/Mass:  nan \n",
      "___\n",
      "Analytical fourier/Mass * 4*pi*r^2:  nan \n",
      "___\n",
      "Numerical fourier/Mass:  210343.93319038532 \n",
      "-----\n"
     ]
    }
   ],
   "source": [
    "for mass, profA, profB, profR in zip(trial_M, bd_fourier[0], bd_fourier_false, bd_real):\n",
    "    print('       mass: ', mass, f';  {mass:.1g}')\n",
    "    print('Real/Mass * 4*pi*r^2: ', integrate.simpson(4*np.pi*(trial_r**2)*profR/mass, x=trial_r), '\\n___')\n",
    "    print('Real/Mass: ', integrate.simpson(profR/mass, x=trial_r), '\\n___')\n",
    "    print('Analytical fourier/Mass: ', integrate.simpson(profA/mass, x=trial_r), '\\n___')\n",
    "    print('Analytical fourier/Mass * 4*pi*r^2: ', integrate.simpson(4*np.pi*(trial_r**2)*profA/mass, x=trial_r), '\\n___')\n",
    "    print('Numerical fourier/Mass: ', integrate.simpson(profB/mass, x=trial_r), '\\n-----')\n",
    "    "
   ]
  },
  {
   "cell_type": "code",
   "execution_count": null,
   "id": "0a867518-d469-47bc-8658-e895706cb21b",
   "metadata": {},
   "outputs": [],
   "source": []
  },
  {
   "cell_type": "markdown",
   "id": "fa86d349-1ec2-4ac5-b279-70d562cbcea4",
   "metadata": {
    "jp-MarkdownHeadingCollapsed": true
   },
   "source": [
    "# Now look at integration of stellar"
   ]
  },
  {
   "cell_type": "code",
   "execution_count": 236,
   "id": "f7fbcfa9-df7a-4609-a21c-08f32f41a469",
   "metadata": {},
   "outputs": [
    {
     "name": "stdout",
     "output_type": "stream",
     "text": [
      "Masses (solar masses):  [3.e+12 6.e+13 1.e+14]\n",
      "Trapezoid method\n",
      "Analytical:  [2.99985e+14 5.99970e+15 9.99950e+15]\n",
      "Numerical:  [2.16388184e+07 4.32776367e+08 7.21293946e+08]\n",
      "\n",
      "Simpson method\n",
      "Analytical:  [2.99985e+14 5.99970e+15 9.99950e+15]\n",
      "Numerical:  [2.16388184e+07 4.32776367e+08 7.21293946e+08]\n"
     ]
    }
   ],
   "source": [
    "print('Masses (solar masses): ', trial_M)\n",
    "print('Trapezoid method')\n",
    "print('Analytical: ', integrate.simpson(stel_fourier, x=trial_k))\n",
    "print('Numerical: ', integrate.simpson(stel_fourier_false, x=trial_k))\n",
    "\n",
    "print('\\nSimpson method')\n",
    "print('Analytical: ', integrate.simpson(stel_fourier, x=trial_k))\n",
    "print('Numerical: ', integrate.simpson(stel_fourier_false, x=trial_k))"
   ]
  },
  {
   "cell_type": "code",
   "execution_count": 238,
   "id": "d96d87d7-12a4-4628-9bb5-7b535b202fe8",
   "metadata": {},
   "outputs": [
    {
     "name": "stdout",
     "output_type": "stream",
     "text": [
      "3000000000000.0\n",
      "[1. 1. 1. ... 1. 1. 1.]\n",
      "[-1.89605762e-02 -1.89528467e-02 -1.89451128e-02 ...  3.94364844e-11\n",
      "  3.94366440e-11  3.94368037e-11]\n",
      "60000000000000.0\n",
      "[1. 1. 1. ... 1. 1. 1.]\n",
      "[-1.89605762e-02 -1.89528467e-02 -1.89451128e-02 ...  3.94364844e-11\n",
      "  3.94366440e-11  3.94368037e-11]\n",
      "100000000000000.0\n",
      "[1. 1. 1. ... 1. 1. 1.]\n",
      "[-1.89605762e-02 -1.89528467e-02 -1.89451128e-02 ...  3.94364844e-11\n",
      "  3.94366440e-11  3.94368037e-11]\n"
     ]
    }
   ],
   "source": [
    "for mass, profA, profB in zip(trial_M, stel_fourier, stel_fourier_false):\n",
    "    print(mass)\n",
    "    print(profA/mass)\n",
    "    print(profB/mass)\n",
    "    "
   ]
  },
  {
   "cell_type": "code",
   "execution_count": 240,
   "id": "a4ab992c-6e2d-425d-a3fd-ec0c89565a78",
   "metadata": {
    "scrolled": true
   },
   "outputs": [
    {
     "name": "stdout",
     "output_type": "stream",
     "text": [
      "Masses (solar masses):  [3.e+12 6.e+13 1.e+14]\n",
      "Trapezoid method\n",
      "Analytical:  [ 2302608.01731347 46052160.34626944 76753600.57711573]\n",
      "\n",
      "Simpson method\n",
      "Analytical:  [ 2302608.01731347 46052160.34626944 76753600.57711573]\n"
     ]
    }
   ],
   "source": [
    "print('Masses (solar masses): ', trial_M)\n",
    "print('Trapezoid method')\n",
    "print('Analytical: ', integrate.simpson(stel_real, x=trial_r))\n",
    "#print('Numerical: ', integrate.simpson(stel_fourier_false, x=trial_k))\n",
    "\n",
    "print('\\nSimpson method')\n",
    "print('Analytical: ', integrate.simpson(stel_real, x=trial_r))\n",
    "#print('Numerical: ', integrate.simpson(stel_fourier_false, x=trial_k))"
   ]
  },
  {
   "cell_type": "code",
   "execution_count": 242,
   "id": "ec185c85-bf0d-4e7b-86a0-ed8de91d40e5",
   "metadata": {},
   "outputs": [
    {
     "name": "stdout",
     "output_type": "stream",
     "text": [
      "       mass:  3000000000000.0 ;  3e+12\n",
      "Real/Mass * 4*pi*r^2:  9.645141908385284e-10 \n",
      "___\n",
      "Real/Mass:  7.675360057711572e-07 \n",
      "___\n",
      "Analytical fourier/Mass:  99999999.99 \n",
      "___\n",
      "Analytical fourier/Mass * 4*pi*r^2:  4.188790204786391e+24 \n",
      "___\n",
      "Numerical fourier/Mass:  0.00401097774456718 \n",
      "-----\n",
      "       mass:  60000000000000.0 ;  6e+13\n",
      "Real/Mass * 4*pi*r^2:  9.645141908385284e-10 \n",
      "___\n",
      "Real/Mass:  7.675360057711572e-07 \n",
      "___\n",
      "Analytical fourier/Mass:  99999999.99 \n",
      "___\n",
      "Analytical fourier/Mass * 4*pi*r^2:  4.188790204786391e+24 \n",
      "___\n",
      "Numerical fourier/Mass:  0.004010977744567168 \n",
      "-----\n",
      "       mass:  100000000000000.0 ;  1e+14\n",
      "Real/Mass * 4*pi*r^2:  9.645141908385284e-10 \n",
      "___\n",
      "Real/Mass:  7.675360057711572e-07 \n",
      "___\n",
      "Analytical fourier/Mass:  99999999.99 \n",
      "___\n",
      "Analytical fourier/Mass * 4*pi*r^2:  4.188790204786391e+24 \n",
      "___\n",
      "Numerical fourier/Mass:  0.004010977744567212 \n",
      "-----\n"
     ]
    }
   ],
   "source": [
    "for mass, profA, profB, profR in zip(trial_M, stel_fourier, stel_fourier_false, stel_real):\n",
    "    print('       mass: ', mass, f';  {mass:.1g}')\n",
    "    print('Real/Mass * 4*pi*r^2: ', integrate.simpson(4*np.pi*(trial_r**2)*profR/mass, x=trial_r), '\\n___')\n",
    "    print('Real/Mass: ', integrate.simpson(profR/mass, x=trial_r), '\\n___')\n",
    "    print('Analytical fourier/Mass: ', integrate.simpson(profA/mass, x=trial_r), '\\n___')\n",
    "    print('Analytical fourier/Mass * 4*pi*r^2: ', integrate.simpson(4*np.pi*(trial_r**2)*profA/mass, x=trial_r), '\\n___')\n",
    "    print('Numerical fourier/Mass: ', integrate.simpson(profB/mass, x=trial_r), '\\n-----')\n",
    "    "
   ]
  },
  {
   "cell_type": "markdown",
   "id": "d71a6099-8e68-467d-b0c7-53490f29f840",
   "metadata": {},
   "source": [
    "See that $4 \\pi \\int^{\\infty}_0 r^2 g(r)\\ dr \\simeq 1 \\times 10^{-9}$ & $\\int^{\\infty}_0 g(k)\\ dr \\simeq 1 \\times 10^{9}$ for stellar.    \n",
    "(even though, $\\rho(k)\\ $ goes with *$dk$*)"
   ]
  },
  {
   "cell_type": "code",
   "execution_count": 245,
   "id": "8a4dcaf3-9428-4bbb-af98-16651edb1717",
   "metadata": {},
   "outputs": [
    {
     "name": "stdout",
     "output_type": "stream",
     "text": [
      "99999999.99 1.0000000001e-08\n",
      "9.645141908385284e-10 1036791381.0896044  1.04e+09 \n"
     ]
    }
   ],
   "source": [
    "print(99999999.99 , 1/99999999.99 )\n",
    "print(9.645141908385284e-10 , 1/9.645141908385284e-10 , f' {1/9.645141908385284e-10:.3g} ')"
   ]
  },
  {
   "cell_type": "code",
   "execution_count": null,
   "id": "96345677-71aa-45b6-9d13-cf931c522da7",
   "metadata": {},
   "outputs": [],
   "source": []
  },
  {
   "cell_type": "code",
   "execution_count": null,
   "id": "c73e245e-6e94-48d6-9db3-1d89b8df30bd",
   "metadata": {},
   "outputs": [],
   "source": []
  },
  {
   "cell_type": "code",
   "execution_count": null,
   "id": "a08451a2-b209-4f98-bddf-26b23db0fa69",
   "metadata": {},
   "outputs": [],
   "source": []
  },
  {
   "cell_type": "code",
   "execution_count": null,
   "id": "1cefd256-1935-457a-8f90-c4e436114cde",
   "metadata": {},
   "outputs": [],
   "source": []
  }
 ],
 "metadata": {
  "kernelspec": {
   "display_name": "Python 3 (ipykernel)",
   "language": "python",
   "name": "python3"
  },
  "language_info": {
   "codemirror_mode": {
    "name": "ipython",
    "version": 3
   },
   "file_extension": ".py",
   "mimetype": "text/x-python",
   "name": "python",
   "nbconvert_exporter": "python",
   "pygments_lexer": "ipython3",
   "version": "3.12.2"
  }
 },
 "nbformat": 4,
 "nbformat_minor": 5
}
