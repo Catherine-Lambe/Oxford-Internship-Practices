{
 "cells": [
  {
   "cell_type": "code",
   "execution_count": null,
   "id": "0a94aad1-3fb1-41b8-89fa-d2fff0c96d45",
   "metadata": {
    "scrolled": true
   },
   "outputs": [],
   "source": [
    "import numpy as np\n",
    "from glob import glob\n",
    "glob(\"C:/Users/nowar/Downloads/data_2019/data_2019/NNSer/bias/*.fits\")\n",
    "# Useful for opening up FITS files\n"
   ]
  },
  {
   "cell_type": "code",
   "execution_count": null,
   "id": "d67585f2-1810-4c55-98a9-1155d8d2dc80",
   "metadata": {},
   "outputs": [],
   "source": [
    "series = ['b', 'rb', 'a', 'x']\n",
    "plateNumber = np.array(['7131', '16071', '25159', '5267'])\n",
    "plateNumber_string = np.array(['07131', '16071', '25159', '05267'])\n",
    "\n",
    "url = [None]*len(series) \n",
    "filename = [None]*len(series)\n",
    "\n",
    "for i, (s, p, pS) in enumerate(zip(series, plateNumber, plateNumber_string)):\n",
    "    url[i] = \"http://dasch.rc.fas.harvard.edu/extractimage.php?filetype=FITS&series=\"+str(s)+\"&plateNumber=\"+str(p)+\"&mosaicNumber=0&ra=83.861809&dec=-69.269699&system=J2000&radius=0.083333&scaleFactor=0.986700\"\n",
    "    filename[i] = \"C:/Users/nowar/Downloads/Demonstration/\"+str(s)+\"/\"+str(s)+pS+\"_00_01_extract.fit\"\n",
    "    \n",
    "print(url)\n",
    "print(filename)\n"
   ]
  },
  {
   "cell_type": "code",
   "execution_count": null,
   "id": "caf5371c-2508-496e-b797-33b1cf3860ba",
   "metadata": {
    "scrolled": true
   },
   "outputs": [],
   "source": [
    "import os.path # Checks if a file is already present/exists (ie- in a specified location)\n",
    "for file in filename:\n",
    "    print(os.path.exists(file))"
   ]
  },
  {
   "cell_type": "code",
   "execution_count": null,
   "id": "649290bc-a8f0-4af7-a0c1-1745061492b4",
   "metadata": {},
   "outputs": [],
   "source": [
    "import urllib.request # Download [named] files from [named] urls\n",
    "for u, file in zip(url, filename):\n",
    "    print(urllib.request.urlretrieve(u,file))"
   ]
  },
  {
   "cell_type": "code",
   "execution_count": null,
   "id": "d8b4edad-adac-465e-a01f-609009a36057",
   "metadata": {},
   "outputs": [],
   "source": [
    "for file in filename:\n",
    "    print(os.path.exists(file))"
   ]
  },
  {
   "cell_type": "code",
   "execution_count": null,
   "id": "897c0efd-acdd-4b02-b1c9-2259240dcbab",
   "metadata": {
    "scrolled": true
   },
   "outputs": [],
   "source": [
    "from astropy.io import fits\n",
    "from matplotlib import pyplot as plt\n",
    "\n",
    "for i, file in enumerate(filename):\n",
    "    image = fits.open(file)\n",
    "    plt.imshow(image[0].data, cmap='gray_r')\n",
    "    plt.title(series[i]+plateNumber[i]);\n",
    "    plt.figure()"
   ]
  },
  {
   "cell_type": "code",
   "execution_count": null,
   "id": "aebd87f4-4e5d-4eeb-bb3c-6c2357d1ef27",
   "metadata": {},
   "outputs": [],
   "source": []
  },
  {
   "cell_type": "code",
   "execution_count": null,
   "id": "b1312894-62df-4fa7-806d-17f893d5d2a2",
   "metadata": {},
   "outputs": [],
   "source": []
  },
  {
   "cell_type": "code",
   "execution_count": null,
   "id": "30e6075f-90c3-4f56-a697-e7f197c7ccbd",
   "metadata": {},
   "outputs": [],
   "source": []
  },
  {
   "cell_type": "code",
   "execution_count": null,
   "id": "6cd22bd7-3f8f-44b0-831f-0b71e8da2c9a",
   "metadata": {},
   "outputs": [],
   "source": [
    "series, plateNumber, plateNumber_string = 'b', '7131', '07131'\n",
    "                                        # 'rb', '16071', '16071'\n",
    "                                        # 'a', '25159', '25159'\n",
    "                                        # 'x', '5267', '05267'  \n",
    "url = \"http://dasch.rc.fas.harvard.edu/extractimage.php?filetype=FITS&series=\"+str(series)+\"&plateNumber=\"+str(plateNumber)+\"&mosaicNumber=0&ra=83.861809&dec=-69.269699&system=J2000&radius=0.083333&scaleFactor=0.986700\"\n",
    "filename = \"C:/Users/nowar/Downloads/Demonstration/\"+str(series)+\"/\"+str(series)+plateNumber_string+\"_00_01_extract.fit\"\n",
    "\n",
    "import os.path # Checks if a file is already present/exists (ie- in a specified location)\n",
    "os.path.exists(filename)"
   ]
  }
 ],
 "metadata": {
  "kernelspec": {
   "display_name": "Python 3 (ipykernel)",
   "language": "python",
   "name": "python3"
  },
  "language_info": {
   "codemirror_mode": {
    "name": "ipython",
    "version": 3
   },
   "file_extension": ".py",
   "mimetype": "text/x-python",
   "name": "python",
   "nbconvert_exporter": "python",
   "pygments_lexer": "ipython3",
   "version": "3.9.18"
  }
 },
 "nbformat": 4,
 "nbformat_minor": 5
}
