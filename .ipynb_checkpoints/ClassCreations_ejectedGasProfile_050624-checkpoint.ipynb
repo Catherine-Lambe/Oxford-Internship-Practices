{
 "cells": [
  {
   "cell_type": "code",
   "execution_count": 115,
   "id": "a11b2078-7156-4732-a07e-cdd49b8ba3b2",
   "metadata": {},
   "outputs": [],
   "source": [
    "import numpy as np\n",
    "import pyccl as ccl\n",
    "import matplotlib.pyplot as plt\n"
   ]
  },
  {
   "cell_type": "markdown",
   "id": "d0783a8e-1c17-44ab-b506-6f4dc5515ced",
   "metadata": {},
   "source": [
    "## Friday Week 1 (05/07/2024): Have to create a class for an ejected mass profile\n",
    " - Look at https://github.com/LSSTDESC/CCL/blob/master/pyccl/halos/profiles/nfw.py as an example of the creation of a halo mass profile.\n",
    " - Python docs on classes: https://docs.python.org/3/tutorial/classes.html\n",
    " - Selected bits: \n",
    "   - the class inheritance mechanism allows multiple base classes\n",
    "   - a derived class can override any methods of its base class or classes\n",
    "   - a method can call the method of a base class with the same name"
   ]
  },
  {
   "cell_type": "markdown",
   "id": "a9f1f489-80a1-471b-b5b3-b6a0c22b7b32",
   "metadata": {},
   "source": [
    "$\\rho_X(r)\\ = Ma ^{-3} f_X g_X(r)\\$. \n",
    "\n",
    "- M = total halo mass\n",
    "- $f_X$ = the fraction of that mass in gas species X\n",
    "- $g(x)$ = the profile, which satisfies the normalisation $4\\pi \\int^{\\inf)_0 dr r^2 g_X(r)\\ = 1$\n",
    "- a = the scale factor\n",
    "\n",
    "$f_c + f_b + f_e + f_* = 1$ AND (assuming adiabaticity) $f_b + f_e + f_* = \\bar{f}_b \\equiv \\frac{\\Omega_b}{\\Omega_M}$"
   ]
  },
  {
   "cell_type": "markdown",
   "id": "6bdb779d-c54c-4110-a5ae-541d66a8933b",
   "metadata": {},
   "source": [
    "ejected gas fraction: $f_e(M)\\ = \\bar{f}_b - f_b(M)\\ -f_*(M)\\ $    \n",
    "(with eqns given for these 3) (see: [pdf](../Background-reading/XrayCrossCorrelations-1.pdf)).  \n",
    "$g_e(r)\\ = \\frac{exp \\left ( \\frac{-r^2}{2r^2_e} \\right) }{(2 \\pi r^2_e)^{3/2}} $   \n",
    "with characteristic scale $r_e$ (...)   $r_e = 0.75\\eta_br_{esc} \\simeq 0.75\\eta_b* 0.5\\sqrt{\\Delta} r_{vir}$, with \"$\\Delta = 200$ in our case\".   \n",
    "Then Fourier transform of the profile is (analytical):   \n",
    "$\\tilde{g}_e(k)\\ = exp \\left( \\frac{-(kr_e)^2}{2} \\right)$"
   ]
  },
  {
   "cell_type": "markdown",
   "id": "f3f1c399-b3d1-497f-ae93-32fb411ebc8c",
   "metadata": {},
   "source": [
    "----------------------------------------------------------------------------\n",
    "In (paper)[file:///Users/lambe/Documents/GitHub/Oxford-Intern-2024/Background-reading/XrayCrossCorrelations-1.pdf], see that:   \n",
    "$\\rho_x(r)\\ = M f_x\\ a^{-3} g_x(r)\\ $    \n",
    "$g_{ej}(r)\\ = \\frac{1}{(2\\pi r_{ej})^{3/2}} * exp[- \\frac{1}{2} \\left( \\frac{r}{r_{ej}} \\right)^2 ]$   \n",
    "$\\to \\rho_{ej}(r)\\ = M f_{ej}\\ \\frac{1}{a^{3}(2\\pi r_{ej})^{3/2}} * exp[- \\frac{1}{2} \\left( \\frac{r}{r_{ej}} \\right)^2 ]$"
   ]
  },
  {
   "cell_type": "markdown",
   "id": "617681b2-b648-4f7a-82ae-b7e80a74fff2",
   "metadata": {},
   "source": [
    "And the Fourier profile is:   \n",
    "$\\rho_{ej}(k)\\ = M f_{ej}\\ a^{-3} \\tilde{g}_{ej}(k)\\ = M f_{ej}\\ a^{-3} exp[-(kr_{ej})^2/2] $   \n",
    "as $\\tilde{g}_{ej}(k)\\ = exp[-(kr_{ej})^2/2] \\to 1$ as $k \\to 1 $   "
   ]
  },
  {
   "cell_type": "code",
   "execution_count": 79,
   "id": "42895ab0-3d69-4eea-89a6-93de07f97054",
   "metadata": {},
   "outputs": [
    {
     "name": "stdout",
     "output_type": "stream",
     "text": [
      "[[0. 0. 0. 0. 0.]\n",
      " [0. 0. 0. 0. 0.]]\n"
     ]
    }
   ],
   "source": [
    "print(np.zeros([2,5]))"
   ]
  },
  {
   "cell_type": "code",
   "execution_count": 101,
   "id": "f7ad7d33-c062-454c-af5a-794c274a6c1e",
   "metadata": {},
   "outputs": [],
   "source": [
    "class ejGas_profile(ccl.halos.profiles.profile_base.HaloProfile): #(ccl.halos.Haloprofile):\n",
    "    \"\"\"Creating a class for the ejected gas density profile\n",
    "    where: \"\"\"  # could put in the equations used\n",
    "\n",
    "    def __init__(self, mass_def, r_ej):\n",
    "        self.r_ej = r_ej  # may need to add an rEj parameter into real & Fourier profiles below\n",
    "        super(ejGas_profile, self).__init__(mass_def=mass_def)\n",
    "\n",
    "    def _real(self, r, M, r_ej, \n",
    "              a=1, f=1): # set the default pars for scale factor a & fraction of total mass f\n",
    "        r_use = np.atleast_1d(r) # need them to be functional arrays\n",
    "        M_use = np.atleast_1d(M)\n",
    "        rEj_use = np.atleast_1d(r_ej)\n",
    "\n",
    "        # Returns: float or array_like: halo profile. The shape of the output will be `(N_M, N_r)` \n",
    "        # where `N_r` and `N_m` are the sizes of `r` and `M` respectively.\n",
    "\n",
    "        prefix = M_use * f * (1/(a*np.sqrt(2*np.pi*rEj_use)))**3\n",
    "        x = r[None, :] / rEj_use[:, None]\n",
    "        # delete: prof = np.exp(-(1/2)*(r_use[None, :]/r_ej[:, None])**2)\n",
    "        prof = prefix[:, None] * np.exp(-(x**2)/2)\n",
    "\n",
    "        if np.ndim(r) == 0:\n",
    "            prof = np.squeeze(prof, axis=-1)\n",
    "        if np.ndim(M) == 0:\n",
    "            prof = np.squeeze(prof, axis=0)\n",
    "                                                          \n",
    "        return prof\n",
    "\n",
    "    def _fourier(self, k, M, r_ej, \n",
    "                 a=1, f=1):\n",
    "        k_use = np.atleast_1d(r)\n",
    "        M_use = np.atleast_1d(M)\n",
    "        #rEj_use = np.atleast_1d(rEj)\n",
    "\n",
    "        prof = M_use * f * np.exp(-(1/2)*(k_use*r_ej)**2)/(a**3)\n",
    "\n",
    "        if np.ndim(k) == 0:\n",
    "            prof = np.squeeze(prof, axis=-1)\n",
    "        if np.ndim(M) == 0:\n",
    "            prof = np.squeeze(prof, axis=0)\n",
    "\n",
    "        return prof\n",
    "    "
   ]
  },
  {
   "cell_type": "code",
   "execution_count": 103,
   "id": "56c1da1c-3c86-48cf-b82f-a05c0cf27d48",
   "metadata": {},
   "outputs": [],
   "source": [
    "# working with z = 0 (today) ; therefore a = 1\n",
    "# use a mass definition with Delta = 200\n",
    "hmd_200c = ccl.halos.MassDef200c\n",
    "rejT = 30000\n",
    "trial_ejProf = ejGas_profile(hmd_200c, rejT)"
   ]
  },
  {
   "cell_type": "code",
   "execution_count": 161,
   "id": "fa048462-8f16-4e4a-a606-bb0435b64dfa",
   "metadata": {},
   "outputs": [
    {
     "data": {
      "text/plain": [
       "array([[  61096.7796641 ,   61062.84507854,   60961.15572308, ...,\n",
       "              0.        ,       0.        ,       0.        ],\n",
       "       [ 244387.1186564 ,  244251.38031415,  243844.62289233, ...,\n",
       "              0.        ,       0.        ,       0.        ],\n",
       "       [1221935.593282  , 1221256.90157077, 1219223.11446166, ...,\n",
       "              0.        ,       0.        ,       0.        ]])"
      ]
     },
     "execution_count": 161,
     "metadata": {},
     "output_type": "execute_result"
    }
   ],
   "source": [
    "trial_r = np.linspace(1E-2,1E8,100000)\n",
    "trial_M = np.array([5E12,2E13, 1E14])\n",
    "profTrial_real = trial_ejProf._real(trial_r, trial_M, rejT)\n",
    "profTrial_real"
   ]
  },
  {
   "cell_type": "code",
   "execution_count": 167,
   "id": "32575ff5-b7d9-4f55-9e73-8c150fda19fb",
   "metadata": {},
   "outputs": [
    {
     "data": {
      "image/png": "[encoded data removed]",
      "text/plain": [
       "<Figure size 640x480 with 1 Axes>"
      ]
     },
     "metadata": {},
     "output_type": "display_data"
    }
   ],
   "source": [
    "colours = ['k-', 'r:', 'g.']\n",
    "i = 0\n",
    "for j in trial_M:\n",
    "    plt.plot(trial_r, profTrial_real[i],\n",
    "         colours[i], lw=3)\n",
    "    i+=1\n",
    "plt.ylabel(r'$\\rho(r)\\,\\,[M_\\odot\\,{\\rm Mpc}^{-3}]$', fontsize=15)\n",
    "plt.xlabel(r'$r\\,\\,[{\\rm Mpc}]$', fontsize=15);\n",
    "plt.xscale('log');"
   ]
  },
  {
   "cell_type": "code",
   "execution_count": null,
   "id": "7bd2d286-de6a-4657-9107-81ed461ff588",
   "metadata": {},
   "outputs": [],
   "source": []
  }
 ],
 "metadata": {
  "kernelspec": {
   "display_name": "Python 3 (ipykernel)",
   "language": "python",
   "name": "python3"
  },
  "language_info": {
   "codemirror_mode": {
    "name": "ipython",
    "version": 3
   },
   "file_extension": ".py",
   "mimetype": "text/x-python",
   "name": "python",
   "nbconvert_exporter": "python",
   "pygments_lexer": "ipython3",
   "version": "3.12.2"
  }
 },
 "nbformat": 4,
 "nbformat_minor": 5
}
