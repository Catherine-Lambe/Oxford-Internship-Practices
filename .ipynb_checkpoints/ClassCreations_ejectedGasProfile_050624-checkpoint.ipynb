{
 "cells": [
  {
   "cell_type": "code",
   "execution_count": 55,
   "id": "a11b2078-7156-4732-a07e-cdd49b8ba3b2",
   "metadata": {},
   "outputs": [],
   "source": [
    "import numpy as np\n",
    "import pyccl as ccl\n",
    "import matplotlib as plt\n"
   ]
  },
  {
   "cell_type": "markdown",
   "id": "d0783a8e-1c17-44ab-b506-6f4dc5515ced",
   "metadata": {},
   "source": [
    "## Friday Week 1 (05/07/2024): Have to create a class for an ejected mass profile\n",
    " - Look at https://github.com/LSSTDESC/CCL/blob/master/pyccl/halos/profiles/nfw.py as an example of the creation of a halo mass profile.\n",
    " - Python docs on classes: https://docs.python.org/3/tutorial/classes.html\n",
    " - Selected bits: \n",
    "   - the class inheritance mechanism allows multiple base classes\n",
    "   - a derived class can override any methods of its base class or classes\n",
    "   - a method can call the method of a base class with the same name"
   ]
  },
  {
   "cell_type": "code",
   "execution_count": 63,
   "id": "0a9bdc95-cf5f-44e1-9a80-76ca2db131d2",
   "metadata": {},
   "outputs": [],
   "source": [
    "class ejGas_profile(ccl.halos.HaloProfile):\n",
    "    \"\"\"Creating a class for the ejected gas density profile\n",
    "    where: \"\"\"  # could put in the equations used\n",
    "\n",
    "    def __init__(self, mass_def, r_ej):\n",
    "        self.r_ej = r_ej\n",
    "        super(ejGas_profile, self).__init__(mass_def=mass_def)"
   ]
  },
  {
   "cell_type": "code",
   "execution_count": 65,
   "id": "ecd14d4a-7520-44a1-b423-1c4fdce707b4",
   "metadata": {},
   "outputs": [
    {
     "ename": "SyntaxError",
     "evalue": "invalid syntax (16367247.py, line 1)",
     "output_type": "error",
     "traceback": [
      "\u001b[0;36m  Cell \u001b[0;32mIn[65], line 1\u001b[0;36m\u001b[0m\n\u001b[0;31m    ejGas_profile.()\u001b[0m\n\u001b[0m                  ^\u001b[0m\n\u001b[0;31mSyntaxError\u001b[0m\u001b[0;31m:\u001b[0m invalid syntax\n"
     ]
    }
   ],
   "source": [
    "ejGas_profile"
   ]
  },
  {
   "cell_type": "code",
   "execution_count": 67,
   "id": "56c1da1c-3c86-48cf-b82f-a05c0cf27d48",
   "metadata": {},
   "outputs": [
    {
     "ename": "TypeError",
     "evalue": "Can't instantiate ejGas_profile with no _real or _fourier implementation.",
     "output_type": "error",
     "traceback": [
      "\u001b[0;31m---------------------------------------------------------------------------\u001b[0m",
      "\u001b[0;31mTypeError\u001b[0m                                 Traceback (most recent call last)",
      "Cell \u001b[0;32mIn[67], line 5\u001b[0m\n\u001b[1;32m      3\u001b[0m hmd_200c \u001b[38;5;241m=\u001b[39m ccl\u001b[38;5;241m.\u001b[39mhalos\u001b[38;5;241m.\u001b[39mMassDef200c\n\u001b[1;32m      4\u001b[0m rejT \u001b[38;5;241m=\u001b[39m \u001b[38;5;241m30000\u001b[39m\n\u001b[0;32m----> 5\u001b[0m ejGas_profile(hmd_200c, rejT)\n",
      "Cell \u001b[0;32mIn[63], line 7\u001b[0m, in \u001b[0;36mejGas_profile.__init__\u001b[0;34m(self, mass_def, r_ej)\u001b[0m\n\u001b[1;32m      5\u001b[0m \u001b[38;5;28;01mdef\u001b[39;00m \u001b[38;5;21m__init__\u001b[39m(\u001b[38;5;28mself\u001b[39m, mass_def, r_ej):\n\u001b[1;32m      6\u001b[0m     \u001b[38;5;28mself\u001b[39m\u001b[38;5;241m.\u001b[39mr_ej \u001b[38;5;241m=\u001b[39m r_ej\n\u001b[0;32m----> 7\u001b[0m     \u001b[38;5;28msuper\u001b[39m(ejGas_profile, \u001b[38;5;28mself\u001b[39m)\u001b[38;5;241m.\u001b[39m\u001b[38;5;21m__init__\u001b[39m(mass_def\u001b[38;5;241m=\u001b[39mmass_def)\n",
      "File \u001b[0;32m/opt/anaconda3/lib/python3.12/site-packages/pyccl/halos/profiles/profile_base.py:46\u001b[0m, in \u001b[0;36mHaloProfile.__init__\u001b[0;34m(self, mass_def, concentration, is_number_counts)\u001b[0m\n\u001b[1;32m     44\u001b[0m \u001b[38;5;28;01mif\u001b[39;00m \u001b[38;5;129;01mnot\u001b[39;00m (\u001b[38;5;28mhasattr\u001b[39m(\u001b[38;5;28mself\u001b[39m, \u001b[38;5;124m\"\u001b[39m\u001b[38;5;124m_real\u001b[39m\u001b[38;5;124m\"\u001b[39m) \u001b[38;5;129;01mor\u001b[39;00m \u001b[38;5;28mhasattr\u001b[39m(\u001b[38;5;28mself\u001b[39m, \u001b[38;5;124m\"\u001b[39m\u001b[38;5;124m_fourier\u001b[39m\u001b[38;5;124m\"\u001b[39m)):\n\u001b[1;32m     45\u001b[0m     name \u001b[38;5;241m=\u001b[39m \u001b[38;5;28mtype\u001b[39m(\u001b[38;5;28mself\u001b[39m)\u001b[38;5;241m.\u001b[39m\u001b[38;5;18m__name__\u001b[39m\n\u001b[0;32m---> 46\u001b[0m     \u001b[38;5;28;01mraise\u001b[39;00m \u001b[38;5;167;01mTypeError\u001b[39;00m(\u001b[38;5;124mf\u001b[39m\u001b[38;5;124m\"\u001b[39m\u001b[38;5;124mCan\u001b[39m\u001b[38;5;124m'\u001b[39m\u001b[38;5;124mt instantiate \u001b[39m\u001b[38;5;132;01m{\u001b[39;00mname\u001b[38;5;132;01m}\u001b[39;00m\u001b[38;5;124m with no \u001b[39m\u001b[38;5;124m\"\u001b[39m\n\u001b[1;32m     47\u001b[0m                     \u001b[38;5;124m\"\u001b[39m\u001b[38;5;124m_real or _fourier implementation.\u001b[39m\u001b[38;5;124m\"\u001b[39m)\n\u001b[1;32m     49\u001b[0m \u001b[38;5;66;03m# Initialize FFTLog.\u001b[39;00m\n\u001b[1;32m     50\u001b[0m \u001b[38;5;28mself\u001b[39m\u001b[38;5;241m.\u001b[39mprecision_fftlog \u001b[38;5;241m=\u001b[39m FFTLogParams()\n",
      "\u001b[0;31mTypeError\u001b[0m: Can't instantiate ejGas_profile with no _real or _fourier implementation."
     ]
    }
   ],
   "source": [
    "# working with z = 0 (today) ; therefore a = 1\n",
    "# use a mass definition with Delta = 200\n",
    "hmd_200c = ccl.halos.MassDef200c\n",
    "rejT = 30000\n",
    "ejGas_profile(hmd_200c, rejT)"
   ]
  },
  {
   "cell_type": "markdown",
   "id": "7f4904ec-398d-445a-923b-3693d1cd7b10",
   "metadata": {},
   "source": [
    "Let M be the total *ejected gas* mass (instead of having the fractions) (can then change so to allow for fractions).  \n"
   ]
  },
  {
   "cell_type": "code",
   "execution_count": 30,
   "id": "f7ad7d33-c062-454c-af5a-794c274a6c1e",
   "metadata": {},
   "outputs": [
    {
     "ename": "SyntaxError",
     "evalue": "'return' outside function (2633050456.py, line 14)",
     "output_type": "error",
     "traceback": [
      "\u001b[0;36m  Cell \u001b[0;32mIn[30], line 14\u001b[0;36m\u001b[0m\n\u001b[0;31m    return prof\u001b[0m\n\u001b[0m    ^\u001b[0m\n\u001b[0;31mSyntaxError\u001b[0m\u001b[0;31m:\u001b[0m 'return' outside function\n"
     ]
    }
   ],
   "source": [
    "class ejGas_profile(ccl.halos.Haloprofile):\n",
    "    \"\"\"Creating a class for the ejected gas density profile\n",
    "    where: \"\"\"  # could put in the equations used\n",
    "\n",
    "    def __init__(self, mass_def, r_ej):\n",
    "        self.r_ej = r_ej\n",
    "        super(ejGas_profile, self).__init__(mass_def=mass_def)\n",
    "\n",
    "    def _real(self, ):\n",
    "        r_use = np.atleast_1d(r). # need them to be functional arrays\n",
    "        M_use = np.atleast_1d(M)\n",
    "\n",
    "        return\n",
    "\n",
    "    def _fourier(self, mass):\n",
    "        r_use = np.atleast_1d(r)\n",
    "        M_use = np.atleast_1d(M)\n",
    "\n",
    "        return \n",
    "        \n",
    "# need to define prof\n",
    "\n",
    "    if np.ndim(k) == 0:\n",
    "        prof = np.squeeze(prof, axis=-1)\n",
    "    if np.ndim(M) == 0:\n",
    "        prof = np.squeeze(prof, axis=0)\n",
    "    return prof\n",
    "    "
   ]
  },
  {
   "cell_type": "markdown",
   "id": "a9f1f489-80a1-471b-b5b3-b6a0c22b7b32",
   "metadata": {},
   "source": [
    "$\\rho_X(r)\\ = Ma ^{-3} f_X g_X(r)\\$. \n",
    "\n",
    "- M = total halo mass\n",
    "- $f_X$ = the fraction of that mass in gas species X\n",
    "- $g(x)$ = the profile, which satisfies the normalisation $4\\pi \\int^{\\inf)_0 dr r^2 g_X(r)\\ = 1$\n",
    "- a = the scale factor\n",
    "\n",
    "$f_c + f_b + f_e + f_* = 1$ AND (assuming adiabaticity) $f_b + f_e + f_* = \\bar{f}_b \\equiv \\frac{\\Omega_b}{\\Omega_M}$"
   ]
  },
  {
   "cell_type": "markdown",
   "id": "6bdb779d-c54c-4110-a5ae-541d66a8933b",
   "metadata": {},
   "source": [
    "ejected gas fraction: $f_e(M)\\ = \\bar{f}_b - f_b(M)\\ -f_*(M)\\ $    \n",
    "(with eqns given for these 3) (see: [pdf](../Background-reading/XrayCrossCorrelations-1.pdf)).  \n",
    "$g_e(r)\\ = \\frac{exp \\left ( \\frac{-r^2}{2r^2_e} \\right) }{(2 \\pi r^2_e)^{3/2}} $   \n",
    "with characteristic scale $r_e$ (...)   $r_e = 0.75\\eta_br_{esc} \\simeq 0.75\\eta_b* 0.5\\sqrt{\\Delta} r_{vir}$, with \"$\\Delta = 200$ in our case\".   \n",
    "Then Fourier transform of the profile is (analytical):   \n",
    "$\\tilde{g}_e(k)\\ = exp \\left( \\frac{-(kr_e)^2}{2} \\right)$"
   ]
  },
  {
   "cell_type": "code",
   "execution_count": null,
   "id": "fa048462-8f16-4e4a-a606-bb0435b64dfa",
   "metadata": {},
   "outputs": [],
   "source": []
  }
 ],
 "metadata": {
  "kernelspec": {
   "display_name": "Python 3 (ipykernel)",
   "language": "python",
   "name": "python3"
  },
  "language_info": {
   "codemirror_mode": {
    "name": "ipython",
    "version": 3
   },
   "file_extension": ".py",
   "mimetype": "text/x-python",
   "name": "python",
   "nbconvert_exporter": "python",
   "pygments_lexer": "ipython3",
   "version": "3.12.2"
  }
 },
 "nbformat": 4,
 "nbformat_minor": 5
}
