{
 "cells": [
  {
   "attachments": {},
   "cell_type": "markdown",
   "metadata": {},
   "source": [
    "# CCL matter power spectra calculations\n",
    "\n",
    "In this example, we will calculate the matter power spectrum using different options for the transfer function (CAMB, CLASS, etc.), different options for the matter power spectrum (emulator, with baryons) and different cosmologies, including parametrized Modified Gravity.\n",
    "\n",
    "Note that you will need CAMB and CLASS installed in your system. You can check our installation instructions for further details: https://ccl.readthedocs.io/en/v2.0.0/source/installation.html"
   ]
  },
  {
   "cell_type": "code",
   "execution_count": 2,
   "metadata": {},
   "outputs": [],
   "source": [
    "import numpy as np\n",
    "import pyccl as ccl\n",
    "import pylab as plt\n",
    "import math\n",
    "%matplotlib inline"
   ]
  },
  {
   "attachments": {},
   "cell_type": "markdown",
   "metadata": {},
   "source": [
    "We begin by defining a set of cosmological parameters, as usual:"
   ]
  },
  {
   "cell_type": "code",
   "execution_count": 4,
   "metadata": {},
   "outputs": [],
   "source": [
    "cosmo = ccl.Cosmology(Omega_c=0.27, Omega_b=0.045, h=0.67, A_s=2.1e-9, n_s=0.96, \n",
    "                      transfer_function='boltzmann_class')"
   ]
  },
  {
   "attachments": {},
   "cell_type": "markdown",
   "metadata": {},
   "source": [
    "Note that we have explicitly defined how transfer functions should be calculated for the linear matter power spectrum, by using the `transfer_function` keyword argument. The types of transfer function are listed [here](https://ccl.readthedocs.io/en/latest/source/notation_and_other_cosmological_conventions.html#supported-models-for-the-power-spectrum-mass-function-etc)."
   ]
  },
  {
   "attachments": {},
   "cell_type": "markdown",
   "metadata": {},
   "source": [
    "The default is `boltzmann_camb`, which uses a full transfer function calculation from the CAMB Boltzmann code. This is one of the most accurate options at the level of linear pertubation theory, but will be less accurate at non-linear scales.\n",
    "\n",
    "If we were less interested in precision but wanted to improve speed, we could have chosen the `eisenstein_hu` option instead.\n",
    "\n",
    "Likewise, the `Cosmology()` object constructor also has a `matter_power_spectrum` argument that can be changed. There is no need to do this for now, however."
   ]
  },
  {
   "attachments": {},
   "cell_type": "markdown",
   "metadata": {},
   "source": [
    "### NB: How CCL caches results\n",
    "Now, we can calculate the linear and non-linear matter power spectra as a function of wavenumber. Before we do that though, let's just perform a quick test to see how CCL caches the results of calculations:"
   ]
  },
  {
   "cell_type": "code",
   "execution_count": 8,
   "metadata": {},
   "outputs": [
    {
     "name": "stdout",
     "output_type": "stream",
     "text": [
      "False\n",
      "False\n"
     ]
    }
   ],
   "source": [
    "print(cosmo.has_linear_power)\n",
    "print(cosmo.has_sigma)"
   ]
  },
  {
   "attachments": {},
   "cell_type": "markdown",
   "metadata": {},
   "source": [
    "Both of these status indicators are `False`, showing that CCL hasn't yet computer power spectra (transfer functions) or sigma(R); the cache is currently empty. When we calculate the power spectrum, though, the result will be stored (and splined) for future use.\n",
    "\n",
    "## Calculate the matter power spectrum\n",
    "\n",
    "Now, let's calculate the power spectra:"
   ]
  },
  {
   "cell_type": "code",
   "execution_count": 10,
   "metadata": {},
   "outputs": [],
   "source": [
    "kmin, kmax, nk = 1e-4, 1e1, 128\n",
    "k = np.logspace(np.log10(kmin), np.log10(kmax), nk) # Wavenumber\n",
    "a = 1. # Scale factor a z=0"
   ]
  },
  {
   "cell_type": "code",
   "execution_count": 11,
   "metadata": {},
   "outputs": [
    {
     "ename": "ModuleNotFoundError",
     "evalue": "No module named 'classy'",
     "output_type": "error",
     "traceback": [
      "\u001b[0;31m---------------------------------------------------------------------------\u001b[0m",
      "\u001b[0;31mModuleNotFoundError\u001b[0m                       Traceback (most recent call last)",
      "Cell \u001b[0;32mIn[11], line 1\u001b[0m\n\u001b[0;32m----> 1\u001b[0m pk_lin \u001b[38;5;241m=\u001b[39m ccl\u001b[38;5;241m.\u001b[39mlinear_matter_power(cosmo, k, a)\n\u001b[1;32m      2\u001b[0m pk_nl \u001b[38;5;241m=\u001b[39m ccl\u001b[38;5;241m.\u001b[39mnonlin_matter_power(cosmo, k, a)\n",
      "File \u001b[0;32m/opt/anaconda3/lib/python3.12/site-packages/pyccl/power.py:56\u001b[0m, in \u001b[0;36mlinear_matter_power\u001b[0;34m(cosmo, k, a)\u001b[0m\n\u001b[1;32m     44\u001b[0m \u001b[38;5;28;01mdef\u001b[39;00m \u001b[38;5;21mlinear_matter_power\u001b[39m(cosmo, k, a):\n\u001b[1;32m     45\u001b[0m \u001b[38;5;250m    \u001b[39m\u001b[38;5;124;03m\"\"\"The linear matter power spectrum\u001b[39;00m\n\u001b[1;32m     46\u001b[0m \n\u001b[1;32m     47\u001b[0m \u001b[38;5;124;03m    Args:\u001b[39;00m\n\u001b[0;32m   (...)\u001b[0m\n\u001b[1;32m     54\u001b[0m \u001b[38;5;124;03m        :math:`{\\\\rm Mpc}^3`.\u001b[39;00m\n\u001b[1;32m     55\u001b[0m \u001b[38;5;124;03m    \"\"\"\u001b[39;00m\n\u001b[0;32m---> 56\u001b[0m     \u001b[38;5;28;01mreturn\u001b[39;00m cosmo\u001b[38;5;241m.\u001b[39mlinear_power(k, a, p_of_k_a\u001b[38;5;241m=\u001b[39mDEFAULT_POWER_SPECTRUM)\n",
      "File \u001b[0;32m/opt/anaconda3/lib/python3.12/site-packages/pyccl/power.py:24\u001b[0m, in \u001b[0;36mlinear_power\u001b[0;34m(cosmo, k, a, p_of_k_a)\u001b[0m\n\u001b[1;32m     10\u001b[0m \u001b[38;5;28;01mdef\u001b[39;00m \u001b[38;5;21mlinear_power\u001b[39m(cosmo, k, a, \u001b[38;5;241m*\u001b[39m, p_of_k_a\u001b[38;5;241m=\u001b[39mDEFAULT_POWER_SPECTRUM):\n\u001b[1;32m     11\u001b[0m \u001b[38;5;250m    \u001b[39m\u001b[38;5;124;03m\"\"\"The linear power spectrum.\u001b[39;00m\n\u001b[1;32m     12\u001b[0m \n\u001b[1;32m     13\u001b[0m \u001b[38;5;124;03m    Args:\u001b[39;00m\n\u001b[0;32m   (...)\u001b[0m\n\u001b[1;32m     22\u001b[0m \u001b[38;5;124;03m        (:obj:`float` or `array`): Linear power spectrum.\u001b[39;00m\n\u001b[1;32m     23\u001b[0m \u001b[38;5;124;03m    \"\"\"\u001b[39;00m\n\u001b[0;32m---> 24\u001b[0m     \u001b[38;5;28;01mreturn\u001b[39;00m cosmo\u001b[38;5;241m.\u001b[39mget_linear_power(p_of_k_a)(k, a, cosmo)\n",
      "File \u001b[0;32m/opt/anaconda3/lib/python3.12/site-packages/pyccl/cosmology.py:665\u001b[0m, in \u001b[0;36mCosmology.get_linear_power\u001b[0;34m(self, name)\u001b[0m\n\u001b[1;32m    653\u001b[0m \u001b[38;5;250m\u001b[39m\u001b[38;5;124;03m\"\"\"Get the :class:`~pyccl.pk2d.Pk2D` object associated with\u001b[39;00m\n\u001b[1;32m    654\u001b[0m \u001b[38;5;124;03mthe linear power spectrum with name ``name``.\u001b[39;00m\n\u001b[1;32m    655\u001b[0m \n\u001b[0;32m   (...)\u001b[0m\n\u001b[1;32m    662\u001b[0m \u001b[38;5;124;03m    power spectrum with name `name`.\u001b[39;00m\n\u001b[1;32m    663\u001b[0m \u001b[38;5;124;03m\"\"\"\u001b[39;00m\n\u001b[1;32m    664\u001b[0m \u001b[38;5;28;01mif\u001b[39;00m name \u001b[38;5;241m==\u001b[39m DEFAULT_POWER_SPECTRUM:\n\u001b[0;32m--> 665\u001b[0m     \u001b[38;5;28mself\u001b[39m\u001b[38;5;241m.\u001b[39mcompute_linear_power()\n\u001b[1;32m    666\u001b[0m pk \u001b[38;5;241m=\u001b[39m \u001b[38;5;28mself\u001b[39m\u001b[38;5;241m.\u001b[39m_pk_lin\u001b[38;5;241m.\u001b[39mget(name)\n\u001b[1;32m    667\u001b[0m \u001b[38;5;28;01mif\u001b[39;00m pk \u001b[38;5;129;01mis\u001b[39;00m \u001b[38;5;28;01mNone\u001b[39;00m:\n",
      "File \u001b[0;32m/opt/anaconda3/lib/python3.12/site-packages/pyccl/_core/schema.py:128\u001b[0m, in \u001b[0;36mUnlockInstance.unlock_instance.<locals>.wrapper\u001b[0;34m(*args, **kwargs)\u001b[0m\n\u001b[1;32m    126\u001b[0m bound \u001b[38;5;241m=\u001b[39m func\u001b[38;5;241m.\u001b[39m__signature__\u001b[38;5;241m.\u001b[39mbind(\u001b[38;5;241m*\u001b[39margs, \u001b[38;5;241m*\u001b[39m\u001b[38;5;241m*\u001b[39mkwargs)\n\u001b[1;32m    127\u001b[0m \u001b[38;5;28;01mwith\u001b[39;00m UnlockInstance(bound\u001b[38;5;241m.\u001b[39marguments[name], mutate\u001b[38;5;241m=\u001b[39mmutate):\n\u001b[0;32m--> 128\u001b[0m     \u001b[38;5;28;01mreturn\u001b[39;00m func(\u001b[38;5;241m*\u001b[39margs, \u001b[38;5;241m*\u001b[39m\u001b[38;5;241m*\u001b[39mkwargs)\n",
      "File \u001b[0;32m/opt/anaconda3/lib/python3.12/site-packages/pyccl/cosmology.py:606\u001b[0m, in \u001b[0;36mCosmology.compute_linear_power\u001b[0;34m(self)\u001b[0m\n\u001b[1;32m    604\u001b[0m \u001b[38;5;28;01mif\u001b[39;00m \u001b[38;5;28mself\u001b[39m\u001b[38;5;241m.\u001b[39mhas_linear_power:\n\u001b[1;32m    605\u001b[0m     \u001b[38;5;28;01mreturn\u001b[39;00m\n\u001b[0;32m--> 606\u001b[0m \u001b[38;5;28mself\u001b[39m\u001b[38;5;241m.\u001b[39m_pk_lin[DEFAULT_POWER_SPECTRUM] \u001b[38;5;241m=\u001b[39m \u001b[38;5;28mself\u001b[39m\u001b[38;5;241m.\u001b[39m_compute_linear_power()\n",
      "File \u001b[0;32m/opt/anaconda3/lib/python3.12/site-packages/pyccl/cosmology.py:561\u001b[0m, in \u001b[0;36mCosmology._compute_linear_power\u001b[0;34m(self)\u001b[0m\n\u001b[1;32m    559\u001b[0m         rescale_s8 \u001b[38;5;241m=\u001b[39m \u001b[38;5;28;01mTrue\u001b[39;00m\n\u001b[1;32m    560\u001b[0m \u001b[38;5;28;01melif\u001b[39;00m trf \u001b[38;5;241m==\u001b[39m \u001b[38;5;124m'\u001b[39m\u001b[38;5;124mboltzmann_class\u001b[39m\u001b[38;5;124m'\u001b[39m:\n\u001b[0;32m--> 561\u001b[0m     pk \u001b[38;5;241m=\u001b[39m \u001b[38;5;28mself\u001b[39m\u001b[38;5;241m.\u001b[39mget_class_pk_lin()\n\u001b[1;32m    562\u001b[0m \u001b[38;5;28;01melif\u001b[39;00m trf \u001b[38;5;241m==\u001b[39m \u001b[38;5;124m'\u001b[39m\u001b[38;5;124mboltzmann_isitgr\u001b[39m\u001b[38;5;124m'\u001b[39m:\n\u001b[1;32m    563\u001b[0m     rescale_mg \u001b[38;5;241m=\u001b[39m \u001b[38;5;28;01mFalse\u001b[39;00m\n",
      "File \u001b[0;32m/opt/anaconda3/lib/python3.12/site-packages/pyccl/boltzmann.py:399\u001b[0m, in \u001b[0;36mget_class_pk_lin\u001b[0;34m(cosmo)\u001b[0m\n\u001b[1;32m    387\u001b[0m \u001b[38;5;28;01mdef\u001b[39;00m \u001b[38;5;21mget_class_pk_lin\u001b[39m(cosmo):\n\u001b[1;32m    388\u001b[0m \u001b[38;5;250m    \u001b[39m\u001b[38;5;124;03m\"\"\"Run CLASS and return the linear power spectrum.\u001b[39;00m\n\u001b[1;32m    389\u001b[0m \n\u001b[1;32m    390\u001b[0m \u001b[38;5;124;03m    Args:\u001b[39;00m\n\u001b[0;32m   (...)\u001b[0m\n\u001b[1;32m    397\u001b[0m \u001b[38;5;124;03m            The linear power spectrum.\u001b[39;00m\n\u001b[1;32m    398\u001b[0m \u001b[38;5;124;03m    \"\"\"\u001b[39;00m\n\u001b[0;32m--> 399\u001b[0m     \u001b[38;5;28;01mimport\u001b[39;00m \u001b[38;5;21;01mclassy\u001b[39;00m\n\u001b[1;32m    401\u001b[0m     params \u001b[38;5;241m=\u001b[39m {\n\u001b[1;32m    402\u001b[0m         \u001b[38;5;124m\"\u001b[39m\u001b[38;5;124moutput\u001b[39m\u001b[38;5;124m\"\u001b[39m: \u001b[38;5;124m\"\u001b[39m\u001b[38;5;124mmPk\u001b[39m\u001b[38;5;124m\"\u001b[39m,\n\u001b[1;32m    403\u001b[0m         \u001b[38;5;124m\"\u001b[39m\u001b[38;5;124mnon linear\u001b[39m\u001b[38;5;124m\"\u001b[39m: \u001b[38;5;124m\"\u001b[39m\u001b[38;5;124mnone\u001b[39m\u001b[38;5;124m\"\u001b[39m,\n\u001b[0;32m   (...)\u001b[0m\n\u001b[1;32m    411\u001b[0m         \u001b[38;5;124m\"\u001b[39m\u001b[38;5;124mOmega_k\u001b[39m\u001b[38;5;124m\"\u001b[39m: cosmo[\u001b[38;5;124m\"\u001b[39m\u001b[38;5;124mOmega_k\u001b[39m\u001b[38;5;124m\"\u001b[39m],\n\u001b[1;32m    412\u001b[0m         \u001b[38;5;124m\"\u001b[39m\u001b[38;5;124mn_s\u001b[39m\u001b[38;5;124m\"\u001b[39m: cosmo[\u001b[38;5;124m\"\u001b[39m\u001b[38;5;124mn_s\u001b[39m\u001b[38;5;124m\"\u001b[39m]}\n\u001b[1;32m    414\u001b[0m     \u001b[38;5;66;03m# cosmological constant?\u001b[39;00m\n\u001b[1;32m    415\u001b[0m     \u001b[38;5;66;03m# set Omega_Lambda = 0.0 if w !=-1 or wa != 0\u001b[39;00m\n",
      "\u001b[0;31mModuleNotFoundError\u001b[0m: No module named 'classy'"
     ]
    }
   ],
   "source": [
    "pk_lin = ccl.linear_matter_power(cosmo, k, a)\n",
    "pk_nl = ccl.nonlin_matter_power(cosmo, k, a)"
   ]
  },
  {
   "cell_type": "code",
   "execution_count": null,
   "metadata": {},
   "outputs": [],
   "source": [
    "plt.plot(k, pk_lin, 'b-')\n",
    "plt.plot(k, pk_nl, 'r-')\n",
    "\n",
    "plt.xscale('log')\n",
    "plt.yscale('log')\n",
    "plt.xlabel('$k\\quad[Mpc^{-1}]$', fontsize = 22)\n",
    "plt.ylabel('$P(k)\\quad[{\\\\rm Mpc}]^3$', fontsize=22)\n",
    "plt.xticks(fontsize=18)\n",
    "plt.yticks(fontsize=18)\n",
    "\n",
    "plt.show()"
   ]
  },
  {
   "attachments": {},
   "cell_type": "markdown",
   "metadata": {},
   "source": [
    "We can see that the cache has now been populated:"
   ]
  },
  {
   "cell_type": "code",
   "execution_count": null,
   "metadata": {},
   "outputs": [],
   "source": [
    "print(cosmo.has_linear_power)"
   ]
  },
  {
   "attachments": {},
   "cell_type": "markdown",
   "metadata": {},
   "source": [
    "Subsequent calls to `linear_matter_power()` will be faster for the same cosmology (i.e. the same `Cosmology` object).\n",
    "\n",
    "### Power spectrum normalisation, sigma8\n",
    "We can also calculate the normalisation of the power spectrum, sigma8. Note that this parameter is currently undefined:"
   ]
  },
  {
   "cell_type": "code",
   "execution_count": null,
   "metadata": {},
   "outputs": [],
   "source": [
    "print(cosmo['sigma8'])"
   ]
  },
  {
   "attachments": {},
   "cell_type": "markdown",
   "metadata": {},
   "source": [
    "If we now call the `sigma8()` function, this value should be populated:"
   ]
  },
  {
   "cell_type": "code",
   "execution_count": null,
   "metadata": {},
   "outputs": [],
   "source": [
    "print(ccl.sigma8(cosmo))\n",
    "print(cosmo['sigma8'])"
   ]
  },
  {
   "attachments": {},
   "cell_type": "markdown",
   "metadata": {},
   "source": [
    "### Adding the impact of baryons\n",
    "The power spectrum can also be modified to include the impact of baryons. The overall effect will be to include a scale-dependence which will suppress the power spectrum at scales smaller than a few Mpc/h. Here is an example:"
   ]
  },
  {
   "cell_type": "code",
   "execution_count": null,
   "metadata": {},
   "outputs": [],
   "source": [
    "pk2D_no_baryons = cosmo.get_nonlin_power()\n",
    "baryons = ccl.BaryonsSchneider15(14.25, 0.5, 37.)\n",
    "pk2D_with_baryons = baryons.include_baryonic_effects(cosmo, pk2D_no_baryons)\n",
    "\n",
    "pk_nl = pk2D_no_baryons(k, a)\n",
    "pk_nl_bar = pk2D_with_baryons(k, a)\n",
    "\n",
    "# Plot ratio of NL power spectra with/without baryons\n",
    "pk_nl = ccl.nonlin_matter_power(cosmo, k, a)\n",
    "plt.plot(k, pk_nl_bar/pk_nl, 'r-')\n",
    "\n",
    "plt.xscale('log')\n",
    "plt.xticks(fontsize=18)\n",
    "plt.yticks(fontsize=18)\n",
    "plt.xlabel('$k\\quad[Mpc^{-1}]$', fontsize = 22)\n",
    "plt.ylabel('F(k)',fontsize=22)\n",
    "\n",
    "plt.show()"
   ]
  },
  {
   "attachments": {},
   "cell_type": "markdown",
   "metadata": {},
   "source": [
    "### Cosmologies with neutrinos\n",
    "CCL supports equal and unequal neutrino mass cosmologies. We give some examples below of how to set them up and obtain power spectra for them. Note that for the emulator case, we only support equal-mass cases."
   ]
  },
  {
   "cell_type": "code",
   "execution_count": null,
   "metadata": {},
   "outputs": [],
   "source": [
    "cosmo_nu_eq = ccl.Cosmology(Omega_c=0.27, Omega_b=0.05, h=0.67, sigma8=0.8, n_s=0.96,\n",
    "                            m_nu=0.06, mass_split='equal') #sum of the neutrino masses = 0.06\n",
    "cosmo_nu_uneq = ccl.Cosmology(Omega_c=0.27, Omega_b=0.05, h=0.67, sigma8=0.8, n_s=0.96,\n",
    "                              m_nu=[0.02,0.03,0.04], mass_split='list') #sum of neutrino masses = 0.02 + 0.03 + 0.04\n",
    "\n",
    "pk_nl_nu_eq = ccl.nonlin_matter_power(cosmo_nu_eq, k, a)\n",
    "pk_nl_nu_uneq = ccl.nonlin_matter_power(cosmo_nu_uneq, k, a)"
   ]
  },
  {
   "cell_type": "code",
   "execution_count": null,
   "metadata": {},
   "outputs": [],
   "source": [
    "plt.plot(k, pk_nl_nu_eq, 'b-')\n",
    "plt.plot(k, pk_nl_nu_uneq, 'g--')\n",
    "plt.plot(k, pk_nl, 'r:')\n",
    "\n",
    "plt.xscale('log')\n",
    "plt.yscale('log')\n",
    "plt.xticks(fontsize=18)\n",
    "plt.yticks(fontsize=18)\n",
    "plt.xlabel('$k\\quad[Mpc^{-1}]$', fontsize = 22)\n",
    "plt.ylabel('$P(k)\\quad[{\\\\rm Mpc}]^3$', fontsize=22)\n",
    "plt.show()"
   ]
  },
  {
   "attachments": {},
   "cell_type": "markdown",
   "metadata": {},
   "source": [
    "## Example halo-model power spectrum calculation\n",
    "\n",
    "We will now calculate the halo-model matter power spectrum. We begin by defining a set of cosmological parameters. "
   ]
  },
  {
   "cell_type": "code",
   "execution_count": null,
   "metadata": {},
   "outputs": [],
   "source": [
    "cosmo = ccl.Cosmology(Omega_c=0.27, Omega_b=0.045, h=0.67, sigma8=0.8, n_s=0.96, \n",
    "                      Neff=0,m_nu=0,Omega_k=0,transfer_function='eisenstein_hu',\n",
    "                      matter_power_spectrum='linear')\n",
    "\n",
    "mass_def = ccl.halos.MassDef('vir', 'matter')\n",
    "hmf = ccl.halos.MassFuncSheth99(mass_def=mass_def,mass_def_strict=False,use_delta_c_fit=True)\n",
    "hbf = ccl.halos.HaloBiasSheth99(mass_def=mass_def,mass_def_strict=False)\n",
    "cM = ccl.halos.ConcentrationDuffy08(mass_def=mass_def)\n",
    "prf = ccl.halos.HaloProfileNFW(mass_def=mass_def, concentration=cM)\n",
    "hmc = ccl.halos.HMCalculator(mass_function=hmf, halo_bias=hbf,mass_def=mass_def)"
   ]
  },
  {
   "attachments": {},
   "cell_type": "markdown",
   "metadata": {},
   "source": [
    "Note that this time we have specified some choices about the mass function and halo concentration we will use. Consistency of halo definition is enforced for each mass function or halo concentration. The halo-model power spectrum calculation currently makes the assumption that haloes have the 'virial' definition for their masses, so a mass function and halo concentration must be chosen that are consistent with this assumption."
   ]
  },
  {
   "attachments": {},
   "cell_type": "markdown",
   "metadata": {},
   "source": [
    "### Calculate the matter power spectrum\n",
    "Now, let's calculate various different types of power spectra."
   ]
  },
  {
   "cell_type": "code",
   "execution_count": null,
   "metadata": {},
   "outputs": [],
   "source": [
    "# Wavenumber\n",
    "kmin=1e-4\n",
    "kmax=1e1\n",
    "nk=128\n",
    "k = np.logspace(np.log10(kmin), np.log10(kmax), nk) \n",
    "\n",
    "# Scale factor\n",
    "a = 1. \n",
    "\n",
    "# Calculate different P(k)\n",
    "pk_li = ccl.linear_matter_power(cosmo, k, a)\n",
    "pk_hm = ccl.halos.halomod_power_spectrum(cosmo, hmc, k, a, prf)\n",
    "\n",
    "plt.plot(k, pk_li, 'b-',  label='Linear')\n",
    "plt.plot(k, pk_hm, 'g-',  label='Halo model')\n",
    "plt.xscale('log')\n",
    "plt.yscale('log')\n",
    "plt.xticks(fontsize=18)\n",
    "plt.yticks(fontsize=18)\n",
    "plt.xlabel(r'$k\\quad[Mpc^{-1}]$',fontsize=22)\n",
    "plt.ylabel(r'$P(k)\\quad[Mpc]^3$',fontsize=22)\n",
    "plt.ylim([1e1,1e5])\n",
    "plt.legend()\n",
    "plt.show()"
   ]
  },
  {
   "attachments": {},
   "cell_type": "markdown",
   "metadata": {},
   "source": [
    "## Example of a modified gravity cosmology\n",
    "\n",
    "First set some default cosmological parameters."
   ]
  },
  {
   "cell_type": "code",
   "execution_count": null,
   "metadata": {},
   "outputs": [],
   "source": [
    "Omega_c = 0.25; Omega_b = 0.05; h = 0.7; A_s = 2.1e-9; n_s = 0.96; Neff = 3.046; m_nu = 0."
   ]
  },
  {
   "attachments": {},
   "cell_type": "markdown",
   "metadata": {},
   "source": [
    "Set up some different mu_0 / Sigma_0 pairs."
   ]
  },
  {
   "cell_type": "code",
   "execution_count": null,
   "metadata": {},
   "outputs": [],
   "source": [
    "mu_0 = [0.3, -0.3, 0.3, -0.3]\n",
    "sigma_0 = [0.3, -0.3, -0.3, 0.3]"
   ]
  },
  {
   "attachments": {},
   "cell_type": "markdown",
   "metadata": {},
   "source": [
    "Set up the cosmology objects, including one where mu_0 = sigma_0 = 0, the GR case. We set the matter power spectrum type to linear the mu / Sigma parameterisation only supports linear scales."
   ]
  },
  {
   "cell_type": "code",
   "execution_count": null,
   "metadata": {},
   "outputs": [],
   "source": [
    "from pyccl.modified_gravity import MuSigmaMG\n",
    "\n",
    "cosmo_GR = ccl.Cosmology(Omega_c = Omega_c, Omega_b = Omega_b, h = h, A_s = A_s, n_s = n_s, \n",
    "                         Neff = Neff, m_nu = m_nu, matter_power_spectrum='linear')\n",
    "\n",
    "cosmo_1 = ccl.Cosmology(Omega_c = Omega_c, Omega_b = Omega_b, h = h, A_s = A_s, n_s = n_s, \n",
    "                        Neff = Neff, m_nu = m_nu,\n",
    "                        mg_parametrization=MuSigmaMG(mu_0 = mu_0[0], sigma_0 = sigma_0[0]),\n",
    "                        matter_power_spectrum='linear')\n",
    "\n",
    "cosmo_2 = ccl.Cosmology(Omega_c = Omega_c, Omega_b = Omega_b, h = h, A_s = A_s, n_s = n_s, \n",
    "                        Neff = Neff, m_nu = m_nu,\n",
    "                        mg_parametrization=MuSigmaMG(mu_0 = mu_0[1], sigma_0 = sigma_0[1]), \n",
    "                        matter_power_spectrum='linear')\n"
   ]
  },
  {
   "attachments": {},
   "cell_type": "markdown",
   "metadata": {},
   "source": [
    "Compute the linear matter power spectrum (support for this parameterisation is limited to the linear regime). Again, the matter power spectrum is only affected by $\\mu_0$, not $\\Sigma_0$."
   ]
  },
  {
   "cell_type": "code",
   "execution_count": null,
   "metadata": {},
   "outputs": [],
   "source": [
    "k = np.logspace(-4, 0) # 1 / Mpc units\n",
    "\n",
    "Pk_GR = ccl.linear_matter_power(cosmo_GR, k, a=1.)\n",
    "Pk_1 = ccl.linear_matter_power(cosmo_1, k, a=1.)\n",
    "Pk_2 = ccl.linear_matter_power(cosmo_2, k, a=1.)\n",
    "\n",
    "plt.loglog(k, Pk_GR, 'k', label='GR')\n",
    "plt.xticks(fontsize=18)\n",
    "plt.yticks(fontsize=18)\n",
    "plt.loglog(k, Pk_1, 'g', label='$\\mu_0$ ='+str(mu_0[0]))\n",
    "plt.loglog(k, Pk_2, 'm', label='$\\mu_0$ ='+str(mu_0[1]))\n",
    "plt.xlabel('$k\\quad[Mpc^{-1}]$', fontsize = 22)\n",
    "plt.ylabel('$P(k)\\quad[{\\\\rm Mpc}]^3$', fontsize=22)\n",
    "plt.legend(fontsize=12)\n",
    "plt.show()"
   ]
  }
 ],
 "metadata": {
  "kernelspec": {
   "display_name": "Python 3 (ipykernel)",
   "language": "python",
   "name": "python3"
  },
  "language_info": {
   "codemirror_mode": {
    "name": "ipython",
    "version": 3
   },
   "file_extension": ".py",
   "mimetype": "text/x-python",
   "name": "python",
   "nbconvert_exporter": "python",
   "pygments_lexer": "ipython3",
   "version": "3.12.2"
  }
 },
 "nbformat": 4,
 "nbformat_minor": 4
}
