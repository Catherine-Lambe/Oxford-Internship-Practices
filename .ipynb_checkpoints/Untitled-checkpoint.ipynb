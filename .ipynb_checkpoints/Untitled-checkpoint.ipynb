{
 "cells": [
  {
   "cell_type": "code",
   "execution_count": 1,
   "id": "4bf77c27-b104-43f1-9d76-e6c35e8c7085",
   "metadata": {},
   "outputs": [],
   "source": [
    "import numpy as np\n",
    "import pyccl as ccl\n",
    "import matplotlib.pyplot as plt\n",
    "import scipy.integrate as integrate\n",
    "import scipy.interpolate as interpol\n",
    "from pyccl._core import UnlockInstance\n",
    "from scipy import signal"
   ]
  },
  {
   "cell_type": "code",
   "execution_count": 2,
   "id": "4c4d7e09-76d0-439b-b072-44e829041bc4",
   "metadata": {},
   "outputs": [
    {
     "name": "stderr",
     "output_type": "stream",
     "text": [
      "/Users/lambe/Documents/GitHub/Oxford-Intern-2024/Oxford-Internship-Practices/BCMprofiles.py:12: SyntaxWarning: invalid escape sequence '\\ '\n",
      "  \"\"\"Creating a class for the stellar density profile\n",
      "/Users/lambe/Documents/GitHub/Oxford-Intern-2024/Oxford-Internship-Practices/BCMprofiles.py:100: SyntaxWarning: invalid escape sequence '\\ '\n",
      "  \"\"\"Creating a class for the bound gas density profile where:\n",
      "/Users/lambe/Documents/GitHub/Oxford-Intern-2024/Oxford-Internship-Practices/BCMprofiles.py:348: SyntaxWarning: invalid escape sequence '\\e'\n",
      "  \"\"\"Combined profile for the stellar & ejected & bound gas & cdm components (ie- The BCM Model), with the truncated Navarro-Frenk-White (NFW) profile used to calculate the density profiles of the cold dark matter (cdm) component.\n"
     ]
    },
    {
     "data": {
      "text/plain": [
       "('StellarProfile',\n",
       " 'EjectedGasProfile',\n",
       " 'BoundGasProfile',\n",
       " 'CombinedGasProfile',\n",
       " 'CombinedStellarGasProfile',\n",
       " 'CombinedAllBCMProfile')"
      ]
     },
     "execution_count": 2,
     "metadata": {},
     "output_type": "execute_result"
    }
   ],
   "source": [
    "import BCMprofiles\n",
    "BCMprofiles.__all__"
   ]
  },
  {
   "cell_type": "markdown",
   "id": "f84ee585-1863-45cc-9787-44ef22056c42",
   "metadata": {},
   "source": [
    "# Setting up pars & profiles"
   ]
  },
  {
   "cell_type": "code",
   "execution_count": 20,
   "id": "2eeb41ed-0560-4d27-9feb-c9766a5a3f06",
   "metadata": {},
   "outputs": [],
   "source": [
    "hmd_200c = ccl.halos.MassDef200c # use a mass definition with Delta = 200\n",
    "cM = ccl.halos.ConcentrationDuffy08(mass_def=hmd_200c)\n",
    "cosmo = ccl.Cosmology(Omega_c = 0.25, Omega_b=0.05, h=0.07, A_s=2.1e-9, n_s=0.96, Neff=0, Omega_g=0)\n",
    "\n",
    "trial_r = np.geomspace(1E-2,1E8,100000) # geomspace is like linspace, but evenly spaces on a logscale\n",
    "trial_k = np.geomspace(1E-3,9E1,100000) # np.geomspace(1E-3,1E2,100000)\n",
    "trial_M = np.array([3E12,6E13, 1E14])\n",
    "trial_gamma = 1.1  # working with z = 0 (today) ; therefore a = 1 [default]\n",
    "trial_f_bd = 0.6"
   ]
  },
  {
   "cell_type": "markdown",
   "id": "82a87a93-5f70-4300-8511-62c0dbf51a9f",
   "metadata": {},
   "source": [
    "## Loading profiles, with fourier_analytic = True"
   ]
  },
  {
   "cell_type": "code",
   "execution_count": 9,
   "id": "89f0c99c-0182-4ed7-8098-f2b37cee702a",
   "metadata": {},
   "outputs": [],
   "source": [
    "stel_profile = BCMprofiles.StellarProfile(hmd_200c)\n",
    "ej_profile = BCMprofiles.EjectedGasProfile(cosmo, hmd_200c)\n",
    "bd_profile = BCMprofiles.BoundGasProfile(cosmo, hmd_200c, cM, trial_gamma)\n",
    "gas_profile = BCMprofiles.CombinedGasProfile(cosmo, hmd_200c, cM, trial_gamma)\n",
    "stelGas_profile = BCMprofiles.CombinedStellarGasProfile(cosmo, hmd_200c, cM, trial_gamma) \n",
    "bcm_profile = BCMprofiles.CombinedAllBCMProfile(cosmo, hmd_200c, cM, trial_gamma)"
   ]
  },
  {
   "cell_type": "code",
   "execution_count": 24,
   "id": "96bbe3ae-738f-489f-aea0-638becfbf339",
   "metadata": {},
   "outputs": [],
   "source": [
    "stel_real = stel_profile._real(trial_r, trial_M)\n",
    "ej_real = ej_profile._real(trial_r, trial_M)\n",
    "bd_real = bd_profile._real(trial_r, trial_M)\n",
    "gas_real = gas_profile._real(trial_r, trial_M, trial_f_bd)\n",
    "stelGas_real = stelGas_profile._real(trial_r, trial_M)\n",
    "bcm_real = bcm_profile._real(trial_r, trial_M)"
   ]
  },
  {
   "cell_type": "code",
   "execution_count": null,
   "id": "173414aa-f1b6-4db6-b454-89324b037bfa",
   "metadata": {
    "scrolled": true
   },
   "outputs": [
    {
     "name": "stdout",
     "output_type": "stream",
     "text": [
      "k = 1.56% through\n",
      "k = 3.12% through\n",
      "k = 4.69% through\n",
      "k = 6.25% through\n",
      "k = 7.81% through\n",
      "k = 9.38% through\n",
      "k = 10.9% through\n",
      "k = 12.5% through\n",
      "k = 14.1% through\n",
      "k = 15.6% through\n",
      "k = 17.2% through\n",
      "k = 18.8% through\n",
      "k = 20.3% through\n",
      "k = 21.9% through\n",
      "k = 23.4% through\n",
      "k = 25% through\n",
      "k = 26.6% through\n",
      "k = 28.1% through\n",
      "k = 29.7% through\n",
      "k = 31.2% through\n",
      "k = 32.8% through\n",
      "k = 34.4% through\n",
      "k = 35.9% through\n",
      "k = 37.5% through\n",
      "k = 39.1% through\n",
      "k = 40.6% through\n",
      "k = 42.2% through\n",
      "k = 43.8% through\n",
      "k = 45.3% through\n",
      "k = 46.9% through\n",
      "k = 48.4% through\n",
      "k = 50% through\n",
      "k = 51.6% through\n",
      "k = 53.1% through\n",
      "k = 54.7% through\n",
      "k = 56.2% through\n",
      "k = 57.8% through\n",
      "k = 59.4% through\n",
      "k = 60.9% through\n",
      "k = 62.5% through\n",
      "k = 64.1% through\n",
      "k = 65.6% through\n",
      "k = 67.2% through\n",
      "k = 68.8% through\n",
      "k = 70.3% through\n",
      "k = 71.9% through\n",
      "k = 73.4% through\n",
      "k = 75% through\n",
      "k = 76.6% through\n",
      "k = 78.1% through\n",
      "k = 79.7% through\n",
      "k = 81.2% through\n",
      "k = 82.8% through\n"
     ]
    }
   ],
   "source": [
    "stel_fourier = stel_profile._fourier(trial_k, trial_M)\n",
    "ej_fourier = ej_profile._fourier(trial_k, trial_M)\n",
    "bd_fourier = bd_profile._fourier(trial_k, trial_M)\n",
    "gas_fourier = gas_profile._fourier(trial_k, trial_M, trial_f_bd)\n",
    "stelGas_fourier = stelGas_profile._fourier(trial_k, trial_M)\n",
    "bcm_fourier = bcm_profile._fourier(trial_k, trial_M)"
   ]
  },
  {
   "cell_type": "code",
   "execution_count": 22,
   "id": "9fcdbd59-cdf4-4faa-91fe-e00bef3e8279",
   "metadata": {},
   "outputs": [
    {
     "name": "stderr",
     "output_type": "stream",
     "text": [
      "/Users/lambe/Documents/GitHub/Oxford-Intern-2024/Oxford-Internship-Practices/BCMprofiles.py:218: RuntimeWarning: overflow encountered in divide\n",
      "  g_k = self._func_normQany((self.gamma, np.log(q_use))) / self._func_normQ0(self.gamma) # = Ib_qAny / Ib_q0\n",
      "/Users/lambe/Documents/GitHub/Oxford-Intern-2024/Oxford-Internship-Practices/BCMprofiles.py:221: RuntimeWarning: overflow encountered in multiply\n",
      "  prof = prefix[:, None] * g_k[None,:]\n"
     ]
    }
   ],
   "source": [
    "bd_fourier = bd_profile._fourier(trial_k, trial_M)"
   ]
  },
  {
   "cell_type": "code",
   "execution_count": null,
   "id": "4b795e63-29eb-460a-877d-f02dcfb61cec",
   "metadata": {},
   "outputs": [],
   "source": []
  }
 ],
 "metadata": {
  "kernelspec": {
   "display_name": "Python 3 (ipykernel)",
   "language": "python",
   "name": "python3"
  },
  "language_info": {
   "codemirror_mode": {
    "name": "ipython",
    "version": 3
   },
   "file_extension": ".py",
   "mimetype": "text/x-python",
   "name": "python",
   "nbconvert_exporter": "python",
   "pygments_lexer": "ipython3",
   "version": "3.12.2"
  }
 },
 "nbformat": 4,
 "nbformat_minor": 5
}
