{
 "cells": [
  {
   "cell_type": "code",
   "execution_count": 74,
   "id": "48ca3f8a-b997-4082-9917-97087d278be1",
   "metadata": {},
   "outputs": [],
   "source": [
    "import numpy as np\n",
    "import pyccl as ccl\n",
    "import matplotlib.pyplot as plt\n",
    "from scipy import integrate\n",
    "from scipy.special import erf, gamma, expn"
   ]
  },
  {
   "cell_type": "markdown",
   "id": "cf07e51b-49be-46c2-8483-c3df5fdc54cb",
   "metadata": {},
   "source": [
    "# 3 components: dark matter, gas, stars   \n",
    "Fourier (used in power spectrum): $y_{i}(k|m)\\ \\equiv \\frac{\\hat{\\rho_i}(k|m)\\ }{m} $   \n",
    "where $\\hat{\\rho_i}(k|m)\\ $ is the Fourier of the real density profile (frequently numerical)"
   ]
  },
  {
   "cell_type": "markdown",
   "id": "7164e2e0-a189-4ff6-9fe9-e061b50bdbf4",
   "metadata": {},
   "source": [
    "- Need to get $\\hat{\\rho_i}(k|m)\\ $, the Fourier of the real density profile\n",
    "    - so get the real density profile of it, then calculate the numerical (built-in) Fourier profile"
   ]
  },
  {
   "cell_type": "code",
   "execution_count": null,
   "id": "a4ce7b69-582f-4c9c-b53a-7fb6b45140f8",
   "metadata": {},
   "outputs": [],
   "source": []
  },
  {
   "cell_type": "markdown",
   "id": "5b1c1ee0-c2fe-4662-bba5-d91dc3bcea2d",
   "metadata": {},
   "source": [
    "## Stellar"
   ]
  },
  {
   "cell_type": "markdown",
   "id": "e9403621-1fab-425d-894b-b676bb121892",
   "metadata": {},
   "source": [
    "- The stellar mass fraction:\n",
    "    - $f_*(m)=A\\exp(-\\frac{\\log_{10}^2(m/m_{0s})}{2\\sigma_s^2})$   \n",
    "- Fix $A$ by requiring that $\\bar{\\rho}_*$ have a particular value:\n",
    "    - $\\bar{\\rho}_*=\\int_0^∞dmmf_*(m)n(m)$\n",
    "    - where $n(m)$ is the halo mass function."
   ]
  },
  {
   "cell_type": "code",
   "execution_count": null,
   "id": "9ac99976-a5e5-4a19-bbe9-e61f309ff85e",
   "metadata": {},
   "outputs": [],
   "source": [
    "def f_stell_noA(m, ### \n",
    "                m_0s=, sigma_s=\n",
    "                ):\n",
    "    return np.exp( (-1/2) * ( np.log10(m/m_0s) /sigma_s )**2 )\n",
    "\n",
    "# f_star(m) = A*np.exp( (-1/2) * ( np.log10(m/m_0s) /omega_s )**2 )\n",
    "def f_stell_integrand(m, ### \n",
    "                      m_0s=, sigma_s=\n",
    "                     ):\n",
    "    # integrand = m * f_star(m) * n(m), where n(m,z) is the standard DM-only halo mass function\n",
    "    DM_mass_func = \n",
    "    return m * f_stell_noA(m, m_0s= , sigma_s= ) * DM_mass_func\n",
    "\n",
    "# then to get A in f_star, A = integrate.--(f_stell_integrand, a = 0, b = infinity) [0] / rho_avg_star\n",
    "# (but really, replace limits of integration -> can't actually do from 0 to infinity) \n",
    "# (& rho_avg_star is a given 'constant' (calculate when initialising / from ... cosmo ) )\n",
    "\n",
    "# once we have A:\n",
    "def f_stell(m):\n",
    "    integrand = f_stell_integrand(m, m_0s= , sigma_s= )\n",
    "    A = integrate.--(f_stell_integrand, a = 0, b = infinity, ...) [0] / rho_avg_star\n",
    "    return A * f_stell_noA(m, m_0s= , sigma_s= )\n",
    "    "
   ]
  },
  {
   "cell_type": "markdown",
   "id": "b47bc83d-163e-4c07-8723-80e28cffc046",
   "metadata": {},
   "source": [
    "- $\\rho_*(x|m)=\\frac{\\rho_t}{x}\\exp(-x^\\alpha)$, with $x:=r/r_t$.\n",
    "- Also: constraint on $\\rho_t$ as require that the mass fraction overall is equal to the mass fraction within a halo.   \n",
    "    - ie- $\\frac{4 \\pi}{\\alpha} \\rho_t r^3_t \\left[ \\Gamma(1 - \\nu(\\alpha )\\ ) - x^2_{\\Delta}\\ E_{\\nu({\\alpha})} (x^{\\alpha}_{\\Delta}) \\right] = m\\ f_*(m)\\ $\n",
    "    - where $x_{\\Delta} = R_{\\Delta}/r_t $, $\\Gamma $ is the gamma function, $E_{\\nu}(t)$ is the exponential integral of order $\\nu $, & $ \\nu({\\alpha}) \\equiv 1 - \\frac{2}{\\alpha}$\n",
    "    - $E_{\\nu({\\alpha})} (x^{\\alpha}_{\\Delta}) = $ scipy.special.expn( n = $\\nu({\\alpha}) $, x = $(x^{\\alpha}_{\\Delta}) $ )\n",
    "        - so $v(\\alpha )$ has to be an integer $n \\ge 0$\n",
    "        - So: $1 - \\frac{2}{\\alpha} \\ge 0 \\to \\alpha \\ge 2 $ AND $1 - \\frac{2}{\\alpha} $ must be an whole number\n",
    "        - NOTE!! MAY BE PROBLEM IN ENFORCING THIS!\n",
    "    - & $\\Gamma(1 - \\nu(\\alpha )\\ ) = $ scipy.special.gamma( z =  $(1 - \\nu(\\alpha ) $)\n",
    " \n",
    "- ..\n",
    "- $\\rho_t = \\frac{ m\\ f_*(m)\\ \\alpha}{ 4 \\pi r^3_t \\left[ \\Gamma(1 - \\nu(\\alpha )\\ ) - x^2_{\\Delta}\\ E_{\\nu({\\alpha})} (x^{\\alpha}_{\\Delta}) \\right]}$"
   ]
  },
  {
   "cell_type": "code",
   "execution_count": null,
   "id": "c2bb1c4b-db15-43a9-8d9f-b22b32c4cdc3",
   "metadata": {},
   "outputs": [],
   "source": [
    "class StellarProfile():\n",
    "    def __init__():\n",
    "        ###\n",
    "\n",
    "\n",
    "    def _real(self, ):\n",
    "\n",
    "        def rho_t():\n",
    "    ###\n",
    "    r_delta = \n",
    "    r_t = \n",
    "\n",
    "    x_delta = r_delta / r_t\n",
    "    nu_alpha = 1 - (2 / alpha)\n",
    "    ( gamma(1 - nu_alpha) - (x_delta**2)*expn(nu_alpha, x_delta**alpha) )\n",
    "        \n",
    "    rho_t = ###\n",
    "    \n",
    "    x = ## / ##\n",
    "    prof = (rho_t/x)*np.exp(-x** alpha)\n"
   ]
  },
  {
   "cell_type": "code",
   "execution_count": 82,
   "id": "ae3045a5-e6c9-4b74-abd2-7a13f7f8b5f5",
   "metadata": {},
   "outputs": [
    {
     "data": {
      "text/plain": [
       "nan"
      ]
     },
     "execution_count": 82,
     "metadata": {},
     "output_type": "execute_result"
    }
   ],
   "source": [
    "expn(-1, 2)\n",
    "## see that expn does not work for negative n\n",
    "## (maybe when trialing, set alpha = 2? (or ask, whichever 1st) )"
   ]
  },
  {
   "cell_type": "markdown",
   "id": "7c6b40fd-2010-40ef-ada2-9aaf404de329",
   "metadata": {},
   "source": [
    "## Gas"
   ]
  },
  {
   "cell_type": "markdown",
   "id": "c14f8780-3fb4-4006-a2c2-d3ac25db8a90",
   "metadata": {},
   "source": [
    "- The gas fraction in each halo approximately as:     \n",
    "    - $f_g(m)=\\frac{\\Omega_b}{\\Omega_m}\\text{erf}\\left[\\frac{\\log_{10}(m/m_{0g})}{\\sigma_g}\\right]$\n",
    "    - for $m < m_{0g}$, we set $f_g\\ = 0$"
   ]
  },
  {
   "cell_type": "code",
   "execution_count": null,
   "id": "3201b1b4-1425-4af3-b0af-e368be5b2ba8",
   "metadata": {},
   "outputs": [],
   "source": [
    "def f_gas(m, ###\n",
    "         m_0g= , sigma_g= \n",
    "         ):\n",
    "    m_use = np.atleast_1d(m)\n",
    "    f_array = np.zeros(np.shape(m_use))\n",
    "    for i, mass in enumerate(m):\n",
    "        if (mass < m_0g):\n",
    "            f_array[i] = 0\n",
    "        else:\n",
    "            f_array[i] = (cosmo['Omega_b']/cosmo['Omega_m']) * erf(np.log10(mass/m_0g) / sigma_g)\n",
    "    return f_array"
   ]
  },
  {
   "cell_type": "markdown",
   "id": "9ddcd4f2-7a9a-47a1-aada-360504febffa",
   "metadata": {},
   "source": [
    "- slightly different gas profile to Fedeli (2014) used in \"Baryons_halo_model_power_spectrum\" (CCLX):\n",
    "    - $\\rho_g(r)=\\frac{\\rho_{g,0}}{(1+u)^\\beta(1+v^2)^{(7-\\beta)/2}}$, with $u:=r/r_{co}$ and $v:=r/r_{ej}$.\n",
    "- Fedeli 2014:\n",
    "    - $\\rho_g(r|m)=\\frac{\\rho_{c}}{(1+x^2)^{3\\beta/2}}$, with $x:=r/r_{c}$\n",
    "    - with the enforced relation of: $\\frac{4}{3} \\pi \\rho_c r^3_c \\left[ x_{\\Delta}^3 ._2F_1 \\left( \\frac{3}{2}, \\frac{3}{2}\\beta, \\frac{5}{2} ; -x^2_{\\Delta} \\right) \\right] = m\\ f_g(m)\\ $"
   ]
  },
  {
   "cell_type": "code",
   "execution_count": null,
   "id": "7eeee9fc-d506-4686-a2ca-0842acf88f7b",
   "metadata": {},
   "outputs": [],
   "source": [
    "class GasProfile():\n",
    "    def __init__():\n",
    "        ###\n",
    "\n",
    "        \n",
    "    rho_c = ###\n",
    "\n",
    "    x = ## / ##\n",
    "    prof = rho_c / (1 + x**2 )**(3 * beta / 2)\n"
   ]
  },
  {
   "cell_type": "code",
   "execution_count": null,
   "id": "4a838676-6cd9-45cc-bfb9-20d84f602a95",
   "metadata": {},
   "outputs": [],
   "source": []
  },
  {
   "cell_type": "markdown",
   "id": "c96b37db-f867-4864-9736-0600fc4caeee",
   "metadata": {},
   "source": [
    "## Dark Matter"
   ]
  },
  {
   "cell_type": "markdown",
   "id": "1cf5de05-cc90-42f7-a9d6-34fc8f1674a2",
   "metadata": {},
   "source": [
    "- Real density profile = NFW: $\\rho_{DM}(x|m)\\ = \\frac{\\rho_s}{x(1+x)^2} $\n",
    "- where:\n",
    "    - $x = r/r_s $\n",
    "    - $\\rho_s = $ the scale density of the profile\n",
    "    - $r_s = $ the scale radius of the profile\n",
    "- Also concentration $c \\equiv R_{\\Delta}/r_s$\n",
    "- Constraint on scale density $\\rho_s $ requires that the total DM mass w/in the structure matches the DM mass fraction\n",
    "    - $\\rho_s = f_{DM}\\ \\frac{\\Delta}{3} \\bar{\\rho_m} \\frac{c^3}{G(c)\\ } $ , where $G(c)\\ $ is the \"usual NFW concentration function\""
   ]
  },
  {
   "cell_type": "code",
   "execution_count": null,
   "id": "8a65fe0d-38ce-44d5-a6e0-34ccedf89fef",
   "metadata": {},
   "outputs": [],
   "source": []
  }
 ],
 "metadata": {
  "kernelspec": {
   "display_name": "Python 3 (ipykernel)",
   "language": "python",
   "name": "python3"
  },
  "language_info": {
   "codemirror_mode": {
    "name": "ipython",
    "version": 3
   },
   "file_extension": ".py",
   "mimetype": "text/x-python",
   "name": "python",
   "nbconvert_exporter": "python",
   "pygments_lexer": "ipython3",
   "version": "3.12.2"
  }
 },
 "nbformat": 4,
 "nbformat_minor": 5
}
