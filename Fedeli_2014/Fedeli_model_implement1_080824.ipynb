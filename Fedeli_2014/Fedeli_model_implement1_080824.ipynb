{
 "cells": [
  {
   "cell_type": "code",
   "execution_count": 1,
   "id": "48ca3f8a-b997-4082-9917-97087d278be1",
   "metadata": {},
   "outputs": [],
   "source": [
    "import numpy as np\n",
    "import pyccl as ccl\n",
    "import matplotlib.pyplot as plt"
   ]
  },
  {
   "cell_type": "code",
   "execution_count": null,
   "id": "d836fc2b-b17c-4c17-92dd-e06d0596e5ce",
   "metadata": {},
   "outputs": [],
   "source": []
  },
  {
   "cell_type": "markdown",
   "id": "cf07e51b-49be-46c2-8483-c3df5fdc54cb",
   "metadata": {},
   "source": [
    "# 3 components: dark matter, gas, stars"
   ]
  },
  {
   "cell_type": "code",
   "execution_count": null,
   "id": "a4ce7b69-582f-4c9c-b53a-7fb6b45140f8",
   "metadata": {},
   "outputs": [],
   "source": []
  },
  {
   "cell_type": "markdown",
   "id": "5b1c1ee0-c2fe-4662-bba5-d91dc3bcea2d",
   "metadata": {},
   "source": [
    "## Stellar"
   ]
  },
  {
   "cell_type": "code",
   "execution_count": null,
   "id": "c2bb1c4b-db15-43a9-8d9f-b22b32c4cdc3",
   "metadata": {},
   "outputs": [],
   "source": []
  },
  {
   "cell_type": "markdown",
   "id": "7c6b40fd-2010-40ef-ada2-9aaf404de329",
   "metadata": {},
   "source": [
    "## Gas"
   ]
  },
  {
   "cell_type": "code",
   "execution_count": null,
   "id": "bd3bb8ff-c0e9-431c-b958-822b7b016570",
   "metadata": {},
   "outputs": [],
   "source": []
  },
  {
   "cell_type": "markdown",
   "id": "c96b37db-f867-4864-9736-0600fc4caeee",
   "metadata": {},
   "source": [
    "## Dark Matter"
   ]
  },
  {
   "cell_type": "code",
   "execution_count": null,
   "id": "1833aff2-57b9-4400-8b66-52740bf985e6",
   "metadata": {},
   "outputs": [],
   "source": []
  },
  {
   "cell_type": "code",
   "execution_count": null,
   "id": "8a65fe0d-38ce-44d5-a6e0-34ccedf89fef",
   "metadata": {},
   "outputs": [],
   "source": []
  }
 ],
 "metadata": {
  "kernelspec": {
   "display_name": "Python 3 (ipykernel)",
   "language": "python",
   "name": "python3"
  },
  "language_info": {
   "codemirror_mode": {
    "name": "ipython",
    "version": 3
   },
   "file_extension": ".py",
   "mimetype": "text/x-python",
   "name": "python",
   "nbconvert_exporter": "python",
   "pygments_lexer": "ipython3",
   "version": "3.12.2"
  }
 },
 "nbformat": 4,
 "nbformat_minor": 5
}
