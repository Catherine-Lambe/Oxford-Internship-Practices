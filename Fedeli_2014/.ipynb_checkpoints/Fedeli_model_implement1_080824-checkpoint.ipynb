{
 "cells": [
  {
   "cell_type": "code",
   "execution_count": 238,
   "id": "48ca3f8a-b997-4082-9917-97087d278be1",
   "metadata": {},
   "outputs": [],
   "source": [
    "import numpy as np\n",
    "import pyccl as ccl\n",
    "import matplotlib.pyplot as plt\n",
    "from scipy import integrate\n",
    "from scipy.special import erf, gamma, expn, hyp2f1"
   ]
  },
  {
   "cell_type": "markdown",
   "id": "cf07e51b-49be-46c2-8483-c3df5fdc54cb",
   "metadata": {},
   "source": [
    "# 3 components: dark matter, gas, stars   \n",
    "Fourier (used in power spectrum): $y_{i}(k|m)\\ \\equiv \\frac{\\hat{\\rho_i}(k|m)\\ }{m} $   \n",
    "where $\\hat{\\rho_i}(k|m)\\ $ is the Fourier of the real density profile (frequently numerical)"
   ]
  },
  {
   "cell_type": "markdown",
   "id": "7164e2e0-a189-4ff6-9fe9-e061b50bdbf4",
   "metadata": {},
   "source": [
    "- Need to get $\\hat{\\rho_i}(k|m)\\ $, the Fourier of the real density profile\n",
    "    - so get the real density profile of it, then calculate the numerical (built-in) Fourier profile"
   ]
  },
  {
   "cell_type": "code",
   "execution_count": 4,
   "id": "a4ce7b69-582f-4c9c-b53a-7fb6b45140f8",
   "metadata": {},
   "outputs": [],
   "source": [
    "### Set up eg- cosmo\n",
    "hmd_200c = ccl.halos.MassDef200c # use a mass definition with Delta = 200\n",
    "cM = ccl.halos.ConcentrationDuffy08(mass_def=hmd_200c)\n",
    "cosmo = ccl.Cosmology(Omega_c = 0.25, Omega_b=0.05, h=0.7, A_s=2.1e-9, n_s=0.96, Neff=0, Omega_g=0)\n",
    "\n",
    "trial_r = np.geomspace(1E-2,1E8,100000) # geomspace is like linspace, but evenly spaces on a logscale\n",
    "trial_k = np.geomspace(1E-3,9E1,100000) # np.geomspace(1E-3,1E2,100000)\n",
    "trial_M = np.array([3E12,6E13, 1E14])"
   ]
  },
  {
   "cell_type": "markdown",
   "id": "5b1c1ee0-c2fe-4662-bba5-d91dc3bcea2d",
   "metadata": {},
   "source": [
    "## Stellar"
   ]
  },
  {
   "cell_type": "markdown",
   "id": "e9403621-1fab-425d-894b-b676bb121892",
   "metadata": {},
   "source": [
    "- The stellar mass fraction:\n",
    "    - $f_*(m)=A\\exp(-\\frac{\\log_{10}^2(m/m_{0s})}{2\\sigma_s^2})$\n",
    "    - NOTE: assuming that $log$ in Fedeli 2014 refers to $log10$, not $ln$\n",
    "- Fix $A$ by requiring that $\\bar{\\rho}_*$ have a particular value:\n",
    "    - $\\bar{\\rho}_*=\\int_0^∞dmmf_*(m)n(m)$\n",
    "    - where $n(m)$ is the halo mass function.\n",
    "-  So $A = \\frac{\\int^{\\infty}_0 dm\\ m\\ n(m)\\ f_*(m)\\ }{m}$ (with $A$ not being included in $f_*(m)\\ $ in the integral here obviously)"
   ]
  },
  {
   "cell_type": "code",
   "execution_count": null,
   "id": "9ac99976-a5e5-4a19-bbe9-e61f309ff85e",
   "metadata": {},
   "outputs": [],
   "source": [
    "def f_stell_noA(m, ### \n",
    "                m_0s=, sigma_s=\n",
    "                ):\n",
    "    return np.exp( (-1/2) * ( np.log10(m/m_0s) /sigma_s )**2 )\n",
    "\n",
    "# f_star(m) = A*np.exp( (-1/2) * ( np.log10(m/m_0s) /omega_s )**2 )\n",
    "def f_stell_integrand(m, ### \n",
    "                      m_0s=, sigma_s=\n",
    "                     ):\n",
    "    # integrand = m * f_star(m) * n(m), where n(m,z) is the standard DM-only halo mass function\n",
    "    DM_mass_func = \n",
    "    return m * f_stell_noA(m, m_0s= , sigma_s= ) * DM_mass_func\n",
    "\n",
    "# then to get A in f_star, A = integrate.--(f_stell_integrand, a = 0, b = infinity) [0] / rho_avg_star\n",
    "# (but really, replace limits of integration -> can't actually do from 0 to infinity) \n",
    "# (& rho_avg_star is a given 'constant' (calculate when initialising / from ... cosmo ) )\n",
    "\n",
    "# once we have A:\n",
    "def f_stell(m):\n",
    "    integrand = f_stell_integrand(m, m_0s= , sigma_s= )\n",
    "    A = integrate.--(f_stell_integrand, a = 0, b = infinity, ...) [0] / rho_avg_star\n",
    "    return A * f_stell_noA(m, m_0s= , sigma_s= )\n"
   ]
  },
  {
   "cell_type": "markdown",
   "id": "b47bc83d-163e-4c07-8723-80e28cffc046",
   "metadata": {},
   "source": [
    "- $\\rho_*(x|m)=\\frac{\\rho_t}{x}\\exp(-x^\\alpha)$, with $x:=r/r_t$.\n",
    "- Also: constraint on $\\rho_t$ as require that the mass fraction overall is equal to the mass fraction within a halo.   \n",
    "    - ie- $\\frac{4 \\pi}{\\alpha} \\rho_t r^3_t \\left[ \\Gamma(1 - \\nu(\\alpha )\\ ) - x^2_{\\Delta}\\ E_{\\nu({\\alpha})} (x^{\\alpha}_{\\Delta}) \\right] = m\\ f_*(m)\\ $\n",
    "    - where $x_{\\Delta} = R_{\\Delta}/r_t $, $\\Gamma $ is the gamma function, $E_{\\nu}(t)$ is the exponential integral of order $\\nu $, & $ \\nu({\\alpha}) \\equiv 1 - \\frac{2}{\\alpha}$\n",
    "    - $E_{\\nu({\\alpha})} (x^{\\alpha}_{\\Delta}) = $ scipy.special.expn( n = $\\nu({\\alpha}) $, x = $(x^{\\alpha}_{\\Delta}) $ )\n",
    "        - so $v(\\alpha )$ has to be an integer $n \\ge 0$\n",
    "        - So: $1 - \\frac{2}{\\alpha} \\ge 0 \\to \\alpha \\ge 2 $ AND $1 - \\frac{2}{\\alpha} $ must be an whole number\n",
    "        - NOTE!! MAY BE PROBLEM IN ENFORCING THIS!\n",
    "    - & $\\Gamma(1 - \\nu(\\alpha )\\ ) = $ scipy.special.gamma( z =  $(1 - \\nu(\\alpha ) $)\n",
    " \n",
    "- ..\n",
    "- $\\rho_t = \\frac{ m\\ f_*(m)\\ \\alpha}{ 4 \\pi r^3_t \\left[ \\Gamma(1 - \\nu(\\alpha )\\ ) - x^2_{\\Delta}\\ E_{\\nu({\\alpha})} (x^{\\alpha}_{\\Delta}) \\right]}$"
   ]
  },
  {
   "cell_type": "code",
   "execution_count": 89,
   "id": "5baa7519-d453-40ac-9b6c-532cde5fc8ff",
   "metadata": {},
   "outputs": [],
   "source": [
    "### some values that will be put in init (of StellarProfile) as self.X\n",
    "### using values in CCLX code for trial 0\n",
    "m_0s = 5E12/cosmo['h']\n",
    "sigma_s = 1.2\n",
    "\n",
    "# DM_mass_func = hmf_200m(cosmo,m,a_sf)/(m*np.log(10)) # under mf in def f_star_integrand(m)\n",
    "hmd_200m = ccl.halos.MassDef(200, 'matter')\n",
    "hmf_200m = ccl.halos.MassFuncTinker08(mass_def=hmd_200m, mass_def_strict=False)\n",
    "# DM_mass_func = hmf_200m(cosmo, np.atleast_1d(trial_M), 1) / (np.atleast_1d(trial_M)*np.log(10))\n",
    "# so want to move halo mass function into init, as need to generate DM_mass_func with the given halo's mass\n",
    "rho_avg_star = 7E8*cosmo['h']**2 # under rho_star in CCLX\n",
    "\n",
    "limInt_mStell = (1E10 , 1E15)  # mmin_stars=1E10, mmax_stars=1E15\n",
    "# supposed to be (a,b) = (0,infty) BUT in reality can't practically use those limits\n",
    "\n",
    "# alpha = \n",
    "# also want to have self.cosmo ?"
   ]
  },
  {
   "cell_type": "code",
   "execution_count": 240,
   "id": "c2bb1c4b-db15-43a9-8d9f-b22b32c4cdc3",
   "metadata": {},
   "outputs": [],
   "source": [
    "class StellarProfile(ccl.halos.profiles.profile_base.HaloProfile):\n",
    "    \"\"\" Stellar halo density profile. Fedeli (2014) arXiv:1401.2997\n",
    "    \"\"\"\n",
    "    def __init__(self, mass_def):\n",
    "        ### will put in other parameters here later\n",
    "        super(StellarProfile, self).__init__(mass_def=mass_def)\n",
    "\n",
    "\n",
    "    def _f_stell_noA(self, m):\n",
    "        return np.exp( (-1/2) * ( np.log10(m/m_0s) /sigma_s )**2 )\n",
    "    \n",
    "    def _f_stell_integrand(self, m):\n",
    "        # integrand = m * f_star(m) * n(m), where n(m,z) is the standard DM-only halo mass function\n",
    "      #  DM_mass_func = hmf_200m(cosmo,m,a_sf)/(m*np.log(10)) # ? have as a self. ? (can't with scale_a, but-)\n",
    "        DM_mass_func = hmf_200m(cosmo, np.atleast_1d(m), 1) / (np.atleast_1d(m)*np.log(10))\n",
    "        return m* self._f_stell_noA(m) * DM_mass_func # m_use * self._f_stell_noA(m_use) * DM_mass_func\n",
    "    \n",
    "    # then to get A in f_star, A = integrate.--(f_stell_integrand, a = 0, b = infinity) [0] / rho_avg_star\n",
    "    # (but really, replace limits of integration -> can't actually do from 0 to infinity) \n",
    "    # (& rho_avg_star is a given 'constant' (calculate when initialising / from ... cosmo ) )\n",
    "    \n",
    "    # once we have A:   # f_star(m) = A*np.exp( (-1/2) * ( np.log10(m/m_0s) /omega_s )**2 )\n",
    "    def _f_stell(self, m):\n",
    "        # integrating over m (dm)\n",
    "        integrad = integrate.quad(self._f_stell_integrand, limInt_mStell[0], limInt_mStell[1])\n",
    "        A = integrad[0] / rho_avg_star\n",
    "        return A * self._f_stell_noA(m)\n",
    "    \n",
    "    def _real(self, cosmo, r, M, scale_a=1, alpha = 2, r_t = 1):\n",
    "        \"\"\" X\n",
    "        \"\"\"\n",
    "        r_use = np.atleast_1d(r)\n",
    "        M_use = np.atleast_1d(M)\n",
    "\n",
    "        # r_t = \n",
    "        r_vir = self.mass_def.get_radius(cosmo, M_use, scale_a) / scale_a    # R_delta = the halo virial radius r_vir\n",
    "        f_stell = self._f_stell(M_use)\n",
    "\n",
    "        x_delta = 1/0.03 # in CCLX example, as paper have for their eg: r_t / r_Delta = 0.03\n",
    "        # x_delta = r_vir / r_t ## = R_Delta / r_t\n",
    "        nu_alpha = 1 - (2 / alpha)\n",
    "        rho_t = M_use * f_stell * alpha / (4 * np.pi * (r_t**3) * ( gamma(1 - nu_alpha) - (x_delta**2)*expn(nu_alpha, x_delta**alpha)) )\n",
    "\n",
    "        x = r_use[None, :] / r_t # [:, None]\n",
    "        prefix = rho_t * f_stell ## ASSUMING HERE that these are the prefix (relevant for [:, None] in next line)\n",
    "        prof = prefix[:, None] * np.exp(-x**alpha)/x # (rho_t/x)*np.exp(-x** alpha) * f_stell\n",
    "    # note: assuming that -x^alpha in eqn is meant to be -(x^alpha) (as code interprets it) as no brackets (for (-x)^alpha) in given eqn\n",
    "\n",
    "        if np.ndim(r) == 0:\n",
    "            prof = np.squeeze(prof, axis=-1)\n",
    "        if np.ndim(M) == 0:\n",
    "            prof = np.squeeze(prof, axis=0)\n",
    "        return prof\n"
   ]
  },
  {
   "cell_type": "code",
   "execution_count": 242,
   "id": "ae3045a5-e6c9-4b74-abd2-7a13f7f8b5f5",
   "metadata": {},
   "outputs": [
    {
     "data": {
      "text/plain": [
       "42.641814802255396"
      ]
     },
     "execution_count": 242,
     "metadata": {},
     "output_type": "execute_result"
    }
   ],
   "source": [
    "expn(-1, 2)\n",
    "## see that expn does not work for negative n\n",
    "## (maybe when trialing, set alpha = 2? (or ask, whichever 1st) )\n",
    "trial_stelProf._f_stell(1E13)"
   ]
  },
  {
   "cell_type": "code",
   "execution_count": 244,
   "id": "e8fcd6ad-e97f-4c1e-99f7-d541360e7e3a",
   "metadata": {},
   "outputs": [],
   "source": [
    "# want to have r_t as its own parameter, made using r_Delta = virial radius"
   ]
  },
  {
   "cell_type": "code",
   "execution_count": 246,
   "id": "61adbb1a-d6cd-4504-9358-1bcfeff54f7a",
   "metadata": {},
   "outputs": [],
   "source": [
    "trial_stelProf = StellarProfile(hmd_200m) # trying the mass_def CCLX used"
   ]
  },
  {
   "cell_type": "code",
   "execution_count": 248,
   "id": "10f0706c-8083-4fb1-9b48-aaa50ae54ca5",
   "metadata": {},
   "outputs": [
    {
     "data": {
      "text/plain": [
       "array([[7.98363851e+16, 7.98180004e+16, 7.97996199e+16, ...,\n",
       "        0.00000000e+00, 0.00000000e+00, 0.00000000e+00],\n",
       "       [9.73622220e+17, 9.73398013e+17, 9.73173859e+17, ...,\n",
       "        0.00000000e+00, 0.00000000e+00, 0.00000000e+00],\n",
       "       [1.17953864e+18, 1.17926701e+18, 1.17899545e+18, ...,\n",
       "        0.00000000e+00, 0.00000000e+00, 0.00000000e+00]])"
      ]
     },
     "execution_count": 248,
     "metadata": {},
     "output_type": "execute_result"
    }
   ],
   "source": [
    "trial_stel_real = trial_stelProf._real(cosmo, trial_r, trial_M)\n",
    "trial_stel_real"
   ]
  },
  {
   "cell_type": "code",
   "execution_count": 250,
   "id": "7630ddcd-b436-4b50-a577-10e36022fe29",
   "metadata": {},
   "outputs": [
    {
     "data": {
      "image/png": "[encoded data removed]",
      "text/plain": [
       "<Figure size 640x480 with 1 Axes>"
      ]
     },
     "metadata": {},
     "output_type": "display_data"
    }
   ],
   "source": [
    "for mass, prof in zip(trial_M, trial_stel_real):\n",
    "    plt.plot(trial_r, prof, label=f'{mass:.1g}');\n",
    "plt.legend(loc='best')\n",
    "plt.grid(True)\n",
    "plt.xscale('log')\n",
    "plt.title('Stellar Real');"
   ]
  },
  {
   "cell_type": "code",
   "execution_count": 252,
   "id": "abdb9cb3-8e28-497e-b114-bb10c99e92af",
   "metadata": {
    "scrolled": true
   },
   "outputs": [
    {
     "name": "stdout",
     "output_type": "stream",
     "text": [
      "Help on method fourier in module pyccl.halos.profiles.profile_base:\n",
      "\n",
      "fourier(cosmo, k, M, a) method of __main__.StellarProfile instance\n",
      "    fourier(cosmo, k, M, a)\n",
      "    Returns the Fourier-space value of the profile as a\n",
      "    function of cosmology, wavenumber, halo mass and\n",
      "    scale factor.\n",
      "\n",
      "    .. math::\n",
      "       \\rho(k)=\\frac{1}{2\\pi^2} \\int dr\\, r^2\\,\n",
      "       \\rho(r)\\, j_0(k r)\n",
      "\n",
      "    Args:\n",
      "        cosmo (:class:`~pyccl.cosmology.Cosmology`): a Cosmology object.\n",
      "        k (:obj:`float` or `array`): comoving wavenumber (in :math:`Mpc^{-1}`).\n",
      "        M (:obj:`float` or `array`): halo mass.\n",
      "        a (:obj:`float`): scale factor.\n",
      "\n",
      "    Returns:\n",
      "        (:obj:`float` or `array`): Fourier-space profile. The shape of the\n",
      "        output will be ``(N_M, N_k)`` where ``N_k`` and ``N_m`` are\n",
      "        the sizes of ``k`` and ``M`` respectively. If ``k`` or ``M``\n",
      "        are scalars, the corresponding dimension will be\n",
      "        squeezed out on output.\n",
      "\n"
     ]
    }
   ],
   "source": [
    "help(trial_stelProf.fourier)"
   ]
  },
  {
   "cell_type": "code",
   "execution_count": 258,
   "id": "3d71f207-869b-4443-98fc-a4f60af57008",
   "metadata": {
    "scrolled": true
   },
   "outputs": [],
   "source": [
    "trial_stelProf.update_precision_fftlog(padding_hi_fftlog=1E3,padding_lo_fftlog=1E-3,\n",
    "                           n_per_decade=1000,plaw_fourier=-2.)\n",
    "trial_stel_fourier = trial_stelProf.fourier(cosmo, trial_k, trial_M, 1)"
   ]
  },
  {
   "cell_type": "code",
   "execution_count": 262,
   "id": "166ee441-0539-45b7-9713-9dff1fe94d6f",
   "metadata": {},
   "outputs": [
    {
     "data": {
      "image/png": "[encoded data removed]",
      "text/plain": [
       "<Figure size 640x480 with 1 Axes>"
      ]
     },
     "metadata": {},
     "output_type": "display_data"
    }
   ],
   "source": [
    "for mass, prof in zip(trial_M, trial_stel_fourier):\n",
    "    plt.plot(trial_r, prof, label=f'{mass:.1g}')\n",
    "    plt.axhline(mass*trial_stelProf._f_stell(mass), linestyle='--');\n",
    "plt.legend(loc='best')\n",
    "plt.grid(True)\n",
    "plt.xscale('log')\n",
    "plt.title('Stellar Fourier');"
   ]
  },
  {
   "cell_type": "code",
   "execution_count": null,
   "id": "0298bf90-bb02-4b62-8918-101e00da10ec",
   "metadata": {},
   "outputs": [],
   "source": []
  },
  {
   "cell_type": "markdown",
   "id": "7c6b40fd-2010-40ef-ada2-9aaf404de329",
   "metadata": {},
   "source": [
    "## Gas"
   ]
  },
  {
   "cell_type": "markdown",
   "id": "c14f8780-3fb4-4006-a2c2-d3ac25db8a90",
   "metadata": {},
   "source": [
    "- The gas fraction in each halo approximately as:     \n",
    "    - $f_g(m)=\\frac{\\Omega_b}{\\Omega_m}\\text{erf}\\left[\\frac{\\log_{10}(m/m_{0g})}{\\sigma_g}\\right]$\n",
    "    - for $m < m_{0g}$, we set $f_g\\ = 0$"
   ]
  },
  {
   "cell_type": "code",
   "execution_count": null,
   "id": "3201b1b4-1425-4af3-b0af-e368be5b2ba8",
   "metadata": {},
   "outputs": [],
   "source": [
    "def f_gas(m, ###\n",
    "         m_0g= , sigma_g= \n",
    "         ):\n",
    "    m_use = np.atleast_1d(m)\n",
    "    f_array = np.zeros(np.shape(m_use))\n",
    "    for i, mass in enumerate(m):\n",
    "        if (mass < m_0g):\n",
    "            f_array[i] = 0\n",
    "        else:\n",
    "            f_array[i] = (cosmo['Omega_b']/cosmo['Omega_m']) * erf(np.log10(mass/m_0g) / sigma_g)\n",
    "    return f_array"
   ]
  },
  {
   "cell_type": "markdown",
   "id": "9ddcd4f2-7a9a-47a1-aada-360504febffa",
   "metadata": {},
   "source": [
    "- slightly different gas profile to Fedeli (2014) used in \"Baryons_halo_model_power_spectrum\" (CCLX):\n",
    "    - $\\rho_g(r)=\\frac{\\rho_{g,0}}{(1+u)^\\beta(1+v^2)^{(7-\\beta)/2}}$, with $u:=r/r_{co}$ and $v:=r/r_{ej}$.\n",
    "- Fedeli 2014:\n",
    "    - $\\rho_g(r|m)=\\frac{\\rho_{c}}{(1+x^2)^{3\\beta/2}}$, with $x:=r/r_{c}$\n",
    "    - with the enforced relation of: $\\frac{4}{3} \\pi \\rho_c r^3_c \\left[ x_{\\Delta}^3 ._2F_1 \\left( \\frac{3}{2}, \\frac{3}{2}\\beta, \\frac{5}{2} ; -x^2_{\\Delta} \\right) \\right] = m\\ f_g(m)\\ $\n",
    "    - $x_{\\Delta} = R_{\\Delta}/r_c $\n",
    "    - $._2F_1 \\left( a, b, c; t \\right) $ is the Gauss hypergeometric function $\\to$ use scipy.special.hyp2f1(a, b, c, z, out=None)"
   ]
  },
  {
   "cell_type": "code",
   "execution_count": null,
   "id": "7eeee9fc-d506-4686-a2ca-0842acf88f7b",
   "metadata": {},
   "outputs": [],
   "source": [
    "class GasProfile():\n",
    "    def __init__():\n",
    "        ###\n",
    "\n",
    "    x_delta = \n",
    "    hyp2f1(3/2, beta*3/2, 5/2, -(x_delta**2))\n",
    "    \n",
    "    rho_c = ###\n",
    "\n",
    "    x = ## / ##\n",
    "    prof = rho_c / ((1 + x**2 )**(3 * beta / 2) )\n"
   ]
  },
  {
   "cell_type": "code",
   "execution_count": 196,
   "id": "98d9f47c-635a-48da-8616-5d331fbec01a",
   "metadata": {},
   "outputs": [],
   "source": [
    "class GasProfile(ccl.halos.profiles.profile_base.HaloProfile):\n",
    "    \"\"\" Gas halo density profile. Fedeli (2014) arXiv:1401.2997\n",
    "    \"\"\"\n",
    "    def __init__(self, mass_def):\n",
    "        ### will put in other parameters here later\n",
    "        super(GasProfile, self).__init__(mass_def=mass_def)\n",
    "\n",
    "# want to have m_0g, sigma_g, & cosmo as self. in init\n",
    "    def f_gas(m):\n",
    "        m_use = np.atleast_1d(m)\n",
    "        f_array = np.zeros(np.shape(m_use))\n",
    "        for i, mass in enumerate(m):\n",
    "            if (mass < m_0g):\n",
    "                f_array[i] = 0\n",
    "            else:\n",
    "                f_array[i] = (cosmo['Omega_b']/cosmo['Omega_m']) * erf(np.log10(mass/m_0g) / sigma_g)\n",
    "        return f_array\n",
    "    \n",
    "    def _real(self, cosmo, r, M, scale_a=1, alpha = 2, r_t = 1):\n",
    "        \"\"\" X\n",
    "        \"\"\"\n",
    "        r_use = np.atleast_1d(r)\n",
    "        M_use = np.atleast_1d(M)\n",
    "\n",
    "        # r_c = \n",
    "        r_vir = self.mass_def.get_radius(cosmo, M_use, scale_a) / scale_a    # R_delta = the halo virial radius r_vir\n",
    "\n",
    "        f_gas = self._f_stell(M_use)\n",
    "\n",
    "        x_delta = 1/0.03 # in CCLX example, as paper have for their eg: r_t / r_Delta = 0.03\n",
    "        # x_delta = r_vir / r_t ## = R_Delta / r_t\n",
    "        nu_alpha = 1 - (2 / alpha)\n",
    "        rho_t = M_use * f_stell * alpha / (4 * np.pi * (r_t**3) * ( gamma(1 - nu_alpha) - (x_delta**2)*expn(nu_alpha, x_delta**alpha)) )\n",
    "\n",
    "        x = r_use[None, :] / r_t # [:, None]\n",
    "        prefix = rho_t * f_stell ## ASSUMING HERE that these are the prefix (relevant for [:, None] in next line)\n",
    "        prof = prefix[:, None] * np.exp(-x**alpha)/x # (rho_t/x)*np.exp(-x** alpha) * f_stell\n",
    "    # note: assuming that -x^alpha in eqn is meant to be -(x^alpha) (as code interprets it) as no brackets (for (-x)^alpha) in given eqn\n",
    "\n",
    "        if np.ndim(r) == 0:\n",
    "            prof = np.squeeze(prof, axis=-1)\n",
    "        if np.ndim(M) == 0:\n",
    "            prof = np.squeeze(prof, axis=0)\n",
    "        return prof\n"
   ]
  },
  {
   "cell_type": "code",
   "execution_count": null,
   "id": "4a838676-6cd9-45cc-bfb9-20d84f602a95",
   "metadata": {},
   "outputs": [],
   "source": []
  },
  {
   "cell_type": "markdown",
   "id": "c96b37db-f867-4864-9736-0600fc4caeee",
   "metadata": {},
   "source": [
    "## Dark Matter"
   ]
  },
  {
   "cell_type": "markdown",
   "id": "1cf5de05-cc90-42f7-a9d6-34fc8f1674a2",
   "metadata": {},
   "source": [
    "- Real density profile = NFW: $\\rho_{DM}(x|m)\\ = \\frac{\\rho_s}{x(1+x)^2} $\n",
    "- where:\n",
    "    - $x = r/r_s $\n",
    "    - $\\rho_s = $ the scale density of the profile\n",
    "    - $r_s = $ the scale radius of the profile\n",
    "- Also concentration $c \\equiv R_{\\Delta}/r_s$\n",
    "- Constraint on scale density $\\rho_s $ requires that the total DM mass w/in the structure matches the DM mass fraction\n",
    "    - $\\rho_s = f_{DM}\\ \\frac{\\Delta}{3} \\bar{\\rho_m} \\frac{c^3}{G(c)\\ } $ , where $G(c)\\ $ is the \"usual NFW concentration function\""
   ]
  },
  {
   "cell_type": "code",
   "execution_count": null,
   "id": "8a65fe0d-38ce-44d5-a6e0-34ccedf89fef",
   "metadata": {},
   "outputs": [],
   "source": []
  }
 ],
 "metadata": {
  "kernelspec": {
   "display_name": "Python 3 (ipykernel)",
   "language": "python",
   "name": "python3"
  },
  "language_info": {
   "codemirror_mode": {
    "name": "ipython",
    "version": 3
   },
   "file_extension": ".py",
   "mimetype": "text/x-python",
   "name": "python",
   "nbconvert_exporter": "python",
   "pygments_lexer": "ipython3",
   "version": "3.12.2"
  }
 },
 "nbformat": 4,
 "nbformat_minor": 5
}
