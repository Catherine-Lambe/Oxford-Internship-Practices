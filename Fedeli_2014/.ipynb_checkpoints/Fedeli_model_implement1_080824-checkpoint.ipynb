{
 "cells": [
  {
   "cell_type": "code",
   "execution_count": 1,
   "id": "48ca3f8a-b997-4082-9917-97087d278be1",
   "metadata": {},
   "outputs": [],
   "source": [
    "import numpy as np\n",
    "import pyccl as ccl\n",
    "import matplotlib.pyplot as plt"
   ]
  },
  {
   "cell_type": "code",
   "execution_count": null,
   "id": "d836fc2b-b17c-4c17-92dd-e06d0596e5ce",
   "metadata": {},
   "outputs": [],
   "source": []
  },
  {
   "cell_type": "markdown",
   "id": "cf07e51b-49be-46c2-8483-c3df5fdc54cb",
   "metadata": {},
   "source": [
    "# 3 components: dark matter, gas, stars   \n",
    "Fourier (used in power spectrum): $y_{i}(k|m)\\ \\equiv \\frac{\\hat{\\rho_i}(k|m)\\ }{m} $   \n",
    "where $\\hat{\\rho_i}(k|m)\\ $ is the Fourier of the real density profile (frequently numerical)"
   ]
  },
  {
   "cell_type": "markdown",
   "id": "7164e2e0-a189-4ff6-9fe9-e061b50bdbf4",
   "metadata": {},
   "source": [
    "- Need to get $\\hat{\\rho_i}(k|m)\\ $, the Fourier of the real density profile\n",
    "    - so get the real density profile of it, then calculate the numerical (built-in) Fourier profile"
   ]
  },
  {
   "cell_type": "code",
   "execution_count": null,
   "id": "a4ce7b69-582f-4c9c-b53a-7fb6b45140f8",
   "metadata": {},
   "outputs": [],
   "source": []
  },
  {
   "cell_type": "markdown",
   "id": "5b1c1ee0-c2fe-4662-bba5-d91dc3bcea2d",
   "metadata": {},
   "source": [
    "## Stellar"
   ]
  },
  {
   "cell_type": "markdown",
   "id": "e9403621-1fab-425d-894b-b676bb121892",
   "metadata": {},
   "source": [
    "- The stellar mass fraction:\n",
    "    - $f_*(m)=A\\exp(-\\frac{\\log_{10}^2(m/m_{0s})}{2\\sigma_s^2})$   \n",
    "- Fix $A$ by requiring that $\\bar{\\rho}_*$ have a particular value:\n",
    "    - $\\bar{\\rho}_*=\\int_0^∞dmmf_*(m)n(m)$\n",
    "    - where $n(m)$ is the halo mass function."
   ]
  },
  {
   "cell_type": "code",
   "execution_count": null,
   "id": "9ac99976-a5e5-4a19-bbe9-e61f309ff85e",
   "metadata": {},
   "outputs": [],
   "source": [
    "A*np.exp( (-1/2) * ( np.log10(m/m_0s) /omega_s )**2 )\n",
    "\n"
   ]
  },
  {
   "cell_type": "markdown",
   "id": "b47bc83d-163e-4c07-8723-80e28cffc046",
   "metadata": {},
   "source": [
    "- $\\rho_*(x|m)=\\frac{\\rho_t}{x}\\exp(-x^\\alpha)$, with $x:=r/r_t$.\n",
    "- Also: constraint on $\\rho_t$ as require that the mass fraction overall is equal to the mass fraction within a halo.   \n",
    "    - ie- $ $"
   ]
  },
  {
   "cell_type": "code",
   "execution_count": null,
   "id": "c2bb1c4b-db15-43a9-8d9f-b22b32c4cdc3",
   "metadata": {},
   "outputs": [],
   "source": []
  },
  {
   "cell_type": "markdown",
   "id": "7c6b40fd-2010-40ef-ada2-9aaf404de329",
   "metadata": {},
   "source": [
    "## Gas"
   ]
  },
  {
   "cell_type": "code",
   "execution_count": null,
   "id": "bd3bb8ff-c0e9-431c-b958-822b7b016570",
   "metadata": {},
   "outputs": [],
   "source": []
  },
  {
   "cell_type": "markdown",
   "id": "c96b37db-f867-4864-9736-0600fc4caeee",
   "metadata": {},
   "source": [
    "## Dark Matter"
   ]
  },
  {
   "cell_type": "code",
   "execution_count": null,
   "id": "1833aff2-57b9-4400-8b66-52740bf985e6",
   "metadata": {},
   "outputs": [],
   "source": []
  },
  {
   "cell_type": "code",
   "execution_count": null,
   "id": "8a65fe0d-38ce-44d5-a6e0-34ccedf89fef",
   "metadata": {},
   "outputs": [],
   "source": []
  }
 ],
 "metadata": {
  "kernelspec": {
   "display_name": "Python 3 (ipykernel)",
   "language": "python",
   "name": "python3"
  },
  "language_info": {
   "codemirror_mode": {
    "name": "ipython",
    "version": 3
   },
   "file_extension": ".py",
   "mimetype": "text/x-python",
   "name": "python",
   "nbconvert_exporter": "python",
   "pygments_lexer": "ipython3",
   "version": "3.12.2"
  }
 },
 "nbformat": 4,
 "nbformat_minor": 5
}
