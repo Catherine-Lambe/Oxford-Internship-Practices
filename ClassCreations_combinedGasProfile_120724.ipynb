{
 "cells": [
  {
   "cell_type": "code",
   "execution_count": 1,
   "id": "9e508032-5bb9-469d-83d0-238b62e0ff55",
   "metadata": {},
   "outputs": [],
   "source": [
    "import numpy as np\n",
    "import pyccl as ccl\n",
    "import matplotlib.pyplot as plt"
   ]
  },
  {
   "cell_type": "markdown",
   "id": "1bb803eb-7ac9-4d6d-9912-8f21f99193f2",
   "metadata": {},
   "source": [
    "# Ejected Gas & Bound Gas Profiles (separate profiles)"
   ]
  },
  {
   "cell_type": "code",
   "execution_count": 120,
   "id": "96806c9d-9976-4725-9673-75f7b733ce85",
   "metadata": {},
   "outputs": [],
   "source": [
    "class ejGas_profile(ccl.halos.profiles.profile_base.HaloProfile): #(ccl.halos.Haloprofile):\n",
    "    \"\"\"Creating a class for the ejected gas density profile\n",
    "    where: \"\"\"  # could put in the equations used\n",
    "\n",
    "    def __init__(self, mass_def, r_ej):\n",
    "        self.r_ej = r_ej  \n",
    "        super(ejGas_profile, self).__init__(mass_def=mass_def)\n",
    "\n",
    "    def _real(self, r, M, r_ej, a=1, f=1): \n",
    "        r_use = np.atleast_1d(r) # need them to be functional arrays\n",
    "        M_use = np.atleast_1d(M)\n",
    "        rEj_use = np.atleast_1d(r_ej)\n",
    "\n",
    "# Returns: float or array_like: halo profile. Shape of output = `(N_M, N_r)` where `N_r` & `N_m` = the sizes of `r` and `M` respectively.\n",
    "        prefix = M_use * f * (1/(a*np.sqrt(2*np.pi*rEj_use)))**3\n",
    "        x = r_use[None, :] / rEj_use[:, None]\n",
    "        prof = prefix[:, None] * np.exp(-(x**2)/2)\n",
    "\n",
    "        if np.ndim(r) == 0:\n",
    "            prof = np.squeeze(prof, axis=-1)\n",
    "        if np.ndim(M) == 0:\n",
    "            prof = np.squeeze(prof, axis=0)\n",
    "                                                          \n",
    "        return prof\n",
    "\n",
    "    def _fourier(self, k, M, r_ej, a=1, f=1):\n",
    "        k_use = np.atleast_1d(k)\n",
    "        M_use = np.atleast_1d(M)\n",
    "        rEj_use = np.atleast_1d(r_ej)\n",
    "\n",
    "        prefix = M_use * f / a**3\n",
    "        x = k_use[None, :] * rEj_use[:, None]\n",
    "        prof = prefix[:, None] * np.exp(-(x**2)/2)  #prof = M_use * f * np.exp(-(1/2)*(k_use*r_ej)**2)/(a**3)\n",
    "\n",
    "        if np.ndim(k) == 0:\n",
    "            prof = np.squeeze(prof, axis=-1)\n",
    "        if np.ndim(M) == 0:\n",
    "            prof = np.squeeze(prof, axis=0)\n",
    "\n",
    "        return prof\n",
    "    "
   ]
  },
  {
   "cell_type": "code",
   "execution_count": 136,
   "id": "6e53a3c3-0b1d-48db-bb75-5cbf58786f02",
   "metadata": {},
   "outputs": [],
   "source": [
    "class boundGas_profile(ccl.halos.profiles.profile_base.HaloProfile): #(ccl.halos.Haloprofile):\n",
    "    \"\"\"Creating a class for the bound gas density profile\n",
    "    where: \"\"\"  # could put in the equations used\n",
    "\n",
    "    def __init__(self, mass_def, concentration, gamma, r_s=1, GammaRange = (1.01, 10), nGamma=64, qrange=(1e-4, 1e2), nq=64):\n",
    "        #, # n_q/Gamma = 2^x\n",
    "                # Omega_c = 0.25, Omega_b=0.05, h=0.07, A_s=2.1e-9, n_s=0.96, Neff=0, Omega_g=0):\n",
    "        # will change later, but can leave characteristic scale as ~ 1 Mpc for the moment\n",
    "        \n",
    "        self.r_s = r_s \n",
    "        self.gamma = gamma\n",
    "        super(boundGas_profile, self).__init__(mass_def=mass_def, concentration=concentration)\n",
    "\n",
    "        self.GammaRange = GammaRange\n",
    "        self.nGamma = nGamma\n",
    "\n",
    "        self.qrange = qrange\n",
    "        self.nq = nq\n",
    "        \n",
    "        self._func_normQ0 = None   # General normalised profile (for q=0, over Gamma)\n",
    "        self._func_normQany = None\n",
    "\n",
    "    def _shape(self, x, gam):\n",
    "        gam_use = np.atleast_1d(gam)\n",
    "        return (np.log(1+x)/x)**gam_use\n",
    "\n",
    "    def _innerInt(self, x, gam): #(a, gam=1/(gamma_use-1), b=1, c=1):\n",
    "        return x**2 * self._shape(x, gam)   # eqn = (1/c) * (a**2) * (np.log(1 + a/b)/(a/b))**gam\n",
    "\n",
    "    import scipy.integrate as integrate\n",
    "    import scipy.interpolate as interpol\n",
    "    from pyccl._core import UnlockInstance\n",
    "\n",
    "    def _Vb_prefix(self, r_s=1):\n",
    "        vB1 = integrate.quad(self._innerInt, 0, np.inf, args = (1/(self.gamma-1)))  # (func, a, b[, args, full_output, ...])\n",
    "        vB2 = 4*np.pi*(r_s**3)*vB1[0]\n",
    "        return vB2\n",
    "\n",
    "    def _norm_interpol1(self):  # interpol1 = for q = 0\n",
    "        gamma_list = np.linspace(self.GammaRange[0], self.GammaRange[1], self.nGamma) # start, stop, number of evenly spaced samples\n",
    "        I0_array = np.zeros(self.nGamma)\n",
    "        k=0\n",
    "        for i in gamma_list:\n",
    "            I0_array[k] =  integrate.quad(self._innerInt, 0, np.inf, args = 1/(i-1))[0] # _innerInt(self, x, gam=1/(gamma_use-1))\n",
    "            k+=1\n",
    "        func_normQ0 = interpol.interp1d(gamma_list, I0_array) # interp1d(x, y, ...\n",
    "        return func_normQ0\n",
    "        \n",
    "    def _real(self, r, M, call_interp=True, r_s=1, scale_a=1, f=1): \n",
    "        r_use = np.atleast_1d(r) # need them to be functional arrays\n",
    "        M_use = np.atleast_1d(M)\n",
    "        \n",
    "        R_M = self.mass_def.get_radius(cosmo, M_use, scale_a) / scale_a # halo virial radius\n",
    "        c_M = self.concentration(cosmo, M_use, scale_a) # concentration-mass relation c(M)\n",
    "        r_s = R_M / c_M # characteristic scale r_s\n",
    "\n",
    "        if call_interp==False:\n",
    "            vB_prefix = self._Vb_prefix(r_s)\n",
    "        else:\n",
    "            if self._func_normQ0 is None: # is instead of == here\n",
    "                with UnlockInstance(self):\n",
    "                    self._func_normQ0 = self._norm_interpol1() \n",
    "            vB_prefix = 4*np.pi*(r_s**3)*self._func_normQ0(self.gamma)  # self._Vb_prefix(gamma_use, rS_use)[0]\n",
    "        prefix = M_use * f * (1/scale_a**3) * (1/vB_prefix)\n",
    "# Returns: float or array_like: halo profile. Shape of the output = `(N_M, N_r)` where `N_r` & `N_m` = the sizes of `r` & `M` respectively.\n",
    "\n",
    "        x = r_use[None, :] / r_s[:, None]\n",
    "        prof = prefix[:, None] * self._shape(x, 1/(self.gamma-1)) # default par of gam = 1/(gamma_use-1) #innerInt(x)\n",
    "\n",
    "        if np.ndim(r) == 0:\n",
    "            prof = np.squeeze(prof, axis=-1)\n",
    "        if np.ndim(M) == 0:\n",
    "            prof = np.squeeze(prof, axis=0)\n",
    "                                                          \n",
    "        return prof\n",
    "\n",
    "    def _norm_interpol2(self):  # interpol1 for q = any\n",
    "        gamma_list = np.linspace(self.GammaRange[0], self.GammaRange[1], self.nGamma) # start, stop, number of evenly spaced samples\n",
    "        q_array = np.geomspace(self.qrange[0], self.qrange[1], self.nq) # q = k*r_s, k will be from geomspace\n",
    "        I0_array =  np.zeros((self.nGamma, self.nq))\n",
    "\n",
    "        def integralQany(x, gam): #(a, gam=1/(gamma_use-1), b=1, c=1):\n",
    "            return x * self._shape(x, gam) # for q = any (& j0(qx) = sinh(qx) = sin(qx)/(qx) => int[x^2 ... j0] = int[x ... sin(qx)]/q\n",
    "        k=0\n",
    "        for i in gamma_list: \n",
    "            l=0\n",
    "            for j in q_array: \n",
    "                I0_array[k, l] =  integrate.quad(integralQany, 0, np.inf, args = 1/(i-1), weight = \"sin\", wvar=j)[0] / j\n",
    "                l+=1\n",
    "            k+=1\n",
    "            print(f'k = {100*k/self.nGamma:.3g}% through')\n",
    "        #interpol.RegularGridInterpolator() for 2D array # (points, values, ... \n",
    "        func_normQany = interpol.RegularGridInterpolator((gamma_list, np.log(q_array)), I0_array)\n",
    "        return func_normQany\n",
    "    \n",
    "    def _fourier(self, k, M, scale_a=1, f=1):\n",
    "        k_use = np.atleast_1d(k)\n",
    "        M_use = np.atleast_1d(M)\n",
    "\n",
    "        R_M = self.mass_def.get_radius(cosmo, M_use, scale_a) / scale_a # halo virial radius\n",
    "        c_M = self.concentration(cosmo, M_use, scale_a) # concentration-mass relation c(M)\n",
    "        r_s = R_M / c_M # characteristic scale r_s\n",
    "\n",
    "        if self._func_normQ0 is None: # is instead of == here\n",
    "            with UnlockInstance(self):\n",
    "                self._func_normQ0 = self._norm_interpol1() \n",
    "        if self._func_normQany is None:\n",
    "            with UnlockInstance(self):\n",
    "                self._func_normQany = self._norm_interpol2()\n",
    "\n",
    "        q_use = k_use[None, :]*r_s\n",
    "        g_k = self._func_normQany((self.gamma, np.log(q_use))) / self._func_normQ0(self.gamma) # = Ib_qAny / Ib_q0\n",
    "\n",
    "        prefix = M_use * f / a**3\n",
    "        prof = prefix[:, None] * g_k[None,:] \n",
    "\n",
    "        if np.ndim(k) == 0:\n",
    "            prof = np.squeeze(prof, axis=-1)\n",
    "        if np.ndim(M) == 0:\n",
    "            prof = np.squeeze(prof, axis=0)\n",
    "\n",
    "        return prof\n",
    "    "
   ]
  },
  {
   "cell_type": "markdown",
   "id": "e650570a-c65d-409f-87bc-a2fc09470730",
   "metadata": {},
   "source": [
    "# New Combined Class"
   ]
  },
  {
   "cell_type": "markdown",
   "id": "f0f58b3f-fa7d-4b3b-9d03-d3db8f0f2c39",
   "metadata": {},
   "source": [
    "Add in equations: $\\rho(r)\\ = f_b\\ \\rho_{bound}(r)\\ + (1 - f_b)\\rho_{ejected}(r)\\ $"
   ]
  },
  {
   "cell_type": "code",
   "execution_count": 60,
   "id": "691046e0-3b07-4895-b76b-1bb2be87802a",
   "metadata": {},
   "outputs": [
    {
     "data": {
      "text/plain": [
       "<function __main__.combinedGas_profile._cd_fourier(self, k, M, r_ej, f_bd=1, call_interp=True, r_s=1, scale_a=1)>"
      ]
     },
     "execution_count": 60,
     "metadata": {},
     "output_type": "execute_result"
    }
   ],
   "source": [
    "combinedGas_profile._cd_fourier"
   ]
  },
  {
   "cell_type": "code",
   "execution_count": 166,
   "id": "7826104c-35de-47d7-af3f-d3f02d76fd08",
   "metadata": {},
   "outputs": [],
   "source": [
    "class combinedGas_profile(boundGas_profile, ejGas_profile): # ccl.halos.profiles.profile_base.HaloProfile, \n",
    "    \"\"\"Text\n",
    "    \"\"\"\n",
    "\n",
    "    def __init__(self, mass_def, concentration, gamma, r_ej, r_s=1, GammaRange = (1.01, 10), nGamma=64, qrange=(1e-4, 1e2), nq=64):\n",
    "        \n",
    "        self.r_ej = r_ej  \n",
    "        self.r_s = r_s \n",
    "        self.gamma = gamma\n",
    "        # super().__init__(mass_def=mass_def, concentration=concentration)\n",
    "        \n",
    "       # super(combinedGas_profile, self).__init__(mass_def=mass_def, concentration=concentration)\n",
    "      #  ejGas_profile.__init__(self, mass_def=mass_def, r_ej=r_ej)\n",
    "        boundGas_profile.__init__(self, mass_def=mass_def, concentration=concentration, gamma = gamma)\n",
    "        A.__init__(self, x=x, y=y)\n",
    "\n",
    "        self.GammaRange = GammaRange\n",
    "        self.nGamma = nGamma\n",
    "        self.qrange = qrange\n",
    "        self.nq = nq\n",
    "        \n",
    "        self._func_normQ0 = None   # General normalised bound profile (for q=0, over Gamma)\n",
    "        self._func_normQany = None\n",
    "\n",
    "    def _real(self, r, M, r_ej, f_bd=1, call_interp=True, r_s=1, scale_a=1):\n",
    "        f_ej = 1 - f_bd\n",
    "        prof_ej = ejGas_profile._real(self, r, M, r_ej, scale_a, f_ej)\n",
    "        prof_bd = boundGas_profile._real(self, r, M, call_interp, r_s, scale_a, f_bd)\n",
    "        profile = prof_ej + prof_bd\n",
    "        return profile\n",
    "\n",
    "    def _fourier(self, k, M, r_ej, f_bd = 1, call_interp=True, r_s=1, scale_a=1):\n",
    "        f_ej = 1 - f_b\n",
    "        prof_ej = ejGas_profile._fourier(self, k, M, r_ej, scale_a, f_ej)\n",
    "        prof_bd = boundGas_profile._fourier(self, k, M, scale_a, f_bd)\n",
    "        profile = prof_ej + prof_bd\n",
    "        return profile"
   ]
  },
  {
   "cell_type": "code",
   "execution_count": null,
   "id": "8ff6a335-bb62-4f50-b7c8-5427deac1931",
   "metadata": {},
   "outputs": [],
   "source": []
  },
  {
   "cell_type": "code",
   "execution_count": 154,
   "id": "b4a25b6f-a4ac-4008-bad7-2b7d91b8954e",
   "metadata": {},
   "outputs": [],
   "source": [
    "class combinedGas_profile(boundGas_profile, ejGas_profile): # ccl.halos.profiles.profile_base.HaloProfile, \n",
    "    \"\"\"Text\n",
    "    \"\"\"\n",
    "\n",
    "    def __init__(self, mass_def, gamma, concentration, r_ej, r_s=1, GammaRange = (1.01, 10), nGamma=64, qrange=(1e-4, 1e2), nq=64):\n",
    "        \n",
    "        self.r_ej = r_ej  \n",
    "        self.r_s = r_s \n",
    "        self.gamma = gamma\n",
    "        super().__init__(mass_def=mass_def, concentration=concentration)\n",
    "        \n",
    "        # super(combinedGas_profile, self).__init__(mass_def=mass_def, concentration=concentration)\n",
    "        #boundGas_profile.__init__(self)\n",
    "\n",
    "        self.GammaRange = GammaRange\n",
    "        self.nGamma = nGamma\n",
    "        self.qrange = qrange\n",
    "        self.nq = nq\n",
    "        \n",
    "        self._func_normQ0 = None   # General normalised bound profile (for q=0, over Gamma)\n",
    "        self._func_normQany = None\n",
    "\n",
    "    def _cd_real(self, r, M, r_ej, f_bd=1, call_interp=True, r_s=1, scale_a=1):\n",
    "        f_ej = 1 - f_bd\n",
    "        prof_ej = self._ej_real(self, r, M, r_ej, scale_a, f_ej)\n",
    "        prof_bd = self._bd_real(self, r, M, call_interp, r_s, scale_a, f_bd)\n",
    "        profile = prof_ej + prof_bd\n",
    "        return profile\n",
    "\n",
    "    def _cd_fourier(self, k, M, r_ej, f_bd = 1, call_interp=True, r_s=1, scale_a=1):\n",
    "        f_ej = 1 - f_b\n",
    "        prof_ej = self._ej_fourier(self, k, M, r_ej, scale_a, f_ej)\n",
    "        prof_bd = self._bd_fourier(self, k, M, scale_a, f_bd)\n",
    "        profile = prof_ej + prof_bd\n",
    "        return profile"
   ]
  },
  {
   "cell_type": "code",
   "execution_count": null,
   "id": "4e801bdf-285c-4fec-9e7c-8ba91a9bb7a4",
   "metadata": {},
   "outputs": [],
   "source": []
  },
  {
   "cell_type": "code",
   "execution_count": 100,
   "id": "7503aad9-692a-4db0-aeab-fbce3932bc9b",
   "metadata": {},
   "outputs": [],
   "source": [
    "hmd_200c = ccl.halos.MassDef200c # use a mass definition with Delta = 200\n",
    "cM = ccl.halos.ConcentrationDuffy08(mass_def=hmd_200c)\n",
    "cosmo = ccl.Cosmology(Omega_c = 0.25, Omega_b=0.05, h=0.07, A_s=2.1e-9, n_s=0.96, Neff=0, Omega_g=0)\n",
    "\n",
    "trial_r = np.geomspace(1E-2,1E8,100000) # geomspace is like linspace, but evenly spaces on a logscale\n",
    "trial_M = np.array([5E12,2E13, 1E14])\n",
    "trial_gamma = 1.1  # working with z = 0 (today) ; therefore a = 1 [default]\n",
    "trial_rEj = 100\n",
    "trial_rS = 1       "
   ]
  },
  {
   "cell_type": "code",
   "execution_count": 168,
   "id": "44588f06-546f-445d-811b-1c3894282a3f",
   "metadata": {},
   "outputs": [
    {
     "ename": "TypeError",
     "evalue": "ejGas_profile.__init__() got an unexpected keyword argument 'concentration'",
     "output_type": "error",
     "traceback": [
      "\u001b[0;31m---------------------------------------------------------------------------\u001b[0m",
      "\u001b[0;31mTypeError\u001b[0m                                 Traceback (most recent call last)",
      "Cell \u001b[0;32mIn[168], line 1\u001b[0m\n\u001b[0;32m----> 1\u001b[0m trial_profile \u001b[38;5;241m=\u001b[39m combinedGas_profile(hmd_200c, cM, trial_gamma, trial_rEj)\n",
      "Cell \u001b[0;32mIn[166], line 14\u001b[0m, in \u001b[0;36mcombinedGas_profile.__init__\u001b[0;34m(self, mass_def, concentration, gamma, r_ej, r_s, GammaRange, nGamma, qrange, nq)\u001b[0m\n\u001b[1;32m      9\u001b[0m   \u001b[38;5;28mself\u001b[39m\u001b[38;5;241m.\u001b[39mgamma \u001b[38;5;241m=\u001b[39m gamma\n\u001b[1;32m     10\u001b[0m   \u001b[38;5;66;03m# super().__init__(mass_def=mass_def, concentration=concentration)\u001b[39;00m\n\u001b[1;32m     11\u001b[0m   \n\u001b[1;32m     12\u001b[0m  \u001b[38;5;66;03m# super(combinedGas_profile, self).__init__(mass_def=mass_def, concentration=concentration)\u001b[39;00m\n\u001b[1;32m     13\u001b[0m \u001b[38;5;66;03m#  ejGas_profile.__init__(self, mass_def=mass_def, r_ej=r_ej)\u001b[39;00m\n\u001b[0;32m---> 14\u001b[0m   boundGas_profile\u001b[38;5;241m.\u001b[39m\u001b[38;5;21m__init__\u001b[39m(\u001b[38;5;28mself\u001b[39m, mass_def\u001b[38;5;241m=\u001b[39mmass_def, concentration\u001b[38;5;241m=\u001b[39mconcentration, gamma \u001b[38;5;241m=\u001b[39m gamma)\n\u001b[1;32m     15\u001b[0m   A\u001b[38;5;241m.\u001b[39m\u001b[38;5;21m__init__\u001b[39m(\u001b[38;5;28mself\u001b[39m, x\u001b[38;5;241m=\u001b[39mx, y\u001b[38;5;241m=\u001b[39my)\n\u001b[1;32m     17\u001b[0m   \u001b[38;5;28mself\u001b[39m\u001b[38;5;241m.\u001b[39mGammaRange \u001b[38;5;241m=\u001b[39m GammaRange\n",
      "Cell \u001b[0;32mIn[136], line 12\u001b[0m, in \u001b[0;36mboundGas_profile.__init__\u001b[0;34m(self, mass_def, concentration, gamma, r_s, GammaRange, nGamma, qrange, nq)\u001b[0m\n\u001b[1;32m     10\u001b[0m \u001b[38;5;28mself\u001b[39m\u001b[38;5;241m.\u001b[39mr_s \u001b[38;5;241m=\u001b[39m r_s \n\u001b[1;32m     11\u001b[0m \u001b[38;5;28mself\u001b[39m\u001b[38;5;241m.\u001b[39mgamma \u001b[38;5;241m=\u001b[39m gamma\n\u001b[0;32m---> 12\u001b[0m \u001b[38;5;28msuper\u001b[39m(boundGas_profile, \u001b[38;5;28mself\u001b[39m)\u001b[38;5;241m.\u001b[39m\u001b[38;5;21m__init__\u001b[39m(mass_def\u001b[38;5;241m=\u001b[39mmass_def, concentration\u001b[38;5;241m=\u001b[39mconcentration)\n\u001b[1;32m     14\u001b[0m \u001b[38;5;28mself\u001b[39m\u001b[38;5;241m.\u001b[39mGammaRange \u001b[38;5;241m=\u001b[39m GammaRange\n\u001b[1;32m     15\u001b[0m \u001b[38;5;28mself\u001b[39m\u001b[38;5;241m.\u001b[39mnGamma \u001b[38;5;241m=\u001b[39m nGamma\n",
      "\u001b[0;31mTypeError\u001b[0m: ejGas_profile.__init__() got an unexpected keyword argument 'concentration'"
     ]
    }
   ],
   "source": [
    "trial_profile = combinedGas_profile(hmd_200c, cM, trial_gamma, trial_rEj)"
   ]
  },
  {
   "cell_type": "code",
   "execution_count": 72,
   "id": "861bce41-2cb9-430f-aa4f-88ded7dd936d",
   "metadata": {},
   "outputs": [
    {
     "data": {
      "text/plain": [
       "<function __main__.boundGas_profile.__init__(self, mass_def, gamma, concentration, r_s=1, GammaRange=(1.01, 10), nGamma=64, qrange=(0.0001, 100.0), nq=64)>"
      ]
     },
     "execution_count": 72,
     "metadata": {},
     "output_type": "execute_result"
    }
   ],
   "source": [
    "boundGas_profile.__init__"
   ]
  },
  {
   "cell_type": "code",
   "execution_count": 152,
   "id": "27c2c04a-951d-486b-9d95-091699e865e9",
   "metadata": {},
   "outputs": [
    {
     "data": {
      "text/plain": [
       "<function __main__.ejGas_profile.__init__(self, mass_def, r_ej)>"
      ]
     },
     "execution_count": 152,
     "metadata": {},
     "output_type": "execute_result"
    }
   ],
   "source": [
    "ejGas_profile.__init__"
   ]
  },
  {
   "cell_type": "code",
   "execution_count": null,
   "id": "b0978015-bd15-49db-bd69-3d9fee93c250",
   "metadata": {},
   "outputs": [],
   "source": []
  }
 ],
 "metadata": {
  "kernelspec": {
   "display_name": "Python 3 (ipykernel)",
   "language": "python",
   "name": "python3"
  },
  "language_info": {
   "codemirror_mode": {
    "name": "ipython",
    "version": 3
   },
   "file_extension": ".py",
   "mimetype": "text/x-python",
   "name": "python",
   "nbconvert_exporter": "python",
   "pygments_lexer": "ipython3",
   "version": "3.12.2"
  }
 },
 "nbformat": 4,
 "nbformat_minor": 5
}
