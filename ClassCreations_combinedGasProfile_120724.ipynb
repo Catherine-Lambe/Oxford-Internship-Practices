{
 "cells": [
  {
   "cell_type": "code",
   "execution_count": 1,
   "id": "9e508032-5bb9-469d-83d0-238b62e0ff55",
   "metadata": {},
   "outputs": [],
   "source": [
    "import numpy as np\n",
    "import pyccl as ccl\n",
    "import matplotlib.pyplot as plt\n",
    "import scipy.integrate as integrate\n",
    "import scipy.interpolate as interpol\n",
    "from pyccl._core import UnlockInstance"
   ]
  },
  {
   "cell_type": "markdown",
   "id": "1bb803eb-7ac9-4d6d-9912-8f21f99193f2",
   "metadata": {},
   "source": [
    "# Ejected Gas & Bound Gas Profiles (separate profiles)"
   ]
  },
  {
   "cell_type": "code",
   "execution_count": 3,
   "id": "96806c9d-9976-4725-9673-75f7b733ce85",
   "metadata": {},
   "outputs": [],
   "source": [
    "class ejGas_profile(ccl.halos.profiles.profile_base.HaloProfile): #(ccl.halos.Haloprofile):\n",
    "    \"\"\"Creating a class for the ejected gas density profile\n",
    "    where: \"\"\"  # could put in the equations used\n",
    "\n",
    "    def __init__(self, mass_def, r_ej):\n",
    "        self.r_ej = r_ej  \n",
    "        super(ejGas_profile, self).__init__(mass_def=mass_def)\n",
    "\n",
    "    def _real(self, r, M, r_ej, a=1): \n",
    "        r_use = np.atleast_1d(r) # need them to be functional arrays\n",
    "        M_use = np.atleast_1d(M)\n",
    "        rEj_use = np.atleast_1d(r_ej)\n",
    "\n",
    "# Returns: float or array_like: halo profile. Shape of output = `(N_M, N_r)` where `N_r` & `N_m` = the sizes of `r` and `M` respectively.\n",
    "        prefix = M_use * (1/(a*np.sqrt(2*np.pi*rEj_use)))**3\n",
    "        x = r_use[None, :] / rEj_use[:, None]\n",
    "        prof = prefix[:, None] * np.exp(-(x**2)/2)\n",
    "\n",
    "        if np.ndim(r) == 0:\n",
    "            prof = np.squeeze(prof, axis=-1)\n",
    "        if np.ndim(M) == 0:\n",
    "            prof = np.squeeze(prof, axis=0)\n",
    "                                                          \n",
    "        return prof\n",
    "\n",
    "    def _fourier(self, k, M, r_ej, a=1):\n",
    "        k_use = np.atleast_1d(k)\n",
    "        M_use = np.atleast_1d(M)\n",
    "        rEj_use = np.atleast_1d(r_ej)\n",
    "\n",
    "        prefix = M_use / a**3\n",
    "        x = k_use[None, :] * rEj_use[:, None]\n",
    "        prof = prefix[:, None] * np.exp(-(x**2)/2)  #prof = M_use * f * np.exp(-(1/2)*(k_use*r_ej)**2)/(a**3)\n",
    "\n",
    "        if np.ndim(k) == 0:\n",
    "            prof = np.squeeze(prof, axis=-1)\n",
    "        if np.ndim(M) == 0:\n",
    "            prof = np.squeeze(prof, axis=0)\n",
    "\n",
    "        return prof\n",
    "    "
   ]
  },
  {
   "cell_type": "code",
   "execution_count": 4,
   "id": "6e53a3c3-0b1d-48db-bb75-5cbf58786f02",
   "metadata": {},
   "outputs": [],
   "source": [
    "class boundGas_profile(ccl.halos.profiles.profile_base.HaloProfile): #(ccl.halos.Haloprofile):\n",
    "    \"\"\"Creating a class for the bound gas density profile\n",
    "    where: \"\"\"  # could put in the equations used\n",
    "\n",
    "    def __init__(self, mass_def, concentration, gamma, GammaRange = (1.01, 10), nGamma=64, qrange=(1e-4, 1e2), nq=64): # n_q/Gamma = 2^x\n",
    "        \n",
    "        self.r_s = r_s \n",
    "        self.gamma = gamma\n",
    "        super(boundGas_profile, self).__init__(mass_def=mass_def, concentration=concentration)\n",
    "\n",
    "        self.GammaRange = GammaRange\n",
    "        self.nGamma = nGamma\n",
    "\n",
    "        self.qrange = qrange\n",
    "        self.nq = nq\n",
    "        \n",
    "        self._func_normQ0 = None   # General normalised profile (for q=0, over Gamma)\n",
    "        self._func_normQany = None\n",
    "\n",
    "    def _shape(self, x, gam):\n",
    "        gam_use = np.atleast_1d(gam)\n",
    "        return (np.log(1+x)/x)**gam_use\n",
    "\n",
    "    def _innerInt(self, x, gam): \n",
    "        return x**2 * self._shape(x, gam)   \n",
    "\n",
    "    import scipy.integrate as integrate\n",
    "    import scipy.interpolate as interpol\n",
    "    from pyccl._core import UnlockInstance\n",
    "\n",
    "    def _Vb_prefix(self, r_s=1):\n",
    "        vB1 = integrate.quad(self._innerInt, 0, np.inf, args = (1/(self.gamma-1)))  # (func, a, b[, args, full_output, ...])\n",
    "        vB2 = 4*np.pi*(r_s**3)*vB1[0]\n",
    "        return vB2\n",
    "\n",
    "    def _norm_interpol1(self):  # interpol1 = for q = 0\n",
    "        gamma_list = np.linspace(self.GammaRange[0], self.GammaRange[1], self.nGamma) # start, stop, number of evenly spaced samples\n",
    "        I0_array = np.zeros(self.nGamma)\n",
    "        k=0\n",
    "        for i in gamma_list:\n",
    "            I0_array[k] =  integrate.quad(self._innerInt, 0, np.inf, args = 1/(i-1))[0] # _innerInt(self, x, gam=1/(gamma_use-1))\n",
    "            k+=1\n",
    "        func_normQ0 = interpol.interp1d(gamma_list, I0_array) # interp1d(x, y, ...\n",
    "        return func_normQ0\n",
    "        \n",
    "    def _real(self, r, M, call_interp=True, scale_a=1): \n",
    "        r_use = np.atleast_1d(r) # need them to be functional arrays\n",
    "        M_use = np.atleast_1d(M)\n",
    "        \n",
    "        R_M = self.mass_def.get_radius(cosmo, M_use, scale_a) / scale_a # halo virial radius\n",
    "        c_M = self.concentration(cosmo, M_use, scale_a) # concentration-mass relation c(M)\n",
    "        r_s = R_M / c_M # characteristic scale r_s\n",
    "\n",
    "        if call_interp==False:\n",
    "            vB_prefix = self._Vb_prefix(r_s)\n",
    "        else:\n",
    "            if self._func_normQ0 is None: # is instead of == here\n",
    "                with UnlockInstance(self):\n",
    "                    self._func_normQ0 = self._norm_interpol1() \n",
    "            vB_prefix = 4*np.pi*(r_s**3)*self._func_normQ0(self.gamma)  # self._Vb_prefix(gamma_use, rS_use)[0]\n",
    "        prefix = M_use * (1/scale_a**3) * (1/vB_prefix)\n",
    "# Returns: float or array_like: halo profile. Shape of the output = `(N_M, N_r)` where `N_r` & `N_m` = the sizes of `r` & `M` respectively.\n",
    "\n",
    "        x = r_use[None, :] / r_s[:, None]\n",
    "        prof = prefix[:, None] * self._shape(x, 1/(self.gamma-1)) # default par of gam = 1/(gamma_use-1) #innerInt(x)\n",
    "\n",
    "        if np.ndim(r) == 0:\n",
    "            prof = np.squeeze(prof, axis=-1)\n",
    "        if np.ndim(M) == 0:\n",
    "            prof = np.squeeze(prof, axis=0)\n",
    "                                                          \n",
    "        return prof\n",
    "\n",
    "    def _norm_interpol2(self):  # interpol1 for q = any\n",
    "        gamma_list = np.linspace(self.GammaRange[0], self.GammaRange[1], self.nGamma) # start, stop, number of evenly spaced samples\n",
    "        q_array = np.geomspace(self.qrange[0], self.qrange[1], self.nq) # q = k*r_s, k will be from geomspace\n",
    "        I0_array =  np.zeros((self.nGamma, self.nq))\n",
    "\n",
    "        def integralQany(x, gam): #(a, gam=1/(gamma_use-1), b=1, c=1):\n",
    "            return x * self._shape(x, gam) # for q = any (& j0(qx) = sinh(qx) = sin(qx)/(qx) => int[x^2 ... j0] = int[x ... sin(qx)]/q\n",
    "        k=0\n",
    "        for i in gamma_list: \n",
    "            l=0\n",
    "            for j in q_array: \n",
    "                I0_array[k, l] =  integrate.quad(integralQany, 0, np.inf, args = 1/(i-1), weight = \"sin\", wvar=j)[0] / j\n",
    "                l+=1\n",
    "            k+=1\n",
    "            print(f'k = {100*k/self.nGamma:.3g}% through')\n",
    "        #interpol.RegularGridInterpolator() for 2D array # (points, values, ... \n",
    "        func_normQany = interpol.RegularGridInterpolator((gamma_list, np.log(q_array)), I0_array)\n",
    "        return func_normQany\n",
    "    \n",
    "    def _fourier(self, k, M, scale_a=1):\n",
    "        k_use = np.atleast_1d(k)\n",
    "        M_use = np.atleast_1d(M)\n",
    "\n",
    "        R_M = self.mass_def.get_radius(cosmo, M_use, scale_a) / scale_a # halo virial radius\n",
    "        c_M = self.concentration(cosmo, M_use, scale_a) # concentration-mass relation c(M)\n",
    "        r_s = R_M / c_M # characteristic scale r_s\n",
    "\n",
    "        if self._func_normQ0 is None: # is instead of == here\n",
    "            with UnlockInstance(self):\n",
    "                self._func_normQ0 = self._norm_interpol1() \n",
    "        if self._func_normQany is None:\n",
    "            with UnlockInstance(self):\n",
    "                self._func_normQany = self._norm_interpol2()\n",
    "\n",
    "        q_use = k_use[None, :]*r_s[:, None]\n",
    "        g_k = self._func_normQany((self.gamma, np.log(q_use))) / self._func_normQ0(self.gamma) # = Ib_qAny / Ib_q0\n",
    "\n",
    "        prefix = M_use / scale_a**3\n",
    "        prof = prefix[:, None] * g_k[None,:] \n",
    "\n",
    "        if np.ndim(k) == 0:\n",
    "            prof = np.squeeze(prof, axis=-1)\n",
    "        if np.ndim(M) == 0:\n",
    "            prof = np.squeeze(prof, axis=0)\n",
    "\n",
    "        return prof\n",
    "    "
   ]
  },
  {
   "cell_type": "code",
   "execution_count": null,
   "id": "9e8f2dd1-3b9c-4fe6-bc60-7c88f55bf846",
   "metadata": {},
   "outputs": [],
   "source": []
  },
  {
   "cell_type": "markdown",
   "id": "39b78f40-c0e3-44e7-bce5-bd76732f865b",
   "metadata": {},
   "source": [
    "class boundGas_profile(ccl.halos.profiles.profile_base.HaloProfile): #(ccl.halos.Haloprofile):\n",
    "    \"\"\"Creating a class for the bound gas density profile\n",
    "    where: \"\"\"  # could put in the equations used\n",
    "\n",
    "    def __init__(self, mass_def, concentration, gamma, GammaRange = (1.01, 10), nGamma=64, qrange=(1e-4, 1e2), nq=64): # n_q/Gamma = 2^x\n",
    "        \n",
    "        self.gamma = gamma\n",
    "        super(boundGas_profile, self).__init__(mass_def=mass_def, concentration=concentration)\n",
    "\n",
    "        self.GammaRange = GammaRange\n",
    "        self.nGamma = nGamma\n",
    "\n",
    "        self.qrange = qrange\n",
    "        self.nq = nq\n",
    "        \n",
    "        self._func_normQ0 = None   # General normalised profile (for q=0, over Gamma)\n",
    "        self._func_normQany = None\n",
    "\n",
    "    def _shape(self, x, gam):\n",
    "        gam_use = np.atleast_1d(gam)\n",
    "        return (np.log(1+x)/x)**gam_use\n",
    "\n",
    "    def _innerInt(self, x, gam): \n",
    "        return x**2 * boundGas_profile._shape(x, gam)   \n",
    "\n",
    "    import scipy.integrate as integrate\n",
    "    import scipy.interpolate as interpol\n",
    "    from pyccl._core import UnlockInstance\n",
    "\n",
    "    def _Vb_prefix(self, r_s):\n",
    "        vB1 = integrate.quad(boundGas_profile._innerInt, 0, np.inf, args = (1/(self.gamma-1)))  # (func, a, b[, args, full_output, ...])\n",
    "        vB2 = 4*np.pi*(r_s**3)*vB1[0]\n",
    "        return vB2\n",
    "\n",
    "    def _norm_interpol1(self):  # interpol1 = for q = 0\n",
    "        gamma_list = np.linspace(self.GammaRange[0], self.GammaRange[1], self.nGamma) # start, stop, number of evenly spaced samples\n",
    "        I0_array = np.zeros(self.nGamma)\n",
    "        k=0\n",
    "        for i in gamma_list:\n",
    "            I0_array[k] =  integrate.quad(boundGas_profile._innerInt, 0, np.inf, args = 1/(i-1))[0] # _innerInt(self, x, gam=1/(gamma_use-1))\n",
    "            k+=1\n",
    "        func_normQ0 = interpol.interp1d(gamma_list, I0_array) # interp1d(x, y, ...\n",
    "        return func_normQ0\n",
    "        \n",
    "    def _real(self, r, M, call_interp=True, scale_a=1): \n",
    "        r_use = np.atleast_1d(r) # need them to be functional arrays\n",
    "        M_use = np.atleast_1d(M)\n",
    "        \n",
    "        R_M = self.mass_def.get_radius(cosmo, M_use, scale_a) / scale_a # halo virial radius\n",
    "        c_M = self.concentration(cosmo, M_use, scale_a) # concentration-mass relation c(M)\n",
    "        r_s = R_M / c_M # characteristic scale r_s\n",
    "\n",
    "        if call_interp==False:\n",
    "            vB_prefix = self._Vb_prefix(r_s)\n",
    "        else:\n",
    "            if self._func_normQ0 is None: # is instead of == here\n",
    "                with UnlockInstance(self):\n",
    "                    self._func_normQ0 = boundGas_profile._norm_interpol1()#self) \n",
    "            vB_prefix = 4*np.pi*(r_s**3)*boundGas_profile._func_normQ0(self.gamma)  # self._Vb_prefix(gamma_use, rS_use)[0]\n",
    "        prefix = M_use * (1/scale_a**3) * (1/vB_prefix)\n",
    "# Returns: float or array_like: halo profile. Shape of the output = `(N_M, N_r)` where `N_r` & `N_m` = the sizes of `r` & `M` respectively.\n",
    "\n",
    "        x = r_use[None, :] / r_s[:, None]\n",
    "        prof = prefix[:, None] * boundGas_profile._shape(x, 1/(self.gamma-1)) # default par of gam = 1/(gamma_use-1) #innerInt(x)\n",
    "\n",
    "        if np.ndim(r) == 0:\n",
    "            prof = np.squeeze(prof, axis=-1)\n",
    "        if np.ndim(M) == 0:\n",
    "            prof = np.squeeze(prof, axis=0)\n",
    "                                                          \n",
    "        return prof\n",
    "\n",
    "    def _norm_interpol2(self):  # interpol1 for q = any\n",
    "        gamma_list = np.linspace(self.GammaRange[0], self.GammaRange[1], self.nGamma) # start, stop, number of evenly spaced samples\n",
    "        q_array = np.geomspace(self.qrange[0], self.qrange[1], self.nq) # q = k*r_s, k will be from geomspace\n",
    "        I0_array =  np.zeros((self.nGamma, self.nq))\n",
    "\n",
    "        def integralQany(x, gam): #(a, gam=1/(gamma_use-1), b=1, c=1):\n",
    "            return x * boundGas_profile._shape(x, gam) # for q = any (& j0(qx) = sinh(qx) = sin(qx)/(qx) => int[x^2 ... j0] = int[x ... sin(qx)]/q\n",
    "        k=0\n",
    "        for i in gamma_list: \n",
    "            l=0\n",
    "            for j in q_array: \n",
    "                I0_array[k, l] =  integrate.quad(integralQany, 0, np.inf, args = 1/(i-1), weight = \"sin\", wvar=j)[0] / j\n",
    "                l+=1\n",
    "            k+=1\n",
    "            print(f'k = {100*k/self.nGamma:.3g}% through')\n",
    "        #interpol.RegularGridInterpolator() for 2D array # (points, values, ... \n",
    "        func_normQany = interpol.RegularGridInterpolator((gamma_list, np.log(q_array)), I0_array)\n",
    "        return func_normQany\n",
    "    \n",
    "    def _fourier(self, k, M, scale_a=1):\n",
    "        k_use = np.atleast_1d(k)\n",
    "        M_use = np.atleast_1d(M)\n",
    "\n",
    "        R_M = self.mass_def.get_radius(cosmo, M_use, scale_a) / scale_a # halo virial radius\n",
    "        c_M = self.concentration(cosmo, M_use, scale_a) # concentration-mass relation c(M)\n",
    "        r_s = R_M / c_M # characteristic scale r_s\n",
    "\n",
    "        if self._func_normQ0 is None: # is instead of == here\n",
    "            with UnlockInstance(self):\n",
    "                self._func_normQ0 = boundGas_profile._norm_interpol1() \n",
    "        if self._func_normQany is None:\n",
    "            with UnlockInstance(self):\n",
    "                self._func_normQany = boundGas_profile._norm_interpol2()\n",
    "\n",
    "        q_use = k_use[None, :]*r_s[:, None]\n",
    "        g_k = self._func_normQany((self.gamma, np.log(q_use))) / self._func_normQ0(self.gamma) # = Ib_qAny / Ib_q0\n",
    "\n",
    "        prefix = M_use / scale_a**3\n",
    "        prof = prefix[:, None] * g_k[None,:] \n",
    "\n",
    "        if np.ndim(k) == 0:\n",
    "            prof = np.squeeze(prof, axis=-1)\n",
    "        if np.ndim(M) == 0:\n",
    "            prof = np.squeeze(prof, axis=0)\n",
    "\n",
    "        return prof\n",
    "    "
   ]
  },
  {
   "cell_type": "markdown",
   "id": "e650570a-c65d-409f-87bc-a2fc09470730",
   "metadata": {},
   "source": [
    "# New Combined Class"
   ]
  },
  {
   "cell_type": "markdown",
   "id": "f0f58b3f-fa7d-4b3b-9d03-d3db8f0f2c39",
   "metadata": {},
   "source": [
    "Add in equations: $\\rho(r)\\ = f_b\\ \\rho_{bound}(r)\\ + (1 - f_b)\\rho_{ejected}(r)\\ $"
   ]
  },
  {
   "cell_type": "markdown",
   "id": "081e8ea2-e725-4905-badb-aa9cad16cc93",
   "metadata": {},
   "source": [
    "class combinedGas_profile(ccl.halos.profiles.profile_base.HaloProfile): \n",
    "    \"\"\"Text\n",
    "    \"\"\"\n",
    "\n",
    "    def __init__(self, mass_def, concentration, gamma, r_ej, GammaRange = (1.01, 10), nGamma=64, qrange=(1e-4, 1e2), nq=64):\n",
    "        \n",
    "        self.r_ej = r_ej  \n",
    "        self.gamma = gamma\n",
    "        # self.mass_def = mass_def self.concentration = concentration\n",
    "        super().__init__(mass_def=mass_def, concentration=concentration)\n",
    "        \n",
    "       # super(combinedGas_profile, self).__init__(mass_def=mass_def, concentration=concentration)\n",
    "      #  ejGas_profile.__init__(self, mass_def=mass_def, r_ej=r_ej)\n",
    "        #boundGas_profile.__init__(self, mass_def=mass_def, concentration=concentration, gamma = gamma)\n",
    "        # A.__init__(self, x=x, y=y)\n",
    "        self.boundProfile = boundGas_profile(mass_def=mass_def, concentration=concentration, gamma=gamma)\n",
    "        self.ejProfile = ejGas_profile\n",
    "\n",
    "        self.GammaRange = GammaRange\n",
    "        self.nGamma = nGamma\n",
    "        self.qrange = qrange\n",
    "        self.nq = nq\n",
    "        self._func_normQ0 = None   # General normalised bound profile (for q=0, over Gamma)\n",
    "        self._func_normQany = None\n",
    "\n",
    "        import scipy.integrate as integrate\n",
    "        import scipy.interpolate as interpol\n",
    "        from pyccl._core import UnlockInstance\n",
    "\n",
    "    def _real(self, r, M, r_ej, f_bd=1, call_interp=True, scale_a=1):\n",
    "        f_ej = 1 - f_bd\n",
    "        prof_ej = self.ejProfile._real(r, M, r_ej, scale_a)\n",
    "        prof_bd = self.boundProfile._real(r, M, call_interp, scale_a)\n",
    "        profile = f_ej*prof_ej + f_bd*prof_bd\n",
    "        return profile\n",
    "\n",
    "    def _fourier(self, k, M, r_ej, f_bd = 1, call_interp=True, scale_a=1):\n",
    "        f_ej = 1 - f_bd\n",
    "        prof_ej = self.ejGas_profile._fourier(self, k, M, r_ej, scale_a)\n",
    "        prof_bd = self.boundGas_profile._fourier(self, k, M, scale_a)\n",
    "        profile = f_ej*prof_ej + f_bd*prof_bd\n",
    "        return profile"
   ]
  },
  {
   "cell_type": "code",
   "execution_count": null,
   "id": "a15ebb28-8af4-4cfc-b4a2-b5bf2f3e2392",
   "metadata": {},
   "outputs": [],
   "source": []
  },
  {
   "cell_type": "code",
   "execution_count": 16,
   "id": "ad6d95f3-eb3d-460e-8712-4ff8457edfe6",
   "metadata": {},
   "outputs": [],
   "source": [
    "class combinedGas_profile(boundGas_profile, ejGas_profile): #ccl.halos.profiles.profile_base.HaloProfile): \n",
    "    \"\"\"Text\n",
    "    \"\"\"\n",
    "\n",
    "    def __init__(self, mass_def, concentration, gamma, r_ej, GammaRange = (1.01, 10), nGamma=64, qrange=(1e-4, 1e2), nq=64):\n",
    "        \n",
    "        self.r_ej = r_ej  \n",
    "        self.gamma = gamma\n",
    "        self.mass_def = mass_def \n",
    "        self.concentration = concentration\n",
    "        #super().__init__(mass_def=mass_def, concentration=concentration)\n",
    "       # self.boundProfile = boundGas_profile(mass_def=mass_def, concentration=concentration, gamma=gamma)\n",
    "       # self.ejProfile = ejGas_profile\n",
    "\n",
    "        self.GammaRange = GammaRange\n",
    "        self.nGamma = nGamma\n",
    "        self.qrange = qrange\n",
    "        self.nq = nq\n",
    "        self._func_normQ0 = None   # General normalised bound profile (for q=0, over Gamma)\n",
    "        self._func_normQany = None\n",
    "\n",
    "        import scipy.integrate as integrate\n",
    "        import scipy.interpolate as interpol\n",
    "        from pyccl._core import UnlockInstance\n",
    "\n",
    "    def _real(self, r, M, r_ej, f_bd=1, call_interp=True, scale_a=1):\n",
    "        f_ej = 1 - f_bd\n",
    "        prof_ej = ejGas_profile._real(self, r, M, r_ej, scale_a)\n",
    "        prof_bd = boundGas_profile._real(self, r, M, call_interp, scale_a)\n",
    "        profile = f_ej*prof_ej + f_bd*prof_bd\n",
    "        return profile\n",
    "\n",
    "    def _fourier(self, k, M, r_ej, f_bd = 1, call_interp=True, scale_a=1):\n",
    "        f_ej = 1 - f_bd\n",
    "        prof_ej = ejGas_profile._fourier(self, k, M, r_ej, scale_a)\n",
    "        prof_bd = boundGas_profile._fourier(self, k, M, scale_a)\n",
    "        profile = f_ej*prof_ej + f_bd*prof_bd\n",
    "        return profile"
   ]
  },
  {
   "cell_type": "code",
   "execution_count": null,
   "id": "8ff6a335-bb62-4f50-b7c8-5427deac1931",
   "metadata": {},
   "outputs": [],
   "source": []
  },
  {
   "cell_type": "markdown",
   "id": "0d963cfb-94f9-4ff2-b8b3-eded737a7e74",
   "metadata": {},
   "source": [
    "# Trial"
   ]
  },
  {
   "cell_type": "code",
   "execution_count": 20,
   "id": "7503aad9-692a-4db0-aeab-fbce3932bc9b",
   "metadata": {},
   "outputs": [],
   "source": [
    "hmd_200c = ccl.halos.MassDef200c # use a mass definition with Delta = 200\n",
    "cM = ccl.halos.ConcentrationDuffy08(mass_def=hmd_200c)\n",
    "cosmo = ccl.Cosmology(Omega_c = 0.25, Omega_b=0.05, h=0.07, A_s=2.1e-9, n_s=0.96, Neff=0, Omega_g=0)\n",
    "\n",
    "trial_r = np.geomspace(1E-2,1E8,100000) # geomspace is like linspace, but evenly spaces on a logscale\n",
    "trial_M = np.array([5E12,2E13, 1E14])\n",
    "trial_gamma = 1.1  # working with z = 0 (today) ; therefore a = 1 [default]\n",
    "trial_rEj = 100\n",
    "trial_rS = 1       "
   ]
  },
  {
   "cell_type": "code",
   "execution_count": 22,
   "id": "44588f06-546f-445d-811b-1c3894282a3f",
   "metadata": {},
   "outputs": [],
   "source": [
    "trial_profile = combinedGas_profile(hmd_200c, cM, trial_gamma, trial_rEj)"
   ]
  },
  {
   "cell_type": "markdown",
   "id": "e1f0cb57-cd7e-4378-8f34-6d912bab92ef",
   "metadata": {},
   "source": [
    "## Real"
   ]
  },
  {
   "cell_type": "code",
   "execution_count": 25,
   "id": "b0978015-bd15-49db-bd69-3d9fee93c250",
   "metadata": {},
   "outputs": [
    {
     "name": "stderr",
     "output_type": "stream",
     "text": [
      "/var/folders/fj/p1qj16jj5pl9df1rgw6p12tc000vry/T/ipykernel_5475/3446510733.py:41: IntegrationWarning: The integral is probably divergent, or slowly convergent.\n",
      "  I0_array[k] =  integrate.quad(self._innerInt, 0, np.inf, args = 1/(i-1))[0] # _innerInt(self, x, gam=1/(gamma_use-1))\n",
      "/var/folders/fj/p1qj16jj5pl9df1rgw6p12tc000vry/T/ipykernel_5475/3446510733.py:41: IntegrationWarning: The algorithm does not converge.  Roundoff error is detected\n",
      "  in the extrapolation table.  It is assumed that the requested tolerance\n",
      "  cannot be achieved, and that the returned result (if full_output = 1) is \n",
      "  the best which can be obtained.\n",
      "  I0_array[k] =  integrate.quad(self._innerInt, 0, np.inf, args = 1/(i-1))[0] # _innerInt(self, x, gam=1/(gamma_use-1))\n"
     ]
    },
    {
     "data": {
      "text/plain": [
       "array([[1.55025073e+13, 1.55018100e+13, 1.55011126e+13, ...,\n",
       "        1.54049158e-60, 1.53712712e-60, 1.53377000e-60],\n",
       "       [1.19191018e+13, 1.19187969e+13, 1.19184919e+13, ...,\n",
       "        2.62937176e-58, 2.62363833e-58, 2.61791740e-58],\n",
       "       [8.39532633e+12, 8.39521567e+12, 8.39510498e+12, ...,\n",
       "        1.01484928e-55, 1.01264075e-55, 1.01043703e-55]])"
      ]
     },
     "execution_count": 25,
     "metadata": {},
     "output_type": "execute_result"
    }
   ],
   "source": [
    "trial_f_bd = 0.2\n",
    "profTrial_real = trial_profile._real(trial_r, trial_M, trial_rEj, trial_f_bd) \n",
    "# _real(self, r, M, r_ej, f_bd=1, call_interp=True, scale_a=1)\n",
    "profTrial_real"
   ]
  },
  {
   "cell_type": "code",
   "execution_count": 27,
   "id": "12c09816-66d6-4ca4-a16d-58e61473bb2f",
   "metadata": {},
   "outputs": [
    {
     "data": {
      "image/png": "[encoded data removed]",
      "text/plain": [
       "<Figure size 640x480 with 1 Axes>"
      ]
     },
     "metadata": {},
     "output_type": "display_data"
    },
    {
     "data": {
      "image/png": "[encoded data removed]",
      "text/plain": [
       "<Figure size 640x480 with 1 Axes>"
      ]
     },
     "metadata": {},
     "output_type": "display_data"
    }
   ],
   "source": [
    "colours, i = ['k-.', 'r:', 'g--'], 0\n",
    "title_real = '\\nReal profile of Combined gas $f_{bd}=$'+f'{trial_f_bd*100}%;' \n",
    "for j, col in zip(trial_M, colours):\n",
    "    plt.plot(trial_r, profTrial_real[i], col, lw=3, zorder = i, label=f'{trial_M[i]:.1g} $M \\\\odot $')\n",
    "    i+=1\n",
    "plt.ylabel(r'$\\rho(r)\\,\\,[M_\\odot\\,{\\rm Mpc}^{-3}]$', fontsize=15)\n",
    "plt.xlabel(r'$r\\,\\,[{\\rm Mpc}]$', fontsize=15);\n",
    "plt.title(title_real+' Linear-log plot')\n",
    "plt.grid(True)\n",
    "plt.legend(loc='best')\n",
    "plt.xscale('log');   #plt.xlim(1e-2,1e5);   #plt.ylim(1e-2,1e5);\n",
    "\n",
    "plt.figure()\n",
    "i = 0\n",
    "for j, col in zip(trial_M, colours):\n",
    "    plt.plot(trial_r, profTrial_real[i], col, lw=3, zorder = i, label=f'{trial_M[i]:.1g} $M \\\\odot $')\n",
    "    i+=1\n",
    "plt.ylabel(r'$\\rho(r)\\,\\,[M_\\odot\\,{\\rm Mpc}^{-3}]$', fontsize=15)\n",
    "plt.xlabel(r'$r\\,\\,[{\\rm Mpc}]$', fontsize=15);\n",
    "plt.title(title_real+' Log-log plot')\n",
    "plt.grid(True)\n",
    "plt.legend(loc='best')\n",
    "plt.xscale('log');\n",
    "plt.yscale('log');  "
   ]
  },
  {
   "cell_type": "code",
   "execution_count": null,
   "id": "63782a0a-e3a4-4feb-91fe-abce37941e8f",
   "metadata": {},
   "outputs": [],
   "source": []
  },
  {
   "cell_type": "markdown",
   "id": "52e89418-a25a-48a4-8ee4-85ef6f8cea9b",
   "metadata": {},
   "source": [
    "## Fourier"
   ]
  },
  {
   "cell_type": "code",
   "execution_count": null,
   "id": "60b2c78d-42bd-4b57-9a05-90bf2e5f8531",
   "metadata": {
    "scrolled": true
   },
   "outputs": [
    {
     "name": "stderr",
     "output_type": "stream",
     "text": [
      "/var/folders/fj/p1qj16jj5pl9df1rgw6p12tc000vry/T/ipykernel_5475/3446510733.py:22: RuntimeWarning: invalid value encountered in scalar divide\n",
      "  return (np.log(1+x)/x)**gam_use\n",
      "/var/folders/fj/p1qj16jj5pl9df1rgw6p12tc000vry/T/ipykernel_5475/3446510733.py:85: IntegrationWarning: The maximum number of cycles allowed has been achieved., e.e.\n",
      "  of subintervals (a+(k-1)c, a+kc) where c = (2*int(abs(omega)+1))\n",
      "  *pi/abs(omega), for k = 1, 2, ..., lst.  One can allow more cycles by increasing the value of limlst.  Look at info['ierlst'] with full_output=1.\n",
      "  I0_array[k, l] =  integrate.quad(integralQany, 0, np.inf, args = 1/(i-1), weight = \"sin\", wvar=j)[0] / j\n"
     ]
    },
    {
     "name": "stdout",
     "output_type": "stream",
     "text": [
      "k = 1.56% through\n"
     ]
    },
    {
     "name": "stderr",
     "output_type": "stream",
     "text": [
      "/var/folders/fj/p1qj16jj5pl9df1rgw6p12tc000vry/T/ipykernel_5475/3446510733.py:85: IntegrationWarning: Bad integrand behavior occurs within one or more of the cycles.\n",
      "  Location and type of the difficulty involved can be determined from \n",
      "  the vector info['ierlist'] obtained with full_output=1.\n",
      "  I0_array[k, l] =  integrate.quad(integralQany, 0, np.inf, args = 1/(i-1), weight = \"sin\", wvar=j)[0] / j\n"
     ]
    },
    {
     "name": "stdout",
     "output_type": "stream",
     "text": [
      "k = 3.12% through\n",
      "k = 4.69% through\n",
      "k = 6.25% through\n",
      "k = 7.81% through\n",
      "k = 9.38% through\n",
      "k = 10.9% through\n",
      "k = 12.5% through\n",
      "k = 14.1% through\n",
      "k = 15.6% through\n",
      "k = 17.2% through\n",
      "k = 18.8% through\n",
      "k = 20.3% through\n",
      "k = 21.9% through\n",
      "k = 23.4% through\n",
      "k = 25% through\n",
      "k = 26.6% through\n"
     ]
    },
    {
     "name": "stderr",
     "output_type": "stream",
     "text": [
      "/var/folders/fj/p1qj16jj5pl9df1rgw6p12tc000vry/T/ipykernel_5475/3446510733.py:85: IntegrationWarning: The extrapolation table constructed for convergence acceleration\n",
      "  of the series formed by the integral contributions over the cycles, \n",
      "  does not converge to within the requested accuracy.  Look at \n",
      "  info['ierlst'] with full_output=1.\n",
      "  I0_array[k, l] =  integrate.quad(integralQany, 0, np.inf, args = 1/(i-1), weight = \"sin\", wvar=j)[0] / j\n"
     ]
    },
    {
     "name": "stdout",
     "output_type": "stream",
     "text": [
      "k = 28.1% through\n",
      "k = 29.7% through\n",
      "k = 31.2% through\n",
      "k = 32.8% through\n",
      "k = 34.4% through\n",
      "k = 35.9% through\n",
      "k = 37.5% through\n",
      "k = 39.1% through\n",
      "k = 40.6% through\n",
      "k = 42.2% through\n",
      "k = 43.8% through\n",
      "k = 45.3% through\n",
      "k = 46.9% through\n",
      "k = 48.4% through\n",
      "k = 50% through\n",
      "k = 51.6% through\n",
      "k = 53.1% through\n",
      "k = 54.7% through\n",
      "k = 56.2% through\n",
      "k = 57.8% through\n",
      "k = 59.4% through\n"
     ]
    }
   ],
   "source": [
    "trial_k = np.geomspace(1E-3,1E2,100000)\n",
    "profTrial_fourier = trial_profile._fourier(trial_k, trial_M, trial_rEj, trial_f_bd)\n",
    "profTrial_fourier  #_fourier(self, k, M, r_ej, f_bd = 1, call_interp=True, scale_a=1)"
   ]
  },
  {
   "cell_type": "code",
   "execution_count": null,
   "id": "72e1f6ec-5294-4834-a570-4d1393a4b612",
   "metadata": {},
   "outputs": [],
   "source": [
    "colours, i = ['k-.', 'r:', 'g--'], 0\n",
    "title_fourier = '\\nFourier profile of Combined gas $f_{bd}=$'+f'{trial_f_bd*100}%;' \n",
    "for j, col in zip(trial_M, colours):\n",
    "    plt.plot(trial_r, profTrial_fourier[0,i], col, lw=3, zorder = i, label=f'{trial_M[i]:.1g} $M \\\\odot $')\n",
    "    i+=1\n",
    "plt.ylabel(r'$\\rho(k)\\, \\,[M_\\odot\\,{\\rm Mpc}^{-3}]$', fontsize=15)\n",
    "plt.xlabel(r'$k\\, \\,[{\\rm Mpc^{-1}}]$', fontsize=15);\n",
    "plt.title(title_fourier+' Linear-log plot')\n",
    "plt.grid(True)\n",
    "plt.legend(loc='best')\n",
    "plt.xscale('log');   #plt.xlim(1e-2,1e5);   #plt.ylim(1e-2,1e5);\n",
    "\n",
    "plt.figure()\n",
    "i = 0\n",
    "for j, col in zip(trial_M, colours):\n",
    "    plt.plot(trial_r, profTrial_fourier[0,i], col, lw=3, zorder = i, label=f'{trial_M[i]:.1g} $M \\\\odot $')\n",
    "    i+=1\n",
    "plt.ylabel(r'$\\rho(k)\\, \\,[M_\\odot\\,{\\rm Mpc}^{-3}]$', fontsize=15)\n",
    "plt.xlabel(r'$k\\, \\,[{\\rm Mpc^{-1}}]$', fontsize=15);\n",
    "plt.title(title_fourier+' Log-log plot')\n",
    "plt.grid(True)\n",
    "plt.legend(loc='best')\n",
    "plt.xscale('log');\n",
    "plt.yscale('log'); "
   ]
  },
  {
   "cell_type": "markdown",
   "id": "8cee2401-4b51-4863-93c6-745da9286fa2",
   "metadata": {
    "jp-MarkdownHeadingCollapsed": true
   },
   "source": [
    "# delete"
   ]
  },
  {
   "cell_type": "code",
   "execution_count": 172,
   "id": "7086028e-a773-4e90-a784-db3c2100fc8c",
   "metadata": {},
   "outputs": [
    {
     "name": "stdout",
     "output_type": "stream",
     "text": [
      "[<class '__main__.combinedGas_profile'>, <class '__main__.boundGas_profile'>, <class '__main__.ejGas_profile'>, <class 'pyccl.halos.profiles.profile_base.HaloProfile'>, <class 'pyccl._core.schema.CCLAutoRepr'>, <class 'pyccl._core.schema.CCLObject'>, <class 'abc.ABC'>, <class 'object'>]\n"
     ]
    }
   ],
   "source": [
    "print(combinedGas_profile.mro())"
   ]
  },
  {
   "cell_type": "code",
   "execution_count": 72,
   "id": "861bce41-2cb9-430f-aa4f-88ded7dd936d",
   "metadata": {},
   "outputs": [
    {
     "data": {
      "text/plain": [
       "<function __main__.boundGas_profile.__init__(self, mass_def, gamma, concentration, r_s=1, GammaRange=(1.01, 10), nGamma=64, qrange=(0.0001, 100.0), nq=64)>"
      ]
     },
     "execution_count": 72,
     "metadata": {},
     "output_type": "execute_result"
    }
   ],
   "source": [
    "boundGas_profile.__init__"
   ]
  },
  {
   "cell_type": "code",
   "execution_count": 152,
   "id": "27c2c04a-951d-486b-9d95-091699e865e9",
   "metadata": {},
   "outputs": [
    {
     "data": {
      "text/plain": [
       "<function __main__.ejGas_profile.__init__(self, mass_def, r_ej)>"
      ]
     },
     "execution_count": 152,
     "metadata": {},
     "output_type": "execute_result"
    }
   ],
   "source": [
    "ejGas_profile.__init__"
   ]
  }
 ],
 "metadata": {
  "kernelspec": {
   "display_name": "Python 3 (ipykernel)",
   "language": "python",
   "name": "python3"
  },
  "language_info": {
   "codemirror_mode": {
    "name": "ipython",
    "version": 3
   },
   "file_extension": ".py",
   "mimetype": "text/x-python",
   "name": "python",
   "nbconvert_exporter": "python",
   "pygments_lexer": "ipython3",
   "version": "3.12.2"
  }
 },
 "nbformat": 4,
 "nbformat_minor": 5
}
